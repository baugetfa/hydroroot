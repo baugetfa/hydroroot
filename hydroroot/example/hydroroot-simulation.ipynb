{
 "metadata": {
  "name": "",
  "signature": "sha256:000251b67dfb3f7c05362c06fd4ab552db2a1fec7e564cc87830421759351166"
 },
 "nbformat": 3,
 "nbformat_minor": 0,
 "worksheets": [
  {
   "cells": [
    {
     "cell_type": "heading",
     "level": 1,
     "metadata": {},
     "source": [
      "Hydroroot model"
     ]
    },
    {
     "cell_type": "markdown",
     "metadata": {},
     "source": [
      "TODO\n",
      "=====\n",
      "  - plot with groupby\n",
      "  - R conversion for analysis\n",
      "  - aquaporin expression modify the radial conductivity (k0 has a csv file)\n",
      "  - running the notebook on a set of parameters\n",
      "    - define functions\n",
      "    - create a new notebook to run it and save the results\n",
      "  - design the virtual experiment"
     ]
    },
    {
     "cell_type": "markdown",
     "metadata": {},
     "source": [
      "Definition of the prameters"
     ]
    },
    {
     "cell_type": "code",
     "collapsed": false,
     "input": [
      "%matplotlib inline\n",
      "%gui qt"
     ],
     "language": "python",
     "metadata": {},
     "outputs": [],
     "prompt_number": 1
    },
    {
     "cell_type": "markdown",
     "metadata": {},
     "source": [
      "Architectural parameters\n",
      "------------------------\n",
      "  - $n$ : number of nodes in primary root \n",
      "  - $\\delta$: reference distance between successive branching axis\n",
      "  - $\\beta$ : branching variability or Number of nodes between successive ramification\n",
      "  - $order_{max}$ : maximum order of ramification\n",
      "  - $\\lambda$ : nude tip length in $meters$\n",
      "  - $radius$ : external radius of the main axis of the root\n",
      "  - $\\alpha$ : order decrease factor : $r_{order} = radius*{\\alpha}^{order}$"
     ]
    },
    {
     "cell_type": "code",
     "collapsed": false,
     "input": [
      "n = 1500\n",
      "delta = 0.002\n",
      "beta = 0.25 # 25 %\n",
      "order_max = 5\n",
      "segment_length = 1e-4\n",
      "nude_length = 0.02\n",
      "seed = 2\n",
      "\n",
      "ref_radius = 1e-4 # in m\n",
      "order_decrease_factor = 0.7"
     ],
     "language": "python",
     "metadata": {},
     "outputs": [],
     "prompt_number": 1
    },
    {
     "cell_type": "markdown",
     "metadata": {},
     "source": [
      "Conductance and model Parameters\n",
      "=================================\n",
      "\n",
      "  - $k_0$: radial conductivity\n",
      "  - $K$ :axial conductivity (computed from xylem vessels)\n",
      "  - $J_v$: Observed or calculated flow t the root base (hypocotyl)\n",
      "  - $\\psi_e$: external solution water potential \n",
      "  - $\\psi_{base}$ : water potential at the hypocotyl\n",
      "  \n",
      "  "
     ]
    },
    {
     "cell_type": "code",
     "collapsed": false,
     "input": [
      "# parameters\n",
      "k0 = 300\n",
      "Jv = 0.1\n",
      "psi_e = 0.4\n",
      "psi_base = 0.1"
     ],
     "language": "python",
     "metadata": {},
     "outputs": [],
     "prompt_number": 2
    },
    {
     "cell_type": "code",
     "collapsed": false,
     "input": [
      "# measured laws\n",
      "\n",
      "length_data = [0., 0.03, 0.05, 0.16], [0., 0., 0.01, 0.13]\n",
      "axial_conductivity_data = (\n",
      "    [0., 0.015, 0.03, 0.045, 0.06, 0.075, 0.09, 0.105, 0.135, 0.15, 0.16], \n",
      "    [1e-4, 1e-4, 1e-4, 4e-4, 4e-4, 2e-3, 2e-3, 2.5e-3, 2.5e-3, 1e-2, 1e-1])\n",
      "radial_conductivity_data = (\n",
      "    [0., 0.015, 0.03, 0.045, 0.06, 0.075, 0.09, 0.105, 0.135, 0.15, 0.16], \n",
      "    [300, 300, 300, 300, 300, 300, 300, 300, 300, 300, 300])\n",
      "\n"
     ],
     "language": "python",
     "metadata": {},
     "outputs": [],
     "prompt_number": 3
    },
    {
     "cell_type": "code",
     "collapsed": false,
     "input": [
      "from hydroroot.main import hydroroot \n",
      "\n",
      "g, surface, volume, Keq, Jv_global = hydroroot(\n",
      "    n = n, \n",
      "    delta = delta, \n",
      "    beta = beta, \n",
      "    order_max = order_max, \n",
      "    segment_length = segment_length, \n",
      "    nude_length = nude_length, \n",
      "    seed = seed,\n",
      "    ref_radius = ref_radius,\n",
      "    order_decrease_factor = order_decrease_factor,\n",
      "    k0 = k0,\n",
      "    Jv = Jv,\n",
      "    psi_e = psi_e,\n",
      "    psi_base=psi_base,\n",
      "    length_data=length_data, \n",
      "    axial_conductivity_data=axial_conductivity_data, \n",
      "    radial_conductivity_data=radial_conductivity_data)\n",
      "\n",
      "print 'Surface: ', surface, 'Volume :', volume\n",
      "print 'Keq : ', Keq, 'Jv_global : ', Jv_global"
     ],
     "language": "python",
     "metadata": {},
     "outputs": [
      {
       "output_type": "stream",
       "stream": "stdout",
       "text": [
        "entering MTG building\n",
        "exiting MTG building"
       ]
      },
      {
       "output_type": "stream",
       "stream": "stdout",
       "text": [
        "\n",
        "entering MTG radius setting\n",
        "exiting MTG radius setting"
       ]
      },
      {
       "output_type": "stream",
       "stream": "stdout",
       "text": [
        "\n",
        "entering MTG length setting\n",
        "exiting MTG length setting"
       ]
      },
      {
       "output_type": "stream",
       "stream": "stdout",
       "text": [
        "\n",
        "entering MTG node positionning computation\n",
        "exiting MTG node positionning computation"
       ]
      },
      {
       "output_type": "stream",
       "stream": "stdout",
       "text": [
        "\n",
        "entering surface computation"
       ]
      },
      {
       "output_type": "stream",
       "stream": "stdout",
       "text": [
        "\n",
        "surface (sq. meters): "
       ]
      },
      {
       "output_type": "stream",
       "stream": "stdout",
       "text": [
        " 0.0126756224791\n",
        "leaving surface computation\n",
        "entering volume computation\n",
        "volume (cube meters): "
       ]
      },
      {
       "output_type": "stream",
       "stream": "stdout",
       "text": [
        " 2.81737453689e-07\n",
        "leaving volume computation\n",
        "entering Keq computation"
       ]
      },
      {
       "output_type": "stream",
       "stream": "stdout",
       "text": [
        "\n",
        "exiting Keq computation"
       ]
      },
      {
       "output_type": "stream",
       "stream": "stdout",
       "text": [
        "\n",
        "entering Psi computation\n",
        "exiting Psi computation"
       ]
      },
      {
       "output_type": "stream",
       "stream": "stdout",
       "text": [
        "\n",
        "entering Jv computation\n",
        "exiting Jv computation"
       ]
      },
      {
       "output_type": "stream",
       "stream": "stdout",
       "text": [
        "\n",
        "Keq base =  0.347049173524\n",
        "Local Computation Water Flux Jvl =  0.104114752057\n",
        "Global Computation Water Flux Jvg =  0.104114752057\n",
        "Surface:  0.0126756224791 Volume : 2.81737453689e-07\n",
        "Keq :  0.347049173524 Jv_global :  0.104114752057\n"
       ]
      }
     ],
     "prompt_number": 4
    },
    {
     "cell_type": "code",
     "collapsed": false,
     "input": [
      "from hydroroot.main import hydroroot\n",
      "res = []\n",
      "for i in range(25):\n",
      "    g, surf, vol, keq, jv = hydroroot(n=750, segment_length=2e-4, beta=beta, seed=None,\n",
      "          length_data=length_data, axial_conductivity_data=axial_conductivity_data, radial_conductivity_data=radial_conductivity_data)\n",
      "    res.append((keq, jv))"
     ],
     "language": "python",
     "metadata": {},
     "outputs": [
      {
       "output_type": "stream",
       "stream": "stdout",
       "text": [
        "entering MTG building\n",
        "exiting MTG building"
       ]
      },
      {
       "output_type": "stream",
       "stream": "stdout",
       "text": [
        "\n",
        "entering MTG radius setting\n",
        "exiting MTG radius setting"
       ]
      },
      {
       "output_type": "stream",
       "stream": "stdout",
       "text": [
        "\n",
        "entering MTG length setting\n",
        "exiting MTG length setting"
       ]
      },
      {
       "output_type": "stream",
       "stream": "stdout",
       "text": [
        "\n",
        "entering MTG node positionning computation\n",
        "exiting MTG node positionning computation"
       ]
      },
      {
       "output_type": "stream",
       "stream": "stdout",
       "text": [
        "\n",
        "entering surface computation"
       ]
      },
      {
       "output_type": "stream",
       "stream": "stdout",
       "text": [
        "\n",
        "surface (sq. meters): "
       ]
      },
      {
       "output_type": "stream",
       "stream": "stdout",
       "text": [
        " 0.0132187921627\n",
        "leaving surface computation\n",
        "entering volume computation\n",
        "volume (cube meters): "
       ]
      },
      {
       "output_type": "stream",
       "stream": "stdout",
       "text": [
        " 2.85923552776e-07\n",
        "leaving volume computation\n",
        "entering Keq computation"
       ]
      },
      {
       "output_type": "stream",
       "stream": "stdout",
       "text": [
        "\n",
        "exiting Keq computation"
       ]
      },
      {
       "output_type": "stream",
       "stream": "stdout",
       "text": [
        "\n",
        "entering Psi computation\n",
        "exiting Psi computation"
       ]
      },
      {
       "output_type": "stream",
       "stream": "stdout",
       "text": [
        "\n",
        "entering Jv computation\n",
        "exiting Jv computation"
       ]
      },
      {
       "output_type": "stream",
       "stream": "stdout",
       "text": [
        "\n",
        "Keq base =  0.434002420769\n",
        "Local Computation Water Flux Jvl =  0.130200726231\n",
        "Global Computation Water Flux Jvg =  0.130200726231\n",
        "entering MTG building\n",
        "exiting MTG building"
       ]
      },
      {
       "output_type": "stream",
       "stream": "stdout",
       "text": [
        "\n",
        "entering MTG radius setting\n",
        "exiting MTG radius setting"
       ]
      },
      {
       "output_type": "stream",
       "stream": "stdout",
       "text": [
        "\n",
        "entering MTG length setting\n",
        "exiting MTG length setting"
       ]
      },
      {
       "output_type": "stream",
       "stream": "stdout",
       "text": [
        "\n",
        "entering MTG node positionning computation\n",
        "exiting MTG node positionning computation"
       ]
      },
      {
       "output_type": "stream",
       "stream": "stdout",
       "text": [
        "\n",
        "entering surface computation"
       ]
      },
      {
       "output_type": "stream",
       "stream": "stdout",
       "text": [
        "\n",
        "surface (sq. meters): "
       ]
      },
      {
       "output_type": "stream",
       "stream": "stdout",
       "text": [
        " 0.0158712293462\n",
        "leaving surface computation\n",
        "entering volume computation\n",
        "volume (cube meters): "
       ]
      },
      {
       "output_type": "stream",
       "stream": "stdout",
       "text": [
        " 3.20901793252e-07\n",
        "leaving volume computation\n",
        "entering Keq computation"
       ]
      },
      {
       "output_type": "stream",
       "stream": "stdout",
       "text": [
        "\n",
        "exiting Keq computation"
       ]
      },
      {
       "output_type": "stream",
       "stream": "stdout",
       "text": [
        "\n",
        "entering Psi computation\n",
        "exiting Psi computation"
       ]
      },
      {
       "output_type": "stream",
       "stream": "stdout",
       "text": [
        "\n",
        "entering Jv computation\n",
        "exiting Jv computation"
       ]
      },
      {
       "output_type": "stream",
       "stream": "stdout",
       "text": [
        "\n",
        "Keq base =  0.460942249594\n",
        "Local Computation Water Flux Jvl =  0.138282674878\n",
        "Global Computation Water Flux Jvg =  0.138282674878\n",
        "entering MTG building"
       ]
      },
      {
       "output_type": "stream",
       "stream": "stdout",
       "text": [
        "\n",
        "exiting MTG building"
       ]
      },
      {
       "output_type": "stream",
       "stream": "stdout",
       "text": [
        "\n",
        "entering MTG radius setting\n",
        "exiting MTG radius setting"
       ]
      },
      {
       "output_type": "stream",
       "stream": "stdout",
       "text": [
        "\n",
        "entering MTG length setting\n",
        "exiting MTG length setting"
       ]
      },
      {
       "output_type": "stream",
       "stream": "stdout",
       "text": [
        "\n",
        "entering MTG node positionning computation\n",
        "exiting MTG node positionning computation"
       ]
      },
      {
       "output_type": "stream",
       "stream": "stdout",
       "text": [
        "\n",
        "entering surface computation"
       ]
      },
      {
       "output_type": "stream",
       "stream": "stdout",
       "text": [
        "\n",
        "surface (sq. meters): "
       ]
      },
      {
       "output_type": "stream",
       "stream": "stdout",
       "text": [
        " 0.0116168495309\n",
        "leaving surface computation\n",
        "entering volume computation\n",
        "volume (cube meters): "
       ]
      },
      {
       "output_type": "stream",
       "stream": "stdout",
       "text": [
        " 2.51134076576e-07\n",
        "leaving volume computation\n",
        "entering Keq computation"
       ]
      },
      {
       "output_type": "stream",
       "stream": "stdout",
       "text": [
        "\n",
        "exiting Keq computation"
       ]
      },
      {
       "output_type": "stream",
       "stream": "stdout",
       "text": [
        "\n",
        "entering Psi computation\n",
        "exiting Psi computation"
       ]
      },
      {
       "output_type": "stream",
       "stream": "stdout",
       "text": [
        "\n",
        "entering Jv computation\n",
        "exiting Jv computation"
       ]
      },
      {
       "output_type": "stream",
       "stream": "stdout",
       "text": [
        "\n",
        "Keq base =  0.432406573754\n",
        "Local Computation Water Flux Jvl =  0.129721972126\n",
        "Global Computation Water Flux Jvg =  0.129721972126\n",
        "entering MTG building"
       ]
      },
      {
       "output_type": "stream",
       "stream": "stdout",
       "text": [
        "\n",
        "exiting MTG building"
       ]
      },
      {
       "output_type": "stream",
       "stream": "stdout",
       "text": [
        "\n",
        "entering MTG radius setting\n",
        "exiting MTG radius setting"
       ]
      },
      {
       "output_type": "stream",
       "stream": "stdout",
       "text": [
        "\n",
        "entering MTG length setting\n",
        "exiting MTG length setting"
       ]
      },
      {
       "output_type": "stream",
       "stream": "stdout",
       "text": [
        "\n",
        "entering MTG node positionning computation\n",
        "exiting MTG node positionning computation"
       ]
      },
      {
       "output_type": "stream",
       "stream": "stdout",
       "text": [
        "\n",
        "entering surface computation"
       ]
      },
      {
       "output_type": "stream",
       "stream": "stdout",
       "text": [
        "\n",
        "surface (sq. meters): "
       ]
      },
      {
       "output_type": "stream",
       "stream": "stdout",
       "text": [
        " 0.0135550569155\n",
        "leaving surface computation\n",
        "entering volume computation\n",
        "volume (cube meters): "
       ]
      },
      {
       "output_type": "stream",
       "stream": "stdout",
       "text": [
        " 2.93582862854e-07\n",
        "leaving volume computation\n",
        "entering Keq computation"
       ]
      },
      {
       "output_type": "stream",
       "stream": "stdout",
       "text": [
        "\n",
        "exiting Keq computation"
       ]
      },
      {
       "output_type": "stream",
       "stream": "stdout",
       "text": [
        "\n",
        "entering Psi computation\n",
        "exiting Psi computation"
       ]
      },
      {
       "output_type": "stream",
       "stream": "stdout",
       "text": [
        "\n",
        "entering Jv computation\n",
        "exiting Jv computation"
       ]
      },
      {
       "output_type": "stream",
       "stream": "stdout",
       "text": [
        "\n",
        "Keq base =  0.435565435914\n",
        "Local Computation Water Flux Jvl =  0.130669630774\n",
        "Global Computation Water Flux Jvg =  0.130669630774\n",
        "entering MTG building"
       ]
      },
      {
       "output_type": "stream",
       "stream": "stdout",
       "text": [
        "\n",
        "exiting MTG building"
       ]
      },
      {
       "output_type": "stream",
       "stream": "stdout",
       "text": [
        "\n",
        "entering MTG radius setting\n",
        "exiting MTG radius setting"
       ]
      },
      {
       "output_type": "stream",
       "stream": "stdout",
       "text": [
        "\n",
        "entering MTG length setting\n",
        "exiting MTG length setting"
       ]
      },
      {
       "output_type": "stream",
       "stream": "stdout",
       "text": [
        "\n",
        "entering MTG node positionning computation\n",
        "exiting MTG node positionning computation"
       ]
      },
      {
       "output_type": "stream",
       "stream": "stdout",
       "text": [
        "\n",
        "entering surface computation"
       ]
      },
      {
       "output_type": "stream",
       "stream": "stdout",
       "text": [
        "\n",
        "surface (sq. meters): "
       ]
      },
      {
       "output_type": "stream",
       "stream": "stdout",
       "text": [
        " 0.0175887835803\n",
        "leaving surface computation\n",
        "entering volume computation\n",
        "volume (cube meters): "
       ]
      },
      {
       "output_type": "stream",
       "stream": "stdout",
       "text": [
        " 3.56891504865e-07\n",
        "leaving volume computation\n",
        "entering Keq computation"
       ]
      },
      {
       "output_type": "stream",
       "stream": "stdout",
       "text": [
        "\n",
        "exiting Keq computation"
       ]
      },
      {
       "output_type": "stream",
       "stream": "stdout",
       "text": [
        "\n",
        "entering Psi computation\n",
        "exiting Psi computation"
       ]
      },
      {
       "output_type": "stream",
       "stream": "stdout",
       "text": [
        "\n",
        "entering Jv computation\n",
        "exiting Jv computation"
       ]
      },
      {
       "output_type": "stream",
       "stream": "stdout",
       "text": [
        "\n",
        "Keq base =  0.480347818255\n",
        "Local Computation Water Flux Jvl =  0.144104345477\n",
        "Global Computation Water Flux Jvg =  0.144104345477\n",
        "entering MTG building"
       ]
      },
      {
       "output_type": "stream",
       "stream": "stdout",
       "text": [
        "\n",
        "exiting MTG building"
       ]
      },
      {
       "output_type": "stream",
       "stream": "stdout",
       "text": [
        "\n",
        "entering MTG radius setting\n",
        "exiting MTG radius setting"
       ]
      },
      {
       "output_type": "stream",
       "stream": "stdout",
       "text": [
        "\n",
        "entering MTG length setting\n",
        "exiting MTG length setting"
       ]
      },
      {
       "output_type": "stream",
       "stream": "stdout",
       "text": [
        "\n",
        "entering MTG node positionning computation\n",
        "exiting MTG node positionning computation"
       ]
      },
      {
       "output_type": "stream",
       "stream": "stdout",
       "text": [
        "\n",
        "entering surface computation"
       ]
      },
      {
       "output_type": "stream",
       "stream": "stdout",
       "text": [
        "\n",
        "surface (sq. meters): "
       ]
      },
      {
       "output_type": "stream",
       "stream": "stdout",
       "text": [
        " 0.0140297751952\n",
        "leaving surface computation\n",
        "entering volume computation\n",
        "volume (cube meters): "
       ]
      },
      {
       "output_type": "stream",
       "stream": "stdout",
       "text": [
        " 3.0649568695e-07\n",
        "leaving volume computation\n",
        "entering Keq computation"
       ]
      },
      {
       "output_type": "stream",
       "stream": "stdout",
       "text": [
        "\n",
        "exiting Keq computation"
       ]
      },
      {
       "output_type": "stream",
       "stream": "stdout",
       "text": [
        "\n",
        "entering Psi computation\n",
        "exiting Psi computation"
       ]
      },
      {
       "output_type": "stream",
       "stream": "stdout",
       "text": [
        "\n",
        "entering Jv computation\n",
        "exiting Jv computation"
       ]
      },
      {
       "output_type": "stream",
       "stream": "stdout",
       "text": [
        "\n",
        "Keq base =  0.444369504996\n",
        "Local Computation Water Flux Jvl =  0.133310851499\n",
        "Global Computation Water Flux Jvg =  0.133310851499\n",
        "entering MTG building"
       ]
      },
      {
       "output_type": "stream",
       "stream": "stdout",
       "text": [
        "\n",
        "exiting MTG building"
       ]
      },
      {
       "output_type": "stream",
       "stream": "stdout",
       "text": [
        "\n",
        "entering MTG radius setting\n",
        "exiting MTG radius setting"
       ]
      },
      {
       "output_type": "stream",
       "stream": "stdout",
       "text": [
        "\n",
        "entering MTG length setting\n",
        "exiting MTG length setting"
       ]
      },
      {
       "output_type": "stream",
       "stream": "stdout",
       "text": [
        "\n",
        "entering MTG node positionning computation\n",
        "exiting MTG node positionning computation"
       ]
      },
      {
       "output_type": "stream",
       "stream": "stdout",
       "text": [
        "\n",
        "entering surface computation"
       ]
      },
      {
       "output_type": "stream",
       "stream": "stdout",
       "text": [
        "\n",
        "surface (sq. meters): "
       ]
      },
      {
       "output_type": "stream",
       "stream": "stdout",
       "text": [
        " 0.0158117974491\n",
        "leaving surface computation\n",
        "entering volume computation\n",
        "volume (cube meters): "
       ]
      },
      {
       "output_type": "stream",
       "stream": "stdout",
       "text": [
        " 3.28510552436e-07\n",
        "leaving volume computation\n",
        "entering Keq computation"
       ]
      },
      {
       "output_type": "stream",
       "stream": "stdout",
       "text": [
        "\n",
        "exiting Keq computation"
       ]
      },
      {
       "output_type": "stream",
       "stream": "stdout",
       "text": [
        "\n",
        "entering Psi computation\n",
        "exiting Psi computation"
       ]
      },
      {
       "output_type": "stream",
       "stream": "stdout",
       "text": [
        "\n",
        "entering Jv computation\n",
        "exiting Jv computation"
       ]
      },
      {
       "output_type": "stream",
       "stream": "stdout",
       "text": [
        "\n",
        "Keq base =  0.468390221917\n",
        "Local Computation Water Flux Jvl =  0.140517066575\n",
        "Global Computation Water Flux Jvg =  0.140517066575\n",
        "entering MTG building"
       ]
      },
      {
       "output_type": "stream",
       "stream": "stdout",
       "text": [
        "\n",
        "exiting MTG building"
       ]
      },
      {
       "output_type": "stream",
       "stream": "stdout",
       "text": [
        "\n",
        "entering MTG radius setting\n",
        "exiting MTG radius setting"
       ]
      },
      {
       "output_type": "stream",
       "stream": "stdout",
       "text": [
        "\n",
        "entering MTG length setting\n",
        "exiting MTG length setting"
       ]
      },
      {
       "output_type": "stream",
       "stream": "stdout",
       "text": [
        "\n",
        "entering MTG node positionning computation\n",
        "exiting MTG node positionning computation"
       ]
      },
      {
       "output_type": "stream",
       "stream": "stdout",
       "text": [
        "\n",
        "entering surface computation"
       ]
      },
      {
       "output_type": "stream",
       "stream": "stdout",
       "text": [
        "\n",
        "surface (sq. meters): "
       ]
      },
      {
       "output_type": "stream",
       "stream": "stdout",
       "text": [
        " 0.0138717795068\n",
        "leaving surface computation\n",
        "entering volume computation\n",
        "volume (cube meters): "
       ]
      },
      {
       "output_type": "stream",
       "stream": "stdout",
       "text": [
        " 3.00518156313e-07\n",
        "leaving volume computation\n",
        "entering Keq computation"
       ]
      },
      {
       "output_type": "stream",
       "stream": "stdout",
       "text": [
        "\n",
        "exiting Keq computation"
       ]
      },
      {
       "output_type": "stream",
       "stream": "stdout",
       "text": [
        "\n",
        "entering Psi computation\n",
        "exiting Psi computation"
       ]
      },
      {
       "output_type": "stream",
       "stream": "stdout",
       "text": [
        "\n",
        "entering Jv computation\n",
        "exiting Jv computation"
       ]
      },
      {
       "output_type": "stream",
       "stream": "stdout",
       "text": [
        "\n",
        "Keq base =  0.445064472146\n",
        "Local Computation Water Flux Jvl =  0.133519341644\n",
        "Global Computation Water Flux Jvg =  0.133519341644\n",
        "entering MTG building"
       ]
      },
      {
       "output_type": "stream",
       "stream": "stdout",
       "text": [
        "\n",
        "exiting MTG building"
       ]
      },
      {
       "output_type": "stream",
       "stream": "stdout",
       "text": [
        "\n",
        "entering MTG radius setting\n",
        "exiting MTG radius setting"
       ]
      },
      {
       "output_type": "stream",
       "stream": "stdout",
       "text": [
        "\n",
        "entering MTG length setting\n",
        "exiting MTG length setting"
       ]
      },
      {
       "output_type": "stream",
       "stream": "stdout",
       "text": [
        "\n",
        "entering MTG node positionning computation\n",
        "exiting MTG node positionning computation"
       ]
      },
      {
       "output_type": "stream",
       "stream": "stdout",
       "text": [
        "\n",
        "entering surface computation\n",
        "surface (sq. meters): "
       ]
      },
      {
       "output_type": "stream",
       "stream": "stdout",
       "text": [
        " 0.00940513524063\n",
        "leaving surface computation\n",
        "entering volume computation\n",
        "volume (cube meters): "
       ]
      },
      {
       "output_type": "stream",
       "stream": "stdout",
       "text": [
        " 2.19546599625e-07\n",
        "leaving volume computation\n",
        "entering Keq computation"
       ]
      },
      {
       "output_type": "stream",
       "stream": "stdout",
       "text": [
        "\n",
        "exiting Keq computation"
       ]
      },
      {
       "output_type": "stream",
       "stream": "stdout",
       "text": [
        "\n",
        "entering Psi computation\n",
        "exiting Psi computation"
       ]
      },
      {
       "output_type": "stream",
       "stream": "stdout",
       "text": [
        "\n",
        "entering Jv computation\n",
        "exiting Jv computation"
       ]
      },
      {
       "output_type": "stream",
       "stream": "stdout",
       "text": [
        "\n",
        "Keq base =  0.387948189876\n",
        "Local Computation Water Flux Jvl =  0.116384456963\n",
        "Global Computation Water Flux Jvg =  0.116384456963\n",
        "entering MTG building"
       ]
      },
      {
       "output_type": "stream",
       "stream": "stdout",
       "text": [
        "\n",
        "exiting MTG building"
       ]
      },
      {
       "output_type": "stream",
       "stream": "stdout",
       "text": [
        "\n",
        "entering MTG radius setting\n",
        "exiting MTG radius setting"
       ]
      },
      {
       "output_type": "stream",
       "stream": "stdout",
       "text": [
        "\n",
        "entering MTG length setting\n",
        "exiting MTG length setting"
       ]
      },
      {
       "output_type": "stream",
       "stream": "stdout",
       "text": [
        "\n",
        "entering MTG node positionning computation\n",
        "exiting MTG node positionning computation"
       ]
      },
      {
       "output_type": "stream",
       "stream": "stdout",
       "text": [
        "\n",
        "entering surface computation"
       ]
      },
      {
       "output_type": "stream",
       "stream": "stdout",
       "text": [
        "\n",
        "surface (sq. meters): "
       ]
      },
      {
       "output_type": "stream",
       "stream": "stdout",
       "text": [
        " 0.0167773723273\n",
        "leaving surface computation\n",
        "entering volume computation\n",
        "volume (cube meters): "
       ]
      },
      {
       "output_type": "stream",
       "stream": "stdout",
       "text": [
        " 3.5125055482e-07\n",
        "leaving volume computation\n",
        "entering Keq computation"
       ]
      },
      {
       "output_type": "stream",
       "stream": "stdout",
       "text": [
        "\n",
        "exiting Keq computation"
       ]
      },
      {
       "output_type": "stream",
       "stream": "stdout",
       "text": [
        "\n",
        "entering Psi computation\n",
        "exiting Psi computation"
       ]
      },
      {
       "output_type": "stream",
       "stream": "stdout",
       "text": [
        "\n",
        "entering Jv computation\n",
        "exiting Jv computation"
       ]
      },
      {
       "output_type": "stream",
       "stream": "stdout",
       "text": [
        "\n",
        "Keq base =  0.47066112153\n",
        "Local Computation Water Flux Jvl =  0.141198336459\n",
        "Global Computation Water Flux Jvg =  0.141198336459\n",
        "entering MTG building"
       ]
      },
      {
       "output_type": "stream",
       "stream": "stdout",
       "text": [
        "\n",
        "exiting MTG building"
       ]
      },
      {
       "output_type": "stream",
       "stream": "stdout",
       "text": [
        "\n",
        "entering MTG radius setting\n",
        "exiting MTG radius setting"
       ]
      },
      {
       "output_type": "stream",
       "stream": "stdout",
       "text": [
        "\n",
        "entering MTG length setting\n",
        "exiting MTG length setting"
       ]
      },
      {
       "output_type": "stream",
       "stream": "stdout",
       "text": [
        "\n",
        "entering MTG node positionning computation\n",
        "exiting MTG node positionning computation"
       ]
      },
      {
       "output_type": "stream",
       "stream": "stdout",
       "text": [
        "\n",
        "entering surface computation"
       ]
      },
      {
       "output_type": "stream",
       "stream": "stdout",
       "text": [
        "\n",
        "surface (sq. meters): "
       ]
      },
      {
       "output_type": "stream",
       "stream": "stdout",
       "text": [
        " 0.0148317597577\n",
        "leaving surface computation\n",
        "entering volume computation\n",
        "volume (cube meters): "
       ]
      },
      {
       "output_type": "stream",
       "stream": "stdout",
       "text": [
        " 3.06502152889e-07\n",
        "leaving volume computation\n",
        "entering Keq computation"
       ]
      },
      {
       "output_type": "stream",
       "stream": "stdout",
       "text": [
        "\n",
        "exiting Keq computation"
       ]
      },
      {
       "output_type": "stream",
       "stream": "stdout",
       "text": [
        "\n",
        "entering Psi computation\n",
        "exiting Psi computation"
       ]
      },
      {
       "output_type": "stream",
       "stream": "stdout",
       "text": [
        "\n",
        "entering Jv computation\n",
        "exiting Jv computation"
       ]
      },
      {
       "output_type": "stream",
       "stream": "stdout",
       "text": [
        "\n",
        "Keq base =  0.457929714406\n",
        "Local Computation Water Flux Jvl =  0.137378914322\n",
        "Global Computation Water Flux Jvg =  0.137378914322\n",
        "entering MTG building"
       ]
      },
      {
       "output_type": "stream",
       "stream": "stdout",
       "text": [
        "\n",
        "exiting MTG building"
       ]
      },
      {
       "output_type": "stream",
       "stream": "stdout",
       "text": [
        "\n",
        "entering MTG radius setting\n",
        "exiting MTG radius setting"
       ]
      },
      {
       "output_type": "stream",
       "stream": "stdout",
       "text": [
        "\n",
        "entering MTG length setting\n",
        "exiting MTG length setting"
       ]
      },
      {
       "output_type": "stream",
       "stream": "stdout",
       "text": [
        "\n",
        "entering MTG node positionning computation\n",
        "exiting MTG node positionning computation"
       ]
      },
      {
       "output_type": "stream",
       "stream": "stdout",
       "text": [
        "\n",
        "entering surface computation"
       ]
      },
      {
       "output_type": "stream",
       "stream": "stdout",
       "text": [
        "\n",
        "surface (sq. meters): "
       ]
      },
      {
       "output_type": "stream",
       "stream": "stdout",
       "text": [
        " 0.0192675454987\n",
        "leaving surface computation\n",
        "entering volume computation\n",
        "volume (cube meters): "
       ]
      },
      {
       "output_type": "stream",
       "stream": "stdout",
       "text": [
        " 3.84521096272e-07\n",
        "leaving volume computation\n",
        "entering Keq computation"
       ]
      },
      {
       "output_type": "stream",
       "stream": "stdout",
       "text": [
        "\n",
        "exiting Keq computation"
       ]
      },
      {
       "output_type": "stream",
       "stream": "stdout",
       "text": [
        "\n",
        "entering Psi computation\n",
        "exiting Psi computation"
       ]
      },
      {
       "output_type": "stream",
       "stream": "stdout",
       "text": [
        "\n",
        "entering Jv computation\n",
        "exiting Jv computation"
       ]
      },
      {
       "output_type": "stream",
       "stream": "stdout",
       "text": [
        "\n",
        "Keq base =  0.500941067009\n",
        "Local Computation Water Flux Jvl =  0.150282320103\n",
        "Global Computation Water Flux Jvg =  0.150282320103\n",
        "entering MTG building"
       ]
      },
      {
       "output_type": "stream",
       "stream": "stdout",
       "text": [
        "\n",
        "exiting MTG building"
       ]
      },
      {
       "output_type": "stream",
       "stream": "stdout",
       "text": [
        "\n",
        "entering MTG radius setting\n",
        "exiting MTG radius setting"
       ]
      },
      {
       "output_type": "stream",
       "stream": "stdout",
       "text": [
        "\n",
        "entering MTG length setting\n",
        "exiting MTG length setting"
       ]
      },
      {
       "output_type": "stream",
       "stream": "stdout",
       "text": [
        "\n",
        "entering MTG node positionning computation\n",
        "exiting MTG node positionning computation"
       ]
      },
      {
       "output_type": "stream",
       "stream": "stdout",
       "text": [
        "\n",
        "entering surface computation"
       ]
      },
      {
       "output_type": "stream",
       "stream": "stdout",
       "text": [
        "\n",
        "surface (sq. meters): "
       ]
      },
      {
       "output_type": "stream",
       "stream": "stdout",
       "text": [
        " 0.0111619212353\n",
        "leaving surface computation\n",
        "entering volume computation\n",
        "volume (cube meters): "
       ]
      },
      {
       "output_type": "stream",
       "stream": "stdout",
       "text": [
        " 2.52167008332e-07\n",
        "leaving volume computation\n",
        "entering Keq computation"
       ]
      },
      {
       "output_type": "stream",
       "stream": "stdout",
       "text": [
        "\n",
        "exiting Keq computation"
       ]
      },
      {
       "output_type": "stream",
       "stream": "stdout",
       "text": [
        "\n",
        "entering Psi computation\n",
        "exiting Psi computation"
       ]
      },
      {
       "output_type": "stream",
       "stream": "stdout",
       "text": [
        "\n",
        "entering Jv computation\n",
        "exiting Jv computation"
       ]
      },
      {
       "output_type": "stream",
       "stream": "stdout",
       "text": [
        "\n",
        "Keq base =  0.421501990626\n",
        "Local Computation Water Flux Jvl =  0.126450597188\n",
        "Global Computation Water Flux Jvg =  0.126450597188\n",
        "entering MTG building"
       ]
      },
      {
       "output_type": "stream",
       "stream": "stdout",
       "text": [
        "\n",
        "exiting MTG building"
       ]
      },
      {
       "output_type": "stream",
       "stream": "stdout",
       "text": [
        "\n",
        "entering MTG radius setting\n",
        "exiting MTG radius setting"
       ]
      },
      {
       "output_type": "stream",
       "stream": "stdout",
       "text": [
        "\n",
        "entering MTG length setting\n",
        "exiting MTG length setting"
       ]
      },
      {
       "output_type": "stream",
       "stream": "stdout",
       "text": [
        "\n",
        "entering MTG node positionning computation\n",
        "exiting MTG node positionning computation"
       ]
      },
      {
       "output_type": "stream",
       "stream": "stdout",
       "text": [
        "\n",
        "entering surface computation"
       ]
      },
      {
       "output_type": "stream",
       "stream": "stdout",
       "text": [
        "\n",
        "surface (sq. meters): "
       ]
      },
      {
       "output_type": "stream",
       "stream": "stdout",
       "text": [
        " 0.0117769048839\n",
        "leaving surface computation\n",
        "entering volume computation\n",
        "volume (cube meters): "
       ]
      },
      {
       "output_type": "stream",
       "stream": "stdout",
       "text": [
        " 2.53349173117e-07\n",
        "leaving volume computation\n",
        "entering Keq computation"
       ]
      },
      {
       "output_type": "stream",
       "stream": "stdout",
       "text": [
        "\n",
        "exiting Keq computation"
       ]
      },
      {
       "output_type": "stream",
       "stream": "stdout",
       "text": [
        "\n",
        "entering Psi computation\n",
        "exiting Psi computation"
       ]
      },
      {
       "output_type": "stream",
       "stream": "stdout",
       "text": [
        "\n",
        "entering Jv computation\n",
        "exiting Jv computation"
       ]
      },
      {
       "output_type": "stream",
       "stream": "stdout",
       "text": [
        "\n",
        "Keq base =  0.411762748429\n",
        "Local Computation Water Flux Jvl =  0.123528824529\n",
        "Global Computation Water Flux Jvg =  0.123528824529\n",
        "entering MTG building"
       ]
      },
      {
       "output_type": "stream",
       "stream": "stdout",
       "text": [
        "\n",
        "exiting MTG building"
       ]
      },
      {
       "output_type": "stream",
       "stream": "stdout",
       "text": [
        "\n",
        "entering MTG radius setting\n",
        "exiting MTG radius setting"
       ]
      },
      {
       "output_type": "stream",
       "stream": "stdout",
       "text": [
        "\n",
        "entering MTG length setting\n",
        "exiting MTG length setting"
       ]
      },
      {
       "output_type": "stream",
       "stream": "stdout",
       "text": [
        "\n",
        "entering MTG node positionning computation\n",
        "exiting MTG node positionning computation"
       ]
      },
      {
       "output_type": "stream",
       "stream": "stdout",
       "text": [
        "\n",
        "entering surface computation"
       ]
      },
      {
       "output_type": "stream",
       "stream": "stdout",
       "text": [
        "\n",
        "surface (sq. meters): "
       ]
      },
      {
       "output_type": "stream",
       "stream": "stdout",
       "text": [
        " 0.013114910463\n",
        "leaving surface computation\n",
        "entering volume computation\n",
        "volume (cube meters): "
       ]
      },
      {
       "output_type": "stream",
       "stream": "stdout",
       "text": [
        " 2.85227976854e-07\n",
        "leaving volume computation\n",
        "entering Keq computation"
       ]
      },
      {
       "output_type": "stream",
       "stream": "stdout",
       "text": [
        "\n",
        "exiting Keq computation"
       ]
      },
      {
       "output_type": "stream",
       "stream": "stdout",
       "text": [
        "\n",
        "entering Psi computation\n",
        "exiting Psi computation"
       ]
      },
      {
       "output_type": "stream",
       "stream": "stdout",
       "text": [
        "\n",
        "entering Jv computation\n",
        "exiting Jv computation"
       ]
      },
      {
       "output_type": "stream",
       "stream": "stdout",
       "text": [
        "\n",
        "Keq base =  0.458864956628\n",
        "Local Computation Water Flux Jvl =  0.137659486988\n",
        "Global Computation Water Flux Jvg =  0.137659486988\n",
        "entering MTG building"
       ]
      },
      {
       "output_type": "stream",
       "stream": "stdout",
       "text": [
        "\n",
        "exiting MTG building"
       ]
      },
      {
       "output_type": "stream",
       "stream": "stdout",
       "text": [
        "\n",
        "entering MTG radius setting\n",
        "exiting MTG radius setting"
       ]
      },
      {
       "output_type": "stream",
       "stream": "stdout",
       "text": [
        "\n",
        "entering MTG length setting\n",
        "exiting MTG length setting"
       ]
      },
      {
       "output_type": "stream",
       "stream": "stdout",
       "text": [
        "\n",
        "entering MTG node positionning computation\n",
        "exiting MTG node positionning computation"
       ]
      },
      {
       "output_type": "stream",
       "stream": "stdout",
       "text": [
        "\n",
        "entering surface computation"
       ]
      },
      {
       "output_type": "stream",
       "stream": "stdout",
       "text": [
        "\n",
        "surface (sq. meters): "
       ]
      },
      {
       "output_type": "stream",
       "stream": "stdout",
       "text": [
        " 0.013358151549\n",
        "leaving surface computation\n",
        "entering volume computation\n",
        "volume (cube meters): "
       ]
      },
      {
       "output_type": "stream",
       "stream": "stdout",
       "text": [
        " 2.85075863771e-07\n",
        "leaving volume computation\n",
        "entering Keq computation"
       ]
      },
      {
       "output_type": "stream",
       "stream": "stdout",
       "text": [
        "\n",
        "exiting Keq computation"
       ]
      },
      {
       "output_type": "stream",
       "stream": "stdout",
       "text": [
        "\n",
        "entering Psi computation\n",
        "exiting Psi computation"
       ]
      },
      {
       "output_type": "stream",
       "stream": "stdout",
       "text": [
        "\n",
        "entering Jv computation\n",
        "exiting Jv computation"
       ]
      },
      {
       "output_type": "stream",
       "stream": "stdout",
       "text": [
        "\n",
        "Keq base =  0.454748546534\n",
        "Local Computation Water Flux Jvl =  0.13642456396\n",
        "Global Computation Water Flux Jvg =  0.13642456396\n",
        "entering MTG building"
       ]
      },
      {
       "output_type": "stream",
       "stream": "stdout",
       "text": [
        "\n",
        "exiting MTG building"
       ]
      },
      {
       "output_type": "stream",
       "stream": "stdout",
       "text": [
        "\n",
        "entering MTG radius setting\n",
        "exiting MTG radius setting"
       ]
      },
      {
       "output_type": "stream",
       "stream": "stdout",
       "text": [
        "\n",
        "entering MTG length setting\n",
        "exiting MTG length setting"
       ]
      },
      {
       "output_type": "stream",
       "stream": "stdout",
       "text": [
        "\n",
        "entering MTG node positionning computation\n",
        "exiting MTG node positionning computation"
       ]
      },
      {
       "output_type": "stream",
       "stream": "stdout",
       "text": [
        "\n",
        "entering surface computation"
       ]
      },
      {
       "output_type": "stream",
       "stream": "stdout",
       "text": [
        "\n",
        "surface (sq. meters): "
       ]
      },
      {
       "output_type": "stream",
       "stream": "stdout",
       "text": [
        " 0.0124612323153\n",
        "leaving surface computation\n",
        "entering volume computation\n",
        "volume (cube meters): "
       ]
      },
      {
       "output_type": "stream",
       "stream": "stdout",
       "text": [
        " 2.7540701501e-07\n",
        "leaving volume computation\n",
        "entering Keq computation"
       ]
      },
      {
       "output_type": "stream",
       "stream": "stdout",
       "text": [
        "\n",
        "exiting Keq computation"
       ]
      },
      {
       "output_type": "stream",
       "stream": "stdout",
       "text": [
        "\n",
        "entering Psi computation\n",
        "exiting Psi computation"
       ]
      },
      {
       "output_type": "stream",
       "stream": "stdout",
       "text": [
        "\n",
        "entering Jv computation\n",
        "exiting Jv computation"
       ]
      },
      {
       "output_type": "stream",
       "stream": "stdout",
       "text": [
        "\n",
        "Keq base =  0.422472558269\n",
        "Local Computation Water Flux Jvl =  0.126741767481\n",
        "Global Computation Water Flux Jvg =  0.126741767481\n",
        "entering MTG building"
       ]
      },
      {
       "output_type": "stream",
       "stream": "stdout",
       "text": [
        "\n",
        "exiting MTG building"
       ]
      },
      {
       "output_type": "stream",
       "stream": "stdout",
       "text": [
        "\n",
        "entering MTG radius setting\n",
        "exiting MTG radius setting"
       ]
      },
      {
       "output_type": "stream",
       "stream": "stdout",
       "text": [
        "\n",
        "entering MTG length setting\n",
        "exiting MTG length setting"
       ]
      },
      {
       "output_type": "stream",
       "stream": "stdout",
       "text": [
        "\n",
        "entering MTG node positionning computation\n",
        "exiting MTG node positionning computation"
       ]
      },
      {
       "output_type": "stream",
       "stream": "stdout",
       "text": [
        "\n",
        "entering surface computation\n",
        "surface (sq. meters): "
       ]
      },
      {
       "output_type": "stream",
       "stream": "stdout",
       "text": [
        " 0.00853616978275\n",
        "leaving surface computation\n",
        "entering volume computation\n",
        "volume (cube meters): "
       ]
      },
      {
       "output_type": "stream",
       "stream": "stdout",
       "text": [
        " 2.05514761089e-07\n",
        "leaving volume computation\n",
        "entering Keq computation"
       ]
      },
      {
       "output_type": "stream",
       "stream": "stdout",
       "text": [
        "\n",
        "exiting Keq computation"
       ]
      },
      {
       "output_type": "stream",
       "stream": "stdout",
       "text": [
        "\n",
        "entering Psi computation\n",
        "exiting Psi computation"
       ]
      },
      {
       "output_type": "stream",
       "stream": "stdout",
       "text": [
        "\n",
        "entering Jv computation\n",
        "exiting Jv computation"
       ]
      },
      {
       "output_type": "stream",
       "stream": "stdout",
       "text": [
        "\n",
        "Keq base =  0.36926769779\n",
        "Local Computation Water Flux Jvl =  0.110780309337\n",
        "Global Computation Water Flux Jvg =  0.110780309337\n",
        "entering MTG building"
       ]
      },
      {
       "output_type": "stream",
       "stream": "stdout",
       "text": [
        "\n",
        "exiting MTG building"
       ]
      },
      {
       "output_type": "stream",
       "stream": "stdout",
       "text": [
        "\n",
        "entering MTG radius setting\n",
        "exiting MTG radius setting"
       ]
      },
      {
       "output_type": "stream",
       "stream": "stdout",
       "text": [
        "\n",
        "entering MTG length setting\n",
        "exiting MTG length setting"
       ]
      },
      {
       "output_type": "stream",
       "stream": "stdout",
       "text": [
        "\n",
        "entering MTG node positionning computation\n",
        "exiting MTG node positionning computation"
       ]
      },
      {
       "output_type": "stream",
       "stream": "stdout",
       "text": [
        "\n",
        "entering surface computation"
       ]
      },
      {
       "output_type": "stream",
       "stream": "stdout",
       "text": [
        "\n",
        "surface (sq. meters): "
       ]
      },
      {
       "output_type": "stream",
       "stream": "stdout",
       "text": [
        " 0.00983180592193\n",
        "leaving surface computation\n",
        "entering volume computation\n",
        "volume (cube meters): "
       ]
      },
      {
       "output_type": "stream",
       "stream": "stdout",
       "text": [
        " 2.28510557956e-07\n",
        "leaving volume computation\n",
        "entering Keq computation"
       ]
      },
      {
       "output_type": "stream",
       "stream": "stdout",
       "text": [
        "\n",
        "exiting Keq computation"
       ]
      },
      {
       "output_type": "stream",
       "stream": "stdout",
       "text": [
        "\n",
        "entering Psi computation\n",
        "exiting Psi computation"
       ]
      },
      {
       "output_type": "stream",
       "stream": "stdout",
       "text": [
        "\n",
        "entering Jv computation\n",
        "exiting Jv computation"
       ]
      },
      {
       "output_type": "stream",
       "stream": "stdout",
       "text": [
        "\n",
        "Keq base =  0.385994530636\n",
        "Local Computation Water Flux Jvl =  0.115798359191\n",
        "Global Computation Water Flux Jvg =  0.115798359191\n",
        "entering MTG building"
       ]
      },
      {
       "output_type": "stream",
       "stream": "stdout",
       "text": [
        "\n",
        "exiting MTG building"
       ]
      },
      {
       "output_type": "stream",
       "stream": "stdout",
       "text": [
        "\n",
        "entering MTG radius setting\n",
        "exiting MTG radius setting"
       ]
      },
      {
       "output_type": "stream",
       "stream": "stdout",
       "text": [
        "\n",
        "entering MTG length setting\n",
        "exiting MTG length setting"
       ]
      },
      {
       "output_type": "stream",
       "stream": "stdout",
       "text": [
        "\n",
        "entering MTG node positionning computation\n",
        "exiting MTG node positionning computation"
       ]
      },
      {
       "output_type": "stream",
       "stream": "stdout",
       "text": [
        "\n",
        "entering surface computation"
       ]
      },
      {
       "output_type": "stream",
       "stream": "stdout",
       "text": [
        "\n",
        "surface (sq. meters): "
       ]
      },
      {
       "output_type": "stream",
       "stream": "stdout",
       "text": [
        " 0.0126800228506\n",
        "leaving surface computation\n",
        "entering volume computation\n",
        "volume (cube meters): "
       ]
      },
      {
       "output_type": "stream",
       "stream": "stdout",
       "text": [
        " 2.81811375747e-07\n",
        "leaving volume computation\n",
        "entering Keq computation"
       ]
      },
      {
       "output_type": "stream",
       "stream": "stdout",
       "text": [
        "\n",
        "exiting Keq computation"
       ]
      },
      {
       "output_type": "stream",
       "stream": "stdout",
       "text": [
        "\n",
        "entering Psi computation\n",
        "exiting Psi computation"
       ]
      },
      {
       "output_type": "stream",
       "stream": "stdout",
       "text": [
        "\n",
        "entering Jv computation\n",
        "exiting Jv computation"
       ]
      },
      {
       "output_type": "stream",
       "stream": "stdout",
       "text": [
        "\n",
        "Keq base =  0.433795475786\n",
        "Local Computation Water Flux Jvl =  0.130138642736\n",
        "Global Computation Water Flux Jvg =  0.130138642736\n",
        "entering MTG building"
       ]
      },
      {
       "output_type": "stream",
       "stream": "stdout",
       "text": [
        "\n",
        "exiting MTG building"
       ]
      },
      {
       "output_type": "stream",
       "stream": "stdout",
       "text": [
        "\n",
        "entering MTG radius setting\n",
        "exiting MTG radius setting"
       ]
      },
      {
       "output_type": "stream",
       "stream": "stdout",
       "text": [
        "\n",
        "entering MTG length setting\n",
        "exiting MTG length setting"
       ]
      },
      {
       "output_type": "stream",
       "stream": "stdout",
       "text": [
        "\n",
        "entering MTG node positionning computation\n",
        "exiting MTG node positionning computation"
       ]
      },
      {
       "output_type": "stream",
       "stream": "stdout",
       "text": [
        "\n",
        "entering surface computation"
       ]
      },
      {
       "output_type": "stream",
       "stream": "stdout",
       "text": [
        "\n",
        "surface (sq. meters): "
       ]
      },
      {
       "output_type": "stream",
       "stream": "stdout",
       "text": [
        " 0.0102703286008\n",
        "leaving surface computation\n",
        "entering volume computation\n",
        "volume (cube meters): "
       ]
      },
      {
       "output_type": "stream",
       "stream": "stdout",
       "text": [
        " 2.38313779085e-07\n",
        "leaving volume computation\n",
        "entering Keq computation"
       ]
      },
      {
       "output_type": "stream",
       "stream": "stdout",
       "text": [
        "\n",
        "exiting Keq computation"
       ]
      },
      {
       "output_type": "stream",
       "stream": "stdout",
       "text": [
        "\n",
        "entering Psi computation\n",
        "exiting Psi computation"
       ]
      },
      {
       "output_type": "stream",
       "stream": "stdout",
       "text": [
        "\n",
        "entering Jv computation\n",
        "exiting Jv computation"
       ]
      },
      {
       "output_type": "stream",
       "stream": "stdout",
       "text": [
        "\n",
        "Keq base =  0.423715670856\n",
        "Local Computation Water Flux Jvl =  0.127114701257\n",
        "Global Computation Water Flux Jvg =  0.127114701257\n",
        "entering MTG building"
       ]
      },
      {
       "output_type": "stream",
       "stream": "stdout",
       "text": [
        "\n",
        "exiting MTG building"
       ]
      },
      {
       "output_type": "stream",
       "stream": "stdout",
       "text": [
        "\n",
        "entering MTG radius setting\n",
        "exiting MTG radius setting"
       ]
      },
      {
       "output_type": "stream",
       "stream": "stdout",
       "text": [
        "\n",
        "entering MTG length setting\n",
        "exiting MTG length setting"
       ]
      },
      {
       "output_type": "stream",
       "stream": "stdout",
       "text": [
        "\n",
        "entering MTG node positionning computation\n",
        "exiting MTG node positionning computation"
       ]
      },
      {
       "output_type": "stream",
       "stream": "stdout",
       "text": [
        "\n",
        "entering surface computation"
       ]
      },
      {
       "output_type": "stream",
       "stream": "stdout",
       "text": [
        "\n",
        "surface (sq. meters): "
       ]
      },
      {
       "output_type": "stream",
       "stream": "stdout",
       "text": [
        " 0.00964101951335\n",
        "leaving surface computation\n",
        "entering volume computation\n",
        "volume (cube meters): "
       ]
      },
      {
       "output_type": "stream",
       "stream": "stdout",
       "text": [
        " 2.2529248757e-07\n",
        "leaving volume computation\n",
        "entering Keq computation"
       ]
      },
      {
       "output_type": "stream",
       "stream": "stdout",
       "text": [
        "\n",
        "exiting Keq computation"
       ]
      },
      {
       "output_type": "stream",
       "stream": "stdout",
       "text": [
        "\n",
        "entering Psi computation\n",
        "exiting Psi computation"
       ]
      },
      {
       "output_type": "stream",
       "stream": "stdout",
       "text": [
        "\n",
        "entering Jv computation\n",
        "exiting Jv computation"
       ]
      },
      {
       "output_type": "stream",
       "stream": "stdout",
       "text": [
        "\n",
        "Keq base =  0.39123498587\n",
        "Local Computation Water Flux Jvl =  0.117370495761\n",
        "Global Computation Water Flux Jvg =  0.117370495761\n",
        "entering MTG building"
       ]
      },
      {
       "output_type": "stream",
       "stream": "stdout",
       "text": [
        "\n",
        "exiting MTG building"
       ]
      },
      {
       "output_type": "stream",
       "stream": "stdout",
       "text": [
        "\n",
        "entering MTG radius setting\n",
        "exiting MTG radius setting"
       ]
      },
      {
       "output_type": "stream",
       "stream": "stdout",
       "text": [
        "\n",
        "entering MTG length setting\n",
        "exiting MTG length setting"
       ]
      },
      {
       "output_type": "stream",
       "stream": "stdout",
       "text": [
        "\n",
        "entering MTG node positionning computation\n",
        "exiting MTG node positionning computation"
       ]
      },
      {
       "output_type": "stream",
       "stream": "stdout",
       "text": [
        "\n",
        "entering surface computation"
       ]
      },
      {
       "output_type": "stream",
       "stream": "stdout",
       "text": [
        "\n",
        "surface (sq. meters): "
       ]
      },
      {
       "output_type": "stream",
       "stream": "stdout",
       "text": [
        " 0.0146776939315\n",
        "leaving surface computation\n",
        "entering volume computation\n",
        "volume (cube meters): "
       ]
      },
      {
       "output_type": "stream",
       "stream": "stdout",
       "text": [
        " 3.09371913346e-07\n",
        "leaving volume computation\n",
        "entering Keq computation"
       ]
      },
      {
       "output_type": "stream",
       "stream": "stdout",
       "text": [
        "\n",
        "exiting Keq computation"
       ]
      },
      {
       "output_type": "stream",
       "stream": "stdout",
       "text": [
        "\n",
        "entering Psi computation\n",
        "exiting Psi computation"
       ]
      },
      {
       "output_type": "stream",
       "stream": "stdout",
       "text": [
        "\n",
        "entering Jv computation\n",
        "exiting Jv computation"
       ]
      },
      {
       "output_type": "stream",
       "stream": "stdout",
       "text": [
        "\n",
        "Keq base =  0.476953989754\n",
        "Local Computation Water Flux Jvl =  0.143086196926\n",
        "Global Computation Water Flux Jvg =  0.143086196926\n",
        "entering MTG building"
       ]
      },
      {
       "output_type": "stream",
       "stream": "stdout",
       "text": [
        "\n",
        "exiting MTG building"
       ]
      },
      {
       "output_type": "stream",
       "stream": "stdout",
       "text": [
        "\n",
        "entering MTG radius setting\n",
        "exiting MTG radius setting"
       ]
      },
      {
       "output_type": "stream",
       "stream": "stdout",
       "text": [
        "\n",
        "entering MTG length setting\n",
        "exiting MTG length setting"
       ]
      },
      {
       "output_type": "stream",
       "stream": "stdout",
       "text": [
        "\n",
        "entering MTG node positionning computation\n",
        "exiting MTG node positionning computation"
       ]
      },
      {
       "output_type": "stream",
       "stream": "stdout",
       "text": [
        "\n",
        "entering surface computation"
       ]
      },
      {
       "output_type": "stream",
       "stream": "stdout",
       "text": [
        "\n",
        "surface (sq. meters): "
       ]
      },
      {
       "output_type": "stream",
       "stream": "stdout",
       "text": [
        " 0.0162034100172\n",
        "leaving surface computation\n",
        "entering volume computation\n",
        "volume (cube meters): "
       ]
      },
      {
       "output_type": "stream",
       "stream": "stdout",
       "text": [
        " 3.41426054381e-07\n",
        "leaving volume computation\n",
        "entering Keq computation"
       ]
      },
      {
       "output_type": "stream",
       "stream": "stdout",
       "text": [
        "\n",
        "exiting Keq computation"
       ]
      },
      {
       "output_type": "stream",
       "stream": "stdout",
       "text": [
        "\n",
        "entering Psi computation\n",
        "exiting Psi computation"
       ]
      },
      {
       "output_type": "stream",
       "stream": "stdout",
       "text": [
        "\n",
        "entering Jv computation\n",
        "exiting Jv computation"
       ]
      },
      {
       "output_type": "stream",
       "stream": "stdout",
       "text": [
        "\n",
        "Keq base =  0.456378942508\n",
        "Local Computation Water Flux Jvl =  0.136913682752\n",
        "Global Computation Water Flux Jvg =  0.136913682752\n",
        "entering MTG building"
       ]
      },
      {
       "output_type": "stream",
       "stream": "stdout",
       "text": [
        "\n",
        "exiting MTG building"
       ]
      },
      {
       "output_type": "stream",
       "stream": "stdout",
       "text": [
        "\n",
        "entering MTG radius setting\n",
        "exiting MTG radius setting"
       ]
      },
      {
       "output_type": "stream",
       "stream": "stdout",
       "text": [
        "\n",
        "entering MTG length setting\n",
        "exiting MTG length setting"
       ]
      },
      {
       "output_type": "stream",
       "stream": "stdout",
       "text": [
        "\n",
        "entering MTG node positionning computation\n",
        "exiting MTG node positionning computation"
       ]
      },
      {
       "output_type": "stream",
       "stream": "stdout",
       "text": [
        "\n",
        "entering surface computation"
       ]
      },
      {
       "output_type": "stream",
       "stream": "stdout",
       "text": [
        "\n",
        "surface (sq. meters): "
       ]
      },
      {
       "output_type": "stream",
       "stream": "stdout",
       "text": [
        " 0.0189170347039\n",
        "leaving surface computation\n",
        "entering volume computation\n",
        "volume (cube meters): "
       ]
      },
      {
       "output_type": "stream",
       "stream": "stdout",
       "text": [
        " 3.83497137172e-07\n",
        "leaving volume computation\n",
        "entering Keq computation"
       ]
      },
      {
       "output_type": "stream",
       "stream": "stdout",
       "text": [
        "\n",
        "exiting Keq computation"
       ]
      },
      {
       "output_type": "stream",
       "stream": "stdout",
       "text": [
        "\n",
        "entering Psi computation\n",
        "exiting Psi computation"
       ]
      },
      {
       "output_type": "stream",
       "stream": "stdout",
       "text": [
        "\n",
        "entering Jv computation\n",
        "exiting Jv computation"
       ]
      },
      {
       "output_type": "stream",
       "stream": "stdout",
       "text": [
        "\n",
        "Keq base =  0.477292965431\n",
        "Local Computation Water Flux Jvl =  0.143187889629\n",
        "Global Computation Water Flux Jvg =  0.143187889629\n"
       ]
      }
     ],
     "prompt_number": 12
    },
    {
     "cell_type": "code",
     "collapsed": false,
     "input": [
      "res"
     ],
     "language": "python",
     "metadata": {},
     "outputs": [
      {
       "metadata": {},
       "output_type": "pyout",
       "prompt_number": 13,
       "text": [
        "[(0.43400242076923851, 0.13020072623077156),\n",
        " (0.46094224959363705, 0.13828267487809115),\n",
        " (0.43240657375378588, 0.12972197212613579),\n",
        " (0.43556543591418473, 0.13066963077425545),\n",
        " (0.48034781825503731, 0.14410434547651121),\n",
        " (0.44436950499643207, 0.13331085149892966),\n",
        " (0.4683902219170939, 0.14051706657512819),\n",
        " (0.44506447214610573, 0.13351934164383175),\n",
        " (0.38794818987594226, 0.1163844569627827),\n",
        " (0.47066112153008566, 0.14119833645902571),\n",
        " (0.45792971440620039, 0.13737891432186014),\n",
        " (0.50094106700881325, 0.150282320102644),\n",
        " (0.42150199062645072, 0.12645059718793522),\n",
        " (0.41176274842863991, 0.123528824528592),\n",
        " (0.45886495662800092, 0.1376594869884003),\n",
        " (0.45474854653412911, 0.13642456396023875),\n",
        " (0.42247255826870544, 0.12674176748061164),\n",
        " (0.36926769779038093, 0.1107803093371143),\n",
        " (0.3859945306364313, 0.1157983591909294),\n",
        " (0.43379547578618394, 0.13013864273585521),\n",
        " (0.42371567085618694, 0.12711470125685609),\n",
        " (0.39123498587025862, 0.11737049576107761),\n",
        " (0.47695398975449427, 0.1430861969263483),\n",
        " (0.45637894250758715, 0.13691368275227617),\n",
        " (0.47729296543062344, 0.14318788962918705)]"
       ]
      }
     ],
     "prompt_number": 13
    },
    {
     "cell_type": "code",
     "collapsed": false,
     "input": [
      "from hydroroot.main import hydroroot\n",
      "res = []\n",
      "for i in range(25):\n",
      "    g, surf, vol, keq, jv = hydroroot(n=300, segment_length=5e-4, seed=None,\n",
      "          length_data=length_data, axial_conductivity_data=axial_conductivity_data, radial_conductivity_data=radial_conductivity_data)\n",
      "    res.append((keq, jv))"
     ],
     "language": "python",
     "metadata": {},
     "outputs": [
      {
       "output_type": "stream",
       "stream": "stdout",
       "text": [
        "entering MTG building\n",
        "exiting MTG building"
       ]
      },
      {
       "output_type": "stream",
       "stream": "stdout",
       "text": [
        "\n",
        "entering MTG radius setting\n",
        "exiting MTG radius setting"
       ]
      },
      {
       "output_type": "stream",
       "stream": "stdout",
       "text": [
        "\n",
        "entering MTG length setting\n",
        "exiting MTG length setting"
       ]
      },
      {
       "output_type": "stream",
       "stream": "stdout",
       "text": [
        "\n",
        "entering MTG node positionning computation\n",
        "exiting MTG node positionning computation"
       ]
      },
      {
       "output_type": "stream",
       "stream": "stdout",
       "text": [
        "\n",
        "entering surface computation\n",
        "surface (sq. meters):  0.00793921376523\n",
        "leaving surface computation\n",
        "entering volume computation\n",
        "volume (cube meters): "
       ]
      },
      {
       "output_type": "stream",
       "stream": "stdout",
       "text": [
        " 1.83502931533e-07\n",
        "leaving volume computation\n",
        "entering Keq computation"
       ]
      },
      {
       "output_type": "stream",
       "stream": "stdout",
       "text": [
        "\n",
        "exiting Keq computation"
       ]
      },
      {
       "output_type": "stream",
       "stream": "stdout",
       "text": [
        "\n",
        "entering Psi computation\n",
        "exiting Psi computation"
       ]
      },
      {
       "output_type": "stream",
       "stream": "stdout",
       "text": [
        "\n",
        "entering Jv computation\n",
        "exiting Jv computation"
       ]
      },
      {
       "output_type": "stream",
       "stream": "stdout",
       "text": [
        "\n",
        "Keq base =  0.48606462313\n",
        "Local Computation Water Flux Jvl =  0.145819386939\n",
        "Global Computation Water Flux Jvg =  0.145819386939\n",
        "entering MTG building"
       ]
      },
      {
       "output_type": "stream",
       "stream": "stdout",
       "text": [
        "\n",
        "exiting MTG building"
       ]
      },
      {
       "output_type": "stream",
       "stream": "stdout",
       "text": [
        "\n",
        "entering MTG radius setting\n",
        "exiting MTG radius setting"
       ]
      },
      {
       "output_type": "stream",
       "stream": "stdout",
       "text": [
        "\n",
        "entering MTG length setting\n",
        "exiting MTG length setting"
       ]
      },
      {
       "output_type": "stream",
       "stream": "stdout",
       "text": [
        "\n",
        "entering MTG node positionning computation\n",
        "exiting MTG node positionning computation"
       ]
      },
      {
       "output_type": "stream",
       "stream": "stdout",
       "text": [
        "\n",
        "entering surface computation\n",
        "surface (sq. meters):  0.00713752182579\n",
        "leaving surface computation\n",
        "entering volume computation\n",
        "volume (cube meters): "
       ]
      },
      {
       "output_type": "stream",
       "stream": "stdout",
       "text": [
        " 1.70558275798e-07\n",
        "leaving volume computation\n",
        "entering Keq computation"
       ]
      },
      {
       "output_type": "stream",
       "stream": "stdout",
       "text": [
        "\n",
        "exiting Keq computation"
       ]
      },
      {
       "output_type": "stream",
       "stream": "stdout",
       "text": [
        "\n",
        "entering Psi computation\n",
        "exiting Psi computation"
       ]
      },
      {
       "output_type": "stream",
       "stream": "stdout",
       "text": [
        "\n",
        "entering Jv computation\n",
        "exiting Jv computation"
       ]
      },
      {
       "output_type": "stream",
       "stream": "stdout",
       "text": [
        "\n",
        "Keq base =  0.473520029387\n",
        "Local Computation Water Flux Jvl =  0.142056008816\n",
        "Global Computation Water Flux Jvg =  0.142056008816\n",
        "entering MTG building\n",
        "exiting MTG building"
       ]
      },
      {
       "output_type": "stream",
       "stream": "stdout",
       "text": [
        "\n",
        "entering MTG radius setting\n",
        "exiting MTG radius setting"
       ]
      },
      {
       "output_type": "stream",
       "stream": "stdout",
       "text": [
        "\n",
        "entering MTG length setting\n",
        "exiting MTG length setting"
       ]
      },
      {
       "output_type": "stream",
       "stream": "stdout",
       "text": [
        "\n",
        "entering MTG node positionning computation\n",
        "exiting MTG node positionning computation"
       ]
      },
      {
       "output_type": "stream",
       "stream": "stdout",
       "text": [
        "\n",
        "entering surface computation\n",
        "surface (sq. meters): "
       ]
      },
      {
       "output_type": "stream",
       "stream": "stdout",
       "text": [
        " 0.0107718166002\n",
        "leaving surface computation\n",
        "entering volume computation\n",
        "volume (cube meters):  2.36740823825e-07\n",
        "leaving volume computation\n",
        "entering Keq computation"
       ]
      },
      {
       "output_type": "stream",
       "stream": "stdout",
       "text": [
        "\n",
        "exiting Keq computation"
       ]
      },
      {
       "output_type": "stream",
       "stream": "stdout",
       "text": [
        "\n",
        "entering Psi computation\n",
        "exiting Psi computation"
       ]
      },
      {
       "output_type": "stream",
       "stream": "stdout",
       "text": [
        "\n",
        "entering Jv computation\n",
        "exiting Jv computation"
       ]
      },
      {
       "output_type": "stream",
       "stream": "stdout",
       "text": [
        "\n",
        "Keq base =  0.535350854241\n",
        "Local Computation Water Flux Jvl =  0.160605256272\n",
        "Global Computation Water Flux Jvg =  0.160605256272\n",
        "entering MTG building\n",
        "exiting MTG building"
       ]
      },
      {
       "output_type": "stream",
       "stream": "stdout",
       "text": [
        "\n",
        "entering MTG radius setting\n",
        "exiting MTG radius setting"
       ]
      },
      {
       "output_type": "stream",
       "stream": "stdout",
       "text": [
        "\n",
        "entering MTG length setting\n",
        "exiting MTG length setting"
       ]
      },
      {
       "output_type": "stream",
       "stream": "stdout",
       "text": [
        "\n",
        "entering MTG node positionning computation\n",
        "exiting MTG node positionning computation"
       ]
      },
      {
       "output_type": "stream",
       "stream": "stdout",
       "text": [
        "\n",
        "entering surface computation\n",
        "surface (sq. meters): "
       ]
      },
      {
       "output_type": "stream",
       "stream": "stdout",
       "text": [
        " 0.00996929605626\n",
        "leaving surface computation\n",
        "entering volume computation\n",
        "volume (cube meters):  2.22638691315e-07\n",
        "leaving volume computation\n",
        "entering Keq computation"
       ]
      },
      {
       "output_type": "stream",
       "stream": "stdout",
       "text": [
        "\n",
        "exiting Keq computation"
       ]
      },
      {
       "output_type": "stream",
       "stream": "stdout",
       "text": [
        "\n",
        "entering Psi computation\n",
        "exiting Psi computation"
       ]
      },
      {
       "output_type": "stream",
       "stream": "stdout",
       "text": [
        "\n",
        "entering Jv computation\n",
        "exiting Jv computation"
       ]
      },
      {
       "output_type": "stream",
       "stream": "stdout",
       "text": [
        "\n",
        "Keq base =  0.534651556965\n",
        "Local Computation Water Flux Jvl =  0.16039546709\n",
        "Global Computation Water Flux Jvg =  0.16039546709\n",
        "entering MTG building\n",
        "exiting MTG building"
       ]
      },
      {
       "output_type": "stream",
       "stream": "stdout",
       "text": [
        "\n",
        "entering MTG radius setting\n",
        "exiting MTG radius setting"
       ]
      },
      {
       "output_type": "stream",
       "stream": "stdout",
       "text": [
        "\n",
        "entering MTG length setting\n",
        "exiting MTG length setting"
       ]
      },
      {
       "output_type": "stream",
       "stream": "stdout",
       "text": [
        "\n",
        "entering MTG node positionning computation\n",
        "exiting MTG node positionning computation"
       ]
      },
      {
       "output_type": "stream",
       "stream": "stdout",
       "text": [
        "\n",
        "entering surface computation\n",
        "surface (sq. meters): "
       ]
      },
      {
       "output_type": "stream",
       "stream": "stdout",
       "text": [
        " 0.00984955097559\n",
        "leaving surface computation\n",
        "entering volume computation\n",
        "volume (cube meters):  2.17015622124e-07\n",
        "leaving volume computation\n",
        "entering Keq computation"
       ]
      },
      {
       "output_type": "stream",
       "stream": "stdout",
       "text": [
        "\n",
        "exiting Keq computation"
       ]
      },
      {
       "output_type": "stream",
       "stream": "stdout",
       "text": [
        "\n",
        "entering Psi computation\n",
        "exiting Psi computation"
       ]
      },
      {
       "output_type": "stream",
       "stream": "stdout",
       "text": [
        "\n",
        "entering Jv computation\n",
        "exiting Jv computation"
       ]
      },
      {
       "output_type": "stream",
       "stream": "stdout",
       "text": [
        "\n",
        "Keq base =  0.516278268106\n",
        "Local Computation Water Flux Jvl =  0.154883480432\n",
        "Global Computation Water Flux Jvg =  0.154883480432\n",
        "entering MTG building\n",
        "exiting MTG building"
       ]
      },
      {
       "output_type": "stream",
       "stream": "stdout",
       "text": [
        "\n",
        "entering MTG radius setting\n",
        "exiting MTG radius setting"
       ]
      },
      {
       "output_type": "stream",
       "stream": "stdout",
       "text": [
        "\n",
        "entering MTG length setting\n",
        "exiting MTG length setting"
       ]
      },
      {
       "output_type": "stream",
       "stream": "stdout",
       "text": [
        "\n",
        "entering MTG node positionning computation\n",
        "exiting MTG node positionning computation"
       ]
      },
      {
       "output_type": "stream",
       "stream": "stdout",
       "text": [
        "\n",
        "entering surface computation\n",
        "surface (sq. meters): "
       ]
      },
      {
       "output_type": "stream",
       "stream": "stdout",
       "text": [
        " 0.0101312599199\n",
        "leaving surface computation\n",
        "entering volume computation\n",
        "volume (cube meters):  2.27183583731e-07\n",
        "leaving volume computation\n",
        "entering Keq computation"
       ]
      },
      {
       "output_type": "stream",
       "stream": "stdout",
       "text": [
        "\n",
        "exiting Keq computation"
       ]
      },
      {
       "output_type": "stream",
       "stream": "stdout",
       "text": [
        "\n",
        "entering Psi computation\n",
        "exiting Psi computation"
       ]
      },
      {
       "output_type": "stream",
       "stream": "stdout",
       "text": [
        "\n",
        "entering Jv computation\n",
        "exiting Jv computation"
       ]
      },
      {
       "output_type": "stream",
       "stream": "stdout",
       "text": [
        "\n",
        "Keq base =  0.507304443706\n",
        "Local Computation Water Flux Jvl =  0.152191333112\n",
        "Global Computation Water Flux Jvg =  0.152191333112\n",
        "entering MTG building\n",
        "exiting MTG building"
       ]
      },
      {
       "output_type": "stream",
       "stream": "stdout",
       "text": [
        "\n",
        "entering MTG radius setting\n",
        "exiting MTG radius setting"
       ]
      },
      {
       "output_type": "stream",
       "stream": "stdout",
       "text": [
        "\n",
        "entering MTG length setting\n",
        "exiting MTG length setting"
       ]
      },
      {
       "output_type": "stream",
       "stream": "stdout",
       "text": [
        "\n",
        "entering MTG node positionning computation\n",
        "exiting MTG node positionning computation"
       ]
      },
      {
       "output_type": "stream",
       "stream": "stdout",
       "text": [
        "\n",
        "entering surface computation\n",
        "surface (sq. meters):  0.00816445172708\n",
        "leaving surface computation\n",
        "entering volume computation\n",
        "volume (cube meters): "
       ]
      },
      {
       "output_type": "stream",
       "stream": "stdout",
       "text": [
        " 1.88461754419e-07\n",
        "leaving volume computation\n",
        "entering Keq computation"
       ]
      },
      {
       "output_type": "stream",
       "stream": "stdout",
       "text": [
        "\n",
        "exiting Keq computation"
       ]
      },
      {
       "output_type": "stream",
       "stream": "stdout",
       "text": [
        "\n",
        "entering Psi computation\n",
        "exiting Psi computation"
       ]
      },
      {
       "output_type": "stream",
       "stream": "stdout",
       "text": [
        "\n",
        "entering Jv computation\n",
        "exiting Jv computation"
       ]
      },
      {
       "output_type": "stream",
       "stream": "stdout",
       "text": [
        "\n",
        "Keq base =  0.492042691582\n",
        "Local Computation Water Flux Jvl =  0.147612807475\n",
        "Global Computation Water Flux Jvg =  0.147612807475\n",
        "entering MTG building\n",
        "exiting MTG building"
       ]
      },
      {
       "output_type": "stream",
       "stream": "stdout",
       "text": [
        "\n",
        "entering MTG radius setting\n",
        "exiting MTG radius setting"
       ]
      },
      {
       "output_type": "stream",
       "stream": "stdout",
       "text": [
        "\n",
        "entering MTG length setting\n",
        "exiting MTG length setting"
       ]
      },
      {
       "output_type": "stream",
       "stream": "stdout",
       "text": [
        "\n",
        "entering MTG node positionning computation\n",
        "exiting MTG node positionning computation"
       ]
      },
      {
       "output_type": "stream",
       "stream": "stdout",
       "text": [
        "\n",
        "entering surface computation\n",
        "surface (sq. meters): "
       ]
      },
      {
       "output_type": "stream",
       "stream": "stdout",
       "text": [
        " 0.00968344897155\n",
        "leaving surface computation\n",
        "entering volume computation\n",
        "volume (cube meters):  2.17261482898e-07\n",
        "leaving volume computation\n",
        "entering Keq computation"
       ]
      },
      {
       "output_type": "stream",
       "stream": "stdout",
       "text": [
        "\n",
        "exiting Keq computation"
       ]
      },
      {
       "output_type": "stream",
       "stream": "stdout",
       "text": [
        "\n",
        "entering Psi computation\n",
        "exiting Psi computation"
       ]
      },
      {
       "output_type": "stream",
       "stream": "stdout",
       "text": [
        "\n",
        "entering Jv computation\n",
        "exiting Jv computation"
       ]
      },
      {
       "output_type": "stream",
       "stream": "stdout",
       "text": [
        "\n",
        "Keq base =  0.510469283826\n",
        "Local Computation Water Flux Jvl =  0.153140785148\n",
        "Global Computation Water Flux Jvg =  0.153140785148\n",
        "entering MTG building\n",
        "exiting MTG building"
       ]
      },
      {
       "output_type": "stream",
       "stream": "stdout",
       "text": [
        "\n",
        "entering MTG radius setting\n",
        "exiting MTG radius setting"
       ]
      },
      {
       "output_type": "stream",
       "stream": "stdout",
       "text": [
        "\n",
        "entering MTG length setting\n",
        "exiting MTG length setting"
       ]
      },
      {
       "output_type": "stream",
       "stream": "stdout",
       "text": [
        "\n",
        "entering MTG node positionning computation\n",
        "exiting MTG node positionning computation"
       ]
      },
      {
       "output_type": "stream",
       "stream": "stdout",
       "text": [
        "\n",
        "entering surface computation\n",
        "surface (sq. meters): "
       ]
      },
      {
       "output_type": "stream",
       "stream": "stdout",
       "text": [
        " 0.0112260063891\n",
        "leaving surface computation\n",
        "entering volume computation\n",
        "volume (cube meters):  2.38373819675e-07\n",
        "leaving volume computation\n",
        "entering Keq computation"
       ]
      },
      {
       "output_type": "stream",
       "stream": "stdout",
       "text": [
        "\n",
        "exiting Keq computation"
       ]
      },
      {
       "output_type": "stream",
       "stream": "stdout",
       "text": [
        "\n",
        "entering Psi computation\n",
        "exiting Psi computation"
       ]
      },
      {
       "output_type": "stream",
       "stream": "stdout",
       "text": [
        "\n",
        "entering Jv computation\n",
        "exiting Jv computation"
       ]
      },
      {
       "output_type": "stream",
       "stream": "stdout",
       "text": [
        "\n",
        "Keq base =  0.532746996491\n",
        "Local Computation Water Flux Jvl =  0.159824098947\n",
        "Global Computation Water Flux Jvg =  0.159824098947\n",
        "entering MTG building\n",
        "exiting MTG building"
       ]
      },
      {
       "output_type": "stream",
       "stream": "stdout",
       "text": [
        "\n",
        "entering MTG radius setting\n",
        "exiting MTG radius setting"
       ]
      },
      {
       "output_type": "stream",
       "stream": "stdout",
       "text": [
        "\n",
        "entering MTG length setting\n",
        "exiting MTG length setting"
       ]
      },
      {
       "output_type": "stream",
       "stream": "stdout",
       "text": [
        "\n",
        "entering MTG node positionning computation\n",
        "exiting MTG node positionning computation"
       ]
      },
      {
       "output_type": "stream",
       "stream": "stdout",
       "text": [
        "\n",
        "entering surface computation\n",
        "surface (sq. meters): "
       ]
      },
      {
       "output_type": "stream",
       "stream": "stdout",
       "text": [
        " 0.0103996487815\n",
        "leaving surface computation\n",
        "entering volume computation\n",
        "volume (cube meters):  2.30498942918e-07\n",
        "leaving volume computation\n",
        "entering Keq computation"
       ]
      },
      {
       "output_type": "stream",
       "stream": "stdout",
       "text": [
        "\n",
        "exiting Keq computation"
       ]
      },
      {
       "output_type": "stream",
       "stream": "stdout",
       "text": [
        "\n",
        "entering Psi computation\n",
        "exiting Psi computation"
       ]
      },
      {
       "output_type": "stream",
       "stream": "stdout",
       "text": [
        "\n",
        "entering Jv computation\n",
        "exiting Jv computation"
       ]
      },
      {
       "output_type": "stream",
       "stream": "stdout",
       "text": [
        "\n",
        "Keq base =  0.514974824114\n",
        "Local Computation Water Flux Jvl =  0.154492447234\n",
        "Global Computation Water Flux Jvg =  0.154492447234\n",
        "entering MTG building\n",
        "exiting MTG building"
       ]
      },
      {
       "output_type": "stream",
       "stream": "stdout",
       "text": [
        "\n",
        "entering MTG radius setting\n",
        "exiting MTG radius setting"
       ]
      },
      {
       "output_type": "stream",
       "stream": "stdout",
       "text": [
        "\n",
        "entering MTG length setting\n",
        "exiting MTG length setting"
       ]
      },
      {
       "output_type": "stream",
       "stream": "stdout",
       "text": [
        "\n",
        "entering MTG node positionning computation\n",
        "exiting MTG node positionning computation"
       ]
      },
      {
       "output_type": "stream",
       "stream": "stdout",
       "text": [
        "\n",
        "entering surface computation\n",
        "surface (sq. meters): "
       ]
      },
      {
       "output_type": "stream",
       "stream": "stdout",
       "text": [
        " 0.0101407485287\n",
        "leaving surface computation\n",
        "entering volume computation\n",
        "volume (cube meters):  2.26737854533e-07\n",
        "leaving volume computation\n",
        "entering Keq computation"
       ]
      },
      {
       "output_type": "stream",
       "stream": "stdout",
       "text": [
        "\n",
        "exiting Keq computation"
       ]
      },
      {
       "output_type": "stream",
       "stream": "stdout",
       "text": [
        "\n",
        "entering Psi computation\n",
        "exiting Psi computation"
       ]
      },
      {
       "output_type": "stream",
       "stream": "stdout",
       "text": [
        "\n",
        "entering Jv computation\n",
        "exiting Jv computation"
       ]
      },
      {
       "output_type": "stream",
       "stream": "stdout",
       "text": [
        "\n",
        "Keq base =  0.520772461516\n",
        "Local Computation Water Flux Jvl =  0.156231738455\n",
        "Global Computation Water Flux Jvg =  0.156231738455\n",
        "entering MTG building\n",
        "exiting MTG building"
       ]
      },
      {
       "output_type": "stream",
       "stream": "stdout",
       "text": [
        "\n",
        "entering MTG radius setting\n",
        "exiting MTG radius setting"
       ]
      },
      {
       "output_type": "stream",
       "stream": "stdout",
       "text": [
        "\n",
        "entering MTG length setting\n",
        "exiting MTG length setting"
       ]
      },
      {
       "output_type": "stream",
       "stream": "stdout",
       "text": [
        "\n",
        "entering MTG node positionning computation\n",
        "exiting MTG node positionning computation"
       ]
      },
      {
       "output_type": "stream",
       "stream": "stdout",
       "text": [
        "\n",
        "entering surface computation\n",
        "surface (sq. meters): "
       ]
      },
      {
       "output_type": "stream",
       "stream": "stdout",
       "text": [
        " 0.0121614044899\n",
        "leaving surface computation\n",
        "entering volume computation\n",
        "volume (cube meters):  2.5601192036e-07\n",
        "leaving volume computation\n",
        "entering Keq computation"
       ]
      },
      {
       "output_type": "stream",
       "stream": "stdout",
       "text": [
        "\n",
        "exiting Keq computation"
       ]
      },
      {
       "output_type": "stream",
       "stream": "stdout",
       "text": [
        "\n",
        "entering Psi computation\n",
        "exiting Psi computation"
       ]
      },
      {
       "output_type": "stream",
       "stream": "stdout",
       "text": [
        "\n",
        "entering Jv computation\n",
        "exiting Jv computation"
       ]
      },
      {
       "output_type": "stream",
       "stream": "stdout",
       "text": [
        "\n",
        "Keq base =  0.559156329994\n",
        "Local Computation Water Flux Jvl =  0.167746898998\n",
        "Global Computation Water Flux Jvg =  0.167746898998\n",
        "entering MTG building\n",
        "exiting MTG building"
       ]
      },
      {
       "output_type": "stream",
       "stream": "stdout",
       "text": [
        "\n",
        "entering MTG radius setting\n",
        "exiting MTG radius setting"
       ]
      },
      {
       "output_type": "stream",
       "stream": "stdout",
       "text": [
        "\n",
        "entering MTG length setting\n",
        "exiting MTG length setting"
       ]
      },
      {
       "output_type": "stream",
       "stream": "stdout",
       "text": [
        "\n",
        "entering MTG node positionning computation\n",
        "exiting MTG node positionning computation"
       ]
      },
      {
       "output_type": "stream",
       "stream": "stdout",
       "text": [
        "\n",
        "entering surface computation\n",
        "surface (sq. meters):  0.00833304840701\n",
        "leaving surface computation\n",
        "entering volume computation\n",
        "volume (cube meters): "
       ]
      },
      {
       "output_type": "stream",
       "stream": "stdout",
       "text": [
        " 1.95449809545e-07\n",
        "leaving volume computation\n",
        "entering Keq computation"
       ]
      },
      {
       "output_type": "stream",
       "stream": "stdout",
       "text": [
        "\n",
        "exiting Keq computation"
       ]
      },
      {
       "output_type": "stream",
       "stream": "stdout",
       "text": [
        "\n",
        "entering Psi computation\n",
        "exiting Psi computation"
       ]
      },
      {
       "output_type": "stream",
       "stream": "stdout",
       "text": [
        "\n",
        "entering Jv computation\n",
        "exiting Jv computation"
       ]
      },
      {
       "output_type": "stream",
       "stream": "stdout",
       "text": [
        "\n",
        "Keq base =  0.50074962729\n",
        "Local Computation Water Flux Jvl =  0.150224888187\n",
        "Global Computation Water Flux Jvg =  0.150224888187\n",
        "entering MTG building\n",
        "exiting MTG building"
       ]
      },
      {
       "output_type": "stream",
       "stream": "stdout",
       "text": [
        "\n",
        "entering MTG radius setting\n",
        "exiting MTG radius setting"
       ]
      },
      {
       "output_type": "stream",
       "stream": "stdout",
       "text": [
        "\n",
        "entering MTG length setting\n",
        "exiting MTG length setting"
       ]
      },
      {
       "output_type": "stream",
       "stream": "stdout",
       "text": [
        "\n",
        "entering MTG node positionning computation\n",
        "exiting MTG node positionning computation"
       ]
      },
      {
       "output_type": "stream",
       "stream": "stdout",
       "text": [
        "\n",
        "entering surface computation\n",
        "surface (sq. meters): "
       ]
      },
      {
       "output_type": "stream",
       "stream": "stdout",
       "text": [
        " 0.010327428948\n",
        "leaving surface computation\n",
        "entering volume computation\n",
        "volume (cube meters):  2.18572839162e-07\n",
        "leaving volume computation\n",
        "entering Keq computation"
       ]
      },
      {
       "output_type": "stream",
       "stream": "stdout",
       "text": [
        "\n",
        "exiting Keq computation"
       ]
      },
      {
       "output_type": "stream",
       "stream": "stdout",
       "text": [
        "\n",
        "entering Psi computation\n",
        "exiting Psi computation"
       ]
      },
      {
       "output_type": "stream",
       "stream": "stdout",
       "text": [
        "\n",
        "entering Jv computation\n",
        "exiting Jv computation"
       ]
      },
      {
       "output_type": "stream",
       "stream": "stdout",
       "text": [
        "\n",
        "Keq base =  0.539560669992\n",
        "Local Computation Water Flux Jvl =  0.161868200998\n",
        "Global Computation Water Flux Jvg =  0.161868200998\n",
        "entering MTG building\n",
        "exiting MTG building"
       ]
      },
      {
       "output_type": "stream",
       "stream": "stdout",
       "text": [
        "\n",
        "entering MTG radius setting\n",
        "exiting MTG radius setting"
       ]
      },
      {
       "output_type": "stream",
       "stream": "stdout",
       "text": [
        "\n",
        "entering MTG length setting\n",
        "exiting MTG length setting"
       ]
      },
      {
       "output_type": "stream",
       "stream": "stdout",
       "text": [
        "\n",
        "entering MTG node positionning computation\n",
        "exiting MTG node positionning computation"
       ]
      },
      {
       "output_type": "stream",
       "stream": "stdout",
       "text": [
        "\n",
        "entering surface computation\n",
        "surface (sq. meters):  0.00739821459909\n",
        "leaving surface computation\n",
        "entering volume computation\n",
        "volume (cube meters): "
       ]
      },
      {
       "output_type": "stream",
       "stream": "stdout",
       "text": [
        " 1.70904703178e-07\n",
        "leaving volume computation\n",
        "entering Keq computation"
       ]
      },
      {
       "output_type": "stream",
       "stream": "stdout",
       "text": [
        "\n",
        "exiting Keq computation"
       ]
      },
      {
       "output_type": "stream",
       "stream": "stdout",
       "text": [
        "\n",
        "entering Psi computation\n",
        "exiting Psi computation"
       ]
      },
      {
       "output_type": "stream",
       "stream": "stdout",
       "text": [
        "\n",
        "entering Jv computation\n",
        "exiting Jv computation"
       ]
      },
      {
       "output_type": "stream",
       "stream": "stdout",
       "text": [
        "\n",
        "Keq base =  0.469515828325\n",
        "Local Computation Water Flux Jvl =  0.140854748498\n",
        "Global Computation Water Flux Jvg =  0.140854748498\n",
        "entering MTG building\n",
        "exiting MTG building"
       ]
      },
      {
       "output_type": "stream",
       "stream": "stdout",
       "text": [
        "\n",
        "entering MTG radius setting\n",
        "exiting MTG radius setting"
       ]
      },
      {
       "output_type": "stream",
       "stream": "stdout",
       "text": [
        "\n",
        "entering MTG length setting\n",
        "exiting MTG length setting"
       ]
      },
      {
       "output_type": "stream",
       "stream": "stdout",
       "text": [
        "\n",
        "entering MTG node positionning computation\n",
        "exiting MTG node positionning computation"
       ]
      },
      {
       "output_type": "stream",
       "stream": "stdout",
       "text": [
        "\n",
        "entering surface computation\n",
        "surface (sq. meters):  0.00801541573398\n",
        "leaving surface computation\n",
        "entering volume computation\n",
        "volume (cube meters): "
       ]
      },
      {
       "output_type": "stream",
       "stream": "stdout",
       "text": [
        " 1.88357835412e-07\n",
        "leaving volume computation\n",
        "entering Keq computation"
       ]
      },
      {
       "output_type": "stream",
       "stream": "stdout",
       "text": [
        "\n",
        "exiting Keq computation"
       ]
      },
      {
       "output_type": "stream",
       "stream": "stdout",
       "text": [
        "\n",
        "entering Psi computation\n",
        "exiting Psi computation"
       ]
      },
      {
       "output_type": "stream",
       "stream": "stdout",
       "text": [
        "\n",
        "entering Jv computation\n",
        "exiting Jv computation"
       ]
      },
      {
       "output_type": "stream",
       "stream": "stdout",
       "text": [
        "\n",
        "Keq base =  0.492038469065\n",
        "Local Computation Water Flux Jvl =  0.147611540719\n",
        "Global Computation Water Flux Jvg =  0.147611540719\n",
        "entering MTG building\n",
        "exiting MTG building"
       ]
      },
      {
       "output_type": "stream",
       "stream": "stdout",
       "text": [
        "\n",
        "entering MTG radius setting\n",
        "exiting MTG radius setting"
       ]
      },
      {
       "output_type": "stream",
       "stream": "stdout",
       "text": [
        "\n",
        "entering MTG length setting\n",
        "exiting MTG length setting"
       ]
      },
      {
       "output_type": "stream",
       "stream": "stdout",
       "text": [
        "\n",
        "entering MTG node positionning computation\n",
        "exiting MTG node positionning computation"
       ]
      },
      {
       "output_type": "stream",
       "stream": "stdout",
       "text": [
        "\n",
        "entering surface computation\n",
        "surface (sq. meters):  0.00561015079176\n",
        "leaving surface computation\n",
        "entering volume computation\n",
        "volume (cube meters):  1.40609537517e-07\n",
        "leaving volume computation\n",
        "entering Keq computation"
       ]
      },
      {
       "output_type": "stream",
       "stream": "stdout",
       "text": [
        "\n",
        "exiting Keq computation"
       ]
      },
      {
       "output_type": "stream",
       "stream": "stdout",
       "text": [
        "\n",
        "entering Psi computation\n",
        "exiting Psi computation"
       ]
      },
      {
       "output_type": "stream",
       "stream": "stdout",
       "text": [
        "\n",
        "entering Jv computation\n",
        "exiting Jv computation"
       ]
      },
      {
       "output_type": "stream",
       "stream": "stdout",
       "text": [
        "\n",
        "Keq base =  0.438426765454\n",
        "Local Computation Water Flux Jvl =  0.131528029636\n",
        "Global Computation Water Flux Jvg =  0.131528029636\n",
        "entering MTG building\n",
        "exiting MTG building"
       ]
      },
      {
       "output_type": "stream",
       "stream": "stdout",
       "text": [
        "\n",
        "entering MTG radius setting\n",
        "exiting MTG radius setting"
       ]
      },
      {
       "output_type": "stream",
       "stream": "stdout",
       "text": [
        "\n",
        "entering MTG length setting\n",
        "exiting MTG length setting"
       ]
      },
      {
       "output_type": "stream",
       "stream": "stdout",
       "text": [
        "\n",
        "entering MTG node positionning computation\n",
        "exiting MTG node positionning computation"
       ]
      },
      {
       "output_type": "stream",
       "stream": "stdout",
       "text": [
        "\n",
        "entering surface computation\n",
        "surface (sq. meters):  0.00744443095504\n",
        "leaving surface computation\n",
        "entering volume computation\n",
        "volume (cube meters): "
       ]
      },
      {
       "output_type": "stream",
       "stream": "stdout",
       "text": [
        " 1.76355242636e-07\n",
        "leaving volume computation\n",
        "entering Keq computation"
       ]
      },
      {
       "output_type": "stream",
       "stream": "stdout",
       "text": [
        "\n",
        "exiting Keq computation"
       ]
      },
      {
       "output_type": "stream",
       "stream": "stdout",
       "text": [
        "\n",
        "entering Psi computation\n",
        "exiting Psi computation"
       ]
      },
      {
       "output_type": "stream",
       "stream": "stdout",
       "text": [
        "\n",
        "entering Jv computation\n",
        "exiting Jv computation"
       ]
      },
      {
       "output_type": "stream",
       "stream": "stdout",
       "text": [
        "\n",
        "Keq base =  0.490387522236\n",
        "Local Computation Water Flux Jvl =  0.147116256671\n",
        "Global Computation Water Flux Jvg =  0.147116256671\n",
        "entering MTG building\n",
        "exiting MTG building"
       ]
      },
      {
       "output_type": "stream",
       "stream": "stdout",
       "text": [
        "\n",
        "entering MTG radius setting\n",
        "exiting MTG radius setting"
       ]
      },
      {
       "output_type": "stream",
       "stream": "stdout",
       "text": [
        "\n",
        "entering MTG length setting\n",
        "exiting MTG length setting"
       ]
      },
      {
       "output_type": "stream",
       "stream": "stdout",
       "text": [
        "\n",
        "entering MTG node positionning computation\n",
        "exiting MTG node positionning computation"
       ]
      },
      {
       "output_type": "stream",
       "stream": "stdout",
       "text": [
        "\n",
        "entering surface computation\n",
        "surface (sq. meters):  0.0083652179388\n",
        "leaving surface computation\n",
        "entering volume computation\n",
        "volume (cube meters): "
       ]
      },
      {
       "output_type": "stream",
       "stream": "stdout",
       "text": [
        " 1.95807558872e-07\n",
        "leaving volume computation\n",
        "entering Keq computation"
       ]
      },
      {
       "output_type": "stream",
       "stream": "stdout",
       "text": [
        "\n",
        "exiting Keq computation"
       ]
      },
      {
       "output_type": "stream",
       "stream": "stdout",
       "text": [
        "\n",
        "entering Psi computation\n",
        "exiting Psi computation"
       ]
      },
      {
       "output_type": "stream",
       "stream": "stdout",
       "text": [
        "\n",
        "entering Jv computation\n",
        "exiting Jv computation"
       ]
      },
      {
       "output_type": "stream",
       "stream": "stdout",
       "text": [
        "\n",
        "Keq base =  0.496420793038\n",
        "Local Computation Water Flux Jvl =  0.148926237911\n",
        "Global Computation Water Flux Jvg =  0.148926237911\n",
        "entering MTG building\n",
        "exiting MTG building"
       ]
      },
      {
       "output_type": "stream",
       "stream": "stdout",
       "text": [
        "\n",
        "entering MTG radius setting\n",
        "exiting MTG radius setting"
       ]
      },
      {
       "output_type": "stream",
       "stream": "stdout",
       "text": [
        "\n",
        "entering MTG length setting\n",
        "exiting MTG length setting"
       ]
      },
      {
       "output_type": "stream",
       "stream": "stdout",
       "text": [
        "\n",
        "entering MTG node positionning computation\n",
        "exiting MTG node positionning computation"
       ]
      },
      {
       "output_type": "stream",
       "stream": "stdout",
       "text": [
        "\n",
        "entering surface computation\n",
        "surface (sq. meters):  0.0095726787425\n",
        "leaving surface computation\n",
        "entering volume computation\n",
        "volume (cube meters): "
       ]
      },
      {
       "output_type": "stream",
       "stream": "stdout",
       "text": [
        " 2.10927273721e-07\n",
        "leaving volume computation\n",
        "entering Keq computation"
       ]
      },
      {
       "output_type": "stream",
       "stream": "stdout",
       "text": [
        "\n",
        "exiting Keq computation"
       ]
      },
      {
       "output_type": "stream",
       "stream": "stdout",
       "text": [
        "\n",
        "entering Psi computation\n",
        "exiting Psi computation"
       ]
      },
      {
       "output_type": "stream",
       "stream": "stdout",
       "text": [
        "\n",
        "entering Jv computation\n",
        "exiting Jv computation"
       ]
      },
      {
       "output_type": "stream",
       "stream": "stdout",
       "text": [
        "\n",
        "Keq base =  0.522648067063\n",
        "Local Computation Water Flux Jvl =  0.156794420119\n",
        "Global Computation Water Flux Jvg =  0.156794420119\n",
        "entering MTG building\n",
        "exiting MTG building"
       ]
      },
      {
       "output_type": "stream",
       "stream": "stdout",
       "text": [
        "\n",
        "entering MTG radius setting\n",
        "exiting MTG radius setting"
       ]
      },
      {
       "output_type": "stream",
       "stream": "stdout",
       "text": [
        "\n",
        "entering MTG length setting\n",
        "exiting MTG length setting"
       ]
      },
      {
       "output_type": "stream",
       "stream": "stdout",
       "text": [
        "\n",
        "entering MTG node positionning computation\n",
        "exiting MTG node positionning computation"
       ]
      },
      {
       "output_type": "stream",
       "stream": "stdout",
       "text": [
        "\n",
        "entering surface computation\n",
        "surface (sq. meters): "
       ]
      },
      {
       "output_type": "stream",
       "stream": "stdout",
       "text": [
        " 0.0100071971851\n",
        "leaving surface computation\n",
        "entering volume computation\n",
        "volume (cube meters):  2.212736624e-07\n",
        "leaving volume computation\n",
        "entering Keq computation"
       ]
      },
      {
       "output_type": "stream",
       "stream": "stdout",
       "text": [
        "\n",
        "exiting Keq computation"
       ]
      },
      {
       "output_type": "stream",
       "stream": "stdout",
       "text": [
        "\n",
        "entering Psi computation\n",
        "exiting Psi computation"
       ]
      },
      {
       "output_type": "stream",
       "stream": "stdout",
       "text": [
        "\n",
        "entering Jv computation\n",
        "exiting Jv computation"
       ]
      },
      {
       "output_type": "stream",
       "stream": "stdout",
       "text": [
        "\n",
        "Keq base =  0.527582347549\n",
        "Local Computation Water Flux Jvl =  0.158274704265\n",
        "Global Computation Water Flux Jvg =  0.158274704265\n",
        "entering MTG building\n",
        "exiting MTG building"
       ]
      },
      {
       "output_type": "stream",
       "stream": "stdout",
       "text": [
        "\n",
        "entering MTG radius setting\n",
        "exiting MTG radius setting"
       ]
      },
      {
       "output_type": "stream",
       "stream": "stdout",
       "text": [
        "\n",
        "entering MTG length setting\n",
        "exiting MTG length setting"
       ]
      },
      {
       "output_type": "stream",
       "stream": "stdout",
       "text": [
        "\n",
        "entering MTG node positionning computation\n",
        "exiting MTG node positionning computation"
       ]
      },
      {
       "output_type": "stream",
       "stream": "stdout",
       "text": [
        "\n",
        "entering surface computation\n",
        "surface (sq. meters): "
       ]
      },
      {
       "output_type": "stream",
       "stream": "stdout",
       "text": [
        " 0.0179509462006\n",
        "leaving surface computation\n",
        "entering volume computation\n",
        "volume (cube meters): "
       ]
      },
      {
       "output_type": "stream",
       "stream": "stdout",
       "text": [
        " 3.46336739526e-07\n",
        "leaving volume computation\n",
        "entering Keq computation"
       ]
      },
      {
       "output_type": "stream",
       "stream": "stdout",
       "text": [
        "\n",
        "exiting Keq computation"
       ]
      },
      {
       "output_type": "stream",
       "stream": "stdout",
       "text": [
        "\n",
        "entering Psi computation\n",
        "exiting Psi computation"
       ]
      },
      {
       "output_type": "stream",
       "stream": "stdout",
       "text": [
        "\n",
        "entering Jv computation\n",
        "exiting Jv computation"
       ]
      },
      {
       "output_type": "stream",
       "stream": "stdout",
       "text": [
        "\n",
        "Keq base =  0.592303168525\n",
        "Local Computation Water Flux Jvl =  0.177690950558\n",
        "Global Computation Water Flux Jvg =  0.177690950558\n",
        "entering MTG building\n",
        "exiting MTG building"
       ]
      },
      {
       "output_type": "stream",
       "stream": "stdout",
       "text": [
        "\n",
        "entering MTG radius setting\n",
        "exiting MTG radius setting"
       ]
      },
      {
       "output_type": "stream",
       "stream": "stdout",
       "text": [
        "\n",
        "entering MTG length setting\n",
        "exiting MTG length setting"
       ]
      },
      {
       "output_type": "stream",
       "stream": "stdout",
       "text": [
        "\n",
        "entering MTG node positionning computation\n",
        "exiting MTG node positionning computation"
       ]
      },
      {
       "output_type": "stream",
       "stream": "stdout",
       "text": [
        "\n",
        "entering surface computation\n",
        "surface (sq. meters): "
       ]
      },
      {
       "output_type": "stream",
       "stream": "stdout",
       "text": [
        " 0.00922946523974\n",
        "leaving surface computation\n",
        "entering volume computation\n",
        "volume (cube meters):  2.08159612182e-07\n",
        "leaving volume computation\n",
        "entering Keq computation"
       ]
      },
      {
       "output_type": "stream",
       "stream": "stdout",
       "text": [
        "\n",
        "exiting Keq computation"
       ]
      },
      {
       "output_type": "stream",
       "stream": "stdout",
       "text": [
        "\n",
        "entering Psi computation\n",
        "exiting Psi computation"
       ]
      },
      {
       "output_type": "stream",
       "stream": "stdout",
       "text": [
        "\n",
        "entering Jv computation\n",
        "exiting Jv computation"
       ]
      },
      {
       "output_type": "stream",
       "stream": "stdout",
       "text": [
        "\n",
        "Keq base =  0.515954238569\n",
        "Local Computation Water Flux Jvl =  0.154786271571\n",
        "Global Computation Water Flux Jvg =  0.154786271571\n",
        "entering MTG building"
       ]
      },
      {
       "output_type": "stream",
       "stream": "stdout",
       "text": [
        "\n",
        "exiting MTG building"
       ]
      },
      {
       "output_type": "stream",
       "stream": "stdout",
       "text": [
        "\n",
        "entering MTG radius setting\n",
        "exiting MTG radius setting"
       ]
      },
      {
       "output_type": "stream",
       "stream": "stdout",
       "text": [
        "\n",
        "entering MTG length setting\n",
        "exiting MTG length setting"
       ]
      },
      {
       "output_type": "stream",
       "stream": "stdout",
       "text": [
        "\n",
        "entering MTG node positionning computation\n",
        "exiting MTG node positionning computation"
       ]
      },
      {
       "output_type": "stream",
       "stream": "stdout",
       "text": [
        "\n",
        "entering surface computation\n",
        "surface (sq. meters):  0.00501207049874\n",
        "leaving surface computation\n",
        "entering volume computation\n",
        "volume (cube meters):  1.29529276799e-07\n",
        "leaving volume computation\n",
        "entering Keq computation"
       ]
      },
      {
       "output_type": "stream",
       "stream": "stdout",
       "text": [
        "\n",
        "exiting Keq computation"
       ]
      },
      {
       "output_type": "stream",
       "stream": "stdout",
       "text": [
        "\n",
        "entering Psi computation\n",
        "exiting Psi computation"
       ]
      },
      {
       "output_type": "stream",
       "stream": "stdout",
       "text": [
        "\n",
        "entering Jv computation\n",
        "exiting Jv computation"
       ]
      },
      {
       "output_type": "stream",
       "stream": "stdout",
       "text": [
        "\n",
        "Keq base =  0.42144622208\n",
        "Local Computation Water Flux Jvl =  0.126433866624\n",
        "Global Computation Water Flux Jvg =  0.126433866624\n",
        "entering MTG building\n",
        "exiting MTG building"
       ]
      },
      {
       "output_type": "stream",
       "stream": "stdout",
       "text": [
        "\n",
        "entering MTG radius setting\n",
        "exiting MTG radius setting"
       ]
      },
      {
       "output_type": "stream",
       "stream": "stdout",
       "text": [
        "\n",
        "entering MTG length setting\n",
        "exiting MTG length setting"
       ]
      },
      {
       "output_type": "stream",
       "stream": "stdout",
       "text": [
        "\n",
        "entering MTG node positionning computation\n",
        "exiting MTG node positionning computation"
       ]
      },
      {
       "output_type": "stream",
       "stream": "stdout",
       "text": [
        "\n",
        "entering surface computation\n",
        "surface (sq. meters): "
       ]
      },
      {
       "output_type": "stream",
       "stream": "stdout",
       "text": [
        " 0.0145211447637\n",
        "leaving surface computation\n",
        "entering volume computation\n",
        "volume (cube meters): "
       ]
      },
      {
       "output_type": "stream",
       "stream": "stdout",
       "text": [
        " 2.99896634663e-07\n",
        "leaving volume computation\n",
        "entering Keq computation"
       ]
      },
      {
       "output_type": "stream",
       "stream": "stdout",
       "text": [
        "\n",
        "exiting Keq computation"
       ]
      },
      {
       "output_type": "stream",
       "stream": "stdout",
       "text": [
        "\n",
        "entering Psi computation\n",
        "exiting Psi computation"
       ]
      },
      {
       "output_type": "stream",
       "stream": "stdout",
       "text": [
        "\n",
        "entering Jv computation\n",
        "exiting Jv computation"
       ]
      },
      {
       "output_type": "stream",
       "stream": "stdout",
       "text": [
        "\n",
        "Keq base =  0.578116302062\n",
        "Local Computation Water Flux Jvl =  0.173434890619\n",
        "Global Computation Water Flux Jvg =  0.173434890619\n"
       ]
      }
     ],
     "prompt_number": 14
    },
    {
     "cell_type": "code",
     "collapsed": false,
     "input": [
      "res"
     ],
     "language": "python",
     "metadata": {},
     "outputs": [
      {
       "metadata": {},
       "output_type": "pyout",
       "prompt_number": 15,
       "text": [
        "[(0.48606462313020043, 0.14581938693906016),\n",
        " (0.47352002938713472, 0.14205600881614044),\n",
        " (0.53535085424113305, 0.16060525627233993),\n",
        " (0.53465155696525934, 0.16039546708957783),\n",
        " (0.51627826810624367, 0.15488348043187311),\n",
        " (0.50730444370620498, 0.1521913331118615),\n",
        " (0.49204269158229863, 0.14761280747468961),\n",
        " (0.51046928382590473, 0.15314078514777144),\n",
        " (0.53274699649145241, 0.15982409894743574),\n",
        " (0.51497482411438955, 0.15449244723431688),\n",
        " (0.52077246151601553, 0.15623173845480468),\n",
        " (0.55915632999381459, 0.16774689899814441),\n",
        " (0.50074962728969064, 0.15022488818690721),\n",
        " (0.53956066999214392, 0.16186820099764321),\n",
        " (0.46951582832544031, 0.1408547484976321),\n",
        " (0.492038469064569, 0.14761154071937072),\n",
        " (0.43842676545429243, 0.13152802963628776),\n",
        " (0.49038752223611204, 0.14711625667083364),\n",
        " (0.49642079303775954, 0.14892623791132789),\n",
        " (0.52264806706278755, 0.15679442011883629),\n",
        " (0.52758234754875843, 0.15827470426462756),\n",
        " (0.59230316852519083, 0.17769095055755726),\n",
        " (0.51595423856908873, 0.15478627157072664),\n",
        " (0.4214462220804715, 0.12643386662414147),\n",
        " (0.57811630206213271, 0.17343489061863984)]"
       ]
      }
     ],
     "prompt_number": 15
    },
    {
     "cell_type": "code",
     "collapsed": false,
     "input": [],
     "language": "python",
     "metadata": {},
     "outputs": []
    }
   ],
   "metadata": {}
  }
 ]
}