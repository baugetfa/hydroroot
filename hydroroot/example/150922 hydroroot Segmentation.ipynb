{
 "metadata": {
  "name": "",
  "signature": "sha256:a16322213e77f513312f4605f1edb3449739b165f35d08fa7c4b736986813c1d"
 },
 "nbformat": 3,
 "nbformat_minor": 0,
 "worksheets": [
  {
   "cells": [
    {
     "cell_type": "heading",
     "level": 1,
     "metadata": {},
     "source": [
      "Architectural Analysis"
     ]
    },
    {
     "cell_type": "heading",
     "level": 2,
     "metadata": {},
     "source": [
      "Imports"
     ]
    },
    {
     "cell_type": "code",
     "collapsed": false,
     "input": [
      "#from vpltkdisplay import *\n",
      "\n",
      "%matplotlib inline\n",
      "from pylab import plot, hist\n",
      "%gui qt"
     ],
     "language": "python",
     "metadata": {},
     "outputs": [],
     "prompt_number": 25
    },
    {
     "cell_type": "heading",
     "level": 2,
     "metadata": {},
     "source": [
      "Data for the different genotypes"
     ]
    },
    {
     "cell_type": "code",
     "collapsed": false,
     "input": [
      "import numpy as np\n",
      "\n",
      "length_data = [0., 0.03, 0.05, 0.16], [0., 0., 0.01, 0.13]\n",
      "\n",
      "def radial(v=300):\n",
      "    xr = [0., 0.015, 0.03, 0.045, 0.06, 0.075, 0.09, 0.105, 0.135, 0.15, 0.16]\n",
      "    yr = [v]*len(xr)\n",
      "    return xr, yr\n",
      "\n",
      "# radial\n",
      "r = {}\n",
      "r['col'] = radial(300)\n",
      "r['pip2122'] = radial(239)\n",
      "r['esk11'] = radial(373)\n",
      "r['esk15'] = radial(518)\n",
      "r['irx34'] = radial(300)"
     ],
     "language": "python",
     "metadata": {},
     "outputs": [],
     "prompt_number": 26
    },
    {
     "cell_type": "heading",
     "level": 1,
     "metadata": {},
     "source": [
      "Axial Conductivity for different genotypes"
     ]
    },
    {
     "cell_type": "code",
     "collapsed": false,
     "input": [
      "# axial\n",
      "a={}\n",
      "a['col'] = (\n",
      "    [0., 0.03,  0.06, 0.09, 0.12, 0.15, 0.18], \n",
      "    [2.9e-4, 34.8e-4, 147.4e-4, 200.3e-4,292.6e-4,262.5e-4,511.1e-4]\n",
      ")\n",
      "\n",
      "a['esk11'] = (\n",
      "    [0., 0.03,  0.06, 0.09, 0.12], \n",
      "    [2.3e-4, 15.9e-4, 158.9e-4, 216.4e-4,192.e-4]\n",
      ")\n",
      "\n",
      "a['esk15'] = (\n",
      "    [0., 0.03,  0.06, 0.09, 0.12, 0.15], \n",
      "    [0.7e-4, 3.9e-4, 168.8e-4, 220.5e-4,239.3e-4, 219.5e-4]\n",
      ")\n",
      "\n",
      "a['irx34'] = (\n",
      "    [0., 0.03,  0.06, 0.09, 0.12], \n",
      "    [5.2e-4, 11.4e-4, 19.8e-4, 119.6e-4,359.9e-4]\n",
      ")\n",
      "\n",
      "a['pip2122'] = a['col']"
     ],
     "language": "python",
     "metadata": {},
     "outputs": [],
     "prompt_number": 27
    },
    {
     "cell_type": "heading",
     "level": 1,
     "metadata": {},
     "source": [
      "Root length"
     ]
    },
    {
     "cell_type": "code",
     "collapsed": false,
     "input": [
      "# length\n",
      "l={}\n",
      "nn={}\n",
      "l['col'] = [0., 0.03, 0.05, 0.16], [0., 0., 0.01, 0.13]\n",
      "#nn['col'] = 0.1150 #a ne place ici que si on ne le d\u00e9finit pas dans la cellule dessous\n",
      "\n",
      "l['esk11'] = [0., 0.02, 0.05, 0.09, 0.13], [0., 0., 0.001, 0.045, 0.089]\n",
      "nn['esk11'] = 0.1050\n",
      "\n",
      "l['esk15'] = [0., 0.02, 0.08, 0.10, 0.16], [0., 0., 0.005, 0.02, 0.065]\n",
      "nn['esk15'] = 0.1467 \n",
      "\n",
      "l['irx34'] = [0., 0.02, 0.05, 0.09, 0.13], [0., 0., 0.005, 0.03, 0.055]\n",
      "nn['irx34'] = 0.1200\n",
      "\n",
      "l['pip2122'] = l['col']\n",
      "nn['pip2122'] = 0.1500\n",
      "\n",
      "#length_data = l['col']\n",
      "#n = nn['col']\n",
      "\n",
      "xx, yy = l['col']\n",
      "plot(xx, yy)\n"
     ],
     "language": "python",
     "metadata": {},
     "outputs": [
      {
       "metadata": {},
       "output_type": "pyout",
       "prompt_number": 28,
       "text": [
        "[<matplotlib.lines.Line2D at 0x109d07a50>]"
       ]
      },
      {
       "metadata": {},
       "output_type": "display_data",
       "png": "[encoded data removed]",
       "text": [
        "<matplotlib.figure.Figure at 0x112fbd0d0>"
       ]
      }
     ],
     "prompt_number": 28
    },
    {
     "cell_type": "code",
     "collapsed": false,
     "input": [
      "#d\u00e9finition des lois de longueurs m\u00e9dianes, hautes et basses\n",
      "n = nn['col'] = 0.120\n",
      "\n",
      "l['median'] = ([nn['col']*x/100. for x in range(0,101,5)],\n",
      "            [0.0, 0., 0., 0.00032, 0.000835, 0.00076, 0.002665, 0.003825, 0.006775, \n",
      "             0.00907, 0.01282, 0.01193, 0.01129, 0.010465, 0.015035, 0.01016, 0.016275, \n",
      "             0.01536, 0.05308, 0.07251,0.07971])\n",
      "l['low']= ([nn['col']*x/100. for x in range(0,101,5)],\n",
      "            [0.0, 0., 0., 0.00032, 0.00032, 0.000515, 0.002252, 0.001312, 0.003844, \n",
      "             0.006908, 0.005966, 0.00089, 0.001751, 0.001921, 0.002584, 0.003325, 0.005306, \n",
      "             0.009524, 0.046133, 0.056527,0.074152])\n",
      "l['high']= ([nn['col']*x/100. for x in range(0,101,5)],\n",
      "            [0.0, 0., 0., 0.00032, 0.001465, 0.0012, 0.003725, 0.007105, 0.01336, \n",
      "             0.009486, 0.02051, 0.022757, 0.023004, 0.027506, 0.0215, 0.02938, 0.039895, \n",
      "             0.050636, 0.062388, 0.07646,0.09448])\n",
      "\n",
      "xx, yy = l['median']\n",
      "plot(xx,yy)"
     ],
     "language": "python",
     "metadata": {},
     "outputs": [
      {
       "metadata": {},
       "output_type": "pyout",
       "prompt_number": 29,
       "text": [
        "[<matplotlib.lines.Line2D at 0x109d22d50>]"
       ]
      },
      {
       "metadata": {},
       "output_type": "display_data",
       "png": "[encoded data removed]",
       "text": [
        "<matplotlib.figure.Figure at 0x109c07050>"
       ]
      }
     ],
     "prompt_number": 29
    },
    {
     "cell_type": "heading",
     "level": 1,
     "metadata": {},
     "source": [
      "Hydroroot model"
     ]
    },
    {
     "cell_type": "markdown",
     "metadata": {},
     "source": [
      "TODO\n",
      "====\n",
      "  - Explicit all the parameters to avoid any side effect\n"
     ]
    },
    {
     "cell_type": "code",
     "collapsed": false,
     "input": [
      "from hydroroot.main import hydroroot \n",
      "\n",
      "mtgs = []\n",
      "for genotype in ['col',]:# 'esk11', 'esk15']:#, 'irx34', 'pip2122']:\n",
      "    length_data = l['median']\n",
      "    axial_conductivity_data = a[genotype]\n",
      "    radial_conductivity_data = r[genotype]\n",
      "    n = nn[genotype]\n",
      "    for n in (n,):\n",
      "        seed = 4\n",
      "        g, surface, volume, Keq, Jv_global = hydroroot(\n",
      "        seed=seed,\n",
      "        primary_length = n,\n",
      "        length_data=length_data, \n",
      "        axial_conductivity_data=axial_conductivity_data, \n",
      "        radial_conductivity_data=radial_conductivity_data,\n",
      "        nude_length = 0.02,\n",
      "        )\n",
      "        mtgs.append(g)\n",
      "        print genotype, 'volume:', volume,'Keq:', Keq, 'Jv:', Jv_global, Jv_global/volume\n"
     ],
     "language": "python",
     "metadata": {},
     "outputs": [
      {
       "output_type": "stream",
       "stream": "stdout",
       "text": [
        "col volume: 1.87286401044e-08 Keq: 0.142175085543 Jv: 0.0426525256629 2277395.76527\n"
       ]
      }
     ],
     "prompt_number": 30
    },
    {
     "cell_type": "code",
     "collapsed": false,
     "input": [
      "from hydroroot import display as dis"
     ],
     "language": "python",
     "metadata": {},
     "outputs": [],
     "prompt_number": 31
    },
    {
     "cell_type": "heading",
     "level": 3,
     "metadata": {},
     "source": [
      "Display the RSA that has been computed"
     ]
    },
    {
     "cell_type": "code",
     "collapsed": false,
     "input": [
      "#%gui qt\n",
      "from openalea.plantgl.all import *\n",
      "#for g in mtgs:\n",
      "scene = dis.plot(mtgs[0], r_base=1e-4, r_tip=5e-5, prop_cmap='j', lognorm=False)\n",
      "    #display(PlantGL(scene))\n",
      "Viewer.display(scene)"
     ],
     "language": "python",
     "metadata": {},
     "outputs": [],
     "prompt_number": 32
    },
    {
     "cell_type": "heading",
     "level": 2,
     "metadata": {},
     "source": [
      "Compute the length on the simulated MTG"
     ]
    },
    {
     "cell_type": "code",
     "collapsed": false,
     "input": [
      "from openalea.mtg import algo\n",
      "\n",
      "# g is the col RSA\n",
      "g = mtgs[0]\n",
      "orders = algo.orders(g)\n",
      "\n",
      "# l is the set of vertices at the segment scale\n",
      "# l = g.vertices(scale=g.max_scale())\n"
     ],
     "language": "python",
     "metadata": {},
     "outputs": [],
     "prompt_number": 33
    },
    {
     "cell_type": "heading",
     "level": 2,
     "metadata": {},
     "source": [
      "Compute the cumulated length for each segment of the RSA "
     ]
    },
    {
     "cell_type": "code",
     "collapsed": false,
     "input": [
      "#g0, g1, g2, g3, g4 = mtgs\n",
      "g, = mtgs\n",
      "from openalea.mtg.traversal import pre_order2\n",
      "length= {}\n",
      "root = 1\n",
      "dl = 1.e-4\n",
      "for v in pre_order2(g,1):\n",
      "    pid = g.parent(v)\n",
      "    length[v] = length[pid]+dl if pid else dl\n",
      "\n",
      "def nb_root(l):\n",
      "    count = 0\n",
      "    for v in g:\n",
      "        pid = g.parent(v)\n",
      "        if pid and (length[pid] <= l <= length[v]):\n",
      "            count+=1\n",
      "    return count"
     ],
     "language": "python",
     "metadata": {},
     "outputs": [],
     "prompt_number": 34
    },
    {
     "cell_type": "code",
     "collapsed": false,
     "input": [
      "# print the length of the RSA\n",
      "max(length.values())\n"
     ],
     "language": "python",
     "metadata": {},
     "outputs": [
      {
       "metadata": {},
       "output_type": "pyout",
       "prompt_number": 11,
       "text": [
        "0.12000000000000241"
       ]
      }
     ],
     "prompt_number": 11
    },
    {
     "cell_type": "heading",
     "level": 2,
     "metadata": {},
     "source": [
      "Select all the segment at a given length"
     ]
    },
    {
     "cell_type": "code",
     "collapsed": false,
     "input": [
      "dist = (0.045, 0.055, 0.095, 0.105)\n",
      "intercepts = map(nb_root, dist)\n",
      "print intercepts"
     ],
     "language": "python",
     "metadata": {},
     "outputs": [
      {
       "output_type": "stream",
       "stream": "stdout",
       "text": [
        "[17, 11, 1, 1]\n"
       ]
      }
     ],
     "prompt_number": 12
    },
    {
     "cell_type": "code",
     "collapsed": false,
     "input": [
      "hist(x=length.values())\n",
      "#plot(hist(l))"
     ],
     "language": "python",
     "metadata": {},
     "outputs": [
      {
       "metadata": {},
       "output_type": "pyout",
       "prompt_number": 13,
       "text": [
        "(array([  797.,  3694.,  3046.,  2015.,  1510.,  1131.,   538.,   228.,\n",
        "          140.,   120.]),\n",
        " array([  1.00000000e-04,   1.20900000e-02,   2.40800000e-02,\n",
        "          3.60700000e-02,   4.80600000e-02,   6.00500000e-02,\n",
        "          7.20400000e-02,   8.40300000e-02,   9.60200000e-02,\n",
        "          1.08010000e-01,   1.20000000e-01]),\n",
        " <a list of 10 Patch objects>)"
       ]
      },
      {
       "metadata": {},
       "output_type": "display_data",
       "png": "[encoded data removed]",
       "text": [
        "<matplotlib.figure.Figure at 0x1132d3d90>"
       ]
      }
     ],
     "prompt_number": 13
    },
    {
     "cell_type": "code",
     "collapsed": false,
     "input": [
      "# print the histogram of radius\n",
      "hist(x=g.property('radius').values(),bins=15)"
     ],
     "language": "python",
     "metadata": {},
     "outputs": [
      {
       "metadata": {},
       "output_type": "pyout",
       "prompt_number": 14,
       "text": [
        "(array([ 6936.,  2489.,   756.,   682.,   595.,   449.,   400.,   334.,\n",
        "           98.,    80.,    80.,    80.,    80.,    80.,    80.]),\n",
        " array([  5.00000000e-05,   5.33333333e-05,   5.66666667e-05,\n",
        "          6.00000000e-05,   6.33333333e-05,   6.66666667e-05,\n",
        "          7.00000000e-05,   7.33333333e-05,   7.66666667e-05,\n",
        "          8.00000000e-05,   8.33333333e-05,   8.66666667e-05,\n",
        "          9.00000000e-05,   9.33333333e-05,   9.66666667e-05,\n",
        "          1.00000000e-04]),\n",
        " <a list of 15 Patch objects>)"
       ]
      },
      {
       "metadata": {},
       "output_type": "display_data",
       "png": "[encoded data removed]",
       "text": [
        "<matplotlib.figure.Figure at 0x1135274d0>"
       ]
      }
     ],
     "prompt_number": 14
    },
    {
     "cell_type": "code",
     "collapsed": false,
     "input": [
      "from hydroroot.main import hydroroot \n",
      "\n",
      "print 'Kaxfold', 'Kradfold','Jv'\n",
      "mtgs = []\n",
      "zz = {}\n",
      "for intensity in ('low', 'median', 'high'):\n",
      "    zz[intensity] = np.ones(shape=(13,13),dtype=float)\n",
      "    index_i = -1\n",
      "    index_j = -1\n",
      "    for axfold in (1,2,3,4,6,8,10,12,14,16,18,20,25):\n",
      "        length_data = l[intensity]\n",
      "        a['col']=(a['col'][0], [i*axfold*1. for i in a['col'][1]]) \n",
      "        axial_conductivity_data = a['col']\n",
      "        index_i += 1\n",
      "        index_j = -1\n",
      "        for radfold in (1,2,3,4,6,8,10,12,14,16,18,20,25):\n",
      "            index_j+=1\n",
      "            r['col']=radial(300*radfold)\n",
      "            radial_conductivity_data = r['col']\n",
      "            n = nn['col']\n",
      "            for n in (n,):\n",
      "                seed = 4\n",
      "                g, surface, volume, Keq, Jv_global = hydroroot(\n",
      "                seed=seed,\n",
      "                primary_length = n,\n",
      "                length_data=length_data, \n",
      "                axial_conductivity_data=axial_conductivity_data, \n",
      "                radial_conductivity_data=radial_conductivity_data,\n",
      "                nude_length = 0.02,\n",
      "                )\n",
      "                #mtgs.append(g)\n",
      "                print intensity, axfold, radfold, Keq, Jv_global\n",
      "                zz[intensity][index_i][index_j] = Jv_global\n"
     ],
     "language": "python",
     "metadata": {},
     "outputs": [
      {
       "output_type": "stream",
       "stream": "stdout",
       "text": [
        "Kaxfold Kradfold Jv\n",
        "low"
       ]
      },
      {
       "output_type": "stream",
       "stream": "stdout",
       "text": [
        " 1 1 0.0992571863496 0.0297771559049\n",
        "low"
       ]
      },
      {
       "output_type": "stream",
       "stream": "stdout",
       "text": [
        " 1 2 0.182104616804 0.0546313850412\n",
        "low"
       ]
      },
      {
       "output_type": "stream",
       "stream": "stdout",
       "text": [
        " 1 3 0.252666767149 0.0758000301448\n",
        "low"
       ]
      },
      {
       "output_type": "stream",
       "stream": "stdout",
       "text": [
        " 1 4 0.313745426822 0.0941236280466\n",
        "low"
       ]
      },
      {
       "output_type": "stream",
       "stream": "stdout",
       "text": [
        " 1 6 0.414832245373 0.124449673612\n",
        "low"
       ]
      },
      {
       "output_type": "stream",
       "stream": "stdout",
       "text": [
        " 1 8 0.495743614397 0.148723084319\n",
        "low"
       ]
      },
      {
       "output_type": "stream",
       "stream": "stdout",
       "text": [
        " 1 10 0.562496304749 0.168748891425\n",
        "low"
       ]
      },
      {
       "output_type": "stream",
       "stream": "stdout",
       "text": [
        " 1 12 0.618854116009 0.185656234803\n",
        "low"
       ]
      },
      {
       "output_type": "stream",
       "stream": "stdout",
       "text": [
        " 1 14 0.66730993257 0.200192979771\n",
        "low"
       ]
      },
      {
       "output_type": "stream",
       "stream": "stdout",
       "text": [
        " 1 16 0.709590009877 0.212877002963\n",
        "low"
       ]
      },
      {
       "output_type": "stream",
       "stream": "stdout",
       "text": [
        " 1 18 0.746933140823 0.224079942247\n",
        "low"
       ]
      },
      {
       "output_type": "stream",
       "stream": "stdout",
       "text": [
        " 1 20 0.780254695446 0.234076408634\n",
        "low"
       ]
      },
      {
       "output_type": "stream",
       "stream": "stdout",
       "text": [
        " 1 25 0.850136691155 0.255041007346\n",
        "low"
       ]
      },
      {
       "output_type": "stream",
       "stream": "stdout",
       "text": [
        " 2 1 0.104020246275 0.0312060738826\n",
        "low"
       ]
      },
      {
       "output_type": "stream",
       "stream": "stdout",
       "text": [
        " 2 2 0.198514372699 0.0595543118098\n",
        "low"
       ]
      },
      {
       "output_type": "stream",
       "stream": "stdout",
       "text": [
        " 2 3 0.284870676608 0.0854612029825\n",
        "low"
       ]
      },
      {
       "output_type": "stream",
       "stream": "stdout",
       "text": [
        " 2 4 0.364209233608 0.109262770082\n",
        "low"
       ]
      },
      {
       "output_type": "stream",
       "stream": "stdout",
       "text": [
        " 2 6 0.505333534299 0.15160006029\n",
        "low"
       ]
      },
      {
       "output_type": "stream",
       "stream": "stdout",
       "text": [
        " 2 8 0.627490853644 0.188247256093\n",
        "low"
       ]
      },
      {
       "output_type": "stream",
       "stream": "stdout",
       "text": [
        " 2 10 0.7346390837 0.22039172511\n",
        "low"
       ]
      },
      {
       "output_type": "stream",
       "stream": "stdout",
       "text": [
        " 2 12 0.829664490745 0.248899347224\n",
        "low"
       ]
      },
      {
       "output_type": "stream",
       "stream": "stdout",
       "text": [
        " 2 14 0.914728647522 0.274418594257\n",
        "low"
       ]
      },
      {
       "output_type": "stream",
       "stream": "stdout",
       "text": [
        " 2 16 0.991487228795 0.297446168638\n",
        "low"
       ]
      },
      {
       "output_type": "stream",
       "stream": "stdout",
       "text": [
        " 2 18 1.0612330648 0.318369919439\n",
        "low"
       ]
      },
      {
       "output_type": "stream",
       "stream": "stdout",
       "text": [
        " 2 20 1.1249926095 0.337497782849\n",
        "low"
       ]
      },
      {
       "output_type": "stream",
       "stream": "stdout",
       "text": [
        " 2 25 1.26326208927 0.37897862678\n",
        "low"
       ]
      },
      {
       "output_type": "stream",
       "stream": "stdout",
       "text": [
        " 3 1 0.107493167856 0.0322479503568\n",
        "low"
       ]
      },
      {
       "output_type": "stream",
       "stream": "stdout",
       "text": [
        " 3 2 0.211449297942 0.0634347893826\n",
        "low"
       ]
      },
      {
       "output_type": "stream",
       "stream": "stdout",
       "text": [
        " 3 3 0.312060738826 0.0936182216479\n",
        "low"
       ]
      },
      {
       "output_type": "stream",
       "stream": "stdout",
       "text": [
        " 3 4 0.409505492332 0.122851647699\n",
        "low"
       ]
      },
      {
       "output_type": "stream",
       "stream": "stdout",
       "text": [
        " 3 6 0.595543118098 0.178662935429\n",
        "low"
       ]
      },
      {
       "output_type": "stream",
       "stream": "stdout",
       "text": [
        " 3 8 0.770746690886 0.231224007266\n",
        "low"
       ]
      },
      {
       "output_type": "stream",
       "stream": "stdout",
       "text": [
        " 3 10 0.9361431317 0.28084293951\n",
        "low"
       ]
      },
      {
       "output_type": "stream",
       "stream": "stdout",
       "text": [
        " 3 12 1.09262770082 0.327788310247\n",
        "low"
       ]
      },
      {
       "output_type": "stream",
       "stream": "stdout",
       "text": [
        " 3 14 1.24098491625 0.372295474875\n",
        "low"
       ]
      },
      {
       "output_type": "stream",
       "stream": "stdout",
       "text": [
        " 3 16 1.38190555961 0.414571667883\n",
        "low"
       ]
      },
      {
       "output_type": "stream",
       "stream": "stdout",
       "text": [
        " 3 18 1.5160006029 0.454800180869\n",
        "low"
       ]
      },
      {
       "output_type": "stream",
       "stream": "stdout",
       "text": [
        " 3 20 1.64381269183 0.493143807548\n",
        "low"
       ]
      },
      {
       "output_type": "stream",
       "stream": "stdout",
       "text": [
        " 3 25 1.93890679608 0.581672038824\n",
        "low"
       ]
      },
      {
       "output_type": "stream",
       "stream": "stdout",
       "text": [
        " 4 1 0.108863957328 0.0326591871983\n",
        "low"
       ]
      },
      {
       "output_type": "stream",
       "stream": "stdout",
       "text": [
        " 4 2 0.216805343981 0.0650416031942\n",
        "low"
       ]
      },
      {
       "output_type": "stream",
       "stream": "stdout",
       "text": [
        " 4 3 0.323837291573 0.0971511874719\n",
        "low"
       ]
      },
      {
       "output_type": "stream",
       "stream": "stdout",
       "text": [
        " 4 4 0.429972671424 0.128991801427\n",
        "low"
       ]
      },
      {
       "output_type": "stream",
       "stream": "stdout",
       "text": [
        " 4 6 0.639603950916 0.191881185275\n",
        "low"
       ]
      },
      {
       "output_type": "stream",
       "stream": "stdout",
       "text": [
        " 4 8 0.845797191768 0.253739157531\n",
        "low"
       ]
      },
      {
       "output_type": "stream",
       "stream": "stdout",
       "text": [
        " 4 10 1.04864663875 0.314593991625\n",
        "low"
       ]
      },
      {
       "output_type": "stream",
       "stream": "stdout",
       "text": [
        " 4 12 1.24824295531 0.374472886592\n",
        "low"
       ]
      },
      {
       "output_type": "stream",
       "stream": "stdout",
       "text": [
        " 4 14 1.44467339606 0.433402018818\n",
        "low"
       ]
      },
      {
       "output_type": "stream",
       "stream": "stdout",
       "text": [
        " 4 16 1.63802196933 0.491406590798\n",
        "low"
       ]
      },
      {
       "output_type": "stream",
       "stream": "stdout",
       "text": [
        " 4 18 1.82836959029 0.548510877087\n",
        "low"
       ]
      },
      {
       "output_type": "stream",
       "stream": "stdout",
       "text": [
        " 4 20 2.01579422551 0.604738267653\n",
        "low"
       ]
      },
      {
       "output_type": "stream",
       "stream": "stdout",
       "text": [
        " 4 25 2.47205437715 0.741616313145\n",
        "low"
       ]
      },
      {
       "output_type": "stream",
       "stream": "stdout",
       "text": [
        " 6 1 0.109251753352 0.0327755260057\n",
        "low"
       ]
      },
      {
       "output_type": "stream",
       "stream": "stdout",
       "text": [
        " 6 2 0.218347890822 0.0655043672465\n",
        "low"
       ]
      },
      {
       "output_type": "stream",
       "stream": "stdout",
       "text": [
        " 6 3 0.327288786454 0.0981866359363\n",
        "low"
       ]
      },
      {
       "output_type": "stream",
       "stream": "stdout",
       "text": [
        " 6 4 0.436074813039 0.130822443912\n",
        "low"
       ]
      },
      {
       "output_type": "stream",
       "stream": "stdout",
       "text": [
        " 6 6 0.653183743967 0.19595512319\n",
        "low"
       ]
      },
      {
       "output_type": "stream",
       "stream": "stdout",
       "text": [
        " 6 8 0.869677640965 0.260903292289\n",
        "low"
       ]
      },
      {
       "output_type": "stream",
       "stream": "stdout",
       "text": [
        " 6 10 1.08555944161 0.325667832484\n",
        "low"
       ]
      },
      {
       "output_type": "stream",
       "stream": "stdout",
       "text": [
        " 6 12 1.30083206388 0.390249619165\n",
        "low"
       ]
      },
      {
       "output_type": "stream",
       "stream": "stdout",
       "text": [
        " 6 14 1.5154984063 0.45464952189\n",
        "low"
       ]
      },
      {
       "output_type": "stream",
       "stream": "stdout",
       "text": [
        " 6 16 1.72956134811 0.518868404432\n",
        "low"
       ]
      },
      {
       "output_type": "stream",
       "stream": "stdout",
       "text": [
        " 6 18 1.94302374944 0.582907124832\n",
        "low"
       ]
      },
      {
       "output_type": "stream",
       "stream": "stdout",
       "text": [
        " 6 20 2.15588845147 0.646766535441\n",
        "low"
       ]
      },
      {
       "output_type": "stream",
       "stream": "stdout",
       "text": [
        " 6 25 2.6854537482 0.805636124461\n",
        "low"
       ]
      },
      {
       "output_type": "stream",
       "stream": "stdout",
       "text": [
        " 8 1 0.109319937828 0.0327959813483\n",
        "low"
       ]
      },
      {
       "output_type": "stream",
       "stream": "stdout",
       "text": [
        " 8 2 0.218620382642 0.0655861147926\n",
        "low"
       ]
      },
      {
       "output_type": "stream",
       "stream": "stdout",
       "text": [
        " 8 3 0.327901340313 0.098370402094\n",
        "low"
       ]
      },
      {
       "output_type": "stream",
       "stream": "stdout",
       "text": [
        " 8 4 0.43716281671 0.131148845013\n",
        "low"
       ]
      },
      {
       "output_type": "stream",
       "stream": "stdout",
       "text": [
        " 8 6 0.655627349138 0.196688204741\n",
        "low"
       ]
      },
      {
       "output_type": "stream",
       "stream": "stdout",
       "text": [
        " 8 8 0.874014026819 0.262204208046\n",
        "low"
       ]
      },
      {
       "output_type": "stream",
       "stream": "stdout",
       "text": [
        " 8 10 1.09232289661 0.327696868982\n",
        "low"
       ]
      },
      {
       "output_type": "stream",
       "stream": "stdout",
       "text": [
        " 8 12 1.31055400532 0.393166201596\n",
        "low"
       ]
      },
      {
       "output_type": "stream",
       "stream": "stdout",
       "text": [
        " 8 14 1.52870739973 0.458612219919\n",
        "low"
       ]
      },
      {
       "output_type": "stream",
       "stream": "stdout",
       "text": [
        " 8 16 1.74678312657 0.524034937972\n",
        "low"
       ]
      },
      {
       "output_type": "stream",
       "stream": "stdout",
       "text": [
        " 8 18 1.96478123255 0.589434369764\n",
        "low"
       ]
      },
      {
       "output_type": "stream",
       "stream": "stdout",
       "text": [
        " 8 20 2.18270176431 0.654810529293\n",
        "low"
       ]
      },
      {
       "output_type": "stream",
       "stream": "stdout",
       "text": [
        " 8 25 2.72716401238 0.818149203713\n",
        "low"
       ]
      },
      {
       "output_type": "stream",
       "stream": "stdout",
       "text": [
        " 10 1 0.109328711357 0.0327986134071\n",
        "low"
       ]
      },
      {
       "output_type": "stream",
       "stream": "stdout",
       "text": [
        " 10 2 0.218655472884 0.0655966418653\n",
        "low"
       ]
      },
      {
       "output_type": "stream",
       "stream": "stdout",
       "text": [
        " 10 3 0.327980284641 0.0983940853922\n",
        "low"
       ]
      },
      {
       "output_type": "stream",
       "stream": "stdout",
       "text": [
        " 10 4 0.437303146684 0.131190944005\n",
        "low"
       ]
      },
      {
       "output_type": "stream",
       "stream": "stdout",
       "text": [
        " 10 6 0.65594302187 0.196782906561\n",
        "low"
       ]
      },
      {
       "output_type": "stream",
       "stream": "stdout",
       "text": [
        " 10 8 0.87457509891 0.262372529673\n",
        "low"
       ]
      },
      {
       "output_type": "stream",
       "stream": "stdout",
       "text": [
        " 10 10 1.09319937828 0.327959813483\n",
        "low"
       ]
      },
      {
       "output_type": "stream",
       "stream": "stdout",
       "text": [
        " 10 12 1.31181586044 0.393544758131\n",
        "low"
       ]
      },
      {
       "output_type": "stream",
       "stream": "stdout",
       "text": [
        " 10 14 1.53042454586 0.459127363758\n",
        "low"
       ]
      },
      {
       "output_type": "stream",
       "stream": "stdout",
       "text": [
        " 10 16 1.74902543502 0.524707630506\n",
        "low"
       ]
      },
      {
       "output_type": "stream",
       "stream": "stdout",
       "text": [
        " 10 18 1.96761852838 0.590285558515\n",
        "low"
       ]
      },
      {
       "output_type": "stream",
       "stream": "stdout",
       "text": [
        " 10 20 2.18620382642 0.655861147926\n",
        "low"
       ]
      },
      {
       "output_type": "stream",
       "stream": "stdout",
       "text": [
        " 10 25 2.73263297004 0.819789891011\n",
        "low"
       ]
      },
      {
       "output_type": "stream",
       "stream": "stdout",
       "text": [
        " 12 1 0.109329605046 0.0327988815139\n",
        "low"
       ]
      },
      {
       "output_type": "stream",
       "stream": "stdout",
       "text": [
        " 12 2 0.218659047602 0.0655977142807\n",
        "low"
       ]
      },
      {
       "output_type": "stream",
       "stream": "stdout",
       "text": [
        " 12 3 0.327988327669 0.0983964983006\n",
        "low"
       ]
      },
      {
       "output_type": "stream",
       "stream": "stdout",
       "text": [
        " 12 4 0.437317445245 0.131195233574\n",
        "low"
       ]
      },
      {
       "output_type": "stream",
       "stream": "stdout",
       "text": [
        " 12 6 0.655975192932 0.196792557879\n",
        "low"
       ]
      },
      {
       "output_type": "stream",
       "stream": "stdout",
       "text": [
        " 12 8 0.874632290665 0.262389687199\n",
        "low"
       ]
      },
      {
       "output_type": "stream",
       "stream": "stdout",
       "text": [
        " 12 10 1.09328873845 0.327986621535\n",
        "low"
       ]
      },
      {
       "output_type": "stream",
       "stream": "stdout",
       "text": [
        " 12 12 1.31194453629 0.393583360886\n",
        "low"
       ]
      },
      {
       "output_type": "stream",
       "stream": "stdout",
       "text": [
        " 12 14 1.53059968418 0.459179905254\n",
        "low"
       ]
      },
      {
       "output_type": "stream",
       "stream": "stdout",
       "text": [
        " 12 16 1.74925418213 0.52477625464\n",
        "low"
       ]
      },
      {
       "output_type": "stream",
       "stream": "stdout",
       "text": [
        " 12 18 1.96790803015 0.590372409045\n",
        "low"
       ]
      },
      {
       "output_type": "stream",
       "stream": "stdout",
       "text": [
        " 12 20 2.18656122823 0.65596836847\n",
        "low"
       ]
      },
      {
       "output_type": "stream",
       "stream": "stdout",
       "text": [
        " 12 25 2.73319138 0.819957414001\n",
        "low"
       ]
      },
      {
       "output_type": "stream",
       "stream": "stdout",
       "text": [
        " 14 1 0.109329680488 0.0327989041465\n",
        "low"
       ]
      },
      {
       "output_type": "stream",
       "stream": "stdout",
       "text": [
        " 14 2 0.21865934937 0.0655978048111\n",
        "low"
       ]
      },
      {
       "output_type": "stream",
       "stream": "stdout",
       "text": [
        " 14 3 0.327989006646 0.0983967019937\n",
        "low"
       ]
      },
      {
       "output_type": "stream",
       "stream": "stdout",
       "text": [
        " 14 4 0.437318652315 0.131195595694\n",
        "low"
       ]
      },
      {
       "output_type": "stream",
       "stream": "stdout",
       "text": [
        " 14 6 0.655977908833 0.19679337265\n",
        "low"
       ]
      },
      {
       "output_type": "stream",
       "stream": "stdout",
       "text": [
        " 14 8 0.874637118926 0.262391135678\n",
        "low"
       ]
      },
      {
       "output_type": "stream",
       "stream": "stdout",
       "text": [
        " 14 10 1.09329628259 0.327988884778\n",
        "low"
       ]
      },
      {
       "output_type": "stream",
       "stream": "stdout",
       "text": [
        " 14 12 1.31195539983 0.39358661995\n",
        "low"
       ]
      },
      {
       "output_type": "stream",
       "stream": "stdout",
       "text": [
        " 14 14 1.53061447065 0.459184341195\n",
        "low"
       ]
      },
      {
       "output_type": "stream",
       "stream": "stdout",
       "text": [
        " 14 16 1.74927349504 0.524782048511\n",
        "low"
       ]
      },
      {
       "output_type": "stream",
       "stream": "stdout",
       "text": [
        " 14 18 1.967932473 0.590379741901\n",
        "low"
       ]
      },
      {
       "output_type": "stream",
       "stream": "stdout",
       "text": [
        " 14 20 2.18659140454 0.655977421362\n",
        "low"
       ]
      },
      {
       "output_type": "stream",
       "stream": "stdout",
       "text": [
        " 14 25 2.73323853027 0.819971559081\n",
        "low"
       ]
      },
      {
       "output_type": "stream",
       "stream": "stdout",
       "text": [
        " 16 1 0.109329685929 0.0327989057787\n",
        "low"
       ]
      },
      {
       "output_type": "stream",
       "stream": "stdout",
       "text": [
        " 16 2 0.218659371132 0.0655978113397\n",
        "low"
       ]
      },
      {
       "output_type": "stream",
       "stream": "stdout",
       "text": [
        " 16 3 0.327989055611 0.0983967166832\n",
        "low"
       ]
      },
      {
       "output_type": "stream",
       "stream": "stdout",
       "text": [
        " 16 4 0.437318739363 0.131195621809\n",
        "low"
       ]
      },
      {
       "output_type": "stream",
       "stream": "stdout",
       "text": [
        " 16 6 0.655978104693 0.196793431408\n",
        "low"
       ]
      },
      {
       "output_type": "stream",
       "stream": "stdout",
       "text": [
        " 16 8 0.87463746712 0.262391240136\n",
        "low"
       ]
      },
      {
       "output_type": "stream",
       "stream": "stdout",
       "text": [
        " 16 10 1.09329682665 0.327989047994\n",
        "low"
       ]
      },
      {
       "output_type": "stream",
       "stream": "stdout",
       "text": [
        " 16 12 1.31195618327 0.393586854981\n",
        "low"
       ]
      },
      {
       "output_type": "stream",
       "stream": "stdout",
       "text": [
        " 16 14 1.53061553699 0.459184661098\n",
        "low"
       ]
      },
      {
       "output_type": "stream",
       "stream": "stdout",
       "text": [
        " 16 16 1.74927488781 0.524782466344\n",
        "low"
       ]
      },
      {
       "output_type": "stream",
       "stream": "stdout",
       "text": [
        " 16 18 1.96793423573 0.59038027072\n",
        "low"
       ]
      },
      {
       "output_type": "stream",
       "stream": "stdout",
       "text": [
        " 16 20 2.18659358075 0.655978074226\n",
        "low"
       ]
      },
      {
       "output_type": "stream",
       "stream": "stdout",
       "text": [
        " 16 25 2.7332419306 0.819972579181\n",
        "low"
       ]
      },
      {
       "output_type": "stream",
       "stream": "stdout",
       "text": [
        " 18 1 0.109329686271 0.0327989058814\n",
        "low"
       ]
      },
      {
       "output_type": "stream",
       "stream": "stdout",
       "text": [
        " 18 2 0.218659372503 0.0655978117508\n",
        "low"
       ]
      },
      {
       "output_type": "stream",
       "stream": "stdout",
       "text": [
        " 18 3 0.327989058694 0.0983967176081\n",
        "low"
       ]
      },
      {
       "output_type": "stream",
       "stream": "stdout",
       "text": [
        " 18 4 0.437318744844 0.131195623453\n",
        "low"
       ]
      },
      {
       "output_type": "stream",
       "stream": "stdout",
       "text": [
        " 18 6 0.655978117024 0.196793435107\n",
        "low"
       ]
      },
      {
       "output_type": "stream",
       "stream": "stdout",
       "text": [
        " 18 8 0.874637489043 0.262391246713\n",
        "low"
       ]
      },
      {
       "output_type": "stream",
       "stream": "stdout",
       "text": [
        " 18 10 1.0932968609 0.32798905827\n",
        "low"
       ]
      },
      {
       "output_type": "stream",
       "stream": "stdout",
       "text": [
        " 18 12 1.3119562326 0.393586869779\n",
        "low"
       ]
      },
      {
       "output_type": "stream",
       "stream": "stdout",
       "text": [
        " 18 14 1.53061560413 0.45918468124\n",
        "low"
       ]
      },
      {
       "output_type": "stream",
       "stream": "stdout",
       "text": [
        " 18 16 1.74927497551 0.524782492652\n",
        "low"
       ]
      },
      {
       "output_type": "stream",
       "stream": "stdout",
       "text": [
        " 18 18 1.96793434672 0.590380304016\n",
        "low"
       ]
      },
      {
       "output_type": "stream",
       "stream": "stdout",
       "text": [
        " 18 20 2.18659371777 0.655978115332\n",
        "low"
       ]
      },
      {
       "output_type": "stream",
       "stream": "stdout",
       "text": [
        " 18 25 2.7332421447 0.819972643409\n",
        "low"
       ]
      },
      {
       "output_type": "stream",
       "stream": "stdout",
       "text": [
        " 20 1 0.109329686291 0.0327989058872\n",
        "low"
       ]
      },
      {
       "output_type": "stream",
       "stream": "stdout",
       "text": [
        " 20 2 0.218659372579 0.0655978117738\n",
        "low"
       ]
      },
      {
       "output_type": "stream",
       "stream": "stdout",
       "text": [
        " 20 3 0.327989058866 0.0983967176598\n",
        "low"
       ]
      },
      {
       "output_type": "stream",
       "stream": "stdout",
       "text": [
        " 20 4 0.43731874515 0.131195623545\n",
        "low"
       ]
      },
      {
       "output_type": "stream",
       "stream": "stdout",
       "text": [
        " 20 6 0.655978117714 0.196793435314\n",
        "low"
       ]
      },
      {
       "output_type": "stream",
       "stream": "stdout",
       "text": [
        " 20 8 0.874637490269 0.262391247081\n",
        "low"
       ]
      },
      {
       "output_type": "stream",
       "stream": "stdout",
       "text": [
        " 20 10 1.09329686282 0.327989058845\n",
        "low"
       ]
      },
      {
       "output_type": "stream",
       "stream": "stdout",
       "text": [
        " 20 12 1.31195623535 0.393586870606\n",
        "low"
       ]
      },
      {
       "output_type": "stream",
       "stream": "stdout",
       "text": [
        " 20 14 1.53061560789 0.459184682366\n",
        "low"
       ]
      },
      {
       "output_type": "stream",
       "stream": "stdout",
       "text": [
        " 20 16 1.74927498041 0.524782494122\n",
        "low"
       ]
      },
      {
       "output_type": "stream",
       "stream": "stdout",
       "text": [
        " 20 18 1.96793435292 0.590380305877\n",
        "low"
       ]
      },
      {
       "output_type": "stream",
       "stream": "stdout",
       "text": [
        " 20 20 2.18659372543 0.655978117629\n",
        "low"
       ]
      },
      {
       "output_type": "stream",
       "stream": "stdout",
       "text": [
        " 20 25 2.73324215666 0.819972646998\n",
        "low"
       ]
      },
      {
       "output_type": "stream",
       "stream": "stdout",
       "text": [
        " 25 1 0.109329686292 0.0327989058875\n",
        "low"
       ]
      },
      {
       "output_type": "stream",
       "stream": "stdout",
       "text": [
        " 25 2 0.218659372583 0.0655978117749\n",
        "low"
       ]
      },
      {
       "output_type": "stream",
       "stream": "stdout",
       "text": [
        " 25 3 0.327989058875 0.0983967176624\n",
        "low"
       ]
      },
      {
       "output_type": "stream",
       "stream": "stdout",
       "text": [
        " 25 4 0.437318745166 0.13119562355\n",
        "low"
       ]
      },
      {
       "output_type": "stream",
       "stream": "stdout",
       "text": [
        " 25 6 0.655978117748 0.196793435325\n",
        "low"
       ]
      },
      {
       "output_type": "stream",
       "stream": "stdout",
       "text": [
        " 25 8 0.874637490331 0.262391247099\n",
        "low"
       ]
      },
      {
       "output_type": "stream",
       "stream": "stdout",
       "text": [
        " 25 10 1.09329686291 0.327989058874\n",
        "low"
       ]
      },
      {
       "output_type": "stream",
       "stream": "stdout",
       "text": [
        " 25 12 1.31195623549 0.393586870648\n",
        "low"
       ]
      },
      {
       "output_type": "stream",
       "stream": "stdout",
       "text": [
        " 25 14 1.53061560807 0.459184682422\n",
        "low"
       ]
      },
      {
       "output_type": "stream",
       "stream": "stdout",
       "text": [
        " 25 16 1.74927498066 0.524782494197\n",
        "low"
       ]
      },
      {
       "output_type": "stream",
       "stream": "stdout",
       "text": [
        " 25 18 1.96793435324 0.590380305971\n",
        "low"
       ]
      },
      {
       "output_type": "stream",
       "stream": "stdout",
       "text": [
        " 25 20 2.18659372582 0.655978117745\n",
        "low"
       ]
      },
      {
       "output_type": "stream",
       "stream": "stdout",
       "text": [
        " 25 25 2.73324215727 0.81997264718\n",
        "median"
       ]
      },
      {
       "output_type": "stream",
       "stream": "stdout",
       "text": [
        " 1 1 0.163342146307 0.0490026438921\n",
        "median"
       ]
      },
      {
       "output_type": "stream",
       "stream": "stdout",
       "text": [
        " 1 2 0.326684292614 0.0980052877841\n",
        "median"
       ]
      },
      {
       "output_type": "stream",
       "stream": "stdout",
       "text": [
        " 1 3 0.49002643892 0.147007931676\n",
        "median"
       ]
      },
      {
       "output_type": "stream",
       "stream": "stdout",
       "text": [
        " 1 4 0.653368585227 0.196010575568\n",
        "median"
       ]
      },
      {
       "output_type": "stream",
       "stream": "stdout",
       "text": [
        " 1 6 0.980052877839 0.294015863352\n",
        "median"
       ]
      },
      {
       "output_type": "stream",
       "stream": "stdout",
       "text": [
        " 1 8 1.30673717045 0.392021151135\n",
        "median"
       ]
      },
      {
       "output_type": "stream",
       "stream": "stdout",
       "text": [
        " 1 10 1.63342146306 0.490026438918\n",
        "median"
       ]
      },
      {
       "output_type": "stream",
       "stream": "stdout",
       "text": [
        " 1 12 1.96010575567 0.588031726701\n",
        "median"
       ]
      },
      {
       "output_type": "stream",
       "stream": "stdout",
       "text": [
        " 1 14 2.28679004828 0.686037014484\n",
        "median"
       ]
      },
      {
       "output_type": "stream",
       "stream": "stdout",
       "text": [
        " 1 16 2.61347434089 0.784042302267\n",
        "median"
       ]
      },
      {
       "output_type": "stream",
       "stream": "stdout",
       "text": [
        " 1 18 2.9401586335 0.882047590049\n",
        "median"
       ]
      },
      {
       "output_type": "stream",
       "stream": "stdout",
       "text": [
        " 1 20 3.2668429261 0.980052877831\n",
        "median"
       ]
      },
      {
       "output_type": "stream",
       "stream": "stdout",
       "text": [
        " 1 25 4.08355365762 1.22506609729\n",
        "median"
       ]
      },
      {
       "output_type": "stream",
       "stream": "stdout",
       "text": [
        " 2 1 0.163342146307 0.0490026438921\n",
        "median"
       ]
      },
      {
       "output_type": "stream",
       "stream": "stdout",
       "text": [
        " 2 2 0.326684292614 0.0980052877842\n",
        "median"
       ]
      },
      {
       "output_type": "stream",
       "stream": "stdout",
       "text": [
        " 2 3 0.490026438921 0.147007931676\n",
        "median"
       ]
      },
      {
       "output_type": "stream",
       "stream": "stdout",
       "text": [
        " 2 4 0.653368585227 0.196010575568\n",
        "median"
       ]
      },
      {
       "output_type": "stream",
       "stream": "stdout",
       "text": [
        " 2 6 0.98005287784 0.294015863352\n",
        "median"
       ]
      },
      {
       "output_type": "stream",
       "stream": "stdout",
       "text": [
        " 2 8 1.30673717045 0.392021151136\n",
        "median"
       ]
      },
      {
       "output_type": "stream",
       "stream": "stdout",
       "text": [
        " 2 10 1.63342146307 0.49002643892\n",
        "median"
       ]
      },
      {
       "output_type": "stream",
       "stream": "stdout",
       "text": [
        " 2 12 1.96010575568 0.588031726703\n",
        "median"
       ]
      },
      {
       "output_type": "stream",
       "stream": "stdout",
       "text": [
        " 2 14 2.28679004829 0.686037014487\n",
        "median"
       ]
      },
      {
       "output_type": "stream",
       "stream": "stdout",
       "text": [
        " 2 16 2.6134743409 0.78404230227\n",
        "median"
       ]
      },
      {
       "output_type": "stream",
       "stream": "stdout",
       "text": [
        " 2 18 2.94015863351 0.882047590054\n",
        "median"
       ]
      },
      {
       "output_type": "stream",
       "stream": "stdout",
       "text": [
        " 2 20 3.26684292612 0.980052877837\n",
        "median"
       ]
      },
      {
       "output_type": "stream",
       "stream": "stdout",
       "text": [
        " 2 25 4.08355365765 1.22506609729\n",
        "median"
       ]
      },
      {
       "output_type": "stream",
       "stream": "stdout",
       "text": [
        " 3 1 0.163342146307 0.0490026438921\n",
        "median"
       ]
      },
      {
       "output_type": "stream",
       "stream": "stdout",
       "text": [
        " 3 2 0.326684292614 0.0980052877842\n",
        "median"
       ]
      },
      {
       "output_type": "stream",
       "stream": "stdout",
       "text": [
        " 3 3 0.490026438921 0.147007931676\n",
        "median"
       ]
      },
      {
       "output_type": "stream",
       "stream": "stdout",
       "text": [
        " 3 4 0.653368585228 0.196010575568\n",
        "median"
       ]
      },
      {
       "output_type": "stream",
       "stream": "stdout",
       "text": [
        " 3 6 0.980052877842 0.294015863352\n",
        "median"
       ]
      },
      {
       "output_type": "stream",
       "stream": "stdout",
       "text": [
        " 3 8 1.30673717046 0.392021151137\n",
        "median"
       ]
      },
      {
       "output_type": "stream",
       "stream": "stdout",
       "text": [
        " 3 10 1.63342146307 0.490026438921\n",
        "median"
       ]
      },
      {
       "output_type": "stream",
       "stream": "stdout",
       "text": [
        " 3 12 1.96010575568 0.588031726705\n",
        "median"
       ]
      },
      {
       "output_type": "stream",
       "stream": "stdout",
       "text": [
        " 3 14 2.2867900483 0.686037014489\n",
        "median"
       ]
      },
      {
       "output_type": "stream",
       "stream": "stdout",
       "text": [
        " 3 16 2.61347434091 0.784042302273\n",
        "median"
       ]
      },
      {
       "output_type": "stream",
       "stream": "stdout",
       "text": [
        " 3 18 2.94015863352 0.882047590056\n",
        "median"
       ]
      },
      {
       "output_type": "stream",
       "stream": "stdout",
       "text": [
        " 3 20 3.26684292613 0.98005287784\n",
        "median"
       ]
      },
      {
       "output_type": "stream",
       "stream": "stdout",
       "text": [
        " 3 25 4.08355365767 1.2250660973\n",
        "median"
       ]
      },
      {
       "output_type": "stream",
       "stream": "stdout",
       "text": [
        " 4 1 0.163342146307 0.0490026438921\n",
        "median"
       ]
      },
      {
       "output_type": "stream",
       "stream": "stdout",
       "text": [
        " 4 2 0.326684292614 0.0980052877842\n",
        "median"
       ]
      },
      {
       "output_type": "stream",
       "stream": "stdout",
       "text": [
        " 4 3 0.490026438921 0.147007931676\n",
        "median"
       ]
      },
      {
       "output_type": "stream",
       "stream": "stdout",
       "text": [
        " 4 4 0.653368585228 0.196010575568\n",
        "median"
       ]
      },
      {
       "output_type": "stream",
       "stream": "stdout",
       "text": [
        " 4 6 0.980052877842 0.294015863353\n",
        "median"
       ]
      },
      {
       "output_type": "stream",
       "stream": "stdout",
       "text": [
        " 4 8 1.30673717046 0.392021151137\n",
        "median"
       ]
      },
      {
       "output_type": "stream",
       "stream": "stdout",
       "text": [
        " 4 10 1.63342146307 0.490026438921\n",
        "median"
       ]
      },
      {
       "output_type": "stream",
       "stream": "stdout",
       "text": [
        " 4 12 1.96010575568 0.588031726705\n",
        "median"
       ]
      },
      {
       "output_type": "stream",
       "stream": "stdout",
       "text": [
        " 4 14 2.2867900483 0.686037014489\n",
        "median"
       ]
      },
      {
       "output_type": "stream",
       "stream": "stdout",
       "text": [
        " 4 16 2.61347434091 0.784042302273\n",
        "median"
       ]
      },
      {
       "output_type": "stream",
       "stream": "stdout",
       "text": [
        " 4 18 2.94015863352 0.882047590057\n",
        "median"
       ]
      },
      {
       "output_type": "stream",
       "stream": "stdout",
       "text": [
        " 4 20 3.26684292614 0.980052877842\n",
        "median"
       ]
      },
      {
       "output_type": "stream",
       "stream": "stdout",
       "text": [
        " 4 25 4.08355365767 1.2250660973\n",
        "median"
       ]
      },
      {
       "output_type": "stream",
       "stream": "stdout",
       "text": [
        " 6 1 0.163342146307 0.0490026438921\n",
        "median"
       ]
      },
      {
       "output_type": "stream",
       "stream": "stdout",
       "text": [
        " 6 2 0.326684292614 0.0980052877842\n",
        "median"
       ]
      },
      {
       "output_type": "stream",
       "stream": "stdout",
       "text": [
        " 6 3 0.490026438921 0.147007931676\n",
        "median"
       ]
      },
      {
       "output_type": "stream",
       "stream": "stdout",
       "text": [
        " 6 4 0.653368585228 0.196010575568\n",
        "median"
       ]
      },
      {
       "output_type": "stream",
       "stream": "stdout",
       "text": [
        " 6 6 0.980052877842 0.294015863353\n",
        "median"
       ]
      },
      {
       "output_type": "stream",
       "stream": "stdout",
       "text": [
        " 6 8 1.30673717046 0.392021151137\n",
        "median"
       ]
      },
      {
       "output_type": "stream",
       "stream": "stdout",
       "text": [
        " 6 10 1.63342146307 0.490026438921\n",
        "median"
       ]
      },
      {
       "output_type": "stream",
       "stream": "stdout",
       "text": [
        " 6 12 1.96010575568 0.588031726705\n",
        "median"
       ]
      },
      {
       "output_type": "stream",
       "stream": "stdout",
       "text": [
        " 6 14 2.2867900483 0.686037014489\n",
        "median"
       ]
      },
      {
       "output_type": "stream",
       "stream": "stdout",
       "text": [
        " 6 16 2.61347434091 0.784042302274\n",
        "median"
       ]
      },
      {
       "output_type": "stream",
       "stream": "stdout",
       "text": [
        " 6 18 2.94015863353 0.882047590058\n",
        "median"
       ]
      },
      {
       "output_type": "stream",
       "stream": "stdout",
       "text": [
        " 6 20 3.26684292614 0.980052877842\n",
        "median"
       ]
      },
      {
       "output_type": "stream",
       "stream": "stdout",
       "text": [
        " 6 25 4.08355365767 1.2250660973\n",
        "median"
       ]
      },
      {
       "output_type": "stream",
       "stream": "stdout",
       "text": [
        " 8 1 0.163342146307 0.0490026438921\n",
        "median"
       ]
      },
      {
       "output_type": "stream",
       "stream": "stdout",
       "text": [
        " 8 2 0.326684292614 0.0980052877842\n",
        "median"
       ]
      },
      {
       "output_type": "stream",
       "stream": "stdout",
       "text": [
        " 8 3 0.490026438921 0.147007931676\n",
        "median"
       ]
      },
      {
       "output_type": "stream",
       "stream": "stdout",
       "text": [
        " 8 4 0.653368585228 0.196010575568\n",
        "median"
       ]
      },
      {
       "output_type": "stream",
       "stream": "stdout",
       "text": [
        " 8 6 0.980052877842 0.294015863353\n",
        "median"
       ]
      },
      {
       "output_type": "stream",
       "stream": "stdout",
       "text": [
        " 8 8 1.30673717046 0.392021151137\n",
        "median"
       ]
      },
      {
       "output_type": "stream",
       "stream": "stdout",
       "text": [
        " 8 10 1.63342146307 0.490026438921\n",
        "median"
       ]
      },
      {
       "output_type": "stream",
       "stream": "stdout",
       "text": [
        " 8 12 1.96010575568 0.588031726705\n",
        "median"
       ]
      },
      {
       "output_type": "stream",
       "stream": "stdout",
       "text": [
        " 8 14 2.2867900483 0.686037014489\n",
        "median"
       ]
      },
      {
       "output_type": "stream",
       "stream": "stdout",
       "text": [
        " 8 16 2.61347434091 0.784042302274\n",
        "median"
       ]
      },
      {
       "output_type": "stream",
       "stream": "stdout",
       "text": [
        " 8 18 2.94015863353 0.882047590058\n",
        "median"
       ]
      },
      {
       "output_type": "stream",
       "stream": "stdout",
       "text": [
        " 8 20 3.26684292614 0.980052877842\n",
        "median"
       ]
      },
      {
       "output_type": "stream",
       "stream": "stdout",
       "text": [
        " 8 25 4.08355365768 1.2250660973\n",
        "median"
       ]
      },
      {
       "output_type": "stream",
       "stream": "stdout",
       "text": [
        " 10 1 0.163342146307 0.0490026438921\n",
        "median"
       ]
      },
      {
       "output_type": "stream",
       "stream": "stdout",
       "text": [
        " 10 2 0.326684292614 0.0980052877842\n",
        "median"
       ]
      },
      {
       "output_type": "stream",
       "stream": "stdout",
       "text": [
        " 10 3 0.490026438921 0.147007931676\n",
        "median"
       ]
      },
      {
       "output_type": "stream",
       "stream": "stdout",
       "text": [
        " 10 4 0.653368585228 0.196010575568\n",
        "median"
       ]
      },
      {
       "output_type": "stream",
       "stream": "stdout",
       "text": [
        " 10 6 0.980052877842 0.294015863353\n",
        "median"
       ]
      },
      {
       "output_type": "stream",
       "stream": "stdout",
       "text": [
        " 10 8 1.30673717046 0.392021151137\n",
        "median"
       ]
      },
      {
       "output_type": "stream",
       "stream": "stdout",
       "text": [
        " 10 10 1.63342146307 0.490026438921\n",
        "median"
       ]
      },
      {
       "output_type": "stream",
       "stream": "stdout",
       "text": [
        " 10 12 1.96010575568 0.588031726705\n",
        "median"
       ]
      },
      {
       "output_type": "stream",
       "stream": "stdout",
       "text": [
        " 10 14 2.2867900483 0.686037014489\n",
        "median"
       ]
      },
      {
       "output_type": "stream",
       "stream": "stdout",
       "text": [
        " 10 16 2.61347434091 0.784042302274\n",
        "median"
       ]
      },
      {
       "output_type": "stream",
       "stream": "stdout",
       "text": [
        " 10 18 2.94015863353 0.882047590058\n",
        "median"
       ]
      },
      {
       "output_type": "stream",
       "stream": "stdout",
       "text": [
        " 10 20 3.26684292614 0.980052877842\n",
        "median"
       ]
      },
      {
       "output_type": "stream",
       "stream": "stdout",
       "text": [
        " 10 25 4.08355365768 1.2250660973\n",
        "median"
       ]
      },
      {
       "output_type": "stream",
       "stream": "stdout",
       "text": [
        " 12 1 0.163342146307 0.0490026438921\n",
        "median"
       ]
      },
      {
       "output_type": "stream",
       "stream": "stdout",
       "text": [
        " 12 2 0.326684292614 0.0980052877842\n",
        "median"
       ]
      },
      {
       "output_type": "stream",
       "stream": "stdout",
       "text": [
        " 12 3 0.490026438921 0.147007931676\n",
        "median"
       ]
      },
      {
       "output_type": "stream",
       "stream": "stdout",
       "text": [
        " 12 4 0.653368585228 0.196010575568\n",
        "median"
       ]
      },
      {
       "output_type": "stream",
       "stream": "stdout",
       "text": [
        " 12 6 0.980052877842 0.294015863353\n",
        "median"
       ]
      },
      {
       "output_type": "stream",
       "stream": "stdout",
       "text": [
        " 12 8 1.30673717046 0.392021151137\n",
        "median"
       ]
      },
      {
       "output_type": "stream",
       "stream": "stdout",
       "text": [
        " 12 10 1.63342146307 0.490026438921\n",
        "median"
       ]
      },
      {
       "output_type": "stream",
       "stream": "stdout",
       "text": [
        " 12 12 1.96010575568 0.588031726705\n",
        "median"
       ]
      },
      {
       "output_type": "stream",
       "stream": "stdout",
       "text": [
        " 12 14 2.2867900483 0.686037014489\n",
        "median"
       ]
      },
      {
       "output_type": "stream",
       "stream": "stdout",
       "text": [
        " 12 16 2.61347434091 0.784042302274\n",
        "median"
       ]
      },
      {
       "output_type": "stream",
       "stream": "stdout",
       "text": [
        " 12 18 2.94015863353 0.882047590058\n",
        "median"
       ]
      },
      {
       "output_type": "stream",
       "stream": "stdout",
       "text": [
        " 12 20 3.26684292614 0.980052877842\n",
        "median"
       ]
      },
      {
       "output_type": "stream",
       "stream": "stdout",
       "text": [
        " 12 25 4.08355365768 1.2250660973\n",
        "median"
       ]
      },
      {
       "output_type": "stream",
       "stream": "stdout",
       "text": [
        " 14 1 0.163342146307 0.0490026438921\n",
        "median"
       ]
      },
      {
       "output_type": "stream",
       "stream": "stdout",
       "text": [
        " 14 2 0.326684292614 0.0980052877842\n",
        "median"
       ]
      },
      {
       "output_type": "stream",
       "stream": "stdout",
       "text": [
        " 14 3 0.490026438921 0.147007931676\n",
        "median"
       ]
      },
      {
       "output_type": "stream",
       "stream": "stdout",
       "text": [
        " 14 4 0.653368585228 0.196010575568\n",
        "median"
       ]
      },
      {
       "output_type": "stream",
       "stream": "stdout",
       "text": [
        " 14 6 0.980052877842 0.294015863353\n",
        "median"
       ]
      },
      {
       "output_type": "stream",
       "stream": "stdout",
       "text": [
        " 14 8 1.30673717046 0.392021151137\n",
        "median"
       ]
      },
      {
       "output_type": "stream",
       "stream": "stdout",
       "text": [
        " 14 10 1.63342146307 0.490026438921\n",
        "median"
       ]
      },
      {
       "output_type": "stream",
       "stream": "stdout",
       "text": [
        " 14 12 1.96010575568 0.588031726705\n",
        "median"
       ]
      },
      {
       "output_type": "stream",
       "stream": "stdout",
       "text": [
        " 14 14 2.2867900483 0.686037014489\n",
        "median"
       ]
      },
      {
       "output_type": "stream",
       "stream": "stdout",
       "text": [
        " 14 16 2.61347434091 0.784042302274\n",
        "median"
       ]
      },
      {
       "output_type": "stream",
       "stream": "stdout",
       "text": [
        " 14 18 2.94015863353 0.882047590058\n",
        "median"
       ]
      },
      {
       "output_type": "stream",
       "stream": "stdout",
       "text": [
        " 14 20 3.26684292614 0.980052877842\n",
        "median"
       ]
      },
      {
       "output_type": "stream",
       "stream": "stdout",
       "text": [
        " 14 25 4.08355365768 1.2250660973\n",
        "median"
       ]
      },
      {
       "output_type": "stream",
       "stream": "stdout",
       "text": [
        " 16 1 0.163342146307 0.0490026438921\n",
        "median"
       ]
      },
      {
       "output_type": "stream",
       "stream": "stdout",
       "text": [
        " 16 2 0.326684292614 0.0980052877842\n",
        "median"
       ]
      },
      {
       "output_type": "stream",
       "stream": "stdout",
       "text": [
        " 16 3 0.490026438921 0.147007931676\n",
        "median"
       ]
      },
      {
       "output_type": "stream",
       "stream": "stdout",
       "text": [
        " 16 4 0.653368585228 0.196010575568\n",
        "median"
       ]
      },
      {
       "output_type": "stream",
       "stream": "stdout",
       "text": [
        " 16 6 0.980052877842 0.294015863353\n",
        "median"
       ]
      },
      {
       "output_type": "stream",
       "stream": "stdout",
       "text": [
        " 16 8 1.30673717046 0.392021151137\n",
        "median"
       ]
      },
      {
       "output_type": "stream",
       "stream": "stdout",
       "text": [
        " 16 10 1.63342146307 0.490026438921\n",
        "median"
       ]
      },
      {
       "output_type": "stream",
       "stream": "stdout",
       "text": [
        " 16 12 1.96010575568 0.588031726705\n",
        "median"
       ]
      },
      {
       "output_type": "stream",
       "stream": "stdout",
       "text": [
        " 16 14 2.2867900483 0.686037014489\n",
        "median"
       ]
      },
      {
       "output_type": "stream",
       "stream": "stdout",
       "text": [
        " 16 16 2.61347434091 0.784042302274\n",
        "median"
       ]
      },
      {
       "output_type": "stream",
       "stream": "stdout",
       "text": [
        " 16 18 2.94015863353 0.882047590058\n",
        "median"
       ]
      },
      {
       "output_type": "stream",
       "stream": "stdout",
       "text": [
        " 16 20 3.26684292614 0.980052877842\n",
        "median"
       ]
      },
      {
       "output_type": "stream",
       "stream": "stdout",
       "text": [
        " 16 25 4.08355365768 1.2250660973\n",
        "median"
       ]
      },
      {
       "output_type": "stream",
       "stream": "stdout",
       "text": [
        " 18 1 0.163342146307 0.0490026438921\n",
        "median"
       ]
      },
      {
       "output_type": "stream",
       "stream": "stdout",
       "text": [
        " 18 2 0.326684292614 0.0980052877842\n",
        "median"
       ]
      },
      {
       "output_type": "stream",
       "stream": "stdout",
       "text": [
        " 18 3 0.490026438921 0.147007931676\n",
        "median"
       ]
      },
      {
       "output_type": "stream",
       "stream": "stdout",
       "text": [
        " 18 4 0.653368585228 0.196010575568\n",
        "median"
       ]
      },
      {
       "output_type": "stream",
       "stream": "stdout",
       "text": [
        " 18 6 0.980052877842 0.294015863353\n",
        "median"
       ]
      },
      {
       "output_type": "stream",
       "stream": "stdout",
       "text": [
        " 18 8 1.30673717046 0.392021151137\n",
        "median"
       ]
      },
      {
       "output_type": "stream",
       "stream": "stdout",
       "text": [
        " 18 10 1.63342146307 0.490026438921\n",
        "median"
       ]
      },
      {
       "output_type": "stream",
       "stream": "stdout",
       "text": [
        " 18 12 1.96010575568 0.588031726705\n",
        "median"
       ]
      },
      {
       "output_type": "stream",
       "stream": "stdout",
       "text": [
        " 18 14 2.2867900483 0.686037014489\n",
        "median"
       ]
      },
      {
       "output_type": "stream",
       "stream": "stdout",
       "text": [
        " 18 16 2.61347434091 0.784042302274\n",
        "median"
       ]
      },
      {
       "output_type": "stream",
       "stream": "stdout",
       "text": [
        " 18 18 2.94015863353 0.882047590058\n",
        "median"
       ]
      },
      {
       "output_type": "stream",
       "stream": "stdout",
       "text": [
        " 18 20 3.26684292614 0.980052877842\n",
        "median"
       ]
      },
      {
       "output_type": "stream",
       "stream": "stdout",
       "text": [
        " 18 25 4.08355365768 1.2250660973\n",
        "median"
       ]
      },
      {
       "output_type": "stream",
       "stream": "stdout",
       "text": [
        " 20 1 0.163342146307 0.0490026438921\n",
        "median"
       ]
      },
      {
       "output_type": "stream",
       "stream": "stdout",
       "text": [
        " 20 2 0.326684292614 0.0980052877842\n",
        "median"
       ]
      },
      {
       "output_type": "stream",
       "stream": "stdout",
       "text": [
        " 20 3 0.490026438921 0.147007931676\n",
        "median"
       ]
      },
      {
       "output_type": "stream",
       "stream": "stdout",
       "text": [
        " 20 4 0.653368585228 0.196010575568\n",
        "median"
       ]
      },
      {
       "output_type": "stream",
       "stream": "stdout",
       "text": [
        " 20 6 0.980052877842 0.294015863353\n",
        "median"
       ]
      },
      {
       "output_type": "stream",
       "stream": "stdout",
       "text": [
        " 20 8 1.30673717046 0.392021151137\n",
        "median"
       ]
      },
      {
       "output_type": "stream",
       "stream": "stdout",
       "text": [
        " 20 10 1.63342146307 0.490026438921\n",
        "median"
       ]
      },
      {
       "output_type": "stream",
       "stream": "stdout",
       "text": [
        " 20 12 1.96010575568 0.588031726705\n",
        "median"
       ]
      },
      {
       "output_type": "stream",
       "stream": "stdout",
       "text": [
        " 20 14 2.2867900483 0.686037014489\n",
        "median"
       ]
      },
      {
       "output_type": "stream",
       "stream": "stdout",
       "text": [
        " 20 16 2.61347434091 0.784042302274\n",
        "median"
       ]
      },
      {
       "output_type": "stream",
       "stream": "stdout",
       "text": [
        " 20 18 2.94015863353 0.882047590058\n",
        "median"
       ]
      },
      {
       "output_type": "stream",
       "stream": "stdout",
       "text": [
        " 20 20 3.26684292614 0.980052877842\n",
        "median"
       ]
      },
      {
       "output_type": "stream",
       "stream": "stdout",
       "text": [
        " 20 25 4.08355365768 1.2250660973\n",
        "median"
       ]
      },
      {
       "output_type": "stream",
       "stream": "stdout",
       "text": [
        " 25 1 0.163342146307 0.0490026438921\n",
        "median"
       ]
      },
      {
       "output_type": "stream",
       "stream": "stdout",
       "text": [
        " 25 2 0.326684292614 0.0980052877842\n",
        "median"
       ]
      },
      {
       "output_type": "stream",
       "stream": "stdout",
       "text": [
        " 25 3 0.490026438921 0.147007931676\n",
        "median"
       ]
      },
      {
       "output_type": "stream",
       "stream": "stdout",
       "text": [
        " 25 4 0.653368585228 0.196010575568\n",
        "median"
       ]
      },
      {
       "output_type": "stream",
       "stream": "stdout",
       "text": [
        " 25 6 0.980052877842 0.294015863353\n",
        "median"
       ]
      },
      {
       "output_type": "stream",
       "stream": "stdout",
       "text": [
        " 25 8 1.30673717046 0.392021151137\n",
        "median"
       ]
      },
      {
       "output_type": "stream",
       "stream": "stdout",
       "text": [
        " 25 10 1.63342146307 0.490026438921\n",
        "median"
       ]
      },
      {
       "output_type": "stream",
       "stream": "stdout",
       "text": [
        " 25 12 1.96010575568 0.588031726705\n",
        "median"
       ]
      },
      {
       "output_type": "stream",
       "stream": "stdout",
       "text": [
        " 25 14 2.2867900483 0.686037014489\n",
        "median"
       ]
      },
      {
       "output_type": "stream",
       "stream": "stdout",
       "text": [
        " 25 16 2.61347434091 0.784042302274\n",
        "median"
       ]
      },
      {
       "output_type": "stream",
       "stream": "stdout",
       "text": [
        " 25 18 2.94015863353 0.882047590058\n",
        "median"
       ]
      },
      {
       "output_type": "stream",
       "stream": "stdout",
       "text": [
        " 25 20 3.26684292614 0.980052877842\n",
        "median"
       ]
      },
      {
       "output_type": "stream",
       "stream": "stdout",
       "text": [
        " 25 25 4.08355365768 1.2250660973\n",
        "high"
       ]
      },
      {
       "output_type": "stream",
       "stream": "stdout",
       "text": [
        " 1 1 0.42774735536 0.128324206608\n",
        "high"
       ]
      },
      {
       "output_type": "stream",
       "stream": "stdout",
       "text": [
        " 1 2 0.85549471072 0.256648413216\n",
        "high"
       ]
      },
      {
       "output_type": "stream",
       "stream": "stdout",
       "text": [
        " 1 3 1.28324206608 0.384972619824\n",
        "high"
       ]
      },
      {
       "output_type": "stream",
       "stream": "stdout",
       "text": [
        " 1 4 1.71098942144 0.513296826432\n",
        "high"
       ]
      },
      {
       "output_type": "stream",
       "stream": "stdout",
       "text": [
        " 1 6 2.56648413216 0.769945239648\n",
        "high"
       ]
      },
      {
       "output_type": "stream",
       "stream": "stdout",
       "text": [
        " 1 8 3.42197884288 1.02659365286\n",
        "high"
       ]
      },
      {
       "output_type": "stream",
       "stream": "stdout",
       "text": [
        " 1 10 4.2774735536 1.28324206608\n",
        "high"
       ]
      },
      {
       "output_type": "stream",
       "stream": "stdout",
       "text": [
        " 1 12 5.13296826432 1.5398904793\n",
        "high"
       ]
      },
      {
       "output_type": "stream",
       "stream": "stdout",
       "text": [
        " 1 14 5.98846297504 1.79653889251\n",
        "high"
       ]
      },
      {
       "output_type": "stream",
       "stream": "stdout",
       "text": [
        " 1 16 6.84395768576 2.05318730573\n",
        "high"
       ]
      },
      {
       "output_type": "stream",
       "stream": "stdout",
       "text": [
        " 1 18 7.69945239648 2.30983571894\n",
        "high"
       ]
      },
      {
       "output_type": "stream",
       "stream": "stdout",
       "text": [
        " 1 20 8.5549471072 2.56648413216\n",
        "high"
       ]
      },
      {
       "output_type": "stream",
       "stream": "stdout",
       "text": [
        " 1 25 10.693683884 3.2081051652\n",
        "high"
       ]
      },
      {
       "output_type": "stream",
       "stream": "stdout",
       "text": [
        " 2 1 0.42774735536 0.128324206608\n",
        "high"
       ]
      },
      {
       "output_type": "stream",
       "stream": "stdout",
       "text": [
        " 2 2 0.85549471072 0.256648413216\n",
        "high"
       ]
      },
      {
       "output_type": "stream",
       "stream": "stdout",
       "text": [
        " 2 3 1.28324206608 0.384972619824\n",
        "high"
       ]
      },
      {
       "output_type": "stream",
       "stream": "stdout",
       "text": [
        " 2 4 1.71098942144 0.513296826432\n",
        "high"
       ]
      },
      {
       "output_type": "stream",
       "stream": "stdout",
       "text": [
        " 2 6 2.56648413216 0.769945239648\n",
        "high"
       ]
      },
      {
       "output_type": "stream",
       "stream": "stdout",
       "text": [
        " 2 8 3.42197884288 1.02659365286\n",
        "high"
       ]
      },
      {
       "output_type": "stream",
       "stream": "stdout",
       "text": [
        " 2 10 4.2774735536 1.28324206608\n",
        "high"
       ]
      },
      {
       "output_type": "stream",
       "stream": "stdout",
       "text": [
        " 2 12 5.13296826432 1.5398904793\n",
        "high"
       ]
      },
      {
       "output_type": "stream",
       "stream": "stdout",
       "text": [
        " 2 14 5.98846297504 1.79653889251\n",
        "high"
       ]
      },
      {
       "output_type": "stream",
       "stream": "stdout",
       "text": [
        " 2 16 6.84395768576 2.05318730573\n",
        "high"
       ]
      },
      {
       "output_type": "stream",
       "stream": "stdout",
       "text": [
        " 2 18 7.69945239648 2.30983571894\n",
        "high"
       ]
      },
      {
       "output_type": "stream",
       "stream": "stdout",
       "text": [
        " 2 20 8.5549471072 2.56648413216\n",
        "high"
       ]
      },
      {
       "output_type": "stream",
       "stream": "stdout",
       "text": [
        " 2 25 10.693683884 3.2081051652\n",
        "high"
       ]
      },
      {
       "output_type": "stream",
       "stream": "stdout",
       "text": [
        " 3 1 0.42774735536 0.128324206608\n",
        "high"
       ]
      },
      {
       "output_type": "stream",
       "stream": "stdout",
       "text": [
        " 3 2 0.85549471072 0.256648413216\n",
        "high"
       ]
      },
      {
       "output_type": "stream",
       "stream": "stdout",
       "text": [
        " 3 3 1.28324206608 0.384972619824\n",
        "high"
       ]
      },
      {
       "output_type": "stream",
       "stream": "stdout",
       "text": [
        " 3 4 1.71098942144 0.513296826432\n",
        "high"
       ]
      },
      {
       "output_type": "stream",
       "stream": "stdout",
       "text": [
        " 3 6 2.56648413216 0.769945239648\n",
        "high"
       ]
      },
      {
       "output_type": "stream",
       "stream": "stdout",
       "text": [
        " 3 8 3.42197884288 1.02659365286\n",
        "high"
       ]
      },
      {
       "output_type": "stream",
       "stream": "stdout",
       "text": [
        " 3 10 4.2774735536 1.28324206608\n",
        "high"
       ]
      },
      {
       "output_type": "stream",
       "stream": "stdout",
       "text": [
        " 3 12 5.13296826432 1.5398904793\n",
        "high"
       ]
      },
      {
       "output_type": "stream",
       "stream": "stdout",
       "text": [
        " 3 14 5.98846297504 1.79653889251\n",
        "high"
       ]
      },
      {
       "output_type": "stream",
       "stream": "stdout",
       "text": [
        " 3 16 6.84395768576 2.05318730573\n",
        "high"
       ]
      },
      {
       "output_type": "stream",
       "stream": "stdout",
       "text": [
        " 3 18 7.69945239648 2.30983571894\n",
        "high"
       ]
      },
      {
       "output_type": "stream",
       "stream": "stdout",
       "text": [
        " 3 20 8.5549471072 2.56648413216\n",
        "high"
       ]
      },
      {
       "output_type": "stream",
       "stream": "stdout",
       "text": [
        " 3 25 10.693683884 3.2081051652\n",
        "high"
       ]
      },
      {
       "output_type": "stream",
       "stream": "stdout",
       "text": [
        " 4 1 0.42774735536 0.128324206608\n",
        "high"
       ]
      },
      {
       "output_type": "stream",
       "stream": "stdout",
       "text": [
        " 4 2 0.85549471072 0.256648413216\n",
        "high"
       ]
      },
      {
       "output_type": "stream",
       "stream": "stdout",
       "text": [
        " 4 3 1.28324206608 0.384972619824\n",
        "high"
       ]
      },
      {
       "output_type": "stream",
       "stream": "stdout",
       "text": [
        " 4 4 1.71098942144 0.513296826432\n",
        "high"
       ]
      },
      {
       "output_type": "stream",
       "stream": "stdout",
       "text": [
        " 4 6 2.56648413216 0.769945239648\n",
        "high"
       ]
      },
      {
       "output_type": "stream",
       "stream": "stdout",
       "text": [
        " 4 8 3.42197884288 1.02659365286\n",
        "high"
       ]
      },
      {
       "output_type": "stream",
       "stream": "stdout",
       "text": [
        " 4 10 4.2774735536 1.28324206608\n",
        "high"
       ]
      },
      {
       "output_type": "stream",
       "stream": "stdout",
       "text": [
        " 4 12 5.13296826432 1.5398904793\n",
        "high"
       ]
      },
      {
       "output_type": "stream",
       "stream": "stdout",
       "text": [
        " 4 14 5.98846297504 1.79653889251\n",
        "high"
       ]
      },
      {
       "output_type": "stream",
       "stream": "stdout",
       "text": [
        " 4 16 6.84395768576 2.05318730573\n",
        "high"
       ]
      },
      {
       "output_type": "stream",
       "stream": "stdout",
       "text": [
        " 4 18 7.69945239648 2.30983571894\n",
        "high"
       ]
      },
      {
       "output_type": "stream",
       "stream": "stdout",
       "text": [
        " 4 20 8.5549471072 2.56648413216\n",
        "high"
       ]
      },
      {
       "output_type": "stream",
       "stream": "stdout",
       "text": [
        " 4 25 10.693683884 3.2081051652\n",
        "high"
       ]
      },
      {
       "output_type": "stream",
       "stream": "stdout",
       "text": [
        " 6 1 0.42774735536 0.128324206608\n",
        "high"
       ]
      },
      {
       "output_type": "stream",
       "stream": "stdout",
       "text": [
        " 6 2 0.85549471072 0.256648413216\n",
        "high"
       ]
      },
      {
       "output_type": "stream",
       "stream": "stdout",
       "text": [
        " 6 3 1.28324206608 0.384972619824\n",
        "high"
       ]
      },
      {
       "output_type": "stream",
       "stream": "stdout",
       "text": [
        " 6 4 1.71098942144 0.513296826432\n",
        "high"
       ]
      },
      {
       "output_type": "stream",
       "stream": "stdout",
       "text": [
        " 6 6 2.56648413216 0.769945239648\n",
        "high"
       ]
      },
      {
       "output_type": "stream",
       "stream": "stdout",
       "text": [
        " 6 8 3.42197884288 1.02659365286\n",
        "high"
       ]
      },
      {
       "output_type": "stream",
       "stream": "stdout",
       "text": [
        " 6 10 4.2774735536 1.28324206608\n",
        "high"
       ]
      },
      {
       "output_type": "stream",
       "stream": "stdout",
       "text": [
        " 6 12 5.13296826432 1.5398904793\n",
        "high"
       ]
      },
      {
       "output_type": "stream",
       "stream": "stdout",
       "text": [
        " 6 14 5.98846297504 1.79653889251\n",
        "high"
       ]
      },
      {
       "output_type": "stream",
       "stream": "stdout",
       "text": [
        " 6 16 6.84395768576 2.05318730573\n",
        "high"
       ]
      },
      {
       "output_type": "stream",
       "stream": "stdout",
       "text": [
        " 6 18 7.69945239648 2.30983571894\n",
        "high"
       ]
      },
      {
       "output_type": "stream",
       "stream": "stdout",
       "text": [
        " 6 20 8.5549471072 2.56648413216\n",
        "high"
       ]
      },
      {
       "output_type": "stream",
       "stream": "stdout",
       "text": [
        " 6 25 10.693683884 3.2081051652\n",
        "high"
       ]
      },
      {
       "output_type": "stream",
       "stream": "stdout",
       "text": [
        " 8 1 0.42774735536 0.128324206608\n",
        "high"
       ]
      },
      {
       "output_type": "stream",
       "stream": "stdout",
       "text": [
        " 8 2 0.85549471072 0.256648413216\n",
        "high"
       ]
      },
      {
       "output_type": "stream",
       "stream": "stdout",
       "text": [
        " 8 3 1.28324206608 0.384972619824\n",
        "high"
       ]
      },
      {
       "output_type": "stream",
       "stream": "stdout",
       "text": [
        " 8 4 1.71098942144 0.513296826432\n",
        "high"
       ]
      },
      {
       "output_type": "stream",
       "stream": "stdout",
       "text": [
        " 8 6 2.56648413216 0.769945239648\n",
        "high"
       ]
      },
      {
       "output_type": "stream",
       "stream": "stdout",
       "text": [
        " 8 8 3.42197884288 1.02659365286\n",
        "high"
       ]
      },
      {
       "output_type": "stream",
       "stream": "stdout",
       "text": [
        " 8 10 4.2774735536 1.28324206608\n",
        "high"
       ]
      },
      {
       "output_type": "stream",
       "stream": "stdout",
       "text": [
        " 8 12 5.13296826432 1.5398904793\n",
        "high"
       ]
      },
      {
       "output_type": "stream",
       "stream": "stdout",
       "text": [
        " 8 14 5.98846297504 1.79653889251\n",
        "high"
       ]
      },
      {
       "output_type": "stream",
       "stream": "stdout",
       "text": [
        " 8 16 6.84395768576 2.05318730573\n",
        "high"
       ]
      },
      {
       "output_type": "stream",
       "stream": "stdout",
       "text": [
        " 8 18 7.69945239648 2.30983571894\n",
        "high"
       ]
      },
      {
       "output_type": "stream",
       "stream": "stdout",
       "text": [
        " 8 20 8.5549471072 2.56648413216\n",
        "high"
       ]
      },
      {
       "output_type": "stream",
       "stream": "stdout",
       "text": [
        " 8 25 10.693683884 3.2081051652\n",
        "high"
       ]
      },
      {
       "output_type": "stream",
       "stream": "stdout",
       "text": [
        " 10 1 0.42774735536 0.128324206608\n",
        "high"
       ]
      },
      {
       "output_type": "stream",
       "stream": "stdout",
       "text": [
        " 10 2 0.85549471072 0.256648413216\n",
        "high"
       ]
      },
      {
       "output_type": "stream",
       "stream": "stdout",
       "text": [
        " 10 3 1.28324206608 0.384972619824\n",
        "high"
       ]
      },
      {
       "output_type": "stream",
       "stream": "stdout",
       "text": [
        " 10 4 1.71098942144 0.513296826432\n",
        "high"
       ]
      },
      {
       "output_type": "stream",
       "stream": "stdout",
       "text": [
        " 10 6 2.56648413216 0.769945239648\n",
        "high"
       ]
      },
      {
       "output_type": "stream",
       "stream": "stdout",
       "text": [
        " 10 8 3.42197884288 1.02659365286\n",
        "high"
       ]
      },
      {
       "output_type": "stream",
       "stream": "stdout",
       "text": [
        " 10 10 4.2774735536 1.28324206608\n",
        "high"
       ]
      },
      {
       "output_type": "stream",
       "stream": "stdout",
       "text": [
        " 10 12 5.13296826432 1.5398904793\n",
        "high"
       ]
      },
      {
       "output_type": "stream",
       "stream": "stdout",
       "text": [
        " 10 14 5.98846297504 1.79653889251\n",
        "high"
       ]
      },
      {
       "output_type": "stream",
       "stream": "stdout",
       "text": [
        " 10 16 6.84395768576 2.05318730573\n",
        "high"
       ]
      },
      {
       "output_type": "stream",
       "stream": "stdout",
       "text": [
        " 10 18 7.69945239648 2.30983571894\n",
        "high"
       ]
      },
      {
       "output_type": "stream",
       "stream": "stdout",
       "text": [
        " 10 20 8.5549471072 2.56648413216\n",
        "high"
       ]
      },
      {
       "output_type": "stream",
       "stream": "stdout",
       "text": [
        " 10 25 10.693683884 3.2081051652\n",
        "high"
       ]
      },
      {
       "output_type": "stream",
       "stream": "stdout",
       "text": [
        " 12 1 0.42774735536 0.128324206608\n",
        "high"
       ]
      },
      {
       "output_type": "stream",
       "stream": "stdout",
       "text": [
        " 12 2 0.85549471072 0.256648413216\n",
        "high"
       ]
      },
      {
       "output_type": "stream",
       "stream": "stdout",
       "text": [
        " 12 3 1.28324206608 0.384972619824\n",
        "high"
       ]
      },
      {
       "output_type": "stream",
       "stream": "stdout",
       "text": [
        " 12 4 1.71098942144 0.513296826432\n",
        "high"
       ]
      },
      {
       "output_type": "stream",
       "stream": "stdout",
       "text": [
        " 12 6 2.56648413216 0.769945239648\n",
        "high"
       ]
      },
      {
       "output_type": "stream",
       "stream": "stdout",
       "text": [
        " 12 8 3.42197884288 1.02659365286\n",
        "high"
       ]
      },
      {
       "output_type": "stream",
       "stream": "stdout",
       "text": [
        " 12 10 4.2774735536 1.28324206608\n",
        "high"
       ]
      },
      {
       "output_type": "stream",
       "stream": "stdout",
       "text": [
        " 12 12 5.13296826432 1.5398904793\n",
        "high"
       ]
      },
      {
       "output_type": "stream",
       "stream": "stdout",
       "text": [
        " 12 14 5.98846297504 1.79653889251\n",
        "high"
       ]
      },
      {
       "output_type": "stream",
       "stream": "stdout",
       "text": [
        " 12 16 6.84395768576 2.05318730573\n",
        "high"
       ]
      },
      {
       "output_type": "stream",
       "stream": "stdout",
       "text": [
        " 12 18 7.69945239648 2.30983571894\n",
        "high"
       ]
      },
      {
       "output_type": "stream",
       "stream": "stdout",
       "text": [
        " 12 20 8.5549471072 2.56648413216\n",
        "high"
       ]
      },
      {
       "output_type": "stream",
       "stream": "stdout",
       "text": [
        " 12 25 10.693683884 3.2081051652\n",
        "high"
       ]
      },
      {
       "output_type": "stream",
       "stream": "stdout",
       "text": [
        " 14 1 0.42774735536 0.128324206608\n",
        "high"
       ]
      },
      {
       "output_type": "stream",
       "stream": "stdout",
       "text": [
        " 14 2 0.85549471072 0.256648413216\n",
        "high"
       ]
      },
      {
       "output_type": "stream",
       "stream": "stdout",
       "text": [
        " 14 3 1.28324206608 0.384972619824\n",
        "high"
       ]
      },
      {
       "output_type": "stream",
       "stream": "stdout",
       "text": [
        " 14 4 1.71098942144 0.513296826432\n",
        "high"
       ]
      },
      {
       "output_type": "stream",
       "stream": "stdout",
       "text": [
        " 14 6 2.56648413216 0.769945239648\n",
        "high"
       ]
      },
      {
       "output_type": "stream",
       "stream": "stdout",
       "text": [
        " 14 8 3.42197884288 1.02659365286\n",
        "high"
       ]
      },
      {
       "output_type": "stream",
       "stream": "stdout",
       "text": [
        " 14 10 4.2774735536 1.28324206608\n",
        "high"
       ]
      },
      {
       "output_type": "stream",
       "stream": "stdout",
       "text": [
        " 14 12 5.13296826432 1.5398904793\n",
        "high"
       ]
      },
      {
       "output_type": "stream",
       "stream": "stdout",
       "text": [
        " 14 14 5.98846297504 1.79653889251\n",
        "high"
       ]
      },
      {
       "output_type": "stream",
       "stream": "stdout",
       "text": [
        " 14 16 6.84395768576 2.05318730573\n",
        "high"
       ]
      },
      {
       "output_type": "stream",
       "stream": "stdout",
       "text": [
        " 14 18 7.69945239648 2.30983571894\n",
        "high"
       ]
      },
      {
       "output_type": "stream",
       "stream": "stdout",
       "text": [
        " 14 20 8.5549471072 2.56648413216\n",
        "high"
       ]
      },
      {
       "output_type": "stream",
       "stream": "stdout",
       "text": [
        " 14 25 10.693683884 3.2081051652\n",
        "high"
       ]
      },
      {
       "output_type": "stream",
       "stream": "stdout",
       "text": [
        " 16 1 0.42774735536 0.128324206608\n",
        "high"
       ]
      },
      {
       "output_type": "stream",
       "stream": "stdout",
       "text": [
        " 16 2 0.85549471072 0.256648413216\n",
        "high"
       ]
      },
      {
       "output_type": "stream",
       "stream": "stdout",
       "text": [
        " 16 3 1.28324206608 0.384972619824\n",
        "high"
       ]
      },
      {
       "output_type": "stream",
       "stream": "stdout",
       "text": [
        " 16 4 1.71098942144 0.513296826432\n",
        "high"
       ]
      },
      {
       "output_type": "stream",
       "stream": "stdout",
       "text": [
        " 16 6 2.56648413216 0.769945239648\n",
        "high"
       ]
      },
      {
       "output_type": "stream",
       "stream": "stdout",
       "text": [
        " 16 8 3.42197884288 1.02659365286\n",
        "high"
       ]
      },
      {
       "output_type": "stream",
       "stream": "stdout",
       "text": [
        " 16 10 4.2774735536 1.28324206608\n",
        "high"
       ]
      },
      {
       "output_type": "stream",
       "stream": "stdout",
       "text": [
        " 16 12 5.13296826432 1.5398904793\n",
        "high"
       ]
      },
      {
       "output_type": "stream",
       "stream": "stdout",
       "text": [
        " 16 14 5.98846297504 1.79653889251\n",
        "high"
       ]
      },
      {
       "output_type": "stream",
       "stream": "stdout",
       "text": [
        " 16 16 6.84395768576 2.05318730573\n",
        "high"
       ]
      },
      {
       "output_type": "stream",
       "stream": "stdout",
       "text": [
        " 16 18 7.69945239648 2.30983571894\n",
        "high"
       ]
      },
      {
       "output_type": "stream",
       "stream": "stdout",
       "text": [
        " 16 20 8.5549471072 2.56648413216\n",
        "high"
       ]
      },
      {
       "output_type": "stream",
       "stream": "stdout",
       "text": [
        " 16 25 10.693683884 3.2081051652\n",
        "high"
       ]
      },
      {
       "output_type": "stream",
       "stream": "stdout",
       "text": [
        " 18 1 0.42774735536 0.128324206608\n",
        "high"
       ]
      },
      {
       "output_type": "stream",
       "stream": "stdout",
       "text": [
        " 18 2 0.85549471072 0.256648413216\n",
        "high"
       ]
      },
      {
       "output_type": "stream",
       "stream": "stdout",
       "text": [
        " 18 3 1.28324206608 0.384972619824\n",
        "high"
       ]
      },
      {
       "output_type": "stream",
       "stream": "stdout",
       "text": [
        " 18 4 1.71098942144 0.513296826432\n",
        "high"
       ]
      },
      {
       "output_type": "stream",
       "stream": "stdout",
       "text": [
        " 18 6 2.56648413216 0.769945239648\n",
        "high"
       ]
      },
      {
       "output_type": "stream",
       "stream": "stdout",
       "text": [
        " 18 8 3.42197884288 1.02659365286\n",
        "high"
       ]
      },
      {
       "output_type": "stream",
       "stream": "stdout",
       "text": [
        " 18 10 4.2774735536 1.28324206608\n",
        "high"
       ]
      },
      {
       "output_type": "stream",
       "stream": "stdout",
       "text": [
        " 18 12 5.13296826432 1.5398904793\n",
        "high"
       ]
      },
      {
       "output_type": "stream",
       "stream": "stdout",
       "text": [
        " 18 14 5.98846297504 1.79653889251\n",
        "high"
       ]
      },
      {
       "output_type": "stream",
       "stream": "stdout",
       "text": [
        " 18 16 6.84395768576 2.05318730573\n",
        "high"
       ]
      },
      {
       "output_type": "stream",
       "stream": "stdout",
       "text": [
        " 18 18 7.69945239648 2.30983571894\n",
        "high"
       ]
      },
      {
       "output_type": "stream",
       "stream": "stdout",
       "text": [
        " 18 20 8.5549471072 2.56648413216\n",
        "high"
       ]
      },
      {
       "output_type": "stream",
       "stream": "stdout",
       "text": [
        " 18 25 10.693683884 3.2081051652\n",
        "high"
       ]
      },
      {
       "output_type": "stream",
       "stream": "stdout",
       "text": [
        " 20 1 0.42774735536 0.128324206608\n",
        "high"
       ]
      },
      {
       "output_type": "stream",
       "stream": "stdout",
       "text": [
        " 20 2 0.85549471072 0.256648413216\n",
        "high"
       ]
      },
      {
       "output_type": "stream",
       "stream": "stdout",
       "text": [
        " 20 3 1.28324206608 0.384972619824\n",
        "high"
       ]
      },
      {
       "output_type": "stream",
       "stream": "stdout",
       "text": [
        " 20 4 1.71098942144 0.513296826432\n",
        "high"
       ]
      },
      {
       "output_type": "stream",
       "stream": "stdout",
       "text": [
        " 20 6 2.56648413216 0.769945239648\n",
        "high"
       ]
      },
      {
       "output_type": "stream",
       "stream": "stdout",
       "text": [
        " 20 8 3.42197884288 1.02659365286\n",
        "high"
       ]
      },
      {
       "output_type": "stream",
       "stream": "stdout",
       "text": [
        " 20 10 4.2774735536 1.28324206608\n",
        "high"
       ]
      },
      {
       "output_type": "stream",
       "stream": "stdout",
       "text": [
        " 20 12 5.13296826432 1.5398904793\n",
        "high"
       ]
      },
      {
       "output_type": "stream",
       "stream": "stdout",
       "text": [
        " 20 14 5.98846297504 1.79653889251\n",
        "high"
       ]
      },
      {
       "output_type": "stream",
       "stream": "stdout",
       "text": [
        " 20 16 6.84395768576 2.05318730573\n",
        "high"
       ]
      },
      {
       "output_type": "stream",
       "stream": "stdout",
       "text": [
        " 20 18 7.69945239648 2.30983571894\n",
        "high"
       ]
      },
      {
       "output_type": "stream",
       "stream": "stdout",
       "text": [
        " 20 20 8.5549471072 2.56648413216\n",
        "high"
       ]
      },
      {
       "output_type": "stream",
       "stream": "stdout",
       "text": [
        " 20 25 10.693683884 3.2081051652\n",
        "high"
       ]
      },
      {
       "output_type": "stream",
       "stream": "stdout",
       "text": [
        " 25 1 0.42774735536 0.128324206608\n",
        "high"
       ]
      },
      {
       "output_type": "stream",
       "stream": "stdout",
       "text": [
        " 25 2 0.85549471072 0.256648413216\n",
        "high"
       ]
      },
      {
       "output_type": "stream",
       "stream": "stdout",
       "text": [
        " 25 3 1.28324206608 0.384972619824\n",
        "high"
       ]
      },
      {
       "output_type": "stream",
       "stream": "stdout",
       "text": [
        " 25 4 1.71098942144 0.513296826432\n",
        "high"
       ]
      },
      {
       "output_type": "stream",
       "stream": "stdout",
       "text": [
        " 25 6 2.56648413216 0.769945239648\n",
        "high"
       ]
      },
      {
       "output_type": "stream",
       "stream": "stdout",
       "text": [
        " 25 8 3.42197884288 1.02659365286\n",
        "high"
       ]
      },
      {
       "output_type": "stream",
       "stream": "stdout",
       "text": [
        " 25 10 4.2774735536 1.28324206608\n",
        "high"
       ]
      },
      {
       "output_type": "stream",
       "stream": "stdout",
       "text": [
        " 25 12 5.13296826432 1.5398904793\n",
        "high"
       ]
      },
      {
       "output_type": "stream",
       "stream": "stdout",
       "text": [
        " 25 14 5.98846297504 1.79653889251\n",
        "high"
       ]
      },
      {
       "output_type": "stream",
       "stream": "stdout",
       "text": [
        " 25 16 6.84395768576 2.05318730573\n",
        "high"
       ]
      },
      {
       "output_type": "stream",
       "stream": "stdout",
       "text": [
        " 25 18 7.69945239648 2.30983571894\n",
        "high"
       ]
      },
      {
       "output_type": "stream",
       "stream": "stdout",
       "text": [
        " 25 20 8.5549471072 2.56648413216\n",
        "high"
       ]
      },
      {
       "output_type": "stream",
       "stream": "stdout",
       "text": [
        " 25 25 10.693683884 3.2081051652\n"
       ]
      }
     ],
     "prompt_number": 15
    },
    {
     "cell_type": "code",
     "collapsed": false,
     "input": [
      "%pylab qt\n",
      "import matplotlib.pyplot as plt\n",
      "from mpl_toolkits.mplot3d import Axes3D\n",
      "fig = plt.figure()\n",
      "ax = fig.add_subplot(111, projection='3d')\n",
      "\n",
      "X = np.array((1,2,3,4,6,8,10,12,14,16,18,20,25))\n",
      "Y = np.array((1,2,3,4,6,8,10,12,14,16,18,20,25))\n",
      "X, Y = np.meshgrid(X, Y)\n",
      "\n",
      "Z = zz['low']\n",
      "ax.plot_surface(X, Y, Z,rstride=1, cstride=1)"
     ],
     "language": "python",
     "metadata": {},
     "outputs": [
      {
       "output_type": "stream",
       "stream": "stdout",
       "text": [
        "Populating the interactive namespace from numpy and matplotlib\n"
       ]
      },
      {
       "metadata": {},
       "output_type": "pyout",
       "prompt_number": 22,
       "text": [
        "<mpl_toolkits.mplot3d.art3d.Poly3DCollection at 0x104c7a850>"
       ]
      }
     ],
     "prompt_number": 22
    },
    {
     "cell_type": "code",
     "collapsed": false,
     "input": [
      "# Length law\n",
      "len(g)"
     ],
     "language": "python",
     "metadata": {},
     "outputs": [
      {
       "metadata": {},
       "output_type": "pyout",
       "prompt_number": 24,
       "text": [
        "40045"
       ]
      }
     ],
     "prompt_number": 24
    },
    {
     "cell_type": "code",
     "collapsed": false,
     "input": [
      "%pylab inline\n",
      "max_scale = g.max_scale()\n",
      "\n",
      "ramifs = [v for v in g.vertices(scale=1) if g.edge_type(v) != '<' ]\n",
      "lengthes_ramif = {}\n",
      "for r in ramifs: \n",
      "    if g.parent(r):\n",
      "        my_length = sum(length[v] for v in g.Axis(r))\n",
      "        lengthes_ramif.setdefault(g.parent(r), []).append(my_length)\n",
      "    \n",
      "pi = g.property('position_index') \n",
      "\n",
      "crv = [(1200-i, max(lengthes_ramif[v]))for i, v in enumerate(g.Axis(2)) if v in lengthes_ramif]\n",
      "x, y = zip(*crv)\n",
      "plot(x, y)"
     ],
     "language": "python",
     "metadata": {},
     "outputs": [
      {
       "output_type": "stream",
       "stream": "stdout",
       "text": [
        "Populating the interactive namespace from numpy and matplotlib\n"
       ]
      },
      {
       "output_type": "stream",
       "stream": "stderr",
       "text": [
        "WARNING: pylab import has clobbered these variables: ['pi']\n",
        "`%matplotlib` prevents importing * from pylab and numpy\n"
       ]
      },
      {
       "metadata": {},
       "output_type": "pyout",
       "prompt_number": 85,
       "text": [
        "[<matplotlib.lines.Line2D at 0x1170157d0>]"
       ]
      },
      {
       "metadata": {},
       "output_type": "display_data",
       "png": "[encoded data removed]",
       "text": [
        "<matplotlib.figure.Figure at 0x1176b15d0>"
       ]
      }
     ],
     "prompt_number": 85
    },
    {
     "cell_type": "code",
     "collapsed": false,
     "input": [
      "ax"
     ],
     "language": "python",
     "metadata": {},
     "outputs": [
      {
       "metadata": {},
       "output_type": "pyout",
       "prompt_number": 62,
       "text": [
        "<matplotlib.axes._subplots.Axes3DSubplot at 0x104c61550>"
       ]
      }
     ],
     "prompt_number": 62
    },
    {
     "cell_type": "code",
     "collapsed": false,
     "input": [
      "clf()\n",
      "for r in ramifs:\n",
      "    if r <=2:\n",
      "        continue\n",
      "    crv = [(i, max(lengthes_ramif[v]))for i, v in enumerate(g.Axis(r)) if v in lengthes_ramif]\n",
      "    if crv:\n",
      "        x, y = zip(*crv)\n",
      "        plot(x, y)"
     ],
     "language": "python",
     "metadata": {},
     "outputs": [
      {
       "metadata": {},
       "output_type": "display_data",
       "png": "[encoded data removed]",
       "text": [
        "<matplotlib.figure.Figure at 0x1183b8b90>"
       ]
      }
     ],
     "prompt_number": 95
    },
    {
     "cell_type": "heading",
     "level": 1,
     "metadata": {},
     "source": [
      "MTG generation from pure data"
     ]
    },
    {
     "cell_type": "code",
     "collapsed": false,
     "input": [
      "data=\"\"\"\n",
      "129,62 \t112,02\n",
      "127,13 \t94,48\n",
      "125,21 \t3,97\n",
      "125,04 \t24,98\n",
      "123,56 \t79,71\n",
      "122,09 \t52,66\n",
      "117,91 \t105,59\n",
      "116,56 \t84,17\n",
      "116,04 \t84,71\n",
      "115,89 \t54,06\n",
      "113,96 \t41,95\n",
      "112,32 \t89,28\n",
      "108,31 \t51,74\n",
      "106,82 \t14,01\n",
      "105,86 \t57,72\n",
      "103,61 \t21,35\n",
      "100,09 \t5,53\n",
      "97,34 \t2,08\n",
      "96,22 \t54,11\n",
      "93,16 \t13,8\n",
      "90,86 \t2,65\n",
      "88,08 \t61,73\n",
      "86,26 \t1,02\n",
      "82,77 \t23,77\n",
      "81,62 \t8,2\n",
      "79,8 \t30,64\n",
      "78,51 \t0,97\n",
      "76,39 \t1,52\n",
      "74,32 \t62,39\n",
      "72,49 \t57,38\n",
      "69,91 \t54,69\n",
      "66,12 \t47,38\n",
      "63,75 \t24,86\n",
      "60,86 \t18,68\n",
      "60,58 \t12,82\n",
      "59,52 \t5,49\n",
      "57,17 \t1,11\n",
      "56,41 \t3,51\n",
      "55,4 \t9,58\n",
      "51,82 \t21,11\n",
      "51,44 \t15,1\n",
      "50,16 \t15,28\n",
      "47,96 \t3,47\n",
      "47,15 \t10,63\n",
      "46,91 \t14,53\n",
      "45,69 \t7,28\n",
      "44,22 \t11,34\n",
      "42,33 \t5,55\n",
      "40,64 \t4,68\n",
      "39,41 \t9,78\n",
      "38,08 \t4,58\n",
      "35,08 \t1,1\n",
      "33,91 \t0,43\n",
      "32,83 \t0,83\n",
      "31,73 \t0,54\n",
      "30,2 \t0,52\n",
      "28,35 \t0,47\n",
      "26,42 \t0,1\n",
      "25,45 \t0,29\n",
      "\"\"\"\n",
      "data = data.replace(',','.')\n",
      "data = zip(*[d.split('\\t') for d in data.strip().split('\\n') ])\n",
      "length_tip, length_lateral = data\n",
      "length_tip = map(float, length_tip)\n",
      "length_lateral = map(float, length_lateral)"
     ],
     "language": "python",
     "metadata": {},
     "outputs": [],
     "prompt_number": 20
    },
    {
     "cell_type": "code",
     "collapsed": false,
     "input": [
      "from openalea.mtg import MTG\n",
      "def mtg_builder(total_length, length_tip, length_lateral):\n",
      "    \"\"\" Create a MTG from length laws.\n",
      "    \n",
      "    The first law is the length of the primary root.\n",
      "    The second law is the length of the ramification.\n",
      "    \"\"\"\n",
      "    g = MTG()\n",
      "    rid = vid = g.add_component(g.root)\n",
      "    # Primary root\n",
      "    g.node(vid).tip_length = total_length    \n",
      "    for len_tip in length_tip:\n",
      "        vid = g.add_child(vid, edge_type='<', label='S', tip_length=len_tip, order=0)\n",
      "    g.add_child(vid, edge_type='<', label='S', tip_length=0, order=0)\n",
      "    \n",
      "    vids = g.Trunk(rid)\n",
      "    tl = g.property('tip_length')\n",
      "\n",
      "    for i in range(len(vids)-1):\n",
      "        len_s = tl[vids[i]]- tl[vids[i+1]]\n",
      "        g.node(vids[i]).length = len_s\n",
      "    g.node(vids[-1]).length = length_tip[-1]\n",
      "        \n",
      "    for i, len_lat in enumerate(length_lateral):\n",
      "        cid = g.add_child(vids[i+1], edge_type='+', label='S', tip_length=len_lat, length=len_lat, order=1)\n",
      "\n",
      "    return g\n",
      "\n",
      "gg = mtg_builder(130,length_tip, length_lateral)\n",
      "        \n"
     ],
     "language": "python",
     "metadata": {},
     "outputs": [],
     "prompt_number": 25
    },
    {
     "cell_type": "code",
     "collapsed": false,
     "input": [
      "%gui qt\n",
      "from hydroroot import display as dis\n",
      "\n",
      "#%gui qt\n",
      "from openalea.plantgl.all import *\n",
      "#for g in mtgs:\n",
      "scene = dis.plot(gg, r_base=1, r_tip=5e-1, prop_cmap='tip_length', lognorm=False)\n",
      "    #display(PlantGL(scene))\n",
      "Viewer.display(scene)"
     ],
     "language": "python",
     "metadata": {},
     "outputs": [],
     "prompt_number": 31
    },
    {
     "cell_type": "code",
     "collapsed": false,
     "input": [],
     "language": "python",
     "metadata": {},
     "outputs": []
    }
   ],
   "metadata": {}
  }
 ]
}