{
 "metadata": {
  "name": "",
  "signature": "sha256:611a421bd1a6b7306ed2f238a0be6739dbee7d0e8a9b0713319050ab943a5389"
 },
 "nbformat": 3,
 "nbformat_minor": 0,
 "worksheets": [
  {
   "cells": [
    {
     "cell_type": "heading",
     "level": 1,
     "metadata": {},
     "source": [
      "Architectural Analysis"
     ]
    },
    {
     "cell_type": "heading",
     "level": 2,
     "metadata": {},
     "source": [
      "Imports"
     ]
    },
    {
     "cell_type": "code",
     "collapsed": false,
     "input": [
      "#from vpltkdisplay import *\n",
      "\n",
      "%matplotlib inline\n",
      "from pylab import plot, hist\n",
      "%gui qt"
     ],
     "language": "python",
     "metadata": {},
     "outputs": [],
     "prompt_number": 1
    },
    {
     "cell_type": "heading",
     "level": 2,
     "metadata": {},
     "source": [
      "Data for the different genotypes"
     ]
    },
    {
     "cell_type": "code",
     "collapsed": false,
     "input": [
      "import numpy as np\n",
      "\n",
      "length_data = [0., 0.03, 0.05, 0.16], [0., 0., 0.01, 0.13]\n",
      "\n",
      "def radial(v=300):\n",
      "    xr = [0., 0.015, 0.03, 0.045, 0.06, 0.075, 0.09, 0.105, 0.135, 0.15, 0.16]\n",
      "    yr = [v]*len(xr)\n",
      "    return xr, yr\n",
      "\n",
      "# radial\n",
      "r = {}\n",
      "r['col'] = radial(300)\n",
      "r['pip2122'] = radial(239)\n",
      "r['esk11'] = radial(373)\n",
      "r['esk15'] = radial(518)\n",
      "r['irx34'] = radial(300)"
     ],
     "language": "python",
     "metadata": {},
     "outputs": [],
     "prompt_number": 2
    },
    {
     "cell_type": "heading",
     "level": 1,
     "metadata": {},
     "source": [
      "Axial Conductivity for different genotypes"
     ]
    },
    {
     "cell_type": "code",
     "collapsed": false,
     "input": [
      "# axial\n",
      "a={}\n",
      "a['col'] = (\n",
      "    [0., 0.03,  0.06, 0.09, 0.12, 0.15, 0.18], \n",
      "    [2.9e-4, 34.8e-4, 147.4e-4, 200.3e-4,292.6e-4,262.5e-4,511.1e-4]\n",
      ")\n",
      "\n",
      "a['esk11'] = (\n",
      "    [0., 0.03,  0.06, 0.09, 0.12], \n",
      "    [2.3e-4, 15.9e-4, 158.9e-4, 216.4e-4,192.e-4]\n",
      ")\n",
      "\n",
      "a['esk15'] = (\n",
      "    [0., 0.03,  0.06, 0.09, 0.12, 0.15], \n",
      "    [0.7e-4, 3.9e-4, 168.8e-4, 220.5e-4,239.3e-4, 219.5e-4]\n",
      ")\n",
      "\n",
      "a['irx34'] = (\n",
      "    [0., 0.03,  0.06, 0.09, 0.12], \n",
      "    [5.2e-4, 11.4e-4, 19.8e-4, 119.6e-4,359.9e-4]\n",
      ")\n",
      "\n",
      "a['pip2122'] = a['col']"
     ],
     "language": "python",
     "metadata": {},
     "outputs": [],
     "prompt_number": 3
    },
    {
     "cell_type": "heading",
     "level": 1,
     "metadata": {},
     "source": [
      "Root length"
     ]
    },
    {
     "cell_type": "code",
     "collapsed": false,
     "input": [
      "# length\n",
      "l={}\n",
      "nn={}\n",
      "l['col'] = [0., 0.03, 0.05, 0.16], [0., 0., 0.01, 0.13]\n",
      "#nn['col'] = 0.1150 #a ne place ici que si on ne le d\u00e9finit pas dans la cellule dessous\n",
      "\n",
      "l['esk11'] = [0., 0.02, 0.05, 0.09, 0.13], [0., 0., 0.001, 0.045, 0.089]\n",
      "nn['esk11'] = 0.1050\n",
      "\n",
      "l['esk15'] = [0., 0.02, 0.08, 0.10, 0.16], [0., 0., 0.005, 0.02, 0.065]\n",
      "nn['esk15'] = 0.1467 \n",
      "\n",
      "l['irx34'] = [0., 0.02, 0.05, 0.09, 0.13], [0., 0., 0.005, 0.03, 0.055]\n",
      "nn['irx34'] = 0.1200\n",
      "\n",
      "l['pip2122'] = l['col']\n",
      "nn['pip2122'] = 0.1500\n",
      "\n",
      "#length_data = l['col']\n",
      "#n = nn['col']\n",
      "\n",
      "xx, yy = l['col']\n",
      "plot(xx, yy)\n"
     ],
     "language": "python",
     "metadata": {},
     "outputs": [
      {
       "metadata": {},
       "output_type": "pyout",
       "prompt_number": 4,
       "text": [
        "[<matplotlib.lines.Line2D at 0x5a28af0>]"
       ]
      },
      {
       "metadata": {},
       "output_type": "display_data",
       "png": "[encoded data removed]",
       "text": [
        "<matplotlib.figure.Figure at 0x5985f30>"
       ]
      }
     ],
     "prompt_number": 4
    },
    {
     "cell_type": "code",
     "collapsed": false,
     "input": [
      "#d\u00e9finition des lois de longueurs m\u00e9dianes, hautes et basses\n",
      "n = nn['col'] = 0.120\n",
      "\n",
      "l['median'] = ([nn['col']*x/100. for x in range(0,101,5)],\n",
      "            [0.0, 0., 0., 0.00032, 0.000835, 0.00076, 0.002665, 0.003825, 0.006775, \n",
      "             0.00907, 0.01282, 0.01193, 0.01129, 0.010465, 0.015035, 0.01016, 0.016275, \n",
      "             0.01536, 0.05308, 0.07251,0.07971])\n",
      "l['low']= ([nn['col']*x/100. for x in range(0,101,5)],\n",
      "            [0.0, 0., 0., 0.00032, 0.00032, 0.000515, 0.002252, 0.001312, 0.003844, \n",
      "             0.006908, 0.005966, 0.00089, 0.001751, 0.001921, 0.002584, 0.003325, 0.005306, \n",
      "             0.009524, 0.046133, 0.056527,0.074152])\n",
      "l['high']= ([nn['col']*x/100. for x in range(0,101,5)],\n",
      "            [0.0, 0., 0., 0.00032, 0.001465, 0.0012, 0.003725, 0.007105, 0.01336, \n",
      "             0.009486, 0.02051, 0.022757, 0.023004, 0.027506, 0.0215, 0.02938, 0.039895, \n",
      "             0.050636, 0.062388, 0.07646,0.09448])\n",
      "\n",
      "xx, yy = l['median']\n",
      "plot(xx,yy)"
     ],
     "language": "python",
     "metadata": {},
     "outputs": [
      {
       "metadata": {},
       "output_type": "pyout",
       "prompt_number": 5,
       "text": [
        "[<matplotlib.lines.Line2D at 0x5ad09d0>]"
       ]
      },
      {
       "metadata": {},
       "output_type": "display_data",
       "png": "[encoded data removed]",
       "text": [
        "<matplotlib.figure.Figure at 0x5a64910>"
       ]
      }
     ],
     "prompt_number": 5
    },
    {
     "cell_type": "heading",
     "level": 1,
     "metadata": {},
     "source": [
      "Hydroroot model"
     ]
    },
    {
     "cell_type": "markdown",
     "metadata": {},
     "source": [
      "TODO\n",
      "====\n",
      "  - Explicit all the parameters to avoid any side effect\n"
     ]
    },
    {
     "cell_type": "code",
     "collapsed": false,
     "input": [
      "from hydroroot.main import hydroroot \n",
      "\n",
      "mtgs = []\n",
      "for genotype in ['col',]:# 'esk11', 'esk15']:#, 'irx34', 'pip2122']:\n",
      "    length_data = l['median']\n",
      "    axial_conductivity_data = a[genotype]\n",
      "    radial_conductivity_data = r[genotype]\n",
      "    n = nn[genotype]\n",
      "    for n in (n,):\n",
      "        seed = 4\n",
      "        g, surface, volume, Keq, Jv_global = hydroroot(\n",
      "        seed=seed,\n",
      "        primary_length = n,\n",
      "        length_data=length_data, \n",
      "        axial_conductivity_data=axial_conductivity_data, \n",
      "        radial_conductivity_data=radial_conductivity_data,\n",
      "        nude_length = 0.02,\n",
      "        )\n",
      "        mtgs.append(g)\n",
      "        print genotype, 'volume:', volume,'Keq:', Keq, 'Jv:', Jv_global, Jv_global/volume\n"
     ],
     "language": "python",
     "metadata": {},
     "outputs": [
      {
       "output_type": "stream",
       "stream": "stdout",
       "text": [
        "col volume: 2.13703081313e-08 Keq: 0.16746122677 Jv: 0.0502383680309 2350849.02483\n"
       ]
      }
     ],
     "prompt_number": 8
    },
    {
     "cell_type": "code",
     "collapsed": false,
     "input": [
      "from hydroroot import display as dis"
     ],
     "language": "python",
     "metadata": {},
     "outputs": [],
     "prompt_number": 9
    },
    {
     "cell_type": "heading",
     "level": 3,
     "metadata": {},
     "source": [
      "Display the RSA that has been computed"
     ]
    },
    {
     "cell_type": "code",
     "collapsed": false,
     "input": [
      "#%gui qt\n",
      "from openalea.plantgl.all import *\n",
      "#for g in mtgs:\n",
      "scene = dis.plot(mtgs[0], r_base=1e-4, r_tip=5e-5, prop_cmap='j', lognorm=False)\n",
      "    #display(PlantGL(scene))\n",
      "Viewer.display(scene)"
     ],
     "language": "python",
     "metadata": {},
     "outputs": [],
     "prompt_number": 10
    },
    {
     "cell_type": "heading",
     "level": 2,
     "metadata": {},
     "source": [
      "Compute the length on the simulated MTG"
     ]
    },
    {
     "cell_type": "code",
     "collapsed": false,
     "input": [
      "from openalea.mtg import algo\n",
      "\n",
      "# g is the col RSA\n",
      "g = mtgs[0]\n",
      "orders = algo.orders(g)\n",
      "\n",
      "# l is the set of vertices at the segment scale\n",
      "# l = g.vertices(scale=g.max_scale())\n"
     ],
     "language": "python",
     "metadata": {},
     "outputs": [],
     "prompt_number": 11
    },
    {
     "cell_type": "heading",
     "level": 2,
     "metadata": {},
     "source": [
      "Compute the cumulated length for each segment of the RSA "
     ]
    },
    {
     "cell_type": "code",
     "collapsed": false,
     "input": [
      "#g0, g1, g2, g3, g4 = mtgs\n",
      "g, = mtgs\n",
      "from openalea.mtg.traversal import pre_order2\n",
      "length= {}\n",
      "root = 1\n",
      "dl = 1.e-4\n",
      "for v in pre_order2(g,1):\n",
      "    pid = g.parent(v)\n",
      "    length[v] = length[pid]+dl if pid else dl\n",
      "\n",
      "def nb_root(l):\n",
      "    count = 0\n",
      "    for v in g:\n",
      "        pid = g.parent(v)\n",
      "        if pid and (length[pid] <= l <= length[v]):\n",
      "            count+=1\n",
      "    return count"
     ],
     "language": "python",
     "metadata": {},
     "outputs": [],
     "prompt_number": 12
    },
    {
     "cell_type": "code",
     "collapsed": false,
     "input": [
      "# print the length of the RSA\n",
      "max(length.values())"
     ],
     "language": "python",
     "metadata": {},
     "outputs": [
      {
       "metadata": {},
       "output_type": "pyout",
       "prompt_number": 13,
       "text": [
        "0.11500000000000227"
       ]
      }
     ],
     "prompt_number": 13
    },
    {
     "cell_type": "heading",
     "level": 2,
     "metadata": {},
     "source": [
      "Select all the segment at a given length"
     ]
    },
    {
     "cell_type": "code",
     "collapsed": false,
     "input": [
      "dist = (0.045, 0.055, 0.095, 0.105)\n",
      "intercepts = map(nb_root, dist)\n",
      "print intercepts"
     ],
     "language": "python",
     "metadata": {},
     "outputs": [
      {
       "output_type": "stream",
       "stream": "stdout",
       "text": [
        "[24, 18, 2, 1]\n"
       ]
      }
     ],
     "prompt_number": 14
    },
    {
     "cell_type": "code",
     "collapsed": false,
     "input": [
      "hist(x=length.values())\n",
      "#plot(hist(l))"
     ],
     "language": "python",
     "metadata": {},
     "outputs": [
      {
       "metadata": {},
       "output_type": "pyout",
       "prompt_number": 15,
       "text": [
        "(array([ 709, 3431, 3946, 3101, 2336, 1529,  870,  390,  200,  115]),\n",
        " array([  1.00000000e-04,   1.15900000e-02,   2.30800000e-02,\n",
        "          3.45700000e-02,   4.60600000e-02,   5.75500000e-02,\n",
        "          6.90400000e-02,   8.05300000e-02,   9.20200000e-02,\n",
        "          1.03510000e-01,   1.15000000e-01]),\n",
        " <a list of 10 Patch objects>)"
       ]
      },
      {
       "metadata": {},
       "output_type": "display_data",
       "png": "[encoded data removed]",
       "text": [
        "<matplotlib.figure.Figure at 0x7414830>"
       ]
      }
     ],
     "prompt_number": 15
    },
    {
     "cell_type": "code",
     "collapsed": false,
     "input": [
      "# print the histogram of radius\n",
      "hist(x=g.property('radius').values(),bins=100)"
     ],
     "language": "python",
     "metadata": {},
     "outputs": [
      {
       "metadata": {},
       "output_type": "pyout",
       "prompt_number": 16,
       "text": [
        "(array([2012, 1421, 1402, 1147, 1150, 1004,  999,  825,  772,  576,  500,\n",
        "         304,  224,  147,  127,   99,  108,   99,  108,   97,   96,   88,\n",
        "          96,   88,   96,   88,   96,   88,   96,   77,   84,   73,   72,\n",
        "          66,   72,   66,   72,   66,   72,   66,   65,   55,   60,   55,\n",
        "          60,   55,   60,   55,   60,   55,   55,   60,   55,   53,   44,\n",
        "          48,   44,   48,   33,   36,   33,   36,   33,   36,   33,   36,\n",
        "          33,   36,   28,   24,   22,   24,   22,   24,   22,   24,   22,\n",
        "          24,   22,   24,   22,   24,   22,   22,   11,   12,   11,   12,\n",
        "          11,   12,   11,   12,   11,   12,   11,   12,   11,   12,   11,\n",
        "          12]), array([  5.00000000e-05,   5.05000000e-05,   5.10000000e-05,\n",
        "          5.15000000e-05,   5.20000000e-05,   5.25000000e-05,\n",
        "          5.30000000e-05,   5.35000000e-05,   5.40000000e-05,\n",
        "          5.45000000e-05,   5.50000000e-05,   5.55000000e-05,\n",
        "          5.60000000e-05,   5.65000000e-05,   5.70000000e-05,\n",
        "          5.75000000e-05,   5.80000000e-05,   5.85000000e-05,\n",
        "          5.90000000e-05,   5.95000000e-05,   6.00000000e-05,\n",
        "          6.05000000e-05,   6.10000000e-05,   6.15000000e-05,\n",
        "          6.20000000e-05,   6.25000000e-05,   6.30000000e-05,\n",
        "          6.35000000e-05,   6.40000000e-05,   6.45000000e-05,\n",
        "          6.50000000e-05,   6.55000000e-05,   6.60000000e-05,\n",
        "          6.65000000e-05,   6.70000000e-05,   6.75000000e-05,\n",
        "          6.80000000e-05,   6.85000000e-05,   6.90000000e-05,\n",
        "          6.95000000e-05,   7.00000000e-05,   7.05000000e-05,\n",
        "          7.10000000e-05,   7.15000000e-05,   7.20000000e-05,\n",
        "          7.25000000e-05,   7.30000000e-05,   7.35000000e-05,\n",
        "          7.40000000e-05,   7.45000000e-05,   7.50000000e-05,\n",
        "          7.55000000e-05,   7.60000000e-05,   7.65000000e-05,\n",
        "          7.70000000e-05,   7.75000000e-05,   7.80000000e-05,\n",
        "          7.85000000e-05,   7.90000000e-05,   7.95000000e-05,\n",
        "          8.00000000e-05,   8.05000000e-05,   8.10000000e-05,\n",
        "          8.15000000e-05,   8.20000000e-05,   8.25000000e-05,\n",
        "          8.30000000e-05,   8.35000000e-05,   8.40000000e-05,\n",
        "          8.45000000e-05,   8.50000000e-05,   8.55000000e-05,\n",
        "          8.60000000e-05,   8.65000000e-05,   8.70000000e-05,\n",
        "          8.75000000e-05,   8.80000000e-05,   8.85000000e-05,\n",
        "          8.90000000e-05,   8.95000000e-05,   9.00000000e-05,\n",
        "          9.05000000e-05,   9.10000000e-05,   9.15000000e-05,\n",
        "          9.20000000e-05,   9.25000000e-05,   9.30000000e-05,\n",
        "          9.35000000e-05,   9.40000000e-05,   9.45000000e-05,\n",
        "          9.50000000e-05,   9.55000000e-05,   9.60000000e-05,\n",
        "          9.65000000e-05,   9.70000000e-05,   9.75000000e-05,\n",
        "          9.80000000e-05,   9.85000000e-05,   9.90000000e-05,\n",
        "          9.95000000e-05,   1.00000000e-04]), <a list of 100 Patch objects>)"
       ]
      },
      {
       "metadata": {},
       "output_type": "display_data",
       "png": "[encoded data removed]",
       "text": [
        "<matplotlib.figure.Figure at 0xbbdb110>"
       ]
      }
     ],
     "prompt_number": 16
    },
    {
     "cell_type": "code",
     "collapsed": false,
     "input": [
      "from hydroroot.main import hydroroot \n",
      "\n",
      "print 'Kaxfold', 'Kradfold','Jv'\n",
      "mtgs = []\n",
      "for axfold in (25,1):\n",
      "    length_data = l['high']\n",
      "    a['col']=(a['col'][0], [i*axfold*1. for i in a['col'][1]]) \n",
      "    axial_conductivity_data = a['col']\n",
      "    for radfold in (1,2,3,4,6,8,10,12,14,16,18,20,25):\n",
      "        r['col']=radial(300*radfold)\n",
      "        radial_conductivity_data = r['col']\n",
      "        n = nn['col']\n",
      "        for n in (n,):\n",
      "            seed = 4\n",
      "            g, surface, volume, Keq, Jv_global = hydroroot(\n",
      "            seed=seed,\n",
      "            primary_length = n,\n",
      "            length_data=length_data, \n",
      "            axial_conductivity_data=axial_conductivity_data, \n",
      "            radial_conductivity_data=radial_conductivity_data,\n",
      "            nude_length = 0.02,\n",
      "            )\n",
      "            mtgs.append(g)\n",
      "            print axfold, radfold, Keq, Jv_global\n"
     ],
     "language": "python",
     "metadata": {},
     "outputs": [
      {
       "output_type": "stream",
       "stream": "stdout",
       "text": [
        "Kaxfold Kradfold Jv\n",
        "25"
       ]
      },
      {
       "output_type": "stream",
       "stream": "stdout",
       "text": [
        " 1 0.42774735536 0.128324206608\n",
        "25"
       ]
      },
      {
       "output_type": "stream",
       "stream": "stdout",
       "text": [
        " 2 0.85549471072 0.256648413216\n",
        "25"
       ]
      },
      {
       "output_type": "stream",
       "stream": "stdout",
       "text": [
        " 3 1.28324206608 0.384972619824\n",
        "25"
       ]
      },
      {
       "output_type": "stream",
       "stream": "stdout",
       "text": [
        " 4 1.71098942144 0.513296826432\n",
        "25"
       ]
      },
      {
       "output_type": "stream",
       "stream": "stdout",
       "text": [
        " 6 2.56648413216 0.769945239648\n",
        "25"
       ]
      },
      {
       "output_type": "stream",
       "stream": "stdout",
       "text": [
        " 8 3.42197884288 1.02659365286\n",
        "25"
       ]
      },
      {
       "output_type": "stream",
       "stream": "stdout",
       "text": [
        " 10 4.2774735536 1.28324206608\n",
        "25"
       ]
      },
      {
       "output_type": "stream",
       "stream": "stdout",
       "text": [
        " 12 5.13296826432 1.5398904793\n",
        "25"
       ]
      },
      {
       "output_type": "stream",
       "stream": "stdout",
       "text": [
        " 14 5.98846297504 1.79653889251\n",
        "25"
       ]
      },
      {
       "output_type": "stream",
       "stream": "stdout",
       "text": [
        " 16 6.84395768576 2.05318730573\n",
        "25"
       ]
      },
      {
       "output_type": "stream",
       "stream": "stdout",
       "text": [
        " 18 7.69945239648 2.30983571894\n",
        "25"
       ]
      },
      {
       "output_type": "stream",
       "stream": "stdout",
       "text": [
        " 20 8.5549471072 2.56648413216\n",
        "25"
       ]
      },
      {
       "output_type": "stream",
       "stream": "stdout",
       "text": [
        " 25 10.693683884 3.2081051652\n",
        "1"
       ]
      },
      {
       "output_type": "stream",
       "stream": "stdout",
       "text": [
        " 1 0.42774735536 0.128324206608\n",
        "1"
       ]
      },
      {
       "output_type": "stream",
       "stream": "stdout",
       "text": [
        " 2 0.85549471072 0.256648413216\n",
        "1"
       ]
      },
      {
       "output_type": "stream",
       "stream": "stdout",
       "text": [
        " 3 1.28324206608 0.384972619824\n",
        "1"
       ]
      },
      {
       "output_type": "stream",
       "stream": "stdout",
       "text": [
        " 4 1.71098942144 0.513296826432\n",
        "1"
       ]
      },
      {
       "output_type": "stream",
       "stream": "stdout",
       "text": [
        " 6 2.56648413216 0.769945239648\n",
        "1"
       ]
      },
      {
       "output_type": "stream",
       "stream": "stdout",
       "text": [
        " 8 3.42197884288 1.02659365286\n",
        "1"
       ]
      },
      {
       "output_type": "stream",
       "stream": "stdout",
       "text": [
        " 10 4.2774735536 1.28324206608\n",
        "1"
       ]
      },
      {
       "output_type": "stream",
       "stream": "stdout",
       "text": [
        " 12 5.13296826432 1.5398904793\n",
        "1"
       ]
      },
      {
       "output_type": "stream",
       "stream": "stdout",
       "text": [
        " 14 5.98846297504 1.79653889251\n",
        "1"
       ]
      },
      {
       "output_type": "stream",
       "stream": "stdout",
       "text": [
        " 16 6.84395768576 2.05318730573\n",
        "1"
       ]
      },
      {
       "output_type": "stream",
       "stream": "stdout",
       "text": [
        " 18 7.69945239648 2.30983571894\n",
        "1"
       ]
      },
      {
       "output_type": "stream",
       "stream": "stdout",
       "text": [
        " 20 8.5549471072 2.56648413216\n",
        "1"
       ]
      },
      {
       "output_type": "stream",
       "stream": "stdout",
       "text": [
        " 25 10.693683884 3.2081051652\n"
       ]
      }
     ],
     "prompt_number": 11
    },
    {
     "cell_type": "code",
     "collapsed": false,
     "input": [],
     "language": "python",
     "metadata": {},
     "outputs": []
    }
   ],
   "metadata": {}
  }
 ]
}