{
 "metadata": {
  "name": "",
  "signature": "sha256:d9e3adb76fa65285d2745f2d457756b448dac5bc2c4f413eb173f2305a4b04ab"
 },
 "nbformat": 3,
 "nbformat_minor": 0,
 "worksheets": [
  {
   "cells": [
    {
     "cell_type": "code",
     "collapsed": false,
     "input": [
      "import numpy as np\n",
      "\n",
      "length_data = [0., 0.03, 0.05, 0.16], [0., 0., 0.01, 0.13]\n",
      "\n",
      "def radial(v=300):\n",
      "    xr = [0., 0.015, 0.03, 0.045, 0.06, 0.075, 0.09, 0.105, 0.135, 0.15, 0.16]\n",
      "    yr = [v]*len(xr)\n",
      "    return xr, yr\n",
      "\n",
      "# radial\n",
      "r = {}\n",
      "r['col'] = radial(300)\n",
      "r['pip2122'] = radial(239)\n",
      "r['esk11'] = radial(373)\n",
      "r['esk15'] = radial(518)\n",
      "r['irx34'] = radial(300)\n",
      "\n"
     ],
     "language": "python",
     "metadata": {},
     "outputs": [],
     "prompt_number": 15
    },
    {
     "cell_type": "heading",
     "level": 1,
     "metadata": {},
     "source": [
      "Axial Conductivity for different genotypes"
     ]
    },
    {
     "cell_type": "code",
     "collapsed": false,
     "input": [
      "# axial\n",
      "a={}\n",
      "a['col'] = (\n",
      "    [0., 0.03,  0.06, 0.09, 0.12, 0.15, 0.18], \n",
      "    [2.9e-4, 34.8e-4, 147.4e-4, 200.3e-4,292.6e-4,262.5e-4,511.1e-4]\n",
      ")\n",
      "\n",
      "a['esk11'] = (\n",
      "    [0., 0.03,  0.06, 0.09, 0.12], \n",
      "    [2.3e-4, 15.9e-4, 158.9e-4, 216.4e-4,192.e-4]\n",
      ")\n",
      "\n",
      "a['esk15'] = (\n",
      "    [0., 0.03,  0.06, 0.09, 0.12, 0.15], \n",
      "    [0.7e-4, 3.9e-4, 168.8e-4, 220.5e-4,239.3e-4, 219.5e-4]\n",
      ")\n",
      "\n",
      "a['irx34'] = (\n",
      "    [0., 0.03,  0.06, 0.09, 0.12], \n",
      "    [5.2e-4, 11.4e-4, 19.8e-4, 119.6e-4,359.9e-4]\n",
      ")\n",
      "\n",
      "a['pip2122'] = a['col']"
     ],
     "language": "python",
     "metadata": {},
     "outputs": [],
     "prompt_number": 16
    },
    {
     "cell_type": "heading",
     "level": 1,
     "metadata": {},
     "source": [
      "Root length"
     ]
    },
    {
     "cell_type": "code",
     "collapsed": false,
     "input": [
      "# length\n",
      "l={}\n",
      "nn={}\n",
      "relativelength={}\n",
      "\n",
      "relativelength=range(0,105,5)#gamme relative de longueur de racine, de 0 \u00e0 100%\n",
      "\n",
      "lengthrange=range(1000,16500,100)#plage de longueurs de racine \u00e0 tester\n",
      "\n",
      "for i in lengthrange :\n",
      "    l[i] = [relativelength[j]*i/10000. for j in range(0,21)], [0., 0.000335, 0.000425, 0.000995,0.00314,0.00257, 0.0128, 0.008, 0.0125, 0.0225, 0.0185, 0.0104, 0.0169, 0.00548, 0.00849, 0.0499, 0.055, 0.063, 0.091]"
     ],
     "language": "python",
     "metadata": {},
     "outputs": [],
     "prompt_number": 17
    },
    {
     "cell_type": "heading",
     "level": 1,
     "metadata": {},
     "source": [
      "Hydroroot model"
     ]
    },
    {
     "cell_type": "code",
     "collapsed": false,
     "input": [
      "from hydroroot.main import hydroroot \n",
      "Jv_real={}\n",
      "rcond={}\n",
      "mtgs = []\n",
      "#facteurradial = [50,100,200,300,600,900,1500]\n",
      "#Jv_real['col'] =0.477\n",
      "#Jv_real['esk11']=0.0380\n",
      "#Jv_real['esk15']=0.0420\n",
      "for i in lengthrange:\n",
      "   length_data = l[i]\n",
      "   axial_conductivity_data = a['col']\n",
      "   radial_conductivity_data = r['col']\n",
      "   n = i\n",
      "   seed = 2\n",
      "   g, surface, volume, Keq, Jv_global = hydroroot(\n",
      "   seed=seed,\n",
      "   n = n,\n",
      "   length_data=length_data, \n",
      "   axial_conductivity_data=axial_conductivity_data, \n",
      "   radial_conductivity_data=radial_conductivity_data,\n",
      "   )\n",
      "   #mtgs.append(g)\n",
      "   print 'root length',n/100,'Surface', surface, Jv_global\n"
     ],
     "language": "python",
     "metadata": {},
     "outputs": [
      {
       "ename": "error",
       "evalue": "failed in converting 2nd argument `y' of dfitpack.fpcurf0 to C/Fortran array",
       "output_type": "pyerr",
       "traceback": [
        "\u001b[1;31m---------------------------------------------------------------------------\u001b[0m\n\u001b[1;31merror\u001b[0m                                     Traceback (most recent call last)",
        "\u001b[1;32m<ipython-input-18-2e1bad9f4b53>\u001b[0m in \u001b[0;36m<module>\u001b[1;34m()\u001b[0m\n\u001b[0;32m     18\u001b[0m    \u001b[0mlength_data\u001b[0m\u001b[1;33m=\u001b[0m\u001b[0mlength_data\u001b[0m\u001b[1;33m,\u001b[0m\u001b[1;33m\u001b[0m\u001b[0m\n\u001b[0;32m     19\u001b[0m    \u001b[0maxial_conductivity_data\u001b[0m\u001b[1;33m=\u001b[0m\u001b[0maxial_conductivity_data\u001b[0m\u001b[1;33m,\u001b[0m\u001b[1;33m\u001b[0m\u001b[0m\n\u001b[1;32m---> 20\u001b[1;33m    \u001b[0mradial_conductivity_data\u001b[0m\u001b[1;33m=\u001b[0m\u001b[0mradial_conductivity_data\u001b[0m\u001b[1;33m,\u001b[0m\u001b[1;33m\u001b[0m\u001b[0m\n\u001b[0m\u001b[0;32m     21\u001b[0m    )\n\u001b[0;32m     22\u001b[0m    \u001b[1;31m#mtgs.append(g)\u001b[0m\u001b[1;33m\u001b[0m\u001b[1;33m\u001b[0m\u001b[0m\n",
        "\u001b[1;32mc:\\yann b\\devlp\\src\\hydroroot\\main.pyc\u001b[0m in \u001b[0;36mhydroroot\u001b[1;34m(primary_length, delta, beta, order_max, segment_length, nude_length, seed, ref_radius, order_decrease_factor, k0, Jv, psi_e, psi_base, length_data, axial_conductivity_data, radial_conductivity_data, n)\u001b[0m\n\u001b[0;32m     42\u001b[0m     \"\"\"\n\u001b[0;32m     43\u001b[0m     \u001b[0mxl\u001b[0m\u001b[1;33m,\u001b[0m \u001b[0myl\u001b[0m \u001b[1;33m=\u001b[0m \u001b[0mlength_data\u001b[0m\u001b[1;33m\u001b[0m\u001b[0m\n\u001b[1;32m---> 44\u001b[1;33m     \u001b[0mlength_law\u001b[0m \u001b[1;33m=\u001b[0m \u001b[0mfit_law\u001b[0m\u001b[1;33m(\u001b[0m\u001b[0mxl\u001b[0m\u001b[1;33m,\u001b[0m \u001b[0myl\u001b[0m\u001b[1;33m,\u001b[0m \u001b[0mscale\u001b[0m\u001b[1;33m=\u001b[0m\u001b[0msegment_length\u001b[0m\u001b[1;33m)\u001b[0m\u001b[1;33m\u001b[0m\u001b[0m\n\u001b[0m\u001b[0;32m     45\u001b[0m \u001b[1;33m\u001b[0m\u001b[0m\n\u001b[0;32m     46\u001b[0m     \u001b[0mxa\u001b[0m\u001b[1;33m,\u001b[0m \u001b[0mya\u001b[0m \u001b[1;33m=\u001b[0m \u001b[0maxial_conductivity_data\u001b[0m\u001b[1;33m\u001b[0m\u001b[0m\n",
        "\u001b[1;32mc:\\yann b\\devlp\\src\\hydroroot\\length.pyc\u001b[0m in \u001b[0;36mfit_law\u001b[1;34m(x, y, scale, k, s)\u001b[0m\n\u001b[0;32m     25\u001b[0m         \u001b[0my\u001b[0m \u001b[1;33m=\u001b[0m \u001b[0mlist\u001b[0m\u001b[1;33m(\u001b[0m\u001b[0mnp\u001b[0m\u001b[1;33m.\u001b[0m\u001b[0marray\u001b[0m\u001b[1;33m(\u001b[0m\u001b[0my\u001b[0m\u001b[1;33m)\u001b[0m \u001b[1;33m/\u001b[0m \u001b[0mscale\u001b[0m\u001b[1;33m)\u001b[0m\u001b[1;33m\u001b[0m\u001b[0m\n\u001b[0;32m     26\u001b[0m \u001b[1;33m\u001b[0m\u001b[0m\n\u001b[1;32m---> 27\u001b[1;33m     \u001b[0mspline\u001b[0m \u001b[1;33m=\u001b[0m \u001b[0mUnivariateSpline\u001b[0m\u001b[1;33m(\u001b[0m\u001b[0mx\u001b[0m\u001b[1;33m,\u001b[0m \u001b[0my\u001b[0m\u001b[1;33m,\u001b[0m \u001b[0mk\u001b[0m\u001b[1;33m=\u001b[0m\u001b[0mk\u001b[0m\u001b[1;33m,\u001b[0m \u001b[0ms\u001b[0m\u001b[1;33m=\u001b[0m\u001b[0ms\u001b[0m\u001b[1;33m)\u001b[0m\u001b[1;33m\u001b[0m\u001b[0m\n\u001b[0m\u001b[0;32m     28\u001b[0m     \u001b[1;32mreturn\u001b[0m \u001b[0mspline\u001b[0m\u001b[1;33m\u001b[0m\u001b[0m\n",
        "\u001b[1;32mC:\\Python27\\lib\\site-packages\\scipy\\interpolate\\fitpack2.pyc\u001b[0m in \u001b[0;36m__init__\u001b[1;34m(self, x, y, w, bbox, k, s)\u001b[0m\n\u001b[0;32m    134\u001b[0m         \u001b[1;31m#_data == x,y,w,xb,xe,k,s,n,t,c,fp,fpint,nrdata,ier\u001b[0m\u001b[1;33m\u001b[0m\u001b[1;33m\u001b[0m\u001b[0m\n\u001b[0;32m    135\u001b[0m         data = dfitpack.fpcurf0(x,y,k,w=w,\n\u001b[1;32m--> 136\u001b[1;33m                                 xb=bbox[0],xe=bbox[1],s=s)\n\u001b[0m\u001b[0;32m    137\u001b[0m         \u001b[1;32mif\u001b[0m \u001b[0mdata\u001b[0m\u001b[1;33m[\u001b[0m\u001b[1;33m-\u001b[0m\u001b[1;36m1\u001b[0m\u001b[1;33m]\u001b[0m\u001b[1;33m==\u001b[0m\u001b[1;36m1\u001b[0m\u001b[1;33m:\u001b[0m\u001b[1;33m\u001b[0m\u001b[0m\n\u001b[0;32m    138\u001b[0m             \u001b[1;31m# nest too small, setting to maximum bound\u001b[0m\u001b[1;33m\u001b[0m\u001b[1;33m\u001b[0m\u001b[0m\n",
        "\u001b[1;31merror\u001b[0m: failed in converting 2nd argument `y' of dfitpack.fpcurf0 to C/Fortran array"
       ]
      }
     ],
     "prompt_number": 18
    },
    {
     "cell_type": "code",
     "collapsed": false,
     "input": [
      " from hydroroot import display"
     ],
     "language": "python",
     "metadata": {},
     "outputs": [
      {
       "output_type": "stream",
       "stream": "stderr",
       "text": [
        "/opt/local/Library/Frameworks/Python.framework/Versions/2.7/lib/python2.7/site-packages/matplotlib/cbook.py:137: MatplotlibDeprecationWarning: The matplotlib.mpl module was deprecated in version 1.3. Use `import matplotlib as mpl` instead.\n",
        "  warnings.warn(message, mplDeprecation, stacklevel=1)\n"
       ]
      }
     ],
     "prompt_number": 6
    },
    {
     "cell_type": "code",
     "collapsed": false,
     "input": [
      "%gui qt\n",
      "scene = display.plot(mtgs[3], r_base=1e-4, r_tip=5e-5, prop_cmap='psi_out', lognorm=False)\n",
      "from openalea.plantgl.all import *\n",
      "Viewer.display(scene)"
     ],
     "language": "python",
     "metadata": {},
     "outputs": [],
     "prompt_number": 12
    },
    {
     "cell_type": "code",
     "collapsed": false,
     "input": [
      "from hydroroot.main import hydroroot \n",
      "\n",
      "mtgs = []\n",
      "for genotype in ['col', 'esk11','esk15']:\n",
      "        length_data = l[genotype]\n",
      "        axial_conductivity_data = a[genotype]\n",
      "        radial_conductivity_data = r[genotype]\n",
      "        n = nn[genotype]\n",
      "        seed = 2\n",
      "        g, surface, volume, Keq, Jv_global = hydroroot(\n",
      "        seed=seed,\n",
      "        n = n,\n",
      "        length_data=length_data, \n",
      "        axial_conductivity_data=axial_conductivity_data, \n",
      "        radial_conductivity_data=radial_conductivity_data,\n",
      "        )\n",
      "    #mtgs.append(g)\n",
      "        print genotype, 'Jv:', Jv_global, 'surface:', surface\n"
     ],
     "language": "python",
     "metadata": {},
     "outputs": [
      {
       "output_type": "stream",
       "stream": "stdout",
       "text": [
        "col Jv: 0.18815527347 surface: 0.00461227925277\n",
        "esk11"
       ]
      },
      {
       "output_type": "stream",
       "stream": "stdout",
       "text": [
        " Jv: 0.0877264608817 surface: 0.00120121842455\n",
        "esk15"
       ]
      },
      {
       "output_type": "stream",
       "stream": "stdout",
       "text": [
        " Jv: 0.0254560385686 surface: 0.000222265166967\n"
       ]
      }
     ],
     "prompt_number": 13
    },
    {
     "cell_type": "code",
     "collapsed": false,
     "input": [],
     "language": "python",
     "metadata": {},
     "outputs": []
    }
   ],
   "metadata": {}
  }
 ]
}