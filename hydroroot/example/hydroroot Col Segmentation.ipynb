<<<<<<< .mine
{
 "cells": [
  {
   "cell_type": "code",
   "execution_count": 1,
   "metadata": {
    "collapsed": false
   },
   "outputs": [],
   "source": [
    "#from vpltkdisplay import *\n",
    "%gui qt"
   ]
  },
  {
   "cell_type": "code",
   "execution_count": 2,
   "metadata": {
    "collapsed": false
   },
   "outputs": [],
   "source": [
    "import numpy as np\n",
    "\n",
    "length_data = [0., 0.03, 0.05, 0.16], [0., 0., 0.01, 0.13]\n",
    "\n",
    "def radial(v=300):\n",
    "    xr = [0., 0.015, 0.03, 0.045, 0.06, 0.075, 0.09, 0.105, 0.135, 0.15, 0.16]\n",
    "    yr = [v]*len(xr)\n",
    "    return xr, yr\n",
    "\n",
    "# radial\n",
    "r = {}\n",
    "r['col'] = radial(300)\n",
    "r['pip2122'] = radial(239)\n",
    "r['esk11'] = radial(373)\n",
    "r['esk15'] = radial(518)\n",
    "r['irx34'] = radial(300)\n",
    "\n"
   ]
  },
  {
   "cell_type": "markdown",
   "metadata": {},
   "source": [
    "# Axial Conductivity for different genotypes"
   ]
  },
  {
   "cell_type": "code",
   "execution_count": 3,
   "metadata": {
    "collapsed": false
   },
   "outputs": [],
   "source": [
    "# axial\n",
    "a={}\n",
    "a['col'] = (\n",
    "    [0., 0.03,  0.06, 0.09, 0.12, 0.15, 0.18], \n",
    "    [2.9e-4, 34.8e-4, 147.4e-4, 200.3e-4,292.6e-4,262.5e-4,511.1e-4]\n",
    ")\n",
    "\n",
    "a['esk11'] = (\n",
    "    [0., 0.03,  0.06, 0.09, 0.12], \n",
    "    [2.3e-4, 15.9e-4, 158.9e-4, 216.4e-4,192.e-4]\n",
    ")\n",
    "\n",
    "a['esk15'] = (\n",
    "    [0., 0.03,  0.06, 0.09, 0.12, 0.15], \n",
    "    [0.7e-4, 3.9e-4, 168.8e-4, 220.5e-4,239.3e-4, 219.5e-4]\n",
    ")\n",
    "\n",
    "a['irx34'] = (\n",
    "    [0., 0.03,  0.06, 0.09, 0.12], \n",
    "    [5.2e-4, 11.4e-4, 19.8e-4, 119.6e-4,359.9e-4]\n",
    ")\n",
    "\n",
    "a['pip2122'] = a['col']"
   ]
  },
  {
   "cell_type": "markdown",
   "metadata": {},
   "source": [
    "# Root length"
   ]
  },
  {
   "cell_type": "code",
   "execution_count": 4,
   "metadata": {
    "collapsed": false
   },
   "outputs": [],
   "source": [
    "# length\n",
    "l={}\n",
    "nn={}\n",
    "l['col'] = [0., 0.03, 0.05, 0.16], [0., 0., 0.01, 0.13]\n",
    "nn['col'] = 0.1150\n",
    "\n",
    "l['esk11'] = [0., 0.02, 0.05, 0.09, 0.13], [0., 0., 0.001, 0.045, 0.089]\n",
    "nn['esk11'] = 0.1050\n",
    "\n",
    "l['esk15'] = [0., 0.02, 0.08, 0.10, 0.16], [0., 0., 0.005, 0.02, 0.065]\n",
    "nn['esk15'] = 0.1467 \n",
    "\n",
    "l['irx34'] = [0., 0.02, 0.05, 0.09, 0.13], [0., 0., 0.005, 0.03, 0.055]\n",
    "nn['irx34'] = 0.1200\n",
    "\n",
    "l['pip2122'] = l['col']\n",
    "nn['pip2122'] = 0.1500\n",
    "\n",
    "length_data = l['col']\n",
    "n = nn['col']\n"
   ]
  },
  {
   "cell_type": "code",
   "execution_count": 5,
   "metadata": {
    "collapsed": false
   },
   "outputs": [],
   "source": [
    "l['col'] = ([x/100. for x in [0.0, 0.6845, 1.369, 2.0535, 2.738, 3.4225, 4.107, 4.7915, \n",
    "                               5.476, 6.1605, 6.845, 7.5295, 8.214, 8.8985, 9.583, 10.2675, \n",
    "                               10.952, 11.6365, 12.321, 13.0055, 13.69]],\n",
    "            [0.0, 0., 0., 0.000335, 0.000425, 0.000995, 0.00314, 0.00257, 0.0128, \n",
    "             0.008, 0.0125, 0.0225, 0.0185, 0.0104, 0.0169, 0.00548, 0.00849, \n",
    "             0.0499, 0.055, 0.063, 0.091])\n",
    "\n"
   ]
  },
  {
   "cell_type": "markdown",
   "metadata": {},
   "source": [
    "# Hydroroot model"
   ]
  },
  {
   "cell_type": "markdown",
   "metadata": {},
   "source": [
    "TODO\n",
    "====\n",
    "  - Explicit all the parameters to avoid any side effect\n"
   ]
  },
  {
   "cell_type": "code",
   "execution_count": 7,
   "metadata": {
    "collapsed": false
   },
   "outputs": [
    {
     "name": "stdout",
     "output_type": "stream",
     "text": [
      "col volume: 1.02263022334e-08 Keq: 0.0695845271547 Jv: 0.0208753581464 2041339.83819\n"
     ]
    }
   ],
   "source": [
    "from hydroroot.main import hydroroot \n",
    "\n",
    "mtgs = []\n",
    "for genotype in ['col',]:# 'esk11', 'esk15']:#, 'irx34', 'pip2122']:\n",
    "    length_data = l[genotype]\n",
    "    axial_conductivity_data = a[genotype]\n",
    "    radial_conductivity_data = r[genotype]\n",
    "    n = nn[genotype]\n",
    "    seed=1\n",
    "    # TEST\n",
    "    #for n in (0.045, 0.095):\n",
    "    for n in (n,):\n",
    "        #seed = 2\n",
    "        g, surface, volume, Keq, Jv_global = hydroroot(\n",
    "        seed=seed,\n",
    "        primary_length = n,\n",
    "        length_data=length_data, \n",
    "        axial_conductivity_data=axial_conductivity_data, \n",
    "        radial_conductivity_data=radial_conductivity_data,\n",
    "        )\n",
    "        mtgs.append(g)\n",
    "        print genotype, 'volume:', volume,'Keq:', Keq, 'Jv:', Jv_global, Jv_global/volume\n"
   ]
  },
  {
   "cell_type": "code",
   "execution_count": 8,
   "metadata": {
    "collapsed": false
   },
   "outputs": [
    {
     "name": "stderr",
     "output_type": "stream",
     "text": [
      "C:\\Python27\\lib\\site-packages\\matplotlib\\cbook.py:122: MatplotlibDeprecationWarning: The matplotlib.mpl module was deprecated in version 1.3. Use `import matplotlib as mpl` instead.\n",
      "  warnings.warn(message, mplDeprecation, stacklevel=1)\n"
     ]
    }
   ],
   "source": [
    "from hydroroot import display as dis"
   ]
  },
  {
   "cell_type": "code",
   "execution_count": 14,
   "metadata": {
    "collapsed": false
   },
   "outputs": [],
   "source": [
    "%gui qt\n",
    "from openalea.plantgl.all import *\n",
    "#for g in mtgs:\n",
    "scene = dis.plot(mtgs[0], r_base=1e-4, r_tip=5e-5, prop_cmap='psi_out', lognorm=False)\n",
    "    #display(PlantGL(scene))\n",
    "Viewer.display(scene)"
   ]
  },
  {
   "cell_type": "code",
   "execution_count": 10,
   "metadata": {
    "collapsed": false
   },
   "outputs": [],
   "source": [
    "g = mtgs[0]\n",
    "l = g.vertices(scale=g.max_scale())"
   ]
  },
  {
   "cell_type": "code",
   "execution_count": 11,
   "metadata": {
    "collapsed": false
   },
   "outputs": [],
   "source": [
    "from openalea.mtg import algo\n",
    "orders = algo.orders(g)"
   ]
  },
  {
   "cell_type": "code",
   "execution_count": 12,
   "metadata": {
    "collapsed": false
   },
   "outputs": [],
   "source": [
    "l = [ k for k, o in orders.iteritems() if o == 5]"
   ]
  },
  {
   "cell_type": "code",
   "execution_count": 13,
   "metadata": {
    "collapsed": false
   },
   "outputs": [
    {
     "data": {
      "text/plain": [
       "0"
      ]
     },
     "execution_count": 13,
     "metadata": {},
     "output_type": "execute_result"
    }
   ],
   "source": [
    "sum(g.node(v).length for v in l)"
   ]
  },
  {
   "cell_type": "code",
   "execution_count": 14,
   "metadata": {
    "collapsed": false
   },
   "outputs": [
    {
     "data": {
      "text/plain": [
       "['J_out',\n",
       " 'k0',\n",
       " 'color',\n",
       " 'k',\n",
       " 'K',\n",
       " 'j',\n",
       " 'label',\n",
       " 'psi_in',\n",
       " 'length',\n",
       " 'edge_type',\n",
       " 'radius',\n",
       " 'Keq',\n",
       " 'position',\n",
       " 'psi_out',\n",
       " 'relative_position',\n",
       " 'order',\n",
       " 'position_index']"
      ]
     },
     "execution_count": 14,
     "metadata": {},
     "output_type": "execute_result"
    }
   ],
   "source": [
    "g.property_names()"
   ]
  },
  {
   "cell_type": "code",
   "execution_count": 15,
   "metadata": {
    "collapsed": false
   },
   "outputs": [],
   "source": [
    "#g0, g1, g2, g3, g4 = mtgs\n",
    "g, = mtgs\n",
    "from openalea.mtg.traversal import pre_order2\n",
    "length= {}\n",
    "root = 1\n",
    "dl = 1.e-4\n",
    "for v in pre_order2(g,1):\n",
    "    pid = g.parent(v)\n",
    "    length[v] = length[pid]+dl if pid else dl\n",
    "\n",
    "def nb_root(l):\n",
    "    count = 0\n",
    "    for v in g:\n",
    "        pid = g.parent(v)\n",
    "        if pid and (length[pid] <= l <= length[v]):\n",
    "            count+=1\n",
    "    return count"
   ]
  },
  {
   "cell_type": "code",
   "execution_count": 16,
   "metadata": {
    "collapsed": false
   },
   "outputs": [
    {
     "data": {
      "text/plain": [
       "0.11500000000000227"
      ]
     },
     "execution_count": 16,
     "metadata": {},
     "output_type": "execute_result"
    }
   ],
   "source": [
    "max(length.values())"
   ]
  },
  {
   "cell_type": "code",
   "execution_count": 16,
   "metadata": {
    "collapsed": false
   },
   "outputs": [
    {
     "data": {
      "text/plain": [
       "[8, 9, 1, 1]"
      ]
     },
     "execution_count": 16,
     "metadata": {},
     "output_type": "execute_result"
    }
   ],
   "source": [
    "dist = (0.045, 0.055, 0.095, 0.105)\n",
    "map(nb_root, dist)"
   ]
  },
  {
   "cell_type": "code",
   "execution_count": 18,
   "metadata": {
    "collapsed": false
   },
   "outputs": [
    {
     "data": {
      "text/plain": [
       "[10, 9, 1, 1]"
      ]
     },
     "execution_count": 18,
     "metadata": {},
     "output_type": "execute_result"
    }
   ],
   "source": [
    "dist = (0.045, 0.055, 0.095, 0.105)\n",
    "map(nb_root, dist)"
   ]
  },
  {
   "cell_type": "code",
   "execution_count": 19,
   "metadata": {
    "collapsed": false
   },
   "outputs": [
    {
     "data": {
      "text/plain": [
       "[10, 9, 1, 1]"
      ]
     },
     "execution_count": 19,
     "metadata": {},
     "output_type": "execute_result"
    }
   ],
   "source": [
    "dist = (0.045, 0.055, 0.095, 0.105)\n",
    "map(nb_root, dist)"
   ]
  },
  {
   "cell_type": "code",
   "execution_count": 20,
   "metadata": {
    "collapsed": false
   },
   "outputs": [
    {
     "data": {
      "text/plain": [
       "[10, 9, 1, 1]"
      ]
     },
     "execution_count": 20,
     "metadata": {},
     "output_type": "execute_result"
    }
   ],
   "source": [
    "dist = (0.045, 0.055, 0.095, 0.105)\n",
    "map(nb_root, dist)"
   ]
  },
  {
   "cell_type": "code",
   "execution_count": 21,
   "metadata": {
    "collapsed": false
   },
   "outputs": [
    {
     "data": {
      "text/plain": [
       "[10, 9, 1, 1]"
      ]
     },
     "execution_count": 21,
     "metadata": {},
     "output_type": "execute_result"
    }
   ],
   "source": [
    "#g0\n",
    "dist = (0.045, 0.055, 0.095, 0.105)\n",
    "map(nb_root, dist)"
   ]
  },
  {
   "cell_type": "code",
   "execution_count": 22,
   "metadata": {
    "collapsed": false
   },
   "outputs": [
    {
     "data": {
      "text/plain": [
       "[10, 9, 1, 1]"
      ]
     },
     "execution_count": 22,
     "metadata": {},
     "output_type": "execute_result"
    }
   ],
   "source": [
    "#12.5\n",
    "dist = (0.045, 0.055, 0.095, 0.105)\n",
    "map(nb_root, dist)"
   ]
  },
  {
   "cell_type": "code",
   "execution_count": 23,
   "metadata": {
    "collapsed": false
   },
   "outputs": [
    {
     "name": "stdout",
     "output_type": "stream",
     "text": [
      "Populating the interactive namespace from numpy and matplotlib\n"
     ]
    },
    {
     "name": "stderr",
     "output_type": "stream",
     "text": [
      "WARNING: pylab import has clobbered these variables: ['dist', 'Text', 'cross', 'histogram', 'test', 'seed', 'norm', 'angle', 'dot']\n",
      "`%matplotlib` prevents importing * from pylab and numpy\n"
     ]
    }
   ],
   "source": [
    "%pylab inline"
   ]
  },
  {
   "cell_type": "code",
   "execution_count": 24,
   "metadata": {
    "collapsed": false
   },
   "outputs": [
    {
     "data": {
      "text/plain": [
       "(array([  456.,   784.,   671.,   988.,   844.,  1200.,  1074.,   471.,\n",
       "          174.,   124.]),\n",
       " array([  1.00000000e-04,   1.15900000e-02,   2.30800000e-02,\n",
       "          3.45700000e-02,   4.60600000e-02,   5.75500000e-02,\n",
       "          6.90400000e-02,   8.05300000e-02,   9.20200000e-02,\n",
       "          1.03510000e-01,   1.15000000e-01]),\n",
       " <a list of 10 Patch objects>)"
      ]
     },
     "execution_count": 24,
     "metadata": {},
     "output_type": "execute_result"
    },
    {
     "data": {
      "image/png": [
       "iVBORw0KGgoAAAANSUhEUgAAAYMAAAEACAYAAABRQBpkAAAABHNCSVQICAgIfAhkiAAAAAlwSFlz\n",
       "AAALEgAACxIB0t1+/AAAEZRJREFUeJzt3X+s3XV9x/HnaxQcDKUSl0J/JHSxBGqcEzcgm4brj7DO\n",
       "uJZ/BphJutklJvVXmDFr3TJussWAi3EaU5PpwLJJZ4eEQEYYlXEy/3Ctm+CKpYM6O7nXtBijbC6a\n",
       "teG9P84XODT9ce/3nHu+h3ufj+Sk3/P5fr/n8/n0nPN9nc/3101VIUla2n6u6wZIkrpnGEiSDANJ\n",
       "kmEgScIwkCRhGEiSOEMYJLk9ydEk+wfK/iLJE0m+leSeJBcMzNue5KkkB5NcO1D+piT7m3mfXpiu\n",
       "SJLaOtPI4A5gwwllDwGvq6o3AE8C2wGSrAduANY36+xIkmadzwFbqmodsC7Jia8pSerQacOgqr4G\n",
       "/OiEsj1V9VzzdC+wupneBOyqqmNVdRg4BFyV5GLglVW1r1nuTuC6EbVfkjQCwx4zeC/wQDO9EpgZ\n",
       "mDcDrDpJ+WxTLkmaEK3DIMkfA/9XVXeNsD2SpA4sa7NSkt8D3gm8faB4Flgz8Hw1/RHBLC/uSnq+\n",
       "fPYUr+uNkiSpharKmZc6tXmPDJqDvx8FNlXVzwZm3QfcmOScJGuBdcC+qjoC/HeSq5oDyjcB957q\n",
       "9atq0T5uueWWzttg3079aD6Bp3jccpp5o3p09/lfDO/fUu7fKJx2ZJBkF3AN8JokTzffiO3AOcCe\n",
       "5mShr1fV1qo6kGQ3cAA4DmytF1u5FfgicC7wQFU9OJLWS5JG4rRhUFXvPknx7adZ/uPAx09S/m/A\n",
       "6+fdOknSWHgF8hhNTU113YQFs5j71jfVdQMW1GJ//xZ7/0Yho9rfNApJapLao6Wlv9uzy89fRrb/\n",
       "V0tLEmrcB5AlSYuPYSBJMgwkSYaBJAnDQJKEYSBJwjCQJGEYSJIwDCRJGAaSJAwDSRKGgSQJw0CS\n",
       "hGEgScIwkCRhGEiSMAwkSZzhbyBLGq/+X1vrln9tbWkyDKSJ0vWGuPswUjfcTSRJMgwkSYaBJAnD\n",
       "QJKEYSBJwjCQJGEYSJI4QxgkuT3J0ST7B8ouTLInyZNJHkqyfGDe9iRPJTmY5NqB8jcl2d/M+/TC\n",
       "dEWS1NaZRgZ3ABtOKNsG7KmqS4GHm+ckWQ/cAKxv1tmRFy+n/BywparWAeuSnPiakqQOnTYMqupr\n",
       "wI9OKN4I7GymdwLXNdObgF1VdayqDgOHgKuSXAy8sqr2NcvdObCOJGkCtDlmsKKqjjbTR4EVzfRK\n",
       "YGZguRlg1UnKZ5tySdKEGOoAcvXvaNX1zVQkSUNqc6O6o0kuqqojzS6gZ5ryWWDNwHKr6Y8IZpvp\n",
       "wfLZU7349PT0C9NTU1NMTU21aKIkLV69Xo9erzfS18yZbleb5BLg/qp6ffP8E8APq+q2JNuA5VW1\n",
       "rTmAfBdwJf3dQF8FXltVlWQv8CFgH/APwGeq6sGT1FXePldd6Z/v0OXnr+v6+23wO/jyk4SqGuqW\n",
       "s6cdGSTZBVwDvCbJ08CfArcCu5NsAQ4D1wNU1YEku4EDwHFg68CWfSvwReBc4IGTBYG65730paXr\n",
       "jCODcXJk0K1J+GXc5fs/Cf13ZKA2RjEy8ApkSZJhIEkyDCRJGAaSJAwDSRKGgSQJw0CShGEgScIw\n",
       "kCRhGEiSMAwkSRgGkiQMA0kShoEkCcNAkoRhIEnCMJAkYRhIkjAMJEkYBpIkDANJEoaBJAnDQJKE\n",
       "YSBJwjCQJAHLum6ANChJ102QliTDQBOmOqzbINLS5W4iSZJhIEkaIgyS3Jzk8ST7k9yV5BVJLkyy\n",
       "J8mTSR5Ksnxg+e1JnkpyMMm1o2m+JGkUWoVBklXAB4E3VdXrgbOAG4FtwJ6quhR4uHlOkvXADcB6\n",
       "YAOwI4mjEkmaEMNskJcB5yVZBpwHfB/YCOxs5u8ErmumNwG7qupYVR0GDgFXDlG3JGmEWoVBVc0C\n",
       "nwS+Rz8EflxVe4AVVXW0WewosKKZXgnMDLzEDLCqVYslSSPX6tTSJK+mPwq4BHgW+Psk7xlcpqoq\n",
       "yenOEzzpvOnp6Remp6ammJqaatNESVq0er0evV5vpK+Zqvmf153kd4DfrKo/aJ7fBFwNvA14a1Ud\n",
       "SXIx8EhVXZZkG0BV3dos/yBwS1XtPeF1q017NBr9C766Ps/f+rsV/A6+/CShqoa6UKbtMYP/Aq5O\n",
       "cm76W5B3AAeA+4HNzTKbgXub6fuAG5Ock2QtsA7Y177ZkqRRarWbqKr2Jbkb+CZwvPn3r4BXAruT\n",
       "bAEOA9c3yx9Ispt+YBwHtk7iEGASboUwgf8tkpaAVruJFkrXu4kmYTfJUu+/9Xf9fXQ30ctRl7uJ\n",
       "JEmLiGEgSTIMJEmGgSQJw0CShGEgScIwkCRhGEiSMAwkSRgGkiQMA0kShoEkCcNAkoRhIEnCMJAk\n",
       "YRhIkjAMJEkYBpIkDANJErCs6wbopfp/h1iSxsswmDhd/0F2SUuRu4kkSYaBJMkwkCRhGEiSMAwk\n",
       "SRgGkiQMA0kSQ4RBkuVJ7k7yRJIDSa5KcmGSPUmeTPJQkuUDy29P8lSSg0muHU3zJUmjMMzI4NPA\n",
       "A1V1OfDLwEFgG7Cnqi4FHm6ek2Q9cAOwHtgA7EjiqESSJkSrDXKSC4C3VNXtAFV1vKqeBTYCO5vF\n",
       "dgLXNdObgF1VdayqDgOHgCuHabgkaXTa/jpfC/wgyR1Jvpnk80l+AVhRVUebZY4CK5rplcDMwPoz\n",
       "wKqWdUuSRqztvYmWAVcAH6iqbyT5S5pdQs+rqkpyuhvtnHTe9PT0C9NTU1NMTU21bKIkLU69Xo9e\n",
       "rzfS10zV/G+MluQi4OtVtbZ5/mZgO/BLwFur6kiSi4FHquqyJNsAqurWZvkHgVuqau8Jr1tt2jMq\n",
       "/TuGdn2jOOu3/i6FLr+DaicJVTXUnSZb7SaqqiPA00kubYreAXwbuB/Y3JRtBu5tpu8DbkxyTpK1\n",
       "wDpgX+tWS5JGaphbWH8Q+FKSc4DvAL8PnAXsTrIFOAxcD1BVB5LsBg4Ax4GtnQ4BJEkv0Wo30UJx\n",
       "N5H1W3/X30d3E70cdbabSJK0uBgGkiTDQJJkGEiSMAwkSRgGkiQMA0kShoEkCcNAkoRhIEnCMJAk\n",
       "YRhIkjAMJEkYBpIkDANJEoaBJAnDQJKEYSBJwjCQJAHLum6ApMnS/1vg3fFvMHfDMJB0gi43xt0G\n",
       "0VI2cWHwsY/9SddNkKQlJ5M0JEtS8Gcd1b4f2E33v4qs3/q71HUb4m6iFpJQVUMNqyYwDLpqz5eB\n",
       "G+n6i2D91t+trttgGLQxijDwbCJJkmEgSTIMJEkYBpIkhgyDJGcleTTJ/c3zC5PsSfJkkoeSLB9Y\n",
       "dnuSp5IcTHLtsA2XJI3OsCODDwMHePH0g23Anqq6FHi4eU6S9cANwHpgA7AjiaMSSZoQrTfISVYD\n",
       "7wS+wIuXDW4EdjbTO4HrmulNwK6qOlZVh4FDwJVt65YkjdYwv84/BXwUeG6gbEVVHW2mjwIrmumV\n",
       "wMzAcjPAqiHqliSNUKvbUSR5F/BMVT2aZOpky1RV9S8iO6VTzJsemJ5qHpKk5/V6PXq93khfs9UV\n",
       "yEk+DtwEHAd+HngVcA/wa8BUVR1JcjHwSFVdlmQbQFXd2qz/IHBLVe094XW9Atn6rb9TXbfBK5Db\n",
       "6OwK5Kr6WFWtqaq19Leg/1RVNwH3AZubxTYD9zbT9wE3JjknyVpgHbBvmIZLkkZnVHctfT7KbwV2\n",
       "J9kCHAauB6iqA0l20z/z6DiwtYx/SZoY3qjuBe4msv6lXv8ktMHdRG14ozpJ0kgYBpIkw0CSZBhI\n",
       "kjAMJEkYBpIkDANJEoaBJAnDQJKEYSBJwjCQJGEYSJIwDCRJGAaSJAwDSRKGgSQJw0CShGEgScIw\n",
       "kCRhGEiSMAwkSRgGkiQMA0kShoEkCcNAkoRhIEnCMJAkYRhIkmgZBknWJHkkybeTPJ7kQ035hUn2\n",
       "JHkyyUNJlg+ssz3JU0kOJrl2VB2QJA2v7cjgGHBzVb0OuBp4f5LLgW3Anqq6FHi4eU6S9cANwHpg\n",
       "A7AjiaMSSZoQrTbIVXWkqh5rpn8CPAGsAjYCO5vFdgLXNdObgF1VdayqDgOHgCuHaLckaYSG/nWe\n",
       "5BLgjcBeYEVVHW1mHQVWNNMrgZmB1Wboh4ckaQIMFQZJzge+Any4qv5ncF5VFVCnWf108yRJY7Ss\n",
       "7YpJzqYfBH9TVfc2xUeTXFRVR5JcDDzTlM8CawZWX92UncT0wPRU85AkPa/X69Hr9Ub6mun/gJ/n\n",
       "SknoHxP4YVXdPFD+iabstiTbgOVVta05gHwX/eMEq4CvAq+tEypPUt0NGL4M3Ei3A5ZYv/V3WP8k\n",
       "tCG02SYtdUmoqgzzGm1HBr8BvAf49ySPNmXbgVuB3Um2AIeB6wGq6kCS3cAB4Diw9cQgkCR1p9XI\n",
       "YKE4Muj+V5n1L+X6J6ENjgza6HJkIEkLor8XujtLNYwMA0kTpuvR2dLkVcCSJMNAkmQYSJIwDCRJ\n",
       "GAaSJAwDSRKGgSQJw0CShBedSdJLLNUroA0DSXqJpXkFtLuJJEmGgSTJMJAkYRhIkjAMJEkYBpIk\n",
       "DANJEoaBJAnDQJKEYSBJwjCQJGEYSJIwDCRJGAaSJAwDSRKGgSSJMYdBkg1JDiZ5KskfjbNuSdKp\n",
       "jS0MkpwFfBbYAKwH3p3k8nHVPxl6XTdgAfW6bsAC63XdgAXW67oBC6zXdQMm3jhHBlcCh6rqcFUd\n",
       "A/4O2DTG+idAr+sGLKBe1w1YYL2uG7DAel03YIH1um7AxBtnGKwCnh54PtOUSZI6tmyMdc3pr0y/\n",
       "6lW/vdDtOKljx2b56U87qVqSOpeqOW2jh68ouRqYrqoNzfPtwHNVddvAMuNpjCQtMlWVYdYfZxgs\n",
       "A/4DeDvwfWAf8O6qemIsDZAkndLYdhNV1fEkHwD+ETgL+GuDQJImw9hGBpKkyTWWs4nmcrFZks80\n",
       "87+V5I3zWbdrbfuXZE2SR5J8O8njST403pbPzTDvXzPvrCSPJrl/PC2enyE/n8uT3J3kiSQHmmNj\n",
       "E2XI/t3cfDb3J7krySvG1/IzO1PfklyW5OtJfpbkI/NZdxK07V+rbUtVLeiD/i6hQ8AlwNnAY8Dl\n",
       "JyzzTuCBZvoq4F/mum7XjyH7dxHwK830+fSPqSya/g3M/0PgS8B9Xfdn1P0DdgLvbaaXARd03acR\n",
       "fj5XAf8JvKJ5/mVgc9d9mmfffhH4VeDPgY/MZ92uH0P2b97blnGMDOZysdlG+l8qqmovsDzJRXNc\n",
       "t2tt+7eiqo5U1WNN+U+AJ4CV42v6nLTuH0CS1fQ3Nl8AhjrbYYG07l+SC4C3VNXtzbzjVfXsGNs+\n",
       "F0O9f/QD7rzmBJDzgNnxNHtOzti3qvpBVf0rcGy+606A1v1rs20ZRxjM5WKzUy2zcg7rdq1t/1YP\n",
       "LpDkEuCNwN6Rt3A4w7x/AJ8CPgo8t1ANHNIw799a4AdJ7kjyzSSfT3LegrZ2/lq/f1U1C3wS+B79\n",
       "MwB/XFVfXcC2ztcwF7K+HC6CHUkb57ptGUcYzPUI9ST+apyLtv17Yb0k5wN3Ax9uUnyStO1fkrwL\n",
       "eKaqHj3J/EkxzPu3DLgC2FFVVwD/C2wbYdtGofX3L8mr6Y8aLqH/w+z8JL87uqYNbZizX14OZ84M\n",
       "3cb5bFvGEQazwJqB52voJ9zpllndLDOXdbvWtn+zAEnOBr4C/G1V3buA7WxrmP79OrAxyXeBXcDb\n",
       "kty5gG1tY5j+zQAzVfWNpvxu+uEwSYbp3zuA71bVD6vqOHAP/fd0UgyzfVgs25ZTmve2ZQwHQZYB\n",
       "36H/6+IcznwA62pePIB1xnW7fgzZvwB3Ap/quh8L0b8TlrkGuL/r/oy6f8A/A5c209PAbV33aVT9\n",
       "o38w+XHg3OazuhN4f9d9mk/fBpad5qUHWBfFtuU0/Zv3tmVcnfot+kezDwHbm7L3Ae8bWOazzfxv\n",
       "AVecbt1Je7TtH/Bm+vvSHwMebR4buu7PKN+/gfnXMIFnE43g8/kG4BtN+T1M2NlEI+jfNP2Dj/vp\n",
       "h8HZXfdnPn2jf1bN08CzwI/oH/84/1TrTtqjbf/abFu86EyS5J+9lCQZBpIkDANJEoaBJAnDQJKE\n",
       "YSBJwjCQJGEYSJKA/wfG2pym5Ap4VQAAAABJRU5ErkJggg==\n"
      ],
      "text/plain": [
       "<matplotlib.figure.Figure at 0x11363bfd0>"
      ]
     },
     "metadata": {},
     "output_type": "display_data"
    }
   ],
   "source": [
    "hist(length.values())"
   ]
  },
  {
   "cell_type": "code",
   "execution_count": 25,
   "metadata": {
    "collapsed": false
   },
   "outputs": [
    {
     "data": {
      "text/plain": [
       "6787"
      ]
     },
     "execution_count": 25,
     "metadata": {},
     "output_type": "execute_result"
    }
   ],
   "source": [
    "len(g)"
   ]
  },
  {
   "cell_type": "code",
   "execution_count": 82,
   "metadata": {
    "collapsed": false
   },
   "outputs": [],
   "source": [
    "from openalea.mtg import algo\n",
    "orders = algo.orders(g)"
   ]
  },
  {
   "cell_type": "code",
   "execution_count": null,
   "metadata": {
    "collapsed": false
   },
   "outputs": [],
   "source": []
  }
 ],
 "metadata": {
  "kernelspec": {
   "display_name": "Python 2",
   "language": "python",
   "name": "python2"
  },
  "language_info": {
   "codemirror_mode": {
    "name": "ipython",
    "version": 2
   },
   "file_extension": ".py",
   "mimetype": "text/x-python",
   "name": "python",
   "nbconvert_exporter": "python",
   "pygments_lexer": "ipython2",
   "version": "2.7.9"
  }
 },
 "nbformat": 4,
 "nbformat_minor": 0
}
=======
{
 "metadata": {
  "name": "",
  "signature": "sha256:3a237011d5a99ded9cb7353705e0f31b0277033585aab50cc644ee30098f15ac"
 },
 "nbformat": 3,
 "nbformat_minor": 0,
 "worksheets": [
  {
   "cells": [
    {
     "cell_type": "heading",
     "level": 1,
     "metadata": {},
     "source": [
      "Architectural Analysis"
     ]
    },
    {
     "cell_type": "heading",
     "level": 2,
     "metadata": {},
     "source": [
      "Imports"
     ]
    },
    {
     "cell_type": "code",
     "collapsed": false,
     "input": [
      "#from vpltkdisplay import *\n",
      "\n",
      "%matplotlib inline\n",
      "from pylab import plot, hist\n",
      "%gui qt"
     ],
     "language": "python",
     "metadata": {},
     "outputs": [],
     "prompt_number": 1
    },
    {
     "cell_type": "heading",
     "level": 2,
     "metadata": {},
     "source": [
      "Data for the different genotypes"
     ]
    },
    {
     "cell_type": "code",
     "collapsed": false,
     "input": [
      "import numpy as np\n",
      "\n",
      "length_data = [0., 0.03, 0.05, 0.16], [0., 0., 0.01, 0.13]\n",
      "\n",
      "def radial(v=300):\n",
      "    xr = [0., 0.015, 0.03, 0.045, 0.06, 0.075, 0.09, 0.105, 0.135, 0.15, 0.16]\n",
      "    yr = [v]*len(xr)\n",
      "    return xr, yr\n",
      "\n",
      "# radial\n",
      "r = {}\n",
      "r['col'] = radial(300)\n",
      "r['pip2122'] = radial(239)\n",
      "r['esk11'] = radial(373)\n",
      "r['esk15'] = radial(518)\n",
      "r['irx34'] = radial(300)\n",
      "\n"
     ],
     "language": "python",
     "metadata": {},
     "outputs": [],
     "prompt_number": 2
    },
    {
     "cell_type": "heading",
     "level": 1,
     "metadata": {},
     "source": [
      "Axial Conductivity for different genotypes"
     ]
    },
    {
     "cell_type": "code",
     "collapsed": false,
     "input": [
      "# axial\n",
      "a={}\n",
      "a['col'] = (\n",
      "    [0., 0.03,  0.06, 0.09, 0.12, 0.15, 0.18], \n",
      "    [2.9e-4, 34.8e-4, 147.4e-4, 200.3e-4,292.6e-4,262.5e-4,511.1e-4]\n",
      ")\n",
      "\n",
      "a['esk11'] = (\n",
      "    [0., 0.03,  0.06, 0.09, 0.12], \n",
      "    [2.3e-4, 15.9e-4, 158.9e-4, 216.4e-4,192.e-4]\n",
      ")\n",
      "\n",
      "a['esk15'] = (\n",
      "    [0., 0.03,  0.06, 0.09, 0.12, 0.15], \n",
      "    [0.7e-4, 3.9e-4, 168.8e-4, 220.5e-4,239.3e-4, 219.5e-4]\n",
      ")\n",
      "\n",
      "a['irx34'] = (\n",
      "    [0., 0.03,  0.06, 0.09, 0.12], \n",
      "    [5.2e-4, 11.4e-4, 19.8e-4, 119.6e-4,359.9e-4]\n",
      ")\n",
      "\n",
      "a['pip2122'] = a['col']"
     ],
     "language": "python",
     "metadata": {},
     "outputs": [],
     "prompt_number": 3
    },
    {
     "cell_type": "heading",
     "level": 1,
     "metadata": {},
     "source": [
      "Root length"
     ]
    },
    {
     "cell_type": "code",
     "collapsed": false,
     "input": [
      "# length\n",
      "l={}\n",
      "nn={}\n",
      "l['col'] = [0., 0.03, 0.05, 0.16], [0., 0., 0.01, 0.13]\n",
      "nn['col'] = 0.1150\n",
      "\n",
      "l['esk11'] = [0., 0.02, 0.05, 0.09, 0.13], [0., 0., 0.001, 0.045, 0.089]\n",
      "nn['esk11'] = 0.1050\n",
      "\n",
      "l['esk15'] = [0., 0.02, 0.08, 0.10, 0.16], [0., 0., 0.005, 0.02, 0.065]\n",
      "nn['esk15'] = 0.1467 \n",
      "\n",
      "l['irx34'] = [0., 0.02, 0.05, 0.09, 0.13], [0., 0., 0.005, 0.03, 0.055]\n",
      "nn['irx34'] = 0.1200\n",
      "\n",
      "l['pip2122'] = l['col']\n",
      "nn['pip2122'] = 0.1500\n",
      "\n",
      "length_data = l['col']\n",
      "n = nn['col']\n",
      "\n",
      "xx, yy = l['col']\n",
      "plot(xx, yy)\n"
     ],
     "language": "python",
     "metadata": {},
     "outputs": [
      {
       "metadata": {},
       "output_type": "pyout",
       "prompt_number": 4,
       "text": [
        "[<matplotlib.lines.Line2D at 0x110971110>]"
       ]
      },
      {
       "metadata": {},
       "output_type": "display_data",
       "png": "iVBORw0KGgoAAAANSUhEUgAAAYAAAAEACAYAAAC6d6FnAAAABHNCSVQICAgIfAhkiAAAAAlwSFlz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\n/h8FJb4sXHnb+AAAAABJRU5ErkJggg==\n",
       "text": [
        "<matplotlib.figure.Figure at 0x10a2c37d0>"
       ]
      }
     ],
     "prompt_number": 4
    },
    {
     "cell_type": "code",
     "collapsed": false,
     "input": [
      "l['col'] = ([x*(11.5/13.69)/100. for x in [0.0, 0.6845, 1.369, 2.0535, 2.738, 3.4225, 4.107, 4.7915, \n",
      "                               5.476, 6.1605, 6.845, 7.5295, 8.214, 8.8985, 9.583, 10.2675, \n",
      "                               10.952, 11.6365, 12.321, 13.0055, 13.69]],\n",
      "            [0.0, 0., 0., 0.000335, 0.000425, 0.000995, 0.00314, 0.00257, 0.0128, \n",
      "             0.008, 0.0125, 0.0225, 0.0185, 0.0104, 0.0169, 0.00548, 0.00849, \n",
      "             0.0499, 0.055, 0.063, 0.091])\n",
      "\n",
      "n = nn['col'] = 0.1150\n",
      "xx, yy = l['col']\n",
      "plot(xx,yy)"
     ],
     "language": "python",
     "metadata": {},
     "outputs": [
      {
       "metadata": {},
       "output_type": "pyout",
       "prompt_number": 5,
       "text": [
        "[<matplotlib.lines.Line2D at 0x110adb0d0>]"
       ]
      },
      {
       "metadata": {},
       "output_type": "display_data",
       "png": "iVBORw0KGgoAAAANSUhEUgAAAYAAAAEACAYAAAC6d6FnAAAABHNCSVQICAgIfAhkiAAAAAlwSFlz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\n",
       "text": [
        "<matplotlib.figure.Figure at 0x10a2b2750>"
       ]
      }
     ],
     "prompt_number": 5
    },
    {
     "cell_type": "heading",
     "level": 1,
     "metadata": {},
     "source": [
      "Hydroroot model"
     ]
    },
    {
     "cell_type": "markdown",
     "metadata": {},
     "source": [
      "TODO\n",
      "====\n",
      "  - Explicit all the parameters to avoid any side effect\n"
     ]
    },
    {
     "cell_type": "code",
     "collapsed": false,
     "input": [
      "from hydroroot.main import hydroroot \n",
      "\n",
      "mtgs = []\n",
      "for genotype in ['col',]:# 'esk11', 'esk15']:#, 'irx34', 'pip2122']:\n",
      "    length_data = l[genotype]\n",
      "    axial_conductivity_data = a[genotype]\n",
      "    radial_conductivity_data = r[genotype]\n",
      "    n = nn[genotype]\n",
      "    # TEST\n",
      "    #for n in (0.045, 0.095):\n",
      "    for n in (n,):\n",
      "        seed = 4\n",
      "        g, surface, volume, Keq, Jv_global = hydroroot(\n",
      "        seed=seed,\n",
      "        primary_length = n,\n",
      "        length_data=length_data, \n",
      "        axial_conductivity_data=axial_conductivity_data, \n",
      "        radial_conductivity_data=radial_conductivity_data,\n",
      "        nude_length = 0.02,\n",
      "        )\n",
      "        mtgs.append(g)\n",
      "        print genotype, 'volume:', volume,'Keq:', Keq, 'Jv:', Jv_global, Jv_global/volume\n"
     ],
     "language": "python",
     "metadata": {},
     "outputs": [
      {
       "output_type": "stream",
       "stream": "stdout",
       "text": [
        "col volume: 2.94278558649e-08 Keq: 0.235647020282 Jv: 0.0706941060846 2402285.318\n"
       ]
      }
     ],
     "prompt_number": 6
    },
    {
     "cell_type": "code",
     "collapsed": false,
     "input": [
      "from hydroroot import display as dis"
     ],
     "language": "python",
     "metadata": {},
     "outputs": [
      {
       "output_type": "stream",
       "stream": "stderr",
       "text": [
        "/opt/local/Library/Frameworks/Python.framework/Versions/2.7/lib/python2.7/site-packages/matplotlib/cbook.py:137: MatplotlibDeprecationWarning: The matplotlib.mpl module was deprecated in version 1.3. Use `import matplotlib as mpl` instead.\n",
        "  warnings.warn(message, mplDeprecation, stacklevel=1)\n"
       ]
      }
     ],
     "prompt_number": 7
    },
    {
     "cell_type": "heading",
     "level": 3,
     "metadata": {},
     "source": [
      "Display the RSA that has been computed"
     ]
    },
    {
     "cell_type": "code",
     "collapsed": false,
     "input": [
      "#%gui qt\n",
      "from openalea.plantgl.all import *\n",
      "#for g in mtgs:\n",
      "scene = dis.plot(mtgs[0], r_base=1e-4, r_tip=5e-5, prop_cmap='j', lognorm=False)\n",
      "    #display(PlantGL(scene))\n",
      "Viewer.display(scene)"
     ],
     "language": "python",
     "metadata": {},
     "outputs": [],
     "prompt_number": 8
    },
    {
     "cell_type": "heading",
     "level": 2,
     "metadata": {},
     "source": [
      "Compute the length on the simulated MTG"
     ]
    },
    {
     "cell_type": "code",
     "collapsed": false,
     "input": [
      "from openalea.mtg import algo\n",
      "\n",
      "# g is the col RSA\n",
      "g = mtgs[0]\n",
      "orders = algo.orders(g)\n",
      "\n",
      "# l is the set of vertices at the segment scale\n",
      "# l = g.vertices(scale=g.max_scale())\n"
     ],
     "language": "python",
     "metadata": {},
     "outputs": [],
     "prompt_number": 11
    },
    {
     "cell_type": "heading",
     "level": 2,
     "metadata": {},
     "source": [
      "Compute the cumulated length for each segment of the RSA "
     ]
    },
    {
     "cell_type": "code",
     "collapsed": false,
     "input": [
      "#g0, g1, g2, g3, g4 = mtgs\n",
      "g, = mtgs\n",
      "from openalea.mtg.traversal import pre_order2\n",
      "length= {}\n",
      "root = 1\n",
      "dl = 1.e-4\n",
      "for v in pre_order2(g,1):\n",
      "    pid = g.parent(v)\n",
      "    length[v] = length[pid]+dl if pid else dl\n",
      "\n",
      "def nb_root(l):\n",
      "    count = 0\n",
      "    for v in g:\n",
      "        pid = g.parent(v)\n",
      "        if pid and (length[pid] <= l <= length[v]):\n",
      "            count+=1\n",
      "    return count"
     ],
     "language": "python",
     "metadata": {},
     "outputs": [],
     "prompt_number": 12
    },
    {
     "cell_type": "code",
     "collapsed": false,
     "input": [
      "# print the length of the RSA\n",
      "max(length.values())"
     ],
     "language": "python",
     "metadata": {},
     "outputs": [
      {
       "metadata": {},
       "output_type": "pyout",
       "prompt_number": 13,
       "text": [
        "0.11500000000000227"
       ]
      }
     ],
     "prompt_number": 13
    },
    {
     "cell_type": "heading",
     "level": 2,
     "metadata": {},
     "source": [
      "Select all the segment at a given length"
     ]
    },
    {
     "cell_type": "code",
     "collapsed": false,
     "input": [
      "dist = (0.045, 0.055, 0.095, 0.105)\n",
      "intercepts = map(nb_root, dist)\n",
      "print intercepts"
     ],
     "language": "python",
     "metadata": {},
     "outputs": [
      {
       "output_type": "stream",
       "stream": "stdout",
       "text": [
        "[35, 26, 2, 1]\n"
       ]
      }
     ],
     "prompt_number": 15
    },
    {
     "cell_type": "code",
     "collapsed": false,
     "input": [
      "hist(x=length.values())\n",
      "#plot(hist(l))"
     ],
     "language": "python",
     "metadata": {},
     "outputs": [
      {
       "metadata": {},
       "output_type": "pyout",
       "prompt_number": 16,
       "text": [
        "(array([  889.,  4999.,  7464.,  5048.,  3302.,  2788.,  1255.,   361.,\n",
        "          241.,   115.]),\n",
        " array([  1.00000000e-04,   1.15900000e-02,   2.30800000e-02,\n",
        "          3.45700000e-02,   4.60600000e-02,   5.75500000e-02,\n",
        "          6.90400000e-02,   8.05300000e-02,   9.20200000e-02,\n",
        "          1.03510000e-01,   1.15000000e-01]),\n",
        " <a list of 10 Patch objects>)"
       ]
      },
      {
       "metadata": {},
       "output_type": "display_data",
       "png": "iVBORw0KGgoAAAANSUhEUgAAAYMAAAEACAYAAABRQBpkAAAABHNCSVQICAgIfAhkiAAAAAlwSFlz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\n",
       "text": [
        "<matplotlib.figure.Figure at 0x10a2acbd0>"
       ]
      }
     ],
     "prompt_number": 16
    },
    {
     "cell_type": "code",
     "collapsed": false,
     "input": [
      "# print the histogram of radius\n",
      "hist(x=g.property('radius').values(),bins=100)"
     ],
     "language": "python",
     "metadata": {},
     "outputs": [
      {
       "metadata": {},
       "output_type": "pyout",
       "prompt_number": 22,
       "text": [
        "(array([ 3144.,  2204.,  1977.,  1582.,  1668.,  1468.,  1494.,  1254.,\n",
        "         1156.,   914.,   869.,   586.,   526.,   384.,   377.,   298.,\n",
        "          310.,   269.,   263.,   211.,   204.,   179.,   167.,   143.,\n",
        "          156.,   143.,   156.,   143.,   156.,   143.,   150.,   132.,\n",
        "          144.,   132.,   144.,   132.,   144.,   132.,   144.,   132.,\n",
        "          136.,   113.,   120.,   110.,   109.,    99.,   108.,    99.,\n",
        "          108.,    90.,    77.,    72.,    66.,    72.,    66.,    60.,\n",
        "           44.,    48.,    44.,    41.,    33.,    36.,    33.,    36.,\n",
        "           33.,    33.,    22.,    24.,    22.,    24.,    22.,    24.,\n",
        "           22.,    24.,    22.,    24.,    22.,    24.,    22.,    24.,\n",
        "           22.,    24.,    22.,    24.,    22.,    24.,    22.,    24.,\n",
        "           13.,    12.,    11.,    12.,    11.,    12.,    11.,    12.,\n",
        "           11.,    12.,    11.,    12.]),\n",
        " array([  5.00000000e-05,   5.05000000e-05,   5.10000000e-05,\n",
        "          5.15000000e-05,   5.20000000e-05,   5.25000000e-05,\n",
        "          5.30000000e-05,   5.35000000e-05,   5.40000000e-05,\n",
        "          5.45000000e-05,   5.50000000e-05,   5.55000000e-05,\n",
        "          5.60000000e-05,   5.65000000e-05,   5.70000000e-05,\n",
        "          5.75000000e-05,   5.80000000e-05,   5.85000000e-05,\n",
        "          5.90000000e-05,   5.95000000e-05,   6.00000000e-05,\n",
        "          6.05000000e-05,   6.10000000e-05,   6.15000000e-05,\n",
        "          6.20000000e-05,   6.25000000e-05,   6.30000000e-05,\n",
        "          6.35000000e-05,   6.40000000e-05,   6.45000000e-05,\n",
        "          6.50000000e-05,   6.55000000e-05,   6.60000000e-05,\n",
        "          6.65000000e-05,   6.70000000e-05,   6.75000000e-05,\n",
        "          6.80000000e-05,   6.85000000e-05,   6.90000000e-05,\n",
        "          6.95000000e-05,   7.00000000e-05,   7.05000000e-05,\n",
        "          7.10000000e-05,   7.15000000e-05,   7.20000000e-05,\n",
        "          7.25000000e-05,   7.30000000e-05,   7.35000000e-05,\n",
        "          7.40000000e-05,   7.45000000e-05,   7.50000000e-05,\n",
        "          7.55000000e-05,   7.60000000e-05,   7.65000000e-05,\n",
        "          7.70000000e-05,   7.75000000e-05,   7.80000000e-05,\n",
        "          7.85000000e-05,   7.90000000e-05,   7.95000000e-05,\n",
        "          8.00000000e-05,   8.05000000e-05,   8.10000000e-05,\n",
        "          8.15000000e-05,   8.20000000e-05,   8.25000000e-05,\n",
        "          8.30000000e-05,   8.35000000e-05,   8.40000000e-05,\n",
        "          8.45000000e-05,   8.50000000e-05,   8.55000000e-05,\n",
        "          8.60000000e-05,   8.65000000e-05,   8.70000000e-05,\n",
        "          8.75000000e-05,   8.80000000e-05,   8.85000000e-05,\n",
        "          8.90000000e-05,   8.95000000e-05,   9.00000000e-05,\n",
        "          9.05000000e-05,   9.10000000e-05,   9.15000000e-05,\n",
        "          9.20000000e-05,   9.25000000e-05,   9.30000000e-05,\n",
        "          9.35000000e-05,   9.40000000e-05,   9.45000000e-05,\n",
        "          9.50000000e-05,   9.55000000e-05,   9.60000000e-05,\n",
        "          9.65000000e-05,   9.70000000e-05,   9.75000000e-05,\n",
        "          9.80000000e-05,   9.85000000e-05,   9.90000000e-05,\n",
        "          9.95000000e-05,   1.00000000e-04]),\n",
        " <a list of 100 Patch objects>)"
       ]
      },
      {
       "metadata": {},
       "output_type": "display_data",
       "png": "iVBORw0KGgoAAAANSUhEUgAAAY0AAAEACAYAAABPiSrXAAAABHNCSVQICAgIfAhkiAAAAAlwSFlz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\n0JAkNTM0JEnNDA1JUrP/D8cqoBsk44JzAAAAAElFTkSuQmCC\n",
       "text": [
        "<matplotlib.figure.Figure at 0x118a87bd0>"
       ]
      }
     ],
     "prompt_number": 22
    }
   ],
   "metadata": {}
  }
 ]
}>>>>>>> .r18645
