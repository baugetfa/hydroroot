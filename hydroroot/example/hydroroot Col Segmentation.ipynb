{
 "metadata": {
  "name": "",
  "signature": "sha256:ffa44718ea1483bca9c88b2f8525373c6a00811a6f79f01208c5ab82170c0476"
 },
 "nbformat": 3,
 "nbformat_minor": 0,
 "worksheets": [
  {
   "cells": [
    {
     "cell_type": "code",
     "collapsed": false,
     "input": [
      "#from vpltkdisplay import *\n",
      "%gui qt"
     ],
     "language": "python",
     "metadata": {},
     "outputs": [],
     "prompt_number": 1
    },
    {
     "cell_type": "code",
     "collapsed": false,
     "input": [
      "import numpy as np\n",
      "\n",
      "length_data = [0., 0.03, 0.05, 0.16], [0., 0., 0.01, 0.13]\n",
      "\n",
      "def radial(v=300):\n",
      "    xr = [0., 0.015, 0.03, 0.045, 0.06, 0.075, 0.09, 0.105, 0.135, 0.15, 0.16]\n",
      "    yr = [v]*len(xr)\n",
      "    return xr, yr\n",
      "\n",
      "# radial\n",
      "r = {}\n",
      "r['col'] = radial(300)\n",
      "r['pip2122'] = radial(239)\n",
      "r['esk11'] = radial(373)\n",
      "r['esk15'] = radial(518)\n",
      "r['irx34'] = radial(300)\n",
      "\n"
     ],
     "language": "python",
     "metadata": {},
     "outputs": [],
     "prompt_number": 2
    },
    {
     "cell_type": "heading",
     "level": 1,
     "metadata": {},
     "source": [
      "Axial Conductivity for different genotypes"
     ]
    },
    {
     "cell_type": "code",
     "collapsed": false,
     "input": [
      "# axial\n",
      "a={}\n",
      "a['col'] = (\n",
      "    [0., 0.03,  0.06, 0.09, 0.12, 0.15, 0.18], \n",
      "    [2.9e-4, 34.8e-4, 147.4e-4, 200.3e-4,292.6e-4,262.5e-4,511.1e-4]\n",
      ")\n",
      "\n",
      "a['esk11'] = (\n",
      "    [0., 0.03,  0.06, 0.09, 0.12], \n",
      "    [2.3e-4, 15.9e-4, 158.9e-4, 216.4e-4,192.e-4]\n",
      ")\n",
      "\n",
      "a['esk15'] = (\n",
      "    [0., 0.03,  0.06, 0.09, 0.12, 0.15], \n",
      "    [0.7e-4, 3.9e-4, 168.8e-4, 220.5e-4,239.3e-4, 219.5e-4]\n",
      ")\n",
      "\n",
      "a['irx34'] = (\n",
      "    [0., 0.03,  0.06, 0.09, 0.12], \n",
      "    [5.2e-4, 11.4e-4, 19.8e-4, 119.6e-4,359.9e-4]\n",
      ")\n",
      "\n",
      "a['pip2122'] = a['col']"
     ],
     "language": "python",
     "metadata": {},
     "outputs": [],
     "prompt_number": 3
    },
    {
     "cell_type": "heading",
     "level": 1,
     "metadata": {},
     "source": [
      "Root length"
     ]
    },
    {
     "cell_type": "code",
     "collapsed": false,
     "input": [
      "# length\n",
      "l={}\n",
      "nn={}\n",
      "l['col'] = [0., 0.03, 0.05, 0.16], [0., 0., 0.01, 0.13]\n",
      "nn['col'] = 0.1150\n",
      "\n",
      "l['esk11'] = [0., 0.02, 0.05, 0.09, 0.13], [0., 0., 0.001, 0.045, 0.089]\n",
      "nn['esk11'] = 0.1050\n",
      "\n",
      "l['esk15'] = [0., 0.02, 0.08, 0.10, 0.16], [0., 0., 0.005, 0.02, 0.065]\n",
      "nn['esk15'] = 0.1467 \n",
      "\n",
      "l['irx34'] = [0., 0.02, 0.05, 0.09, 0.13], [0., 0., 0.005, 0.03, 0.055]\n",
      "nn['irx34'] = 0.1200\n",
      "\n",
      "l['pip2122'] = l['col']\n",
      "nn['pip2122'] = 0.1500\n",
      "\n",
      "length_data = l['col']\n",
      "n = nn['col']\n"
     ],
     "language": "python",
     "metadata": {},
     "outputs": [],
     "prompt_number": 4
    },
    {
     "cell_type": "code",
     "collapsed": false,
     "input": [
      "l['col'] = ([x/100. for x in [0.0, 0.6845, 1.369, 2.0535, 2.738, 3.4225, 4.107, 4.7915, \n",
      "                               5.476, 6.1605, 6.845, 7.5295, 8.214, 8.8985, 9.583, 10.2675, \n",
      "                               10.952, 11.6365, 12.321, 13.0055, 13.69]],\n",
      "            [0.0, 0., 0., 0.000335, 0.000425, 0.000995, 0.00314, 0.00257, 0.0128, \n",
      "             0.008, 0.0125, 0.0225, 0.0185, 0.0104, 0.0169, 0.00548, 0.00849, \n",
      "             0.0499, 0.055, 0.063, 0.091])\n",
      "\n"
     ],
     "language": "python",
     "metadata": {},
     "outputs": [],
     "prompt_number": 5
    },
    {
     "cell_type": "heading",
     "level": 1,
     "metadata": {},
     "source": [
      "Hydroroot model"
     ]
    },
    {
     "cell_type": "markdown",
     "metadata": {},
     "source": [
      "TODO\n",
      "====\n",
      "  - Explicit all the parameters to avoid any side effect\n"
     ]
    },
    {
     "cell_type": "code",
     "collapsed": false,
     "input": [
      "from hydroroot.main import hydroroot \n",
      "\n",
      "mtgs = []\n",
      "for genotype in ['col',]:# 'esk11', 'esk15']:#, 'irx34', 'pip2122']:\n",
      "    length_data = l[genotype]\n",
      "    axial_conductivity_data = a[genotype]\n",
      "    radial_conductivity_data = r[genotype]\n",
      "    n = nn[genotype]\n",
      "    # TEST\n",
      "    #for n in (0.045, 0.095):\n",
      "    for n in (n,):\n",
      "        #seed = 2\n",
      "        g, surface, volume, Keq, Jv_global = hydroroot(\n",
      "        seed=seed,\n",
      "        primary_length = n,\n",
      "        length_data=length_data, \n",
      "        axial_conductivity_data=axial_conductivity_data, \n",
      "        radial_conductivity_data=radial_conductivity_data,\n",
      "        )\n",
      "        mtgs.append(g)\n",
      "        print genotype, 'volume:', volume,'Keq:', Keq, 'Jv:', Jv_global, Jv_global/volume\n"
     ],
     "language": "python",
     "metadata": {},
     "outputs": [
      {
       "output_type": "stream",
       "stream": "stdout",
       "text": [
        "col volume: 1.00531989074e-08 Keq: 0.0684081160754 Jv: 0.0205224348226 2041383.54484\n"
       ]
      }
     ],
     "prompt_number": 9
    },
    {
     "cell_type": "code",
     "collapsed": false,
     "input": [
      "from hydroroot import display as dis"
     ],
     "language": "python",
     "metadata": {},
     "outputs": [
      {
       "output_type": "stream",
       "stream": "stderr",
       "text": [
        "/opt/local/Library/Frameworks/Python.framework/Versions/2.7/lib/python2.7/site-packages/matplotlib/cbook.py:137: MatplotlibDeprecationWarning: The matplotlib.mpl module was deprecated in version 1.3. Use `import matplotlib as mpl` instead.\n",
        "  warnings.warn(message, mplDeprecation, stacklevel=1)\n"
       ]
      }
     ],
     "prompt_number": 8
    },
    {
     "cell_type": "code",
     "collapsed": false,
     "input": [
      "%gui qt\n",
      "from openalea.plantgl.all import *\n",
      "#for g in mtgs:\n",
      "scene = dis.plot(mtgs[0], r_base=1e-4, r_tip=5e-5, prop_cmap='j', lognorm=False)\n",
      "    #display(PlantGL(scene))\n",
      "Viewer.display(scene)"
     ],
     "language": "python",
     "metadata": {},
     "outputs": [],
     "prompt_number": 9
    },
    {
     "cell_type": "code",
     "collapsed": false,
     "input": [
      "g = mtgs[0]\n",
      "l = g.vertices(scale=g.max_scale())"
     ],
     "language": "python",
     "metadata": {},
     "outputs": [],
     "prompt_number": 10
    },
    {
     "cell_type": "code",
     "collapsed": false,
     "input": [
      "from openalea.mtg import algo\n",
      "orders = algo.orders(g)"
     ],
     "language": "python",
     "metadata": {},
     "outputs": [],
     "prompt_number": 11
    },
    {
     "cell_type": "code",
     "collapsed": false,
     "input": [
      "l = [ k for k, o in orders.iteritems() if o == 5]"
     ],
     "language": "python",
     "metadata": {},
     "outputs": [],
     "prompt_number": 12
    },
    {
     "cell_type": "code",
     "collapsed": false,
     "input": [
      "sum(g.node(v).length for v in l)"
     ],
     "language": "python",
     "metadata": {},
     "outputs": [
      {
       "metadata": {},
       "output_type": "pyout",
       "prompt_number": 13,
       "text": [
        "0"
       ]
      }
     ],
     "prompt_number": 13
    },
    {
     "cell_type": "code",
     "collapsed": false,
     "input": [
      "g.property_names()"
     ],
     "language": "python",
     "metadata": {},
     "outputs": [
      {
       "metadata": {},
       "output_type": "pyout",
       "prompt_number": 14,
       "text": [
        "['J_out',\n",
        " 'k0',\n",
        " 'color',\n",
        " 'k',\n",
        " 'K',\n",
        " 'j',\n",
        " 'label',\n",
        " 'psi_in',\n",
        " 'length',\n",
        " 'edge_type',\n",
        " 'radius',\n",
        " 'Keq',\n",
        " 'position',\n",
        " 'psi_out',\n",
        " 'relative_position',\n",
        " 'order',\n",
        " 'position_index']"
       ]
      }
     ],
     "prompt_number": 14
    },
    {
     "cell_type": "code",
     "collapsed": false,
     "input": [
      "#g0, g1, g2, g3, g4 = mtgs\n",
      "g, = mtgs\n",
      "from openalea.mtg.traversal import pre_order2\n",
      "length= {}\n",
      "root = 1\n",
      "dl = 1.e-4\n",
      "for v in pre_order2(g,1):\n",
      "    pid = g.parent(v)\n",
      "    length[v] = length[pid]+dl if pid else dl\n",
      "\n",
      "def nb_root(l):\n",
      "    count = 0\n",
      "    for v in g:\n",
      "        pid = g.parent(v)\n",
      "        if pid and (length[pid] <= l <= length[v]):\n",
      "            count+=1\n",
      "    return count"
     ],
     "language": "python",
     "metadata": {},
     "outputs": [],
     "prompt_number": 15
    },
    {
     "cell_type": "code",
     "collapsed": false,
     "input": [
      "max(length.values())"
     ],
     "language": "python",
     "metadata": {},
     "outputs": [
      {
       "metadata": {},
       "output_type": "pyout",
       "prompt_number": 16,
       "text": [
        "0.11500000000000227"
       ]
      }
     ],
     "prompt_number": 16
    },
    {
     "cell_type": "code",
     "collapsed": false,
     "input": [
      "dist = (0.045, 0.055, 0.095, 0.105)\n",
      "map(nb_root, dist)"
     ],
     "language": "python",
     "metadata": {},
     "outputs": [
      {
       "metadata": {},
       "output_type": "pyout",
       "prompt_number": 16,
       "text": [
        "[8, 9, 1, 1]"
       ]
      }
     ],
     "prompt_number": 16
    },
    {
     "cell_type": "code",
     "collapsed": false,
     "input": [
      "dist = (0.045, 0.055, 0.095, 0.105)\n",
      "map(nb_root, dist)"
     ],
     "language": "python",
     "metadata": {},
     "outputs": [
      {
       "metadata": {},
       "output_type": "pyout",
       "prompt_number": 18,
       "text": [
        "[10, 9, 1, 1]"
       ]
      }
     ],
     "prompt_number": 18
    },
    {
     "cell_type": "code",
     "collapsed": false,
     "input": [
      "dist = (0.045, 0.055, 0.095, 0.105)\n",
      "map(nb_root, dist)"
     ],
     "language": "python",
     "metadata": {},
     "outputs": [
      {
       "metadata": {},
       "output_type": "pyout",
       "prompt_number": 19,
       "text": [
        "[10, 9, 1, 1]"
       ]
      }
     ],
     "prompt_number": 19
    },
    {
     "cell_type": "code",
     "collapsed": false,
     "input": [
      "dist = (0.045, 0.055, 0.095, 0.105)\n",
      "map(nb_root, dist)"
     ],
     "language": "python",
     "metadata": {},
     "outputs": [
      {
       "metadata": {},
       "output_type": "pyout",
       "prompt_number": 20,
       "text": [
        "[10, 9, 1, 1]"
       ]
      }
     ],
     "prompt_number": 20
    },
    {
     "cell_type": "code",
     "collapsed": false,
     "input": [
      "#g0\n",
      "dist = (0.045, 0.055, 0.095, 0.105)\n",
      "map(nb_root, dist)"
     ],
     "language": "python",
     "metadata": {},
     "outputs": [
      {
       "metadata": {},
       "output_type": "pyout",
       "prompt_number": 21,
       "text": [
        "[10, 9, 1, 1]"
       ]
      }
     ],
     "prompt_number": 21
    },
    {
     "cell_type": "code",
     "collapsed": false,
     "input": [
      "#12.5\n",
      "dist = (0.045, 0.055, 0.095, 0.105)\n",
      "map(nb_root, dist)"
     ],
     "language": "python",
     "metadata": {},
     "outputs": [
      {
       "metadata": {},
       "output_type": "pyout",
       "prompt_number": 22,
       "text": [
        "[10, 9, 1, 1]"
       ]
      }
     ],
     "prompt_number": 22
    },
    {
     "cell_type": "code",
     "collapsed": false,
     "input": [
      "%pylab inline"
     ],
     "language": "python",
     "metadata": {},
     "outputs": [
      {
       "output_type": "stream",
       "stream": "stdout",
       "text": [
        "Populating the interactive namespace from numpy and matplotlib\n"
       ]
      },
      {
       "output_type": "stream",
       "stream": "stderr",
       "text": [
        "WARNING: pylab import has clobbered these variables: ['dist', 'Text', 'cross', 'histogram', 'test', 'seed', 'norm', 'angle', 'dot']\n",
        "`%matplotlib` prevents importing * from pylab and numpy\n"
       ]
      }
     ],
     "prompt_number": 23
    },
    {
     "cell_type": "code",
     "collapsed": false,
     "input": [
      "hist(length.values())"
     ],
     "language": "python",
     "metadata": {},
     "outputs": [
      {
       "metadata": {},
       "output_type": "pyout",
       "prompt_number": 24,
       "text": [
        "(array([  456.,   784.,   671.,   988.,   844.,  1200.,  1074.,   471.,\n",
        "          174.,   124.]),\n",
        " array([  1.00000000e-04,   1.15900000e-02,   2.30800000e-02,\n",
        "          3.45700000e-02,   4.60600000e-02,   5.75500000e-02,\n",
        "          6.90400000e-02,   8.05300000e-02,   9.20200000e-02,\n",
        "          1.03510000e-01,   1.15000000e-01]),\n",
        " <a list of 10 Patch objects>)"
       ]
      },
      {
       "metadata": {},
       "output_type": "display_data",
       "png": "[encoded data removed]",
       "text": [
        "<matplotlib.figure.Figure at 0x11363bfd0>"
       ]
      }
     ],
     "prompt_number": 24
    },
    {
     "cell_type": "code",
     "collapsed": false,
     "input": [
      "len(g)"
     ],
     "language": "python",
     "metadata": {},
     "outputs": [
      {
       "metadata": {},
       "output_type": "pyout",
       "prompt_number": 25,
       "text": [
        "6787"
       ]
      }
     ],
     "prompt_number": 25
    },
    {
     "cell_type": "code",
     "collapsed": false,
     "input": [
      "from openalea.mtg import algo\n",
      "orders = algo.orders(g)"
     ],
     "language": "python",
     "metadata": {},
     "outputs": [],
     "prompt_number": 82
    },
    {
     "cell_type": "code",
     "collapsed": false,
     "input": [],
     "language": "python",
     "metadata": {},
     "outputs": []
    }
   ],
   "metadata": {}
  }
 ]
}