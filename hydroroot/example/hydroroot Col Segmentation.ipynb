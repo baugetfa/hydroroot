{
 "metadata": {
  "name": "",
  "signature": "sha256:6e79a7addf513cf9f1c1b1cc23c766f997b10e39cf553129d6c944846ee079ac"
 },
 "nbformat": 3,
 "nbformat_minor": 0,
 "worksheets": [
  {
   "cells": [
    {
     "cell_type": "heading",
     "level": 1,
     "metadata": {},
     "source": [
      "Architectural Analysis"
     ]
    },
    {
     "cell_type": "heading",
     "level": 2,
     "metadata": {},
     "source": [
      "Imports"
     ]
    },
    {
     "cell_type": "code",
     "collapsed": false,
     "input": [
      "#from vpltkdisplay import *\n",
      "\n",
      "%matplotlib inline\n",
      "from pylab import plot, hist\n",
      "%gui qt"
     ],
     "language": "python",
     "metadata": {},
     "outputs": [],
     "prompt_number": 1
    },
    {
     "cell_type": "heading",
     "level": 2,
     "metadata": {},
     "source": [
      "Data for the different genotypes"
     ]
    },
    {
     "cell_type": "code",
     "collapsed": false,
     "input": [
      "import numpy as np\n",
      "\n",
      "length_data = [0., 0.03, 0.05, 0.16], [0., 0., 0.01, 0.13]\n",
      "\n",
      "def radial(v=300):\n",
      "    xr = [0., 0.015, 0.03, 0.045, 0.06, 0.075, 0.09, 0.105, 0.135, 0.15, 0.16]\n",
      "    yr = [v]*len(xr)\n",
      "    return xr, yr\n",
      "\n",
      "# radial\n",
      "r = {}\n",
      "r['col'] = radial(300)\n",
      "r['pip2122'] = radial(239)\n",
      "r['esk11'] = radial(373)\n",
      "r['esk15'] = radial(518)\n",
      "r['irx34'] = radial(300)\n",
      "\n"
     ],
     "language": "python",
     "metadata": {},
     "outputs": [],
     "prompt_number": 2
    },
    {
     "cell_type": "heading",
     "level": 1,
     "metadata": {},
     "source": [
      "Axial Conductivity for different genotypes"
     ]
    },
    {
     "cell_type": "code",
     "collapsed": false,
     "input": [
      "# axial\n",
      "a={}\n",
      "a['col'] = (\n",
      "    [0., 0.03,  0.06, 0.09, 0.12, 0.15, 0.18], \n",
      "    [2.9e-4, 34.8e-4, 147.4e-4, 200.3e-4,292.6e-4,262.5e-4,511.1e-4]\n",
      ")\n",
      "\n",
      "a['esk11'] = (\n",
      "    [0., 0.03,  0.06, 0.09, 0.12], \n",
      "    [2.3e-4, 15.9e-4, 158.9e-4, 216.4e-4,192.e-4]\n",
      ")\n",
      "\n",
      "a['esk15'] = (\n",
      "    [0., 0.03,  0.06, 0.09, 0.12, 0.15], \n",
      "    [0.7e-4, 3.9e-4, 168.8e-4, 220.5e-4,239.3e-4, 219.5e-4]\n",
      ")\n",
      "\n",
      "a['irx34'] = (\n",
      "    [0., 0.03,  0.06, 0.09, 0.12], \n",
      "    [5.2e-4, 11.4e-4, 19.8e-4, 119.6e-4,359.9e-4]\n",
      ")\n",
      "\n",
      "a['pip2122'] = a['col']"
     ],
     "language": "python",
     "metadata": {},
     "outputs": [],
     "prompt_number": 3
    },
    {
     "cell_type": "heading",
     "level": 1,
     "metadata": {},
     "source": [
      "Root length"
     ]
    },
    {
     "cell_type": "code",
     "collapsed": false,
     "input": [
      "# length\n",
      "l={}\n",
      "nn={}\n",
      "l['col'] = [0., 0.03, 0.05, 0.16], [0., 0., 0.01, 0.13]\n",
      "nn['col'] = 0.1150\n",
      "\n",
      "l['esk11'] = [0., 0.02, 0.05, 0.09, 0.13], [0., 0., 0.001, 0.045, 0.089]\n",
      "nn['esk11'] = 0.1050\n",
      "\n",
      "l['esk15'] = [0., 0.02, 0.08, 0.10, 0.16], [0., 0., 0.005, 0.02, 0.065]\n",
      "nn['esk15'] = 0.1467 \n",
      "\n",
      "l['irx34'] = [0., 0.02, 0.05, 0.09, 0.13], [0., 0., 0.005, 0.03, 0.055]\n",
      "nn['irx34'] = 0.1200\n",
      "\n",
      "l['pip2122'] = l['col']\n",
      "nn['pip2122'] = 0.1500\n",
      "\n",
      "length_data = l['col']\n",
      "n = nn['col']\n",
      "\n",
      "xx, yy = l['col']\n",
      "plot(xx, yy)\n"
     ],
     "language": "python",
     "metadata": {},
     "outputs": [
      {
       "metadata": {},
       "output_type": "pyout",
       "prompt_number": 4,
       "text": [
        "[<matplotlib.lines.Line2D at 0x10e687590>]"
       ]
      },
      {
       "metadata": {},
       "output_type": "display_data",
       "png": "[encoded data removed]",
       "text": [
        "<matplotlib.figure.Figure at 0x10e55b910>"
       ]
      }
     ],
     "prompt_number": 4
    },
    {
     "cell_type": "code",
     "collapsed": false,
     "input": [
      "l['col'] = ([x*(11.5/13.69)/100. for x in [0.0, 0.6845, 1.369, 2.0535, 2.738, 3.4225, 4.107, 4.7915, \n",
      "                               5.476, 6.1605, 6.845, 7.5295, 8.214, 8.8985, 9.583, 10.2675, \n",
      "                               10.952, 11.6365, 12.321, 13.0055, 13.69]],\n",
      "            [0.0, 0., 0., 0.000335, 0.000425, 0.000995, 0.00314, 0.00257, 0.0128, \n",
      "             0.008, 0.0125, 0.0225, 0.0185, 0.0104, 0.0169, 0.00548, 0.00849, \n",
      "             0.0499, 0.055, 0.063, 0.091])\n",
      "\n",
      "n = nn['col'] = 0.1150\n",
      "xx, yy = l['col']\n",
      "plot(xx,yy)"
     ],
     "language": "python",
     "metadata": {},
     "outputs": [
      {
       "metadata": {},
       "output_type": "pyout",
       "prompt_number": 5,
       "text": [
        "[<matplotlib.lines.Line2D at 0x10e7d8ed0>]"
       ]
      },
      {
       "metadata": {},
       "output_type": "display_data",
       "png": "[encoded data removed]",
       "text": [
        "<matplotlib.figure.Figure at 0x10e641250>"
       ]
      }
     ],
     "prompt_number": 5
    },
    {
     "cell_type": "heading",
     "level": 1,
     "metadata": {},
     "source": [
      "Hydroroot model"
     ]
    },
    {
     "cell_type": "markdown",
     "metadata": {},
     "source": [
      "TODO\n",
      "====\n",
      "  - Explicit all the parameters to avoid any side effect\n"
     ]
    },
    {
     "cell_type": "code",
     "collapsed": false,
     "input": [
      "from hydroroot.main import hydroroot \n",
      "\n",
      "mtgs = []\n",
      "for genotype in ['col',]:# 'esk11', 'esk15']:#, 'irx34', 'pip2122']:\n",
      "    length_data = l[genotype]\n",
      "    axial_conductivity_data = a[genotype]\n",
      "    radial_conductivity_data = r[genotype]\n",
      "    n = nn[genotype]\n",
      "    # TEST\n",
      "    #for n in (0.045, 0.095):\n",
      "    for n in (n,):\n",
      "        seed = 4\n",
      "        g, surface, volume, Keq, Jv_global = hydroroot(\n",
      "        seed=seed,\n",
      "        primary_length = n,\n",
      "        length_data=length_data, \n",
      "        axial_conductivity_data=axial_conductivity_data, \n",
      "        radial_conductivity_data=radial_conductivity_data,\n",
      "        nude_length = 0.02,\n",
      "        )\n",
      "        mtgs.append(g)\n",
      "        print genotype, 'volume:', volume,'Keq:', Keq, 'Jv:', Jv_global, Jv_global/volume\n"
     ],
     "language": "python",
     "metadata": {},
     "outputs": [
      {
       "output_type": "stream",
       "stream": "stdout",
       "text": [
        "col volume: 2.94278558649e-08 Keq: 0.235647020282 Jv: 0.0706941060846 2402285.318\n"
       ]
      }
     ],
     "prompt_number": 6
    },
    {
     "cell_type": "code",
     "collapsed": false,
     "input": [
      "from hydroroot import display as dis"
     ],
     "language": "python",
     "metadata": {},
     "outputs": [
      {
       "output_type": "stream",
       "stream": "stderr",
       "text": [
        "/opt/local/Library/Frameworks/Python.framework/Versions/2.7/lib/python2.7/site-packages/matplotlib/cbook.py:137: MatplotlibDeprecationWarning: The matplotlib.mpl module was deprecated in version 1.3. Use `import matplotlib as mpl` instead.\n",
        "  warnings.warn(message, mplDeprecation, stacklevel=1)\n"
       ]
      }
     ],
     "prompt_number": 7
    },
    {
     "cell_type": "heading",
     "level": 3,
     "metadata": {},
     "source": [
      "Display the RSA that has been computed"
     ]
    },
    {
     "cell_type": "code",
     "collapsed": false,
     "input": [
      "#%gui qt\n",
      "from openalea.plantgl.all import *\n",
      "#for g in mtgs:\n",
      "scene = dis.plot(mtgs[0], r_base=1e-4, r_tip=5e-5, prop_cmap='j', lognorm=False)\n",
      "    #display(PlantGL(scene))\n",
      "Viewer.display(scene)"
     ],
     "language": "python",
     "metadata": {},
     "outputs": [],
     "prompt_number": 8
    },
    {
     "cell_type": "heading",
     "level": 2,
     "metadata": {},
     "source": [
      "Compute the length on the simulated MTG"
     ]
    },
    {
     "cell_type": "code",
     "collapsed": false,
     "input": [
      "from openalea.mtg import algo\n",
      "\n",
      "# g is the col RSA\n",
      "g = mtgs[0]\n",
      "orders = algo.orders(g)\n",
      "\n",
      "# l is the set of vertices at the segment scale\n",
      "l = g.vertices(scale=g.max_scale())\n",
      "\n",
      "# select only 5th order segments<<<\n",
      "vtx_order5 = [ k for k, o in orders.iteritems() if o == 5]\n",
      "sum(g.node(v).length for v in vtx_order5)"
     ],
     "language": "python",
     "metadata": {},
     "outputs": [
      {
       "metadata": {},
       "output_type": "pyout",
       "prompt_number": 9,
       "text": [
        "0"
       ]
      }
     ],
     "prompt_number": 9
    },
    {
     "cell_type": "heading",
     "level": 2,
     "metadata": {},
     "source": [
      "Compute the cumulated length for each segment of the RSA "
     ]
    },
    {
     "cell_type": "code",
     "collapsed": false,
     "input": [
      "#g0, g1, g2, g3, g4 = mtgs\n",
      "g, = mtgs\n",
      "from openalea.mtg.traversal import pre_order2\n",
      "length= {}\n",
      "root = 1\n",
      "dl = 1.e-4\n",
      "for v in pre_order2(g,1):\n",
      "    pid = g.parent(v)\n",
      "    length[v] = length[pid]+dl if pid else dl\n",
      "\n",
      "def nb_root(l):\n",
      "    count = 0\n",
      "    for v in g:\n",
      "        pid = g.parent(v)\n",
      "        if pid and (length[pid] <= l <= length[v]):\n",
      "            count+=1\n",
      "    return count"
     ],
     "language": "python",
     "metadata": {},
     "outputs": [],
     "prompt_number": 11
    },
    {
     "cell_type": "code",
     "collapsed": false,
     "input": [
      "# print the length of the RSA\n",
      "max(length.values())"
     ],
     "language": "python",
     "metadata": {},
     "outputs": [
      {
       "metadata": {},
       "output_type": "pyout",
       "prompt_number": 12,
       "text": [
        "0.11500000000000227"
       ]
      }
     ],
     "prompt_number": 12
    },
    {
     "cell_type": "heading",
     "level": 2,
     "metadata": {},
     "source": [
      "Select all the segment at a given length"
     ]
    },
    {
     "cell_type": "code",
     "collapsed": false,
     "input": [
      "dist = (0.045, 0.055, 0.095, 0.105)\n",
      "map(nb_root, dist)"
     ],
     "language": "python",
     "metadata": {},
     "outputs": [
      {
       "metadata": {},
       "output_type": "pyout",
       "prompt_number": 13,
       "text": [
        "[35, 26, 2, 1]"
       ]
      }
     ],
     "prompt_number": 13
    },
    {
     "cell_type": "code",
     "collapsed": false,
     "input": [
      "hist(x=length.values())\n",
      "#plot(hist(l))"
     ],
     "language": "python",
     "metadata": {},
     "outputs": [
      {
       "metadata": {},
       "output_type": "pyout",
       "prompt_number": 22,
       "text": [
        "(array([  889.,  4999.,  7464.,  5048.,  3302.,  2788.,  1255.,   361.,\n",
        "          241.,   115.]),\n",
        " array([  1.00000000e-04,   1.15900000e-02,   2.30800000e-02,\n",
        "          3.45700000e-02,   4.60600000e-02,   5.75500000e-02,\n",
        "          6.90400000e-02,   8.05300000e-02,   9.20200000e-02,\n",
        "          1.03510000e-01,   1.15000000e-01]),\n",
        " <a list of 10 Patch objects>)"
       ]
      },
      {
       "metadata": {},
       "output_type": "display_data",
       "png": "[encoded data removed]",
       "text": [
        "<matplotlib.figure.Figure at 0x11fbaacd0>"
       ]
      }
     ],
     "prompt_number": 22
    }
   ],
   "metadata": {}
  }
 ]
}