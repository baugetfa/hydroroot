{
 "cells": [
  {
   "cell_type": "code",
   "execution_count": 1,
   "metadata": {
    "collapsed": false
   },
   "outputs": [],
   "source": [
    "#from vpltkdisplay import *\n",
    "%gui qt"
   ]
  },
  {
   "cell_type": "code",
   "execution_count": 2,
   "metadata": {
    "collapsed": false
   },
   "outputs": [],
   "source": [
    "import numpy as np\n",
    "\n",
    "length_data = [0., 0.03, 0.05, 0.16], [0., 0., 0.01, 0.13]\n",
    "\n",
    "def radial(v=300):\n",
    "    xr = [0., 0.015, 0.03, 0.045, 0.06, 0.075, 0.09, 0.105, 0.135, 0.15, 0.16]\n",
    "    yr = [v]*len(xr)\n",
    "    return xr, yr\n",
    "\n",
    "# radial\n",
    "r = {}\n",
    "r['col'] = radial(300)\n",
    "r['pip2122'] = radial(239)\n",
    "r['esk11'] = radial(373)\n",
    "r['esk15'] = radial(518)\n",
    "r['irx34'] = radial(300)\n",
    "\n"
   ]
  },
  {
   "cell_type": "markdown",
   "metadata": {},
   "source": [
    "# Axial Conductivity for different genotypes"
   ]
  },
  {
   "cell_type": "code",
   "execution_count": 3,
   "metadata": {
    "collapsed": false
   },
   "outputs": [],
   "source": [
    "# axial\n",
    "a={}\n",
    "a['col'] = (\n",
    "    [0., 0.03,  0.06, 0.09, 0.12, 0.15, 0.18], \n",
    "    [2.9e-4, 34.8e-4, 147.4e-4, 200.3e-4,292.6e-4,262.5e-4,511.1e-4]\n",
    ")\n",
    "\n",
    "a['esk11'] = (\n",
    "    [0., 0.03,  0.06, 0.09, 0.12], \n",
    "    [2.3e-4, 15.9e-4, 158.9e-4, 216.4e-4,192.e-4]\n",
    ")\n",
    "\n",
    "a['esk15'] = (\n",
    "    [0., 0.03,  0.06, 0.09, 0.12, 0.15], \n",
    "    [0.7e-4, 3.9e-4, 168.8e-4, 220.5e-4,239.3e-4, 219.5e-4]\n",
    ")\n",
    "\n",
    "a['irx34'] = (\n",
    "    [0., 0.03,  0.06, 0.09, 0.12], \n",
    "    [5.2e-4, 11.4e-4, 19.8e-4, 119.6e-4,359.9e-4]\n",
    ")\n",
    "\n",
    "a['pip2122'] = a['col']"
   ]
  },
  {
   "cell_type": "markdown",
   "metadata": {},
   "source": [
    "# Root length"
   ]
  },
  {
   "cell_type": "code",
   "execution_count": 4,
   "metadata": {
    "collapsed": false
   },
   "outputs": [],
   "source": [
    "# length\n",
    "l={}\n",
    "nn={}\n",
    "l['col'] = [0., 0.03, 0.05, 0.16], [0., 0., 0.01, 0.13]\n",
    "nn['col'] = 0.1150\n",
    "\n",
    "l['esk11'] = [0., 0.02, 0.05, 0.09, 0.13], [0., 0., 0.001, 0.045, 0.089]\n",
    "nn['esk11'] = 0.1050\n",
    "\n",
    "l['esk15'] = [0., 0.02, 0.08, 0.10, 0.16], [0., 0., 0.005, 0.02, 0.065]\n",
    "nn['esk15'] = 0.1467 \n",
    "\n",
    "l['irx34'] = [0., 0.02, 0.05, 0.09, 0.13], [0., 0., 0.005, 0.03, 0.055]\n",
    "nn['irx34'] = 0.1200\n",
    "\n",
    "l['pip2122'] = l['col']\n",
    "nn['pip2122'] = 0.1500\n",
    "\n",
    "length_data = l['col']\n",
    "n = nn['col']\n"
   ]
  },
  {
   "cell_type": "markdown",
   "metadata": {},
   "source": [
    "# Hydroroot model"
   ]
  },
  {
   "cell_type": "markdown",
   "metadata": {},
   "source": [
    "TODO\n",
    "====\n",
    "  - Explicit all the parameters to avoid any side effect\n"
   ]
  },
  {
   "cell_type": "code",
   "execution_count": 5,
   "metadata": {
    "collapsed": false
   },
   "outputs": [
    {
     "name": "stdout",
     "output_type": "stream",
     "text": [
      "col volume: 3.97651607016e-08 Keq: 0.283415231398 Jv: 0.0850245694193 2138167.37866\n",
      "col volume: 1.46134867245e-07 Keq: 0.774319074957 Jv: 0.232295722487 1589598.20382\n",
      "col volume: 4.68431231533e-07 Keq: 1.18925306229 Jv: 0.356775918686 761639.905004\n"
     ]
    },
    {
     "ename": "MemoryError",
     "evalue": "",
     "output_type": "error",
     "traceback": [
      "\u001b[1;31m---------------------------------------------------------------------------\u001b[0m",
      "\u001b[1;31mMemoryError\u001b[0m                               Traceback (most recent call last)",
      "\u001b[1;32m<ipython-input-5-dedbd0159158>\u001b[0m in \u001b[0;36m<module>\u001b[1;34m()\u001b[0m\n\u001b[0;32m     16\u001b[0m         \u001b[0mlength_data\u001b[0m\u001b[1;33m=\u001b[0m\u001b[0mlength_data\u001b[0m\u001b[1;33m,\u001b[0m\u001b[1;33m\u001b[0m\u001b[0m\n\u001b[0;32m     17\u001b[0m         \u001b[0maxial_conductivity_data\u001b[0m\u001b[1;33m=\u001b[0m\u001b[0maxial_conductivity_data\u001b[0m\u001b[1;33m,\u001b[0m\u001b[1;33m\u001b[0m\u001b[0m\n\u001b[1;32m---> 18\u001b[1;33m         \u001b[0mradial_conductivity_data\u001b[0m\u001b[1;33m=\u001b[0m\u001b[0mradial_conductivity_data\u001b[0m\u001b[1;33m,\u001b[0m\u001b[1;33m\u001b[0m\u001b[0m\n\u001b[0m\u001b[0;32m     19\u001b[0m         )\n\u001b[0;32m     20\u001b[0m         \u001b[0mmtgs\u001b[0m\u001b[1;33m.\u001b[0m\u001b[0mappend\u001b[0m\u001b[1;33m(\u001b[0m\u001b[0mg\u001b[0m\u001b[1;33m)\u001b[0m\u001b[1;33m\u001b[0m\u001b[0m\n",
      "\u001b[1;32mC:\\Python27\\lib\\site-packages\\vplants.hydroroot-1.0.0-py2.7.egg\\hydroroot\\main.pyc\u001b[0m in \u001b[0;36mhydroroot\u001b[1;34m(primary_length, delta, beta, order_max, segment_length, nude_length, seed, ref_radius, order_decrease_factor, k0, Jv, psi_e, psi_base, length_data, axial_conductivity_data, radial_conductivity_data, n)\u001b[0m\n\u001b[0;32m     85\u001b[0m     \u001b[1;31m# Compute the flux\u001b[0m\u001b[1;33m\u001b[0m\u001b[1;33m\u001b[0m\u001b[0m\n\u001b[0;32m     86\u001b[0m \u001b[1;33m\u001b[0m\u001b[0m\n\u001b[1;32m---> 87\u001b[1;33m     \u001b[0mg\u001b[0m \u001b[1;33m=\u001b[0m \u001b[0mconductance\u001b[0m\u001b[1;33m.\u001b[0m\u001b[0mfit_property_from_spline\u001b[0m\u001b[1;33m(\u001b[0m\u001b[0mg\u001b[0m\u001b[1;33m,\u001b[0m \u001b[0mradial_conductivity_law\u001b[0m\u001b[1;33m,\u001b[0m \u001b[1;34m'position'\u001b[0m\u001b[1;33m,\u001b[0m \u001b[1;34m'k0'\u001b[0m\u001b[1;33m)\u001b[0m\u001b[1;33m\u001b[0m\u001b[0m\n\u001b[0m\u001b[0;32m     88\u001b[0m     \u001b[0mg\u001b[0m \u001b[1;33m=\u001b[0m \u001b[0mconductance\u001b[0m\u001b[1;33m.\u001b[0m\u001b[0mcompute_k\u001b[0m\u001b[1;33m(\u001b[0m\u001b[0mg\u001b[0m\u001b[1;33m,\u001b[0m \u001b[0mk0\u001b[0m\u001b[1;33m=\u001b[0m\u001b[1;34m'k0'\u001b[0m\u001b[1;33m)\u001b[0m\u001b[1;33m\u001b[0m\u001b[0m\n\u001b[0;32m     89\u001b[0m \u001b[1;33m\u001b[0m\u001b[0m\n",
      "\u001b[1;32mC:\\Python27\\lib\\site-packages\\vplants.hydroroot-1.0.0-py2.7.egg\\hydroroot\\conductance.pyc\u001b[0m in \u001b[0;36mfit_property_from_spline\u001b[1;34m(g, spline, prop_in, prop_out)\u001b[0m\n\u001b[0;32m    156\u001b[0m     \u001b[0my_values\u001b[0m \u001b[1;33m=\u001b[0m \u001b[0mspline\u001b[0m\u001b[1;33m(\u001b[0m\u001b[0mx_values\u001b[0m\u001b[1;33m)\u001b[0m\u001b[1;33m\u001b[0m\u001b[0m\n\u001b[0;32m    157\u001b[0m \u001b[1;33m\u001b[0m\u001b[0m\n\u001b[1;32m--> 158\u001b[1;33m     \u001b[0mg\u001b[0m\u001b[1;33m.\u001b[0m\u001b[0mproperties\u001b[0m\u001b[1;33m(\u001b[0m\u001b[1;33m)\u001b[0m\u001b[1;33m[\u001b[0m\u001b[0mprop_out\u001b[0m\u001b[1;33m]\u001b[0m \u001b[1;33m=\u001b[0m \u001b[0mdict\u001b[0m\u001b[1;33m(\u001b[0m\u001b[0mzip\u001b[0m\u001b[1;33m(\u001b[0m\u001b[0mkeys\u001b[0m\u001b[1;33m,\u001b[0m \u001b[0my_values\u001b[0m\u001b[1;33m)\u001b[0m\u001b[1;33m)\u001b[0m\u001b[1;33m\u001b[0m\u001b[0m\n\u001b[0m\u001b[0;32m    159\u001b[0m \u001b[1;33m\u001b[0m\u001b[0m\n\u001b[0;32m    160\u001b[0m     \u001b[1;32mreturn\u001b[0m \u001b[0mg\u001b[0m\u001b[1;33m\u001b[0m\u001b[0m\n",
      "\u001b[1;31mMemoryError\u001b[0m: "
     ]
    }
   ],
   "source": [
    "from hydroroot.main import hydroroot \n",
    "\n",
    "mtgs = []\n",
    "for genotype in ['col',]:# 'esk11', 'esk15']:#, 'irx34', 'pip2122']:\n",
    "    length_data = l[genotype]\n",
    "    axial_conductivity_data = a[genotype]\n",
    "    radial_conductivity_data = r[genotype]\n",
    "    n = nn[genotype]\n",
    "    # TEST\n",
    "    for n in (0.115, 0.135, 0.155, 0.16, 0.18):\n",
    "    #for n in (0.125,):\n",
    "        seed = 2\n",
    "        g, surface, volume, Keq, Jv_global = hydroroot(\n",
    "        seed=seed,\n",
    "        primary_length = n,\n",
    "        length_data=length_data, \n",
    "        axial_conductivity_data=axial_conductivity_data, \n",
    "        radial_conductivity_data=radial_conductivity_data,\n",
    "        )\n",
    "        mtgs.append(g)\n",
    "        print genotype, 'volume:', volume,'Keq:', Keq, 'Jv:', Jv_global, Jv_global/volume\n"
   ]
  },
  {
   "cell_type": "code",
   "execution_count": null,
   "metadata": {
    "collapsed": false
   },
   "outputs": [],
   "source": [
    "from hydroroot import display as dis"
   ]
  },
  {
   "cell_type": "code",
   "execution_count": 64,
   "metadata": {
    "collapsed": false
   },
   "outputs": [],
   "source": [
    "%gui qt\n",
    "from openalea.plantgl.all import *\n",
    "#for g in mtgs:\n",
    "scene = dis.plot(mtgs[0], r_base=1e-4, r_tip=5e-5, prop_cmap='j', lognorm=False)\n",
    "    #display(PlantGL(scene))\n",
    "Viewer.display(scene)"
   ]
  },
  {
   "cell_type": "code",
   "execution_count": 8,
   "metadata": {
    "collapsed": false
   },
   "outputs": [],
   "source": [
    "g = mtgs[0]\n",
    "l = g.vertices(scale=g.max_scale())"
   ]
  },
  {
   "cell_type": "code",
   "execution_count": 9,
   "metadata": {
    "collapsed": false
   },
   "outputs": [],
   "source": [
    "from openalea.mtg import algo\n",
    "orders = algo.orders(g)"
   ]
  },
  {
   "cell_type": "code",
   "execution_count": 12,
   "metadata": {
    "collapsed": false
   },
   "outputs": [],
   "source": [
    "l = [ k for k, o in orders.iteritems() if o == 5]"
   ]
  },
  {
   "cell_type": "code",
   "execution_count": 14,
   "metadata": {
    "collapsed": false
   },
   "outputs": [
    {
     "data": {
      "text/plain": [
       "0"
      ]
     },
     "execution_count": 14,
     "metadata": {},
     "output_type": "execute_result"
    }
   ],
   "source": [
    "sum(g.node(v).length for v in l)"
   ]
  },
  {
   "cell_type": "code",
   "execution_count": 15,
   "metadata": {
    "collapsed": false
   },
   "outputs": [
    {
     "data": {
      "text/plain": [
       "['J_out',\n",
       " 'k0',\n",
       " 'color',\n",
       " 'k',\n",
       " 'K',\n",
       " 'j',\n",
       " 'label',\n",
       " 'psi_in',\n",
       " 'length',\n",
       " 'edge_type',\n",
       " 'radius',\n",
       " 'Keq',\n",
       " 'position',\n",
       " 'psi_out',\n",
       " 'relative_position',\n",
       " 'order',\n",
       " 'position_index']"
      ]
     },
     "execution_count": 15,
     "metadata": {},
     "output_type": "execute_result"
    }
   ],
   "source": [
    "g.property_names()"
   ]
  },
  {
   "cell_type": "code",
   "execution_count": 80,
   "metadata": {
    "collapsed": false
   },
   "outputs": [],
   "source": [
    "g0, g1, g2, g3, g4 = mtgs\n",
    "g = g2\n",
    "from openalea.mtg.traversal import pre_order2\n",
    "length= {}\n",
    "root = 1\n",
    "dl = 1.e-4\n",
    "for v in pre_order2(g,1):\n",
    "    pid = g.parent(v)\n",
    "    length[v] = length[pid]+dl if pid else dl\n",
    "\n",
    "def nb_root(l):\n",
    "    count = 0\n",
    "    for v in g:\n",
    "        pid = g.parent(v)\n",
    "        if pid and (length[pid] <= l <= length[v]):\n",
    "            count+=1\n",
    "    return count"
   ]
  },
  {
   "cell_type": "code",
   "execution_count": 71,
   "metadata": {
    "collapsed": false
   },
   "outputs": [
    {
     "data": {
      "text/plain": [
       "0.11500000000000227"
      ]
     },
     "execution_count": 71,
     "metadata": {},
     "output_type": "execute_result"
    }
   ],
   "source": [
    "max(length.values())"
   ]
  },
  {
   "cell_type": "code",
   "execution_count": 43,
   "metadata": {
    "collapsed": false
   },
   "outputs": [
    {
     "data": {
      "text/plain": [
       "[522, 375, 40, 11]"
      ]
     },
     "execution_count": 43,
     "metadata": {},
     "output_type": "execute_result"
    }
   ],
   "source": [
    "dist = (0.045, 0.055, 0.095, 0.105)\n",
    "map(nb_root, dist)"
   ]
  },
  {
   "cell_type": "code",
   "execution_count": 45,
   "metadata": {
    "collapsed": false
   },
   "outputs": [
    {
     "data": {
      "text/plain": [
       "[1992, 2288, 433, 223]"
      ]
     },
     "execution_count": 45,
     "metadata": {},
     "output_type": "execute_result"
    }
   ],
   "source": [
    "dist = (0.045, 0.055, 0.095, 0.105)\n",
    "map(nb_root, dist)"
   ]
  },
  {
   "cell_type": "code",
   "execution_count": 47,
   "metadata": {
    "collapsed": false
   },
   "outputs": [
    {
     "data": {
      "text/plain": [
       "[1536, 1940, 414, 190]"
      ]
     },
     "execution_count": 47,
     "metadata": {},
     "output_type": "execute_result"
    }
   ],
   "source": [
    "dist = (0.045, 0.055, 0.095, 0.105)\n",
    "map(nb_root, dist)"
   ]
  },
  {
   "cell_type": "code",
   "execution_count": 49,
   "metadata": {
    "collapsed": false
   },
   "outputs": [
    {
     "data": {
      "text/plain": [
       "[5407, 8391, 3914, 2169]"
      ]
     },
     "execution_count": 49,
     "metadata": {},
     "output_type": "execute_result"
    }
   ],
   "source": [
    "dist = (0.045, 0.055, 0.095, 0.105)\n",
    "map(nb_root, dist)"
   ]
  },
  {
   "cell_type": "code",
   "execution_count": 52,
   "metadata": {
    "collapsed": false
   },
   "outputs": [
    {
     "data": {
      "text/plain": [
       "[68, 33, 1, 1]"
      ]
     },
     "execution_count": 52,
     "metadata": {},
     "output_type": "execute_result"
    }
   ],
   "source": [
    "#g0\n",
    "dist = (0.045, 0.055, 0.095, 0.105)\n",
    "map(nb_root, dist)"
   ]
  },
  {
   "cell_type": "code",
   "execution_count": 68,
   "metadata": {
    "collapsed": false
   },
   "outputs": [
    {
     "data": {
      "text/plain": [
       "[254, 197, 10, 4]"
      ]
     },
     "execution_count": 68,
     "metadata": {},
     "output_type": "execute_result"
    }
   ],
   "source": [
    "#12.5\n",
    "dist = (0.045, 0.055, 0.095, 0.105)\n",
    "map(nb_root, dist)"
   ]
  },
  {
   "cell_type": "code",
   "execution_count": 72,
   "metadata": {
    "collapsed": false
   },
   "outputs": [
    {
     "name": "stdout",
     "output_type": "stream",
     "text": [
      "Populating the interactive namespace from numpy and matplotlib\n"
     ]
    },
    {
     "name": "stderr",
     "output_type": "stream",
     "text": [
      "WARNING: pylab import has clobbered these variables: ['dist', 'Text', 'cross', 'histogram', 'test', 'seed', 'norm', 'angle', 'dot']\n",
      "`%matplotlib` prevents importing * from pylab and numpy\n"
     ]
    }
   ],
   "source": [
    "%pylab inline"
   ]
  },
  {
   "cell_type": "code",
   "execution_count": 81,
   "metadata": {
    "collapsed": false
   },
   "outputs": [
    {
     "data": {
      "text/plain": [
       "(array([   2752.,   61639.,  233646.,  345774.,  278160.,  137548.,\n",
       "          48229.,   13875.,    2150.,     449.]),\n",
       " array([  1.00000000e-04,   1.55900000e-02,   3.10800000e-02,\n",
       "          4.65700000e-02,   6.20600000e-02,   7.75500000e-02,\n",
       "          9.30400000e-02,   1.08530000e-01,   1.24020000e-01,\n",
       "          1.39510000e-01,   1.55000000e-01]),\n",
       " <a list of 10 Patch objects>)"
      ]
     },
     "execution_count": 81,
     "metadata": {},
     "output_type": "execute_result"
    },
    {
     "data": {
      "image/png": "[encoded data removed]",
      "text/plain": [
       "<matplotlib.figure.Figure at 0x11bf75390>"
      ]
     },
     "metadata": {},
     "output_type": "display_data"
    }
   ],
   "source": [
    "hist(length.values())"
   ]
  },
  {
   "cell_type": "code",
   "execution_count": 79,
   "metadata": {
    "collapsed": false
   },
   "outputs": [
    {
     "data": {
      "text/plain": [
       "1124223"
      ]
     },
     "execution_count": 79,
     "metadata": {},
     "output_type": "execute_result"
    }
   ],
   "source": [
    "len(g)"
   ]
  },
  {
   "cell_type": "code",
   "execution_count": 82,
   "metadata": {
    "collapsed": false
   },
   "outputs": [],
   "source": [
    "from openalea.mtg import algo\n",
    "orders = algo.orders(g)"
   ]
  },
  {
   "cell_type": "code",
   "execution_count": null,
   "metadata": {
    "collapsed": false
   },
   "outputs": [],
   "source": []
  }
 ],
 "metadata": {
  "kernelspec": {
   "display_name": "Python 2",
   "language": "python",
   "name": "python2"
  },
  "language_info": {
   "codemirror_mode": {
    "name": "ipython",
    "version": 2
   },
   "file_extension": ".py",
   "mimetype": "text/x-python",
   "name": "python",
   "nbconvert_exporter": "python",
   "pygments_lexer": "ipython2",
   "version": "2.7.9"
  }
 },
 "nbformat": 4,
 "nbformat_minor": 0
}
