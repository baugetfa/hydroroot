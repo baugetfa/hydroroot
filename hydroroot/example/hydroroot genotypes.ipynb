{
 "metadata": {
  "name": "",
  "signature": "sha256:2835c0efa52ff5a17d60615e2171e663d22a3fb4e3d3591b5895459377e642c4"
 },
 "nbformat": 3,
 "nbformat_minor": 0,
 "worksheets": [
  {
   "cells": [
    {
     "cell_type": "code",
     "collapsed": false,
     "input": [
      "import numpy as np\n",
      "\n",
      "length_data = [0., 0.03, 0.05, 0.16], [0., 0., 0.01, 0.13]\n",
      "\n",
      "def radial(v=300):\n",
      "    xr = [0., 0.015, 0.03, 0.045, 0.06, 0.075, 0.09, 0.105, 0.135, 0.15, 0.16]\n",
      "    yr = [v]*len(xr)\n",
      "    return xr, yr\n",
      "\n",
      "# radial\n",
      "r = {}\n",
      "r['col'] = radial(300)\n",
      "r['pip2122'] = radial(239)\n",
      "r['esk11'] = radial(373)\n",
      "r['esk15'] = radial(518)\n",
      "r['irx34'] = radial(300)\n",
      "\n"
     ],
     "language": "python",
     "metadata": {},
     "outputs": [],
     "prompt_number": 6
    },
    {
     "cell_type": "heading",
     "level": 1,
     "metadata": {},
     "source": [
      "Axial Conductivity for different genotypes"
     ]
    },
    {
     "cell_type": "code",
     "collapsed": false,
     "input": [
      "# axial\n",
      "a={}\n",
      "a['col'] = (\n",
      "    [0., 0.03,  0.06, 0.09, 0.12, 0.15, 0.18], \n",
      "    [2.9e-4, 34.8e-4, 147.4e-4, 200.3e-4,292.6e-4,262.5e-4,511.1e-4]\n",
      ")\n",
      "\n",
      "a['esk11'] = (\n",
      "    [0., 0.03,  0.06, 0.09, 0.12], \n",
      "    [2.3e-4, 15.9e-4, 158.9e-4, 216.4e-4,192.e-4]\n",
      ")\n",
      "\n",
      "a['esk15'] = (\n",
      "    [0., 0.03,  0.06, 0.09, 0.12, 0.15], \n",
      "    [0.7e-4, 3.9e-4, 168.8e-4, 220.5e-4,239.3e-4, 219.5e-4]\n",
      ")\n",
      "\n",
      "a['irx34'] = (\n",
      "    [0., 0.03,  0.06, 0.09, 0.12], \n",
      "    [5.2e-4, 11.4e-4, 19.8e-4, 119.6e-4,359.9e-4]\n",
      ")\n",
      "\n",
      "a['pip2122'] = a['col']"
     ],
     "language": "python",
     "metadata": {},
     "outputs": [],
     "prompt_number": 7
    },
    {
     "cell_type": "heading",
     "level": 1,
     "metadata": {},
     "source": [
      "Root length"
     ]
    },
    {
     "cell_type": "code",
     "collapsed": false,
     "input": [
      "# length\n",
      "l={}\n",
      "nn={}\n",
      "l['col'] = [0., 0.03, 0.05, 0.16], [0., 0., 0.01, 0.13]\n",
      "nn['col'] = 1500\n",
      "\n",
      "l['esk11'] = [0., 0.02, 0.05, 0.09, 0.13], [0., 0., 0.01, 0.045, 0.08]\n",
      "nn['esk11'] = 1200\n",
      "\n",
      "l['esk15'] = [0., 0.02, 0.08, 0.10, 0.16], [0., 0., 0.01, 0.02, 0.05]\n",
      "nn['esk15'] = 1500 \n",
      "\n",
      "l['irx34'] = [0., 0.02, 0.05, 0.09, 0.13], [0., 0., 0.005, 0.03, 0.055]\n",
      "nn['irx34'] = 1200\n",
      "\n",
      "l['pip2122'] = l['col']\n",
      "nn['pip2122'] = 1500\n",
      "\n",
      "length_data = l['col']\n",
      "n = nn['col']\n"
     ],
     "language": "python",
     "metadata": {},
     "outputs": [],
     "prompt_number": 8
    },
    {
     "cell_type": "heading",
     "level": 1,
     "metadata": {},
     "source": [
      "Hydroroot model"
     ]
    },
    {
     "cell_type": "code",
     "collapsed": false,
     "input": [
      "from hydroroot.main import hydroroot \n",
      "\n",
      "for genotype in ['col', 'esk11', 'esk15', 'irx34', 'pip2122']:\n",
      "    length_data = l[genotype]\n",
      "    axial_conductivity_data = a[genotype]\n",
      "    radial_conductivity_data = r[genotype]\n",
      "    n = nn[genotype]\n",
      "    seed = 2\n",
      "    g, surface, volume, Keq, Jv_global = hydroroot(\n",
      "    seed=seed,\n",
      "    n = n,\n",
      "    length_data=length_data, \n",
      "    axial_conductivity_data=axial_conductivity_data, \n",
      "    radial_conductivity_data=radial_conductivity_data,\n",
      "    )\n",
      "    print genotype, 'volume:', volume,'Keq:', Keq, 'Jv:', Jv_global, Jv_global/volume\n"
     ],
     "language": "python",
     "metadata": {},
     "outputs": [
      {
       "output_type": "stream",
       "stream": "stdout",
       "text": [
        "col volume: 2.81737453689e-07 Keq: 1.02133448396 Jv: 0.306400345189 1087538.56179\n",
        "esk11"
       ]
      },
      {
       "output_type": "stream",
       "stream": "stdout",
       "text": [
        " volume: 3.60724560762e-08 Keq: 0.277413069454 Jv: 0.0832239208361 2307132.08605\n",
        "esk15"
       ]
      },
      {
       "output_type": "stream",
       "stream": "stdout",
       "text": [
        " volume: 2.17642134307e-08 Keq: 0.163983327915 Jv: 0.0491949983746 2260361.87944\n",
        "irx34"
       ]
      },
      {
       "output_type": "stream",
       "stream": "stdout",
       "text": [
        " volume: 1.90317748928e-08 Keq: 0.130030783485 Jv: 0.0390092350454 2049689.80902\n",
        "pip2122"
       ]
      },
      {
       "output_type": "stream",
       "stream": "stdout",
       "text": [
        " volume: 2.81737453689e-07 Keq: 0.950280346469 Jv: 0.285084103941 1011878.61326\n"
       ]
      }
     ],
     "prompt_number": 9
    },
    {
     "cell_type": "code",
     "collapsed": false,
     "input": [],
     "language": "python",
     "metadata": {},
     "outputs": []
    }
   ],
   "metadata": {}
  }
 ]
}