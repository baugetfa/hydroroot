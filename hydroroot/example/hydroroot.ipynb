{
 "metadata": {
  "name": "",
  "signature": "sha256:2487ab39b4c92aca97b531f4b3aa1a452bcacc71d7c457a45e04b44e687941d5"
 },
 "nbformat": 3,
 "nbformat_minor": 0,
 "worksheets": [
  {
   "cells": [
    {
     "cell_type": "heading",
     "level": 1,
     "metadata": {},
     "source": [
      "Hydroroot model"
     ]
    },
    {
     "cell_type": "markdown",
     "metadata": {},
     "source": [
      "Definition of the prameters"
     ]
    },
    {
     "cell_type": "code",
     "collapsed": false,
     "input": [
      "%matplotlib inline\n",
      "%gui qt"
     ],
     "language": "python",
     "metadata": {},
     "outputs": [],
     "prompt_number": 1
    },
    {
     "cell_type": "code",
     "collapsed": false,
     "input": [
      "from openalea.core.path import path\n",
      "import hydroroot_wralea\n",
      "import hydroroot\n",
      "from hydroroot.length import fit_length\n",
      "from hydroroot import radius, markov, flux, conductance, display as hdisplay\n",
      "from openalea.plantgl.all import Viewer"
     ],
     "language": "python",
     "metadata": {},
     "outputs": [],
     "prompt_number": 2
    },
    {
     "cell_type": "markdown",
     "metadata": {},
     "source": [
      "Architectural parameters\n",
      "------------------------\n",
      "  - $n$ : number of nodes in primary root \n",
      "  - $\\delta$: reference distance between successive branching axis\n",
      "  - $\\beta$ : branching variability or Number of nodes between successive ramification\n",
      "  - $order_{max}$ : maximum order of ramification\n",
      "  - $\\lambda$ : nude tip length\n",
      "  - $radius$ : external radius of the main axis of the root\n",
      "  - $\\alpha$ : order decrease factor : $r_{order} = radius*{\\alpha}^{order}$"
     ]
    },
    {
     "cell_type": "code",
     "collapsed": false,
     "input": [
      "n = 1500\n",
      "delta = 20\n",
      "beta = 0.25 # 25 %\n",
      "order_max = 5\n",
      "segment_length = 1e-4\n",
      "nude_length = 200\n",
      "seed = 2\n",
      "\n",
      "ref_radius = 1e-4 # in m\n",
      "order_decrease_factor = 0.7"
     ],
     "language": "python",
     "metadata": {},
     "outputs": [],
     "prompt_number": 3
    },
    {
     "cell_type": "heading",
     "level": 3,
     "metadata": {},
     "source": [
      "Define a length law that describe the length of ramification along the axis lentgh"
     ]
    },
    {
     "cell_type": "code",
     "collapsed": false,
     "input": [
      "data_dir = path(hydroroot_wralea.__path__[0])/'data'\n",
      "length_datafile, = data_dir.glob('LR_*.csv')\n",
      "print length_datafile\n",
      "%load $length_datafile"
     ],
     "language": "python",
     "metadata": {},
     "outputs": [
      {
       "output_type": "stream",
       "stream": "stdout",
       "text": [
        "c:\\yann b\\devlp\\src\\hydroroot_wralea\\data\\LR_length_data.csv\n"
       ]
      }
     ],
     "prompt_number": 4
    },
    {
     "cell_type": "code",
     "collapsed": false,
     "input": [
      "Distance from tip (m);Lateral Root Length\n",
      "0.00;0.00\n",
      "0.03;0.00\n",
      "0.05;0.01\n",
      "0.16;0.13\n"
     ],
     "language": "python",
     "metadata": {},
     "outputs": []
    },
    {
     "cell_type": "code",
     "collapsed": false,
     "input": [
      "length_law = fit_length(str(length_datafile), segment_length)"
     ],
     "language": "python",
     "metadata": {},
     "outputs": [],
     "prompt_number": 6
    },
    {
     "cell_type": "markdown",
     "metadata": {},
     "source": [
      "Compute the architecture from these parameters\n",
      "----------------------------------------------"
     ]
    },
    {
     "cell_type": "code",
     "collapsed": false,
     "input": [
      "g = markov.markov_binary_tree(nb_vertices=n,\n",
      "                              branching_variability=beta,\n",
      "                              branching_delay=delta,\n",
      "                              length_law=length_law,\n",
      "                              nude_tip_length=nude_length,\n",
      "                              order_max=order_max)\n",
      "#print len(g)"
     ],
     "language": "python",
     "metadata": {},
     "outputs": [
      {
       "output_type": "stream",
       "stream": "stdout",
       "text": [
        "entering MTG building\n",
        "exiting MTG building"
       ]
      },
      {
       "output_type": "stream",
       "stream": "stdout",
       "text": [
        "\n"
       ]
      }
     ],
     "prompt_number": 7
    },
    {
     "cell_type": "code",
     "collapsed": false,
     "input": [
      "# compute radius property on MTG\n",
      "g = radius.ordered_radius(g, ref_radius=ref_radius, order_decrease_factor=order_decrease_factor)\n",
      "\n",
      "# compute length property\n",
      "g = radius.compute_length(g, segment_length)\n",
      "g = radius.compute_relative_position(g)"
     ],
     "language": "python",
     "metadata": {},
     "outputs": [
      {
       "output_type": "stream",
       "stream": "stdout",
       "text": [
        "entering MTG radius setting\n",
        "exiting MTG radius setting"
       ]
      },
      {
       "output_type": "stream",
       "stream": "stdout",
       "text": [
        "\n",
        "entering MTG length setting\n",
        "exiting MTG length setting"
       ]
      },
      {
       "output_type": "stream",
       "stream": "stdout",
       "text": [
        "\n",
        "entering MTG node positionning computation\n",
        "exiting MTG node positionning computation"
       ]
      },
      {
       "output_type": "stream",
       "stream": "stdout",
       "text": [
        "\n"
       ]
      }
     ],
     "prompt_number": 8
    },
    {
     "cell_type": "code",
     "collapsed": false,
     "input": [
      "# Shuffle axis\n",
      "SHUFFLE = False\n",
      "markov.shuffle_axis(g, SHUFFLE)"
     ],
     "language": "python",
     "metadata": {},
     "outputs": [
      {
       "metadata": {},
       "output_type": "pyout",
       "prompt_number": 9,
       "text": [
        "<openalea.mtg.mtg.MTG at 0x5f6ec30>"
       ]
      }
     ],
     "prompt_number": 9
    },
    {
     "cell_type": "code",
     "collapsed": false,
     "input": [
      "g, surface = radius.compute_surface(g)\n",
      "g, volume = radius.compute_volume(g)\n",
      "\n",
      "print 'Surface : ', surface\n",
      "print 'Volume : ', volume"
     ],
     "language": "python",
     "metadata": {},
     "outputs": [
      {
       "output_type": "stream",
       "stream": "stdout",
       "text": [
        "entering surface computation\n",
        "surface (sq. meters): "
       ]
      },
      {
       "output_type": "stream",
       "stream": "stdout",
       "text": [
        " 0.00968370833522\n",
        "leaving surface computation\n",
        "entering volume computation\n",
        "volume (cube meters): "
       ]
      },
      {
       "output_type": "stream",
       "stream": "stdout",
       "text": [
        " 2.30755951042e-07\n",
        "leaving volume computation\n",
        "Surface :  0.00968370833522\n",
        "Volume :  2.30755951042e-07\n"
       ]
      }
     ],
     "prompt_number": 10
    },
    {
     "cell_type": "heading",
     "level": 2,
     "metadata": {},
     "source": [
      "Compute Flux"
     ]
    },
    {
     "cell_type": "markdown",
     "metadata": {},
     "source": [
      "Conductance and model Parameters\n",
      "=================================\n",
      "\n",
      "  - $k_0$: radial conductivity\n",
      "  - $K$ :axial conductivity (computed from xylem vessels)\n",
      "  - $J_v$: Observed or calculated flow t the root base (hypocotyl)\n",
      "  - $\\psi_e$: external solution water potential \n",
      "  - $\\psi_{base}$ : water potential at the hypocotyl\n",
      "  \n",
      "  "
     ]
    },
    {
     "cell_type": "code",
     "collapsed": false,
     "input": [
      "# parameters\n",
      "k0 = 300\n",
      "Jv = 0.1\n",
      "psi_e = 0.4\n",
      "psi_base = 0.1"
     ],
     "language": "python",
     "metadata": {},
     "outputs": [],
     "prompt_number": 11
    },
    {
     "cell_type": "code",
     "collapsed": false,
     "input": [
      "# axial conductance distribution\n",
      "axial_data, = data_dir.glob('conductivity_data*.csv')\n",
      "print axial_data\n",
      "\n",
      "g = conductance.fit_property_from_csv(g, str(axial_data), 'position', 'K', k=1., s=0., plot=True) "
     ],
     "language": "python",
     "metadata": {},
     "outputs": [
      {
       "output_type": "stream",
       "stream": "stdout",
       "text": [
        "c:\\yann b\\devlp\\src\\hydroroot_wralea\\data\\conductivity_data.csv\n",
        "entering K fitting\n"
       ]
      },
      {
       "metadata": {},
       "output_type": "display_data",
       "png": "[encoded data removed]",
       "text": [
        "<matplotlib.figure.Figure at 0xee64b50>"
       ]
      },
      {
       "output_type": "stream",
       "stream": "stdout",
       "text": [
        "Update figure  0.0 0.0099\n",
        "exiting K fitting\n"
       ]
      }
     ],
     "prompt_number": 12
    },
    {
     "cell_type": "code",
     "collapsed": false,
     "input": [
      "#%load $axial_data"
     ],
     "language": "python",
     "metadata": {},
     "outputs": [],
     "prompt_number": 14
    },
    {
     "cell_type": "code",
     "collapsed": false,
     "input": [
      "g = conductance.compute_k(g, k0)"
     ],
     "language": "python",
     "metadata": {},
     "outputs": [
      {
       "output_type": "stream",
       "stream": "stdout",
       "text": [
        "entering radial k fitting\n",
        "exiting radial k fitting"
       ]
      },
      {
       "output_type": "stream",
       "stream": "stdout",
       "text": [
        "\n"
       ]
      }
     ],
     "prompt_number": 15
    },
    {
     "cell_type": "code",
     "collapsed": false,
     "input": [
      "g = flux.flux(g, Jv, psi_e, psi_base, invert_model=True)"
     ],
     "language": "python",
     "metadata": {},
     "outputs": [
      {
       "output_type": "stream",
       "stream": "stdout",
       "text": [
        "entering Keq computation\n",
        "exiting Keq computation"
       ]
      },
      {
       "output_type": "stream",
       "stream": "stdout",
       "text": [
        "\n",
        "entering Psi computation\n",
        "exiting Psi computation"
       ]
      },
      {
       "output_type": "stream",
       "stream": "stdout",
       "text": [
        "\n",
        "entering Jv computation\n",
        "exiting Jv computation"
       ]
      },
      {
       "output_type": "stream",
       "stream": "stdout",
       "text": [
        "\n",
        "Keq base =  0.285362203124\n",
        "Local Computation Water Flux Jvl =  0.0856086609373\n",
        "Global Computation Water Flux Jvg =  0.0856086609373\n"
       ]
      }
     ],
     "prompt_number": 16
    },
    {
     "cell_type": "code",
     "collapsed": false,
     "input": [
      "# root visitor\n",
      "def root_visitor(g, v, turtle):\n",
      "    angles = [130,45]+[30]*5\n",
      "    n = g.node(v)\n",
      "    radius = n.radius*1.e4\n",
      "    order = n.order\n",
      "    length = n.length*1.e4\n",
      "\n",
      "    if g.edge_type(v) == '+':\n",
      "        angle = angles[order]\n",
      "        turtle.down(angle)\n",
      "\n",
      "\n",
      "    turtle.setId(v)\n",
      "    turtle.setWidth(radius)\n",
      "    for c in n.children():\n",
      "        if c.edge_type() == '+':\n",
      "            turtle.rollL(130)\n",
      "\n",
      "    turtle.F(length)\n"
     ],
     "language": "python",
     "metadata": {},
     "outputs": [],
     "prompt_number": 17
    },
    {
     "cell_type": "code",
     "collapsed": false,
     "input": [
      "scene = hdisplay.plot(g, has_radius=True, visitor=root_visitor, prop_cmap='psi_out', lognorm=False)\n",
      "Viewer.display(scene)"
     ],
     "language": "python",
     "metadata": {},
     "outputs": [],
     "prompt_number": 18
    },
    {
     "cell_type": "markdown",
     "metadata": {},
     "source": [
      "> Everything below is for test only"
     ]
    },
    {
     "cell_type": "code",
     "collapsed": false,
     "input": [
      "g.property_names()"
     ],
     "language": "python",
     "metadata": {},
     "outputs": [
      {
       "metadata": {},
       "output_type": "pyout",
       "prompt_number": 20,
       "text": [
        "['J_out',\n",
        " 'color',\n",
        " 'k',\n",
        " 'K',\n",
        " 'j',\n",
        " 'label',\n",
        " 'psi_in',\n",
        " 'length',\n",
        " 'edge_type',\n",
        " 'radius',\n",
        " 'Keq',\n",
        " 'position',\n",
        " 'psi_out',\n",
        " 'relative_position',\n",
        " 'order',\n",
        " 'position_index']"
       ]
      }
     ],
     "prompt_number": 20
    },
    {
     "cell_type": "code",
     "collapsed": false,
     "input": [
      "from openalea.mtg.dataframe import to_dataframe\n",
      "df = to_dataframe(g)"
     ],
     "language": "python",
     "metadata": {},
     "outputs": [
      {
       "ename": "ImportError",
       "evalue": "No module named pandas",
       "output_type": "pyerr",
       "traceback": [
        "\u001b[1;31m---------------------------------------------------------------------------\u001b[0m\n\u001b[1;31mImportError\u001b[0m                               Traceback (most recent call last)",
        "\u001b[1;32m<ipython-input-21-0f592aa3310c>\u001b[0m in \u001b[0;36m<module>\u001b[1;34m()\u001b[0m\n\u001b[1;32m----> 1\u001b[1;33m \u001b[1;32mfrom\u001b[0m \u001b[0mopenalea\u001b[0m\u001b[1;33m.\u001b[0m\u001b[0mmtg\u001b[0m\u001b[1;33m.\u001b[0m\u001b[0mdataframe\u001b[0m \u001b[1;32mimport\u001b[0m \u001b[0mto_dataframe\u001b[0m\u001b[1;33m\u001b[0m\u001b[0m\n\u001b[0m\u001b[0;32m      2\u001b[0m \u001b[0mdf\u001b[0m \u001b[1;33m=\u001b[0m \u001b[0mto_dataframe\u001b[0m\u001b[1;33m(\u001b[0m\u001b[0mg\u001b[0m\u001b[1;33m)\u001b[0m\u001b[1;33m\u001b[0m\u001b[0m\n",
        "\u001b[1;32mC:\\Python27\\lib\\site-packages\\openalea.mtg-1.0.1-py2.7.egg\\openalea\\mtg\\dataframe.py\u001b[0m in \u001b[0;36m<module>\u001b[1;34m()\u001b[0m\n\u001b[0;32m      3\u001b[0m \"\"\"\n\u001b[0;32m      4\u001b[0m \u001b[1;33m\u001b[0m\u001b[0m\n\u001b[1;32m----> 5\u001b[1;33m \u001b[1;32mimport\u001b[0m \u001b[0mpandas\u001b[0m \u001b[1;32mas\u001b[0m \u001b[0mpd\u001b[0m\u001b[1;33m\u001b[0m\u001b[0m\n\u001b[0m\u001b[0;32m      6\u001b[0m \u001b[1;32mfrom\u001b[0m \u001b[1;33m.\u001b[0m\u001b[0malgo\u001b[0m \u001b[1;32mimport\u001b[0m \u001b[0morders\u001b[0m\u001b[1;33m\u001b[0m\u001b[0m\n\u001b[0;32m      7\u001b[0m \u001b[1;33m\u001b[0m\u001b[0m\n",
        "\u001b[1;31mImportError\u001b[0m: No module named pandas"
       ]
      }
     ],
     "prompt_number": 21
    },
    {
     "cell_type": "code",
     "collapsed": false,
     "input": [
      "dfo = df.groupby('order')"
     ],
     "language": "python",
     "metadata": {},
     "outputs": [],
     "prompt_number": 96
    },
    {
     "cell_type": "code",
     "collapsed": false,
     "input": [
      "dfo.plot('relative_position', 'K')"
     ],
     "language": "python",
     "metadata": {},
     "outputs": [
      {
       "metadata": {},
       "output_type": "pyout",
       "prompt_number": 101,
       "text": [
        "order\n",
        "0        Axes(0.125,0.125;0.775x0.775)\n",
        "1        Axes(0.125,0.125;0.775x0.775)\n",
        "2        Axes(0.125,0.125;0.775x0.775)\n",
        "3        Axes(0.125,0.125;0.775x0.775)\n",
        "4        Axes(0.125,0.125;0.775x0.775)\n",
        "5        Axes(0.125,0.125;0.775x0.775)\n",
        "dtype: object"
       ]
      },
      {
       "metadata": {},
       "output_type": "display_data",
       "png": "[encoded data removed]",
       "text": [
        "<matplotlib.figure.Figure at 0x163b32f90>"
       ]
      }
     ],
     "prompt_number": 101
    },
    {
     "cell_type": "code",
     "collapsed": false,
     "input": [
      "df.plot("
     ],
     "language": "python",
     "metadata": {},
     "outputs": []
    }
   ],
   "metadata": {}
  }
 ]
}