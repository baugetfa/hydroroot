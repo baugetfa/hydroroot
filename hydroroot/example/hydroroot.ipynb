{
 "cells": [
  {
   "cell_type": "markdown",
   "metadata": {},
   "source": [
    "# Hydroroot model"
   ]
  },
  {
   "cell_type": "markdown",
   "metadata": {},
   "source": [
    "TODO\n",
    "=====\n",
    "  - plot with groupby\n",
    "  - R conversion for analysis\n",
    "  - aquaporin expression modify the radial conductivity (k0 has a csv file)\n",
    "  - running the notebook on a set of parameters\n",
    "    - define functions\n",
    "    - create a new notebook to run it and save the results\n",
    "  - design the virtual experiment"
   ]
  },
  {
   "cell_type": "markdown",
   "metadata": {},
   "source": [
    "Definition of the prameters"
   ]
  },
  {
   "cell_type": "code",
   "execution_count": 8,
   "metadata": {
    "collapsed": false
   },
   "outputs": [],
   "source": [
    "%matplotlib inline\n",
    "%gui qt"
   ]
  },
  {
   "cell_type": "markdown",
   "metadata": {},
   "source": [
    "Architectural parameters\n",
    "------------------------\n",
    "  - $n$ : number of nodes in primary root \n",
    "  - $\\delta$: reference distance between successive branching axis\n",
    "  - $\\beta$ : branching variability or Number of nodes between successive ramification\n",
    "  - $order_{max}$ : maximum order of ramification\n",
    "  - $\\lambda$ : nude tip length\n",
    "  - $radius$ : external radius of the main axis of the root\n",
    "  - $\\alpha$ : order decrease factor : $r_{order} = radius*{\\alpha}^{order}$"
   ]
  },
  {
   "cell_type": "code",
   "execution_count": 9,
   "metadata": {
    "collapsed": false
   },
   "outputs": [],
   "source": [
    "primary_length = 0.15\n",
    "n = 1500\n",
    "delta = 20\n",
    "beta = 0.25 # 25 %\n",
    "order_max = 5\n",
    "segment_length = 1e-4\n",
    "nude_length = 200\n",
    "seed = 2\n",
    "\n",
    "ref_radius = 1e-4 # in m\n",
    "order_decrease_factor = 0.7"
   ]
  },
  {
   "cell_type": "markdown",
   "metadata": {},
   "source": [
    "Conductance and model Parameters\n",
    "=================================\n",
    "\n",
    "  - $k_0$: radial conductivity\n",
    "  - $K$ :axial conductivity (computed from xylem vessels)\n",
    "  - $J_v$: Observed or calculated flow t the root base (hypocotyl)\n",
    "  - $\\psi_e$: external solution water potential \n",
    "  - $\\psi_{base}$ : water potential at the hypocotyl\n",
    "  \n",
    "  "
   ]
  },
  {
   "cell_type": "code",
   "execution_count": 10,
   "metadata": {
    "collapsed": false
   },
   "outputs": [],
   "source": [
    "# parameters\n",
    "k0 = 300\n",
    "Jv = 0.1\n",
    "psi_e = 0.4\n",
    "psi_base = 0.1"
   ]
  },
  {
   "cell_type": "markdown",
   "metadata": {},
   "source": [
    "### Define a length law that describe the length of ramification along the axis lentgh"
   ]
  },
  {
   "cell_type": "code",
   "execution_count": 11,
   "metadata": {
    "collapsed": false
   },
   "outputs": [],
   "source": [
    "from openalea.core.path import path\n",
    "import hydroroot_wralea\n",
    "import hydroroot\n",
    "from hydroroot.length import fit_length\n",
    "reload(hydroroot.length)\n",
    "from hydroroot import radius, markov, flux, conductance, display as hdisplay\n",
    "reload(markov)\n",
    "from openalea.plantgl.all import Viewer"
   ]
  },
  {
   "cell_type": "code",
   "execution_count": 12,
   "metadata": {
    "collapsed": false
   },
   "outputs": [
    {
     "name": "stdout",
     "output_type": "stream",
     "text": [
      "C:\\Python27\\lib\\site-packages\\vplants.hydroroot-1.0.0-py2.7.egg\\hydroroot_wralea\\data\\LR_length_data.csv\n"
     ]
    }
   ],
   "source": [
    "data_dir = path(hydroroot_wralea.__path__[0])/'data'\n",
    "length_datafile, = data_dir.glob('LR_*.csv')\n",
    "print length_datafile\n",
    "#%load $length_datafile"
   ]
  },
  {
   "cell_type": "raw",
   "metadata": {},
   "source": [
    "Distance from tip (m);Lateral Root Length\n",
    "0.00;0.00\n",
    "0.03;0.00\n",
    "0.05;0.01\n",
    "0.16;0.13\n"
   ]
  },
  {
   "cell_type": "code",
   "execution_count": 13,
   "metadata": {
    "collapsed": false
   },
   "outputs": [],
   "source": [
    "length_law = fit_length(str(length_datafile), segment_length)"
   ]
  },
  {
   "cell_type": "markdown",
   "metadata": {},
   "source": [
    "Compute the architecture from these parameters\n",
    "----------------------------------------------"
   ]
  },
  {
   "cell_type": "code",
   "execution_count": 14,
   "metadata": {
    "collapsed": false
   },
   "outputs": [],
   "source": [
    "g = markov.markov_binary_tree(nb_vertices=n,\n",
    "                              branching_variability=beta,\n",
    "                              branching_delay=delta,\n",
    "                              length_law=length_law,\n",
    "                              nude_tip_length=nude_length,\n",
    "                              order_max=order_max,\n",
    "                              seed=seed)\n",
    "#print len(g)"
   ]
  },
  {
   "cell_type": "code",
   "execution_count": 8,
   "metadata": {
    "collapsed": false
   },
   "outputs": [],
   "source": [
    "# compute radius property on MTG\n",
    "g = radius.ordered_radius(g, ref_radius=ref_radius, order_decrease_factor=order_decrease_factor)\n",
    "\n",
    "# compute length property\n",
    "g = radius.compute_length(g, segment_length)\n",
    "g = radius.compute_relative_position(g)"
   ]
  },
  {
   "cell_type": "code",
   "execution_count": 15,
   "metadata": {
    "collapsed": false
   },
   "outputs": [
    {
     "data": {
      "text/plain": [
       "<openalea.mtg.mtg.MTG at 0x58fdc70>"
      ]
     },
     "execution_count": 15,
     "metadata": {},
     "output_type": "execute_result"
    }
   ],
   "source": [
    "# Shuffle axis\n",
    "SHUFFLE = False\n",
    "markov.shuffle_axis(g, SHUFFLE)"
   ]
  },
  {
   "cell_type": "code",
   "execution_count": 16,
   "metadata": {
    "collapsed": false
   },
   "outputs": [
    {
     "name": "stdout",
     "output_type": "stream",
     "text": [
      "Surface :  0.0126756224791\n",
      "Volume :  2.81737453689e-07\n"
     ]
    }
   ],
   "source": [
    "g, surface = radius.compute_surface(g)\n",
    "g, volume = radius.compute_volume(g)\n",
    "\n",
    "print 'Surface : ', surface\n",
    "print 'Volume : ', volume"
   ]
  },
  {
   "cell_type": "markdown",
   "metadata": {},
   "source": [
    "## Compute Flux"
   ]
  },
  {
   "cell_type": "code",
   "execution_count": 24,
   "metadata": {
    "collapsed": false
   },
   "outputs": [
    {
     "name": "stdout",
     "output_type": "stream",
     "text": [
      "C:\\Python27\\lib\\site-packages\\vplants.hydroroot-1.0.0-py2.7.egg\\hydroroot_wralea\\data\\conductivity_data.csv\n"
     ]
    },
    {
     "data": {
      "image/png": "[encoded data removed]",
      "text/plain": [
       "<matplotlib.figure.Figure at 0xd3d9550>"
      ]
     },
     "metadata": {},
     "output_type": "display_data"
    }
   ],
   "source": [
    "# axial conductance distribution\n",
    "axial_data, = data_dir.glob('conductivity_data*.csv')\n",
    "print axial_data\n",
    "\n",
    "g = conductance.fit_property_from_csv(g, str(axial_data), 'position', 'K', k=1., s=0., plot=True) "
   ]
  },
  {
   "cell_type": "code",
   "execution_count": 19,
   "metadata": {
    "collapsed": false
   },
   "outputs": [],
   "source": [
    "# %load C:\\Python27\\lib\\site-packages\\vplants.hydroroot-1.0.0-py2.7.egg\\hydroroot_wralea\\data\\conductivity_data.csv\n",
    "\n",
    "\n"
   ]
  },
  {
   "cell_type": "code",
   "execution_count": 20,
   "metadata": {
    "collapsed": false
   },
   "outputs": [],
   "source": [
    "g = conductance.compute_k(g, k0)"
   ]
  },
  {
   "cell_type": "code",
   "execution_count": 21,
   "metadata": {
    "collapsed": false
   },
   "outputs": [],
   "source": [
    "g = flux.flux(g, Jv, psi_e, psi_base, invert_model=True)"
   ]
  },
  {
   "cell_type": "code",
   "execution_count": 22,
   "metadata": {
    "collapsed": false
   },
   "outputs": [],
   "source": [
    "# root visitor\n",
    "def root_visitor(g, v, turtle):\n",
    "    angles = [130,45]+[30]*5\n",
    "    n = g.node(v)\n",
    "    radius = n.radius*1.e4\n",
    "    order = n.order\n",
    "    length = n.length*1.e4\n",
    "\n",
    "    if g.edge_type(v) == '+':\n",
    "        angle = angles[order]\n",
    "        turtle.down(angle)\n",
    "\n",
    "\n",
    "    turtle.setId(v)\n",
    "    turtle.setWidth(radius)\n",
    "    for c in n.children():\n",
    "        if c.edge_type() == '+':\n",
    "            turtle.rollL(130)\n",
    "\n",
    "    turtle.F(length)\n"
   ]
  },
  {
   "cell_type": "code",
   "execution_count": 23,
   "metadata": {
    "collapsed": false
   },
   "outputs": [],
   "source": [
    "scene = hdisplay.plot(g, has_radius=True, visitor=root_visitor, prop_cmap='psi_out', lognorm=False)\n",
    "Viewer.display(scene)"
   ]
  },
  {
   "cell_type": "markdown",
   "metadata": {},
   "source": [
    "> Everything below is for test only"
   ]
  },
  {
   "cell_type": "code",
   "execution_count": null,
   "metadata": {
    "collapsed": false
   },
   "outputs": [],
   "source": [
    "from vpltkdisplay import *\n",
    "from IPython.display import display"
   ]
  },
  {
   "cell_type": "code",
   "execution_count": null,
   "metadata": {
    "collapsed": false
   },
   "outputs": [],
   "source": [
    "PlantGL(scene)"
   ]
  },
  {
   "cell_type": "markdown",
   "metadata": {},
   "source": [
    "> Refactoring the model into a function"
   ]
  },
  {
   "cell_type": "code",
   "execution_count": 12,
   "metadata": {
    "collapsed": false
   },
   "outputs": [],
   "source": []
  },
  {
   "cell_type": "code",
   "execution_count": 1,
   "metadata": {
    "collapsed": false
   },
   "outputs": [],
   "source": [
    "# meter\n",
    "\n",
    "length_law = [0., 0.03, 0.05, 0.16], [0., 0., 0.01, 0.13]\n",
    "axial_conductance_law = (\n",
    "    [0., 0.015, 0.03, 0.045, 0.06, 0.075, 0.09, 0.105, 0.135, 0.15, 0.16], \n",
    "    [1e-4, 1e-4, 1e-4, 4e-4, 4e-4, 2e-3, 2e-3, 2.5e-3, 2.5e-3, 1e-2, 1e-1])\n",
    "radial_conductance_law = (\n",
    "    [0., 0.015, 0.03, 0.045, 0.06, 0.075, 0.09, 0.105, 0.135, 0.15, 0.16], \n",
    "    [300, 300, 300, 300, 300, 300, 300, 300, 300, 300, 300])\n",
    "\n"
   ]
  },
  {
   "cell_type": "code",
   "execution_count": 3,
   "metadata": {
    "collapsed": false
   },
   "outputs": [
    {
     "name": "stdout",
     "output_type": "stream",
     "text": [
      "entering MTG building\n",
      "exiting MTG building\n",
      "entering MTG radius setting\n",
      "exiting MTG radius setting\n",
      "entering MTG length setting\n",
      "exiting MTG length setting\n",
      "entering MTG node positionning computation\n",
      "exiting MTG node positionning computation\n",
      "entering surface computation\n",
      "surface (sq. meters):  0.0126756224791\n",
      "leaving surface computation\n",
      "entering volume computation\n",
      "volume (cube meters):  2.81737453689e-07\n",
      "leaving volume computation\n",
      "entering Keq computation\n",
      "exiting Keq computation\n",
      "entering Psi computation\n",
      "exiting Psi computation\n",
      "entering Jv computation\n",
      "exiting Jv computation\n",
      "Keq base =  0.347049173524\n",
      "Local Computation Water Flux Jvl =  0.104114752057\n",
      "Global Computation Water Flux Jvg =  0.104114752057\n",
      "0.0126756224791 2.81737453689e-07 0.347049173524 0.104114752057\n"
     ]
    }
   ],
   "source": [
    "from hydroroot.main import hydroroot as hydro\n",
    "\n",
    "g, surface, volume, Keq, Jv_global = hydro(\n",
    "    length_data=length_law, \n",
    "    axial_conductance_data=axial_conductance_law, \n",
    "    radial_conductance_data=radial_conductance_law)\n",
    "\n",
    "print surface, volume,\n",
    "print Keq, Jv_global"
   ]
  }
 ],
 "metadata": {
  "kernelspec": {
   "display_name": "Python 2",
   "language": "python",
   "name": "python2"
  },
  "language_info": {
   "codemirror_mode": {
    "name": "ipython",
    "version": 2
   },
   "file_extension": ".py",
   "mimetype": "text/x-python",
   "name": "python",
   "nbconvert_exporter": "python",
   "pygments_lexer": "ipython2",
   "version": "2.7.9"
  }
 },
 "nbformat": 4,
 "nbformat_minor": 0
}
