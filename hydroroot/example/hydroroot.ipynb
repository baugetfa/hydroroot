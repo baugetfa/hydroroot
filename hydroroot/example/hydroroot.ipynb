{
 "metadata": {
  "name": "",
  "signature": "sha256:39c6a1935e98784e6edc6f21451cc1527fd1add68d22f5de25d1abd57f00fbaf"
 },
 "nbformat": 3,
 "nbformat_minor": 0,
 "worksheets": [
  {
   "cells": [
    {
     "cell_type": "heading",
     "level": 1,
     "metadata": {
      "slideshow": {
       "slide_type": "slide"
      }
     },
     "source": [
      "Hydroroot model"
     ]
    },
    {
     "cell_type": "markdown",
     "metadata": {},
     "source": [
      "Definition of the prameters"
     ]
    },
    {
     "cell_type": "code",
     "collapsed": false,
     "input": [
      "%matplotlib inline\n",
      "%gui qt"
     ],
     "language": "python",
     "metadata": {},
     "outputs": [],
     "prompt_number": 20
    },
    {
     "cell_type": "markdown",
     "metadata": {
      "slideshow": {
       "slide_type": "slide"
      }
     },
     "source": [
      "Architectural parameters\n",
      "------------------------\n",
      "  - $n$ : number of nodes in primary root \n",
      "  - $\\delta$: reference distance between successive branching axis\n",
      "  - $\\beta$ : branching variability or Number of nodes between successive ramification\n",
      "  - $order_{max}$ : maximum order of ramification\n",
      "  - $\\lambda$ : nude tip length\n",
      "  - $radius$ : external radius of the main axis of the root\n",
      "  - $\\alpha$ : order decrease factor : $r_{order} = radius*{\\alpha}^{order}$"
     ]
    },
    {
     "cell_type": "code",
     "collapsed": false,
     "input": [
      "primary_length = 0.15\n",
      "n = 1100\n",
      "delta = 20\n",
      "beta = 0.25 # 25 %\n",
      "order_max = 5\n",
      "segment_length = 1e-4\n",
      "nude_length = 200\n",
      "seed = 2\n",
      "\n",
      "ref_radius = 1e-4 # in m\n",
      "order_decrease_factor = 0.7"
     ],
     "language": "python",
     "metadata": {
      "slideshow": {
       "slide_type": "subslide"
      }
     },
     "outputs": [],
     "prompt_number": 21
    },
    {
     "cell_type": "markdown",
     "metadata": {
      "slideshow": {
       "slide_type": "slide"
      }
     },
     "source": [
      "Conductance and model Parameters\n",
      "=================================\n",
      "\n",
      "  - $k_0$: radial conductivity\n",
      "  - $K$ :axial conductivity (computed from xylem vessels)\n",
      "  - $J_v$: Observed or calculated flow t the root base (hypocotyl)\n",
      "  - $\\psi_e$: external solution water potential \n",
      "  - $\\psi_{base}$ : water potential at the hypocotyl\n",
      "  \n",
      "  "
     ]
    },
    {
     "cell_type": "code",
     "collapsed": false,
     "input": [
      "# parameters\n",
      "k0 = 300\n",
      "Jv = 0.1\n",
      "psi_e = 0.4\n",
      "psi_base = 0.1"
     ],
     "language": "python",
     "metadata": {
      "slideshow": {
       "slide_type": "subslide"
      }
     },
     "outputs": [],
     "prompt_number": 22
    },
    {
     "cell_type": "heading",
     "level": 3,
     "metadata": {
      "slideshow": {
       "slide_type": "slide"
      }
     },
     "source": [
      "Define a length law that describe the length of ramification along the axis lentgh"
     ]
    },
    {
     "cell_type": "code",
     "collapsed": false,
     "input": [
      "from openalea.core.path import path\n",
      "import hydroroot_wralea\n",
      "import hydroroot\n",
      "from hydroroot.length import fit_length\n",
      "from hydroroot import radius, markov, flux, conductance, display as hdisplay\n",
      "from openalea.plantgl.all import Viewer"
     ],
     "language": "python",
     "metadata": {
      "slideshow": {
       "slide_type": "fragment"
      }
     },
     "outputs": [],
     "prompt_number": 23
    },
    {
     "cell_type": "code",
     "collapsed": false,
     "input": [
      "data_dir = path(hydroroot_wralea.__path__[0])/'data'\n",
      "length_datafile, = data_dir.glob('LR_*.csv')\n",
      "print length_datafile\n",
      "#%load $length_datafile"
     ],
     "language": "python",
     "metadata": {
      "slideshow": {
       "slide_type": "fragment"
      }
     },
     "outputs": [
      {
       "output_type": "stream",
       "stream": "stdout",
       "text": [
        "/Users/pradal/devlp/branches/vplants/hydroroot/src/hydroroot_wralea/data/LR_length_data.csv\n"
       ]
      }
     ],
     "prompt_number": 24
    },
    {
     "cell_type": "raw",
     "metadata": {
      "slideshow": {
       "slide_type": "fragment"
      }
     },
     "source": [
      "Distance from tip (m);Lateral Root Length\n",
      "0.00;0.00\n",
      "0.03;0.00\n",
      "0.05;0.01\n",
      "0.16;0.13\n"
     ]
    },
    {
     "cell_type": "code",
     "collapsed": false,
     "input": [
      "length_law = fit_length(str(length_datafile), segment_length)"
     ],
     "language": "python",
     "metadata": {
      "slideshow": {
       "slide_type": "fragment"
      }
     },
     "outputs": [],
     "prompt_number": 25
    },
    {
     "cell_type": "markdown",
     "metadata": {
      "slideshow": {
       "slide_type": "slide"
      }
     },
     "source": [
      "Compute the architecture from these parameters\n",
      "----------------------------------------------"
     ]
    },
    {
     "cell_type": "code",
     "collapsed": false,
     "input": [
      "g = markov.markov_binary_tree(nb_vertices=n,\n",
      "                              branching_variability=beta,\n",
      "                              branching_delay=delta,\n",
      "                              length_law=length_law,\n",
      "                              nude_tip_length=nude_length,\n",
      "                              order_max=order_max,\n",
      "                              seed=seed)\n",
      "#print len(g)"
     ],
     "language": "python",
     "metadata": {
      "slideshow": {
       "slide_type": "fragment"
      }
     },
     "outputs": [],
     "prompt_number": 26
    },
    {
     "cell_type": "code",
     "collapsed": false,
     "input": [
      "# compute radius property on MTG\n",
      "g = radius.ordered_radius(g, ref_radius=ref_radius, order_decrease_factor=order_decrease_factor)\n",
      "\n",
      "# compute length property\n",
      "g = radius.compute_length(g, segment_length)\n",
      "g = radius.compute_relative_position(g)"
     ],
     "language": "python",
     "metadata": {
      "slideshow": {
       "slide_type": "fragment"
      }
     },
     "outputs": [],
     "prompt_number": 27
    },
    {
     "cell_type": "code",
     "collapsed": false,
     "input": [
      "# Shuffle axis\n",
      "SHUFFLE = False\n",
      "markov.shuffle_axis(g, SHUFFLE)"
     ],
     "language": "python",
     "metadata": {
      "slideshow": {
       "slide_type": "skip"
      }
     },
     "outputs": [
      {
       "metadata": {},
       "output_type": "pyout",
       "prompt_number": 28,
       "text": [
        "<openalea.mtg.mtg.MTG at 0x11a4aa190>"
       ]
      }
     ],
     "prompt_number": 28
    },
    {
     "cell_type": "code",
     "collapsed": false,
     "input": [
      "g, surface = radius.compute_surface(g)\n",
      "g, volume = radius.compute_volume(g)\n",
      "\n",
      "print 'Surface : ', surface\n",
      "print 'Volume : ', volume"
     ],
     "language": "python",
     "metadata": {
      "slideshow": {
       "slide_type": "skip"
      }
     },
     "outputs": [
      {
       "output_type": "stream",
       "stream": "stdout",
       "text": [
        "Surface :  0.000957013819622\n",
        "Volume :  3.05986160555e-08\n"
       ]
      }
     ],
     "prompt_number": 29
    },
    {
     "cell_type": "heading",
     "level": 2,
     "metadata": {
      "slideshow": {
       "slide_type": "slide"
      }
     },
     "source": [
      "Compute Flux"
     ]
    },
    {
     "cell_type": "code",
     "collapsed": false,
     "input": [
      "# axial conductance distribution\n",
      "axial_data, = data_dir.glob('conductivity_data*.csv')\n",
      "print axial_data\n",
      "\n",
      "g = conductance.fit_property_from_csv(g, str(axial_data), 'position', 'K', k=1., s=0., plot=True) "
     ],
     "language": "python",
     "metadata": {
      "slideshow": {
       "slide_type": "fragment"
      }
     },
     "outputs": [
      {
       "output_type": "stream",
       "stream": "stdout",
       "text": [
        "/Users/pradal/devlp/branches/vplants/hydroroot/src/hydroroot_wralea/data/conductivity_data.csv\n"
       ]
      },
      {
       "metadata": {},
       "output_type": "display_data",
       "png": "[encoded data removed]",
       "text": [
        "<matplotlib.figure.Figure at 0x1205b5ed0>"
       ]
      }
     ],
     "prompt_number": 30
    },
    {
     "cell_type": "code",
     "collapsed": false,
     "input": [
      "%load $axial_data"
     ],
     "language": "python",
     "metadata": {
      "slideshow": {
       "slide_type": "skip"
      }
     },
     "outputs": [],
     "prompt_number": 12
    },
    {
     "cell_type": "code",
     "collapsed": false,
     "input": [
      "Distance from tip (m);Axial conductivity\n",
      "0;1.00E-4\n",
      "0.015;1.00E-4\n",
      "0.03;1.00E-4\n",
      "0.045;4.00E-4\n",
      "0.06;4.00E-4\n",
      "0.075;2.00E-3\n",
      "0.09;2.00E-3\n",
      "0.105;2.50E-3\n",
      "0.135;2.50E-3\n",
      "0.15;1.00E-2\n",
      "0.16;1.00E-1\n",
      "\n"
     ],
     "language": "python",
     "metadata": {
      "slideshow": {
       "slide_type": "skip"
      }
     },
     "outputs": []
    },
    {
     "cell_type": "code",
     "collapsed": false,
     "input": [
      "g = conductance.compute_k(g, k0)"
     ],
     "language": "python",
     "metadata": {
      "slideshow": {
       "slide_type": "fragment"
      }
     },
     "outputs": [],
     "prompt_number": 13
    },
    {
     "cell_type": "code",
     "collapsed": false,
     "input": [
      "g = flux.flux(g, Jv, psi_e, psi_base, invert_model=True)"
     ],
     "language": "python",
     "metadata": {
      "slideshow": {
       "slide_type": "fragment"
      }
     },
     "outputs": [],
     "prompt_number": 14
    },
    {
     "cell_type": "code",
     "collapsed": false,
     "input": [
      "# root visitor\n",
      "def root_visitor(g, v, turtle):\n",
      "    angles = [130,45]+[30]*5\n",
      "    n = g.node(v)\n",
      "    radius = n.radius*1.e4\n",
      "    order = n.order\n",
      "    length = n.length*1.e4\n",
      "\n",
      "    if g.edge_type(v) == '+':\n",
      "        angle = angles[order]\n",
      "        turtle.down(angle)\n",
      "\n",
      "\n",
      "    turtle.setId(v)\n",
      "    turtle.setWidth(radius)\n",
      "    for c in n.children():\n",
      "        if c.edge_type() == '+':\n",
      "            turtle.rollL(130)\n",
      "\n",
      "    turtle.F(length)\n"
     ],
     "language": "python",
     "metadata": {
      "slideshow": {
       "slide_type": "skip"
      }
     },
     "outputs": [],
     "prompt_number": 15
    },
    {
     "cell_type": "code",
     "collapsed": false,
     "input": [
      "scene = hdisplay.plot(g, has_radius=True, visitor=root_visitor, prop_cmap='psi_out', lognorm=False)\n",
      "Viewer.display(scene)"
     ],
     "language": "python",
     "metadata": {
      "slideshow": {
       "slide_type": "fragment"
      }
     },
     "outputs": [],
     "prompt_number": 16
    },
    {
     "cell_type": "markdown",
     "metadata": {
      "slideshow": {
       "slide_type": "slide"
      }
     },
     "source": [
      "> Plot in the Notebook\n"
     ]
    },
    {
     "cell_type": "code",
     "collapsed": false,
     "input": [
      "from vpltkdisplay import *\n",
      "from IPython.display import display"
     ],
     "language": "python",
     "metadata": {
      "slideshow": {
       "slide_type": "skip"
      }
     },
     "outputs": [],
     "prompt_number": 31
    },
    {
     "cell_type": "code",
     "collapsed": false,
     "input": [
      "PlantGL(scene)"
     ],
     "language": "python",
     "metadata": {
      "slideshow": {
       "slide_type": "fragment"
      }
     },
     "outputs": [
      {
       "metadata": {},
       "output_type": "pyout",
       "png": "[encoded data removed]",
       "prompt_number": 32,
       "text": [
        "<IPython.core.display.Image at 0x10b0a2a10>"
       ]
      }
     ],
     "prompt_number": 32
    },
    {
     "cell_type": "markdown",
     "metadata": {
      "slideshow": {
       "slide_type": "skip"
      }
     },
     "source": [
      "> Refactoring the model into a function"
     ]
    },
    {
     "cell_type": "code",
     "collapsed": false,
     "input": [
      "from hydroroot.main import hydroroot as hydro\n",
      "\n",
      "g, surface, volume, Keq, Jv_global = hydro(\n",
      "    length_data=length_law, \n",
      "    axial_conductance_data=axial_conductance_law, \n",
      "    radial_conductance_data=radial_conductance_law)\n",
      "\n",
      "print surface, volume,\n",
      "print Keq, Jv_global"
     ],
     "language": "python",
     "metadata": {
      "slideshow": {
       "slide_type": "skip"
      }
     },
     "outputs": [
      {
       "output_type": "stream",
       "stream": "stdout",
       "text": [
        "entering MTG building\n",
        "exiting MTG building"
       ]
      },
      {
       "output_type": "stream",
       "stream": "stdout",
       "text": [
        "\n",
        "entering MTG radius setting\n",
        "exiting MTG radius setting"
       ]
      },
      {
       "output_type": "stream",
       "stream": "stdout",
       "text": [
        "\n",
        "entering MTG length setting\n",
        "exiting MTG length setting"
       ]
      },
      {
       "output_type": "stream",
       "stream": "stdout",
       "text": [
        "\n",
        "entering MTG node positionning computation\n",
        "exiting MTG node positionning computation"
       ]
      },
      {
       "output_type": "stream",
       "stream": "stdout",
       "text": [
        "\n",
        "entering surface computation"
       ]
      },
      {
       "output_type": "stream",
       "stream": "stdout",
       "text": [
        "\n",
        "surface (sq. meters): "
       ]
      },
      {
       "output_type": "stream",
       "stream": "stdout",
       "text": [
        " 0.0126756224791\n",
        "leaving surface computation\n",
        "entering volume computation\n",
        "volume (cube meters): "
       ]
      },
      {
       "output_type": "stream",
       "stream": "stdout",
       "text": [
        " 2.81737453689e-07\n",
        "leaving volume computation\n",
        "entering Keq computation"
       ]
      },
      {
       "output_type": "stream",
       "stream": "stdout",
       "text": [
        "\n",
        "exiting Keq computation"
       ]
      },
      {
       "output_type": "stream",
       "stream": "stdout",
       "text": [
        "\n",
        "entering Psi computation\n",
        "exiting Psi computation"
       ]
      },
      {
       "output_type": "stream",
       "stream": "stdout",
       "text": [
        "\n",
        "entering Jv computation\n",
        "exiting Jv computation"
       ]
      },
      {
       "output_type": "stream",
       "stream": "stdout",
       "text": [
        "\n",
        "Keq base =  0.347049173524\n",
        "Local Computation Water Flux Jvl =  0.104114752057\n",
        "Global Computation Water Flux Jvg =  0.104114752057\n",
        "0.0126756224791 2.81737453689e-07 0.347049173524 0.104114752057\n"
       ]
      }
     ],
     "prompt_number": 3
    }
   ],
   "metadata": {}
  }
 ]
}