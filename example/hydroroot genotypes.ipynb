{
 "metadata": {
  "kernelspec": {
   "display_name": "Python 2",
   "language": "python",
   "name": "python2"
  },
  "language_info": {
   "codemirror_mode": {
    "name": "ipython",
    "version": 2
   },
   "file_extension": ".py",
   "mimetype": "text/x-python",
   "name": "python",
   "nbconvert_exporter": "python",
   "pygments_lexer": "ipython2",
   "version": "2.7.9"
  },
  "name": "",
  "signature": "sha256:dc976e17c188ca394e93bc3ca143975723b0f3946849658f85ef3e2769b75d69"
 },
 "nbformat": 3,
 "nbformat_minor": 0,
 "worksheets": [
  {
   "cells": [
    {
     "cell_type": "code",
     "collapsed": false,
     "input": [
      "#from vpltkdisplay import *\n",
      "%gui qt"
     ],
     "language": "python",
     "metadata": {},
     "outputs": [],
     "prompt_number": 1
    },
    {
     "cell_type": "code",
     "collapsed": false,
     "input": [
      "import numpy as np\n",
      "\n",
      "length_data = [0., 0.03, 0.05, 0.16], [0., 0., 0.01, 0.13]\n",
      "\n",
      "def radial(v=300):\n",
      "    xr = [0., 0.015, 0.03, 0.045, 0.06, 0.075, 0.09, 0.105, 0.135, 0.15, 0.16]\n",
      "    yr = [v]*len(xr)\n",
      "    return xr, yr\n",
      "\n",
      "# radial\n",
      "r = {}\n",
      "r['col'] = radial(300)\n",
      "r['pip2122'] = radial(239)\n",
      "r['esk11'] = radial(373)\n",
      "r['esk15'] = radial(518)\n",
      "r['irx34'] = radial(300)\n",
      "\n"
     ],
     "language": "python",
     "metadata": {},
     "outputs": [],
     "prompt_number": 2
    },
    {
     "cell_type": "heading",
     "level": 1,
     "metadata": {},
     "source": [
      "Axial Conductivity for different genotypes"
     ]
    },
    {
     "cell_type": "code",
     "collapsed": false,
     "input": [
      "# axial\n",
      "a={}\n",
      "a['col'] = (\n",
      "    [0., 0.03,  0.06, 0.09, 0.12, 0.15, 0.18], \n",
      "    [2.9e-4, 34.8e-4, 147.4e-4, 200.3e-4,292.6e-4,262.5e-4,511.1e-4]\n",
      ")\n",
      "\n",
      "a['esk11'] = (\n",
      "    [0., 0.03,  0.06, 0.09, 0.12], \n",
      "    [2.3e-4, 15.9e-4, 158.9e-4, 216.4e-4,192.e-4]\n",
      ")\n",
      "\n",
      "a['esk15'] = (\n",
      "    [0., 0.03,  0.06, 0.09, 0.12, 0.15], \n",
      "    [0.7e-4, 3.9e-4, 168.8e-4, 220.5e-4,239.3e-4, 219.5e-4]\n",
      ")\n",
      "\n",
      "a['irx34'] = (\n",
      "    [0., 0.03,  0.06, 0.09, 0.12], \n",
      "    [5.2e-4, 11.4e-4, 19.8e-4, 119.6e-4,359.9e-4]\n",
      ")\n",
      "\n",
      "a['pip2122'] = a['col']"
     ],
     "language": "python",
     "metadata": {},
     "outputs": [],
     "prompt_number": 3
    },
    {
     "cell_type": "heading",
     "level": 1,
     "metadata": {},
     "source": [
      "Root length"
     ]
    },
    {
     "cell_type": "code",
     "collapsed": false,
     "input": [
      "# length\n",
      "l={}\n",
      "nn={}\n",
      "l['col'] = [0., 0.03, 0.05, 0.16], [0., 0., 0.01, 0.13]\n",
      "nn['col'] = 0.1150\n",
      "\n",
      "l['esk11'] = [0., 0.02, 0.05, 0.09, 0.13], [0., 0., 0.001, 0.045, 0.089]\n",
      "nn['esk11'] = 0.1050\n",
      "\n",
      "l['esk15'] = [0., 0.02, 0.08, 0.10, 0.16], [0., 0., 0.005, 0.02, 0.065]\n",
      "nn['esk15'] = 0.1467 \n",
      "\n",
      "l['irx34'] = [0., 0.02, 0.05, 0.09, 0.13], [0., 0., 0.005, 0.03, 0.055]\n",
      "nn['irx34'] = 0.1200\n",
      "\n",
      "l['pip2122'] = l['col']\n",
      "nn['pip2122'] = 0.1500\n",
      "\n",
      "length_data = l['col']\n",
      "n = nn['col']\n"
     ],
     "language": "python",
     "metadata": {},
     "outputs": [],
     "prompt_number": 4
    },
    {
     "cell_type": "heading",
     "level": 1,
     "metadata": {},
     "source": [
      "Hydroroot model"
     ]
    },
    {
     "cell_type": "markdown",
     "metadata": {},
     "source": [
      "TODO\n",
      "====\n",
      "  - Explicit all the parameters to avoid any side effect\n"
     ]
    },
    {
     "cell_type": "code",
     "collapsed": false,
     "input": [
      "from hydroroot.main import hydroroot \n",
      "\n",
      "mtgs = []\n",
      "for genotype in ['col',]:# 'esk11', 'esk15']:#, 'irx34', 'pip2122']:\n",
      "    length_data = l[genotype]\n",
      "    axial_conductivity_data = a[genotype]\n",
      "    radial_conductivity_data = r[genotype]\n",
      "    n = nn[genotype]\n",
      "    # TEST\n",
      "    for n in (0.115, 0.135, 0.155, 0.16, 0.18):\n",
      "    #for n in (0.125,):\n",
      "        seed = 2\n",
      "        g, surface, volume, Keq, Jv_global = hydroroot(\n",
      "        seed=seed,\n",
      "        primary_length = n,\n",
      "        length_data=length_data, \n",
      "        axial_conductivity_data=axial_conductivity_data, \n",
      "        radial_conductivity_data=radial_conductivity_data,\n",
      "        )\n",
      "        mtgs.append(g)\n",
      "        print genotype, 'volume:', volume,'Keq:', Keq, 'Jv:', Jv_global, Jv_global/volume\n"
     ],
     "language": "python",
     "metadata": {},
     "outputs": [
      {
       "output_type": "stream",
       "stream": "stdout",
       "text": [
        "col volume: 3.97651607016e-08 Keq: 0.283415231398 Jv: 0.0850245694193 2138167.37866\n",
        "col volume: 1.46134867245e-07 Keq: 0.774319074957 Jv: 0.232295722487 1589598.20382\n",
        "col volume: 4.68431231533e-07 Keq: 1.18925306229 Jv: 0.356775918686 761639.905004\n"
       ]
      },
      {
       "ename": "MemoryError",
       "evalue": "",
       "output_type": "pyerr",
       "traceback": [
        "\u001b[1;31m---------------------------------------------------------------------------\u001b[0m",
        "\u001b[1;31mMemoryError\u001b[0m                               Traceback (most recent call last)",
        "\u001b[1;32m<ipython-input-5-dedbd0159158>\u001b[0m in \u001b[0;36m<module>\u001b[1;34m()\u001b[0m\n\u001b[0;32m     16\u001b[0m         \u001b[0mlength_data\u001b[0m\u001b[1;33m=\u001b[0m\u001b[0mlength_data\u001b[0m\u001b[1;33m,\u001b[0m\u001b[1;33m\u001b[0m\u001b[0m\n\u001b[0;32m     17\u001b[0m         \u001b[0maxial_conductivity_data\u001b[0m\u001b[1;33m=\u001b[0m\u001b[0maxial_conductivity_data\u001b[0m\u001b[1;33m,\u001b[0m\u001b[1;33m\u001b[0m\u001b[0m\n\u001b[1;32m---> 18\u001b[1;33m         \u001b[0mradial_conductivity_data\u001b[0m\u001b[1;33m=\u001b[0m\u001b[0mradial_conductivity_data\u001b[0m\u001b[1;33m,\u001b[0m\u001b[1;33m\u001b[0m\u001b[0m\n\u001b[0m\u001b[0;32m     19\u001b[0m         )\n\u001b[0;32m     20\u001b[0m         \u001b[0mmtgs\u001b[0m\u001b[1;33m.\u001b[0m\u001b[0mappend\u001b[0m\u001b[1;33m(\u001b[0m\u001b[0mg\u001b[0m\u001b[1;33m)\u001b[0m\u001b[1;33m\u001b[0m\u001b[0m\n",
        "\u001b[1;32mC:\\Python27\\lib\\site-packages\\vplants.hydroroot-1.0.0-py2.7.egg\\hydroroot\\main.pyc\u001b[0m in \u001b[0;36mhydroroot\u001b[1;34m(primary_length, delta, beta, order_max, segment_length, nude_length, seed, ref_radius, order_decrease_factor, k0, Jv, psi_e, psi_base, length_data, axial_conductivity_data, radial_conductivity_data, n)\u001b[0m\n\u001b[0;32m     85\u001b[0m     \u001b[1;31m# Compute the flux\u001b[0m\u001b[1;33m\u001b[0m\u001b[1;33m\u001b[0m\u001b[0m\n\u001b[0;32m     86\u001b[0m \u001b[1;33m\u001b[0m\u001b[0m\n\u001b[1;32m---> 87\u001b[1;33m     \u001b[0mg\u001b[0m \u001b[1;33m=\u001b[0m \u001b[0mconductance\u001b[0m\u001b[1;33m.\u001b[0m\u001b[0mfit_property_from_spline\u001b[0m\u001b[1;33m(\u001b[0m\u001b[0mg\u001b[0m\u001b[1;33m,\u001b[0m \u001b[0mradial_conductivity_law\u001b[0m\u001b[1;33m,\u001b[0m \u001b[1;34m'position'\u001b[0m\u001b[1;33m,\u001b[0m \u001b[1;34m'k0'\u001b[0m\u001b[1;33m)\u001b[0m\u001b[1;33m\u001b[0m\u001b[0m\n\u001b[0m\u001b[0;32m     88\u001b[0m     \u001b[0mg\u001b[0m \u001b[1;33m=\u001b[0m \u001b[0mconductance\u001b[0m\u001b[1;33m.\u001b[0m\u001b[0mcompute_k\u001b[0m\u001b[1;33m(\u001b[0m\u001b[0mg\u001b[0m\u001b[1;33m,\u001b[0m \u001b[0mk0\u001b[0m\u001b[1;33m=\u001b[0m\u001b[1;34m'k0'\u001b[0m\u001b[1;33m)\u001b[0m\u001b[1;33m\u001b[0m\u001b[0m\n\u001b[0;32m     89\u001b[0m \u001b[1;33m\u001b[0m\u001b[0m\n",
        "\u001b[1;32mC:\\Python27\\lib\\site-packages\\vplants.hydroroot-1.0.0-py2.7.egg\\hydroroot\\conductance.pyc\u001b[0m in \u001b[0;36mfit_property_from_spline\u001b[1;34m(g, spline, prop_in, prop_out)\u001b[0m\n\u001b[0;32m    156\u001b[0m     \u001b[0my_values\u001b[0m \u001b[1;33m=\u001b[0m \u001b[0mspline\u001b[0m\u001b[1;33m(\u001b[0m\u001b[0mx_values\u001b[0m\u001b[1;33m)\u001b[0m\u001b[1;33m\u001b[0m\u001b[0m\n\u001b[0;32m    157\u001b[0m \u001b[1;33m\u001b[0m\u001b[0m\n\u001b[1;32m--> 158\u001b[1;33m     \u001b[0mg\u001b[0m\u001b[1;33m.\u001b[0m\u001b[0mproperties\u001b[0m\u001b[1;33m(\u001b[0m\u001b[1;33m)\u001b[0m\u001b[1;33m[\u001b[0m\u001b[0mprop_out\u001b[0m\u001b[1;33m]\u001b[0m \u001b[1;33m=\u001b[0m \u001b[0mdict\u001b[0m\u001b[1;33m(\u001b[0m\u001b[0mzip\u001b[0m\u001b[1;33m(\u001b[0m\u001b[0mkeys\u001b[0m\u001b[1;33m,\u001b[0m \u001b[0my_values\u001b[0m\u001b[1;33m)\u001b[0m\u001b[1;33m)\u001b[0m\u001b[1;33m\u001b[0m\u001b[0m\n\u001b[0m\u001b[0;32m    159\u001b[0m \u001b[1;33m\u001b[0m\u001b[0m\n\u001b[0;32m    160\u001b[0m     \u001b[1;32mreturn\u001b[0m \u001b[0mg\u001b[0m\u001b[1;33m\u001b[0m\u001b[0m\n",
        "\u001b[1;31mMemoryError\u001b[0m: "
       ]
      }
     ],
     "prompt_number": 5
    },
    {
     "cell_type": "code",
     "collapsed": false,
     "input": [
      "from hydroroot import display as dis"
     ],
     "language": "python",
     "metadata": {},
     "outputs": [],
     "prompt_number": null
    },
    {
     "cell_type": "code",
     "collapsed": false,
     "input": [
      "%gui qt\n",
      "from openalea.plantgl.all import *\n",
      "#for g in mtgs:\n",
      "scene = dis.plot(mtgs[0], r_base=1e-4, r_tip=5e-5, prop_cmap='j', lognorm=False)\n",
      "    #display(PlantGL(scene))\n",
      "Viewer.display(scene)"
     ],
     "language": "python",
     "metadata": {},
     "outputs": [],
     "prompt_number": 64
    },
    {
     "cell_type": "code",
     "collapsed": false,
     "input": [
      "g = mtgs[0]\n",
      "l = g.vertices(scale=g.max_scale())"
     ],
     "language": "python",
     "metadata": {},
     "outputs": [],
     "prompt_number": 8
    },
    {
     "cell_type": "code",
     "collapsed": false,
     "input": [
      "from openalea.mtg import algo\n",
      "orders = algo.orders(g)"
     ],
     "language": "python",
     "metadata": {},
     "outputs": [],
     "prompt_number": 9
    },
    {
     "cell_type": "code",
     "collapsed": false,
     "input": [
      "l = [ k for k, o in orders.iteritems() if o == 5]"
     ],
     "language": "python",
     "metadata": {},
     "outputs": [],
     "prompt_number": 12
    },
    {
     "cell_type": "code",
     "collapsed": false,
     "input": [
      "sum(g.node(v).length for v in l)"
     ],
     "language": "python",
     "metadata": {},
     "outputs": [
      {
       "metadata": {},
       "output_type": "pyout",
       "prompt_number": 14,
       "text": [
        "0"
       ]
      }
     ],
     "prompt_number": 14
    },
    {
     "cell_type": "code",
     "collapsed": false,
     "input": [
      "g.property_names()"
     ],
     "language": "python",
     "metadata": {},
     "outputs": [
      {
       "metadata": {},
       "output_type": "pyout",
       "prompt_number": 15,
       "text": [
        "['J_out',\n",
        " 'k0',\n",
        " 'color',\n",
        " 'k',\n",
        " 'K',\n",
        " 'j',\n",
        " 'label',\n",
        " 'psi_in',\n",
        " 'length',\n",
        " 'edge_type',\n",
        " 'radius',\n",
        " 'Keq',\n",
        " 'position',\n",
        " 'psi_out',\n",
        " 'relative_position',\n",
        " 'order',\n",
        " 'position_index']"
       ]
      }
     ],
     "prompt_number": 15
    },
    {
     "cell_type": "code",
     "collapsed": false,
     "input": [
      "g0, g1, g2, g3, g4 = mtgs\n",
      "g = g2\n",
      "from openalea.mtg.traversal import pre_order2\n",
      "length= {}\n",
      "root = 1\n",
      "dl = 1.e-4\n",
      "for v in pre_order2(g,1):\n",
      "    pid = g.parent(v)\n",
      "    length[v] = length[pid]+dl if pid else dl\n",
      "\n",
      "def nb_root(l):\n",
      "    count = 0\n",
      "    for v in g:\n",
      "        pid = g.parent(v)\n",
      "        if pid and (length[pid] <= l <= length[v]):\n",
      "            count+=1\n",
      "    return count"
     ],
     "language": "python",
     "metadata": {},
     "outputs": [],
     "prompt_number": 80
    },
    {
     "cell_type": "code",
     "collapsed": false,
     "input": [
      "max(length.values())"
     ],
     "language": "python",
     "metadata": {},
     "outputs": [
      {
       "metadata": {},
       "output_type": "pyout",
       "prompt_number": 71,
       "text": [
        "0.11500000000000227"
       ]
      }
     ],
     "prompt_number": 71
    },
    {
     "cell_type": "code",
     "collapsed": false,
     "input": [
      "dist = (0.045, 0.055, 0.095, 0.105)\n",
      "map(nb_root, dist)"
     ],
     "language": "python",
     "metadata": {},
     "outputs": [
      {
       "metadata": {},
       "output_type": "pyout",
       "prompt_number": 43,
       "text": [
        "[522, 375, 40, 11]"
       ]
      }
     ],
     "prompt_number": 43
    },
    {
     "cell_type": "code",
     "collapsed": false,
     "input": [
      "dist = (0.045, 0.055, 0.095, 0.105)\n",
      "map(nb_root, dist)"
     ],
     "language": "python",
     "metadata": {},
     "outputs": [
      {
       "metadata": {},
       "output_type": "pyout",
       "prompt_number": 45,
       "text": [
        "[1992, 2288, 433, 223]"
       ]
      }
     ],
     "prompt_number": 45
    },
    {
     "cell_type": "code",
     "collapsed": false,
     "input": [
      "dist = (0.045, 0.055, 0.095, 0.105)\n",
      "map(nb_root, dist)"
     ],
     "language": "python",
     "metadata": {},
     "outputs": [
      {
       "metadata": {},
       "output_type": "pyout",
       "prompt_number": 47,
       "text": [
        "[1536, 1940, 414, 190]"
       ]
      }
     ],
     "prompt_number": 47
    },
    {
     "cell_type": "code",
     "collapsed": false,
     "input": [
      "dist = (0.045, 0.055, 0.095, 0.105)\n",
      "map(nb_root, dist)"
     ],
     "language": "python",
     "metadata": {},
     "outputs": [
      {
       "metadata": {},
       "output_type": "pyout",
       "prompt_number": 49,
       "text": [
        "[5407, 8391, 3914, 2169]"
       ]
      }
     ],
     "prompt_number": 49
    },
    {
     "cell_type": "code",
     "collapsed": false,
     "input": [
      "#g0\n",
      "dist = (0.045, 0.055, 0.095, 0.105)\n",
      "map(nb_root, dist)"
     ],
     "language": "python",
     "metadata": {},
     "outputs": [
      {
       "metadata": {},
       "output_type": "pyout",
       "prompt_number": 52,
       "text": [
        "[68, 33, 1, 1]"
       ]
      }
     ],
     "prompt_number": 52
    },
    {
     "cell_type": "code",
     "collapsed": false,
     "input": [
      "#12.5\n",
      "dist = (0.045, 0.055, 0.095, 0.105)\n",
      "map(nb_root, dist)"
     ],
     "language": "python",
     "metadata": {},
     "outputs": [
      {
       "metadata": {},
       "output_type": "pyout",
       "prompt_number": 68,
       "text": [
        "[254, 197, 10, 4]"
       ]
      }
     ],
     "prompt_number": 68
    },
    {
     "cell_type": "code",
     "collapsed": false,
     "input": [
      "%pylab inline"
     ],
     "language": "python",
     "metadata": {},
     "outputs": [
      {
       "output_type": "stream",
       "stream": "stdout",
       "text": [
        "Populating the interactive namespace from numpy and matplotlib\n"
       ]
      },
      {
       "output_type": "stream",
       "stream": "stderr",
       "text": [
        "WARNING: pylab import has clobbered these variables: ['dist', 'Text', 'cross', 'histogram', 'test', 'seed', 'norm', 'angle', 'dot']\n",
        "`%matplotlib` prevents importing * from pylab and numpy\n"
       ]
      }
     ],
     "prompt_number": 72
    },
    {
     "cell_type": "code",
     "collapsed": false,
     "input": [
      "hist(length.values())"
     ],
     "language": "python",
     "metadata": {},
     "outputs": [
      {
       "metadata": {},
       "output_type": "pyout",
       "prompt_number": 81,
       "text": [
        "(array([   2752.,   61639.,  233646.,  345774.,  278160.,  137548.,\n",
        "          48229.,   13875.,    2150.,     449.]),\n",
        " array([  1.00000000e-04,   1.55900000e-02,   3.10800000e-02,\n",
        "          4.65700000e-02,   6.20600000e-02,   7.75500000e-02,\n",
        "          9.30400000e-02,   1.08530000e-01,   1.24020000e-01,\n",
        "          1.39510000e-01,   1.55000000e-01]),\n",
        " <a list of 10 Patch objects>)"
       ]
      },
      {
       "metadata": {},
       "output_type": "display_data",
       "png": "[encoded data removed]",
       "text": [
        "<matplotlib.figure.Figure at 0x11bf75390>"
       ]
      }
     ],
     "prompt_number": 81
    },
    {
     "cell_type": "code",
     "collapsed": false,
     "input": [
      "len(g)"
     ],
     "language": "python",
     "metadata": {},
     "outputs": [
      {
       "metadata": {},
       "output_type": "pyout",
       "prompt_number": 79,
       "text": [
        "1124223"
       ]
      }
     ],
     "prompt_number": 79
    },
    {
     "cell_type": "code",
     "collapsed": false,
     "input": [
      "from openalea.mtg import algo\n",
      "orders = algo.orders(g)"
     ],
     "language": "python",
     "metadata": {},
     "outputs": [],
     "prompt_number": 82
    },
    {
     "cell_type": "code",
     "collapsed": false,
     "input": [],
     "language": "python",
     "metadata": {},
     "outputs": [],
     "prompt_number": null
    }
   ],
   "metadata": {}
  }
 ]
}