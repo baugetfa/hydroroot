{
 "cells": [
  {
   "cell_type": "markdown",
   "metadata": {
    "slideshow": {
     "slide_type": "slide"
    }
   },
   "source": [
    "# Hydroroot model"
   ]
  },
  {
   "cell_type": "markdown",
   "metadata": {},
   "source": [
    "Definition of the prameters"
   ]
  },
  {
   "cell_type": "code",
   "execution_count": 6,
   "metadata": {
    "collapsed": false
   },
   "outputs": [
    {
     "name": "stdout",
     "output_type": "stream",
     "text": [
      "Python 2.7.12 |Continuum Analytics, Inc.| (default, Jul  2 2016, 17:42:40) \n",
      "[GCC 4.4.7 20120313 (Red Hat 4.4.7-1)] on linux2\n"
     ]
    }
   ],
   "source": [
    "import sys; print('Python %s on %s' % (sys.version, sys.platform))\n",
    "sys.path.extend(['/home/fabrice/Documents/hydroroot', '/home/fabrice/Documents/hydroroot/src', '/home/fabrice/Documents/hydroroot/test', '/home/fabrice/Documents/hydroroot/example'])\n",
    "import time\n",
    "import numpy as np\n",
    "import pandas as pd\n",
    "import matplotlib.pyplot as plt"
   ]
  },
  {
   "cell_type": "markdown",
   "metadata": {
    "slideshow": {
     "slide_type": "slide"
    }
   },
   "source": [
    "Architectural parameters\n",
    "------------------------\n",
    "  - $n$ : number of nodes in primary root \n",
    "  - $\\delta$: reference distance between successive branching axis\n",
    "  - $\\beta$ : branching variability or Number of nodes between successive ramification\n",
    "  - $order_{max}$ : maximum order of ramification\n",
    "  - $\\lambda$ : nude tip length\n",
    "  - $radius$ : external radius of the main axis of the root\n",
    "  - $\\alpha$ : order decrease factor : $r_{order} = radius*{\\alpha}^{order}$"
   ]
  },
  {
   "cell_type": "code",
   "execution_count": 8,
   "metadata": {
    "collapsed": false,
    "slideshow": {
     "slide_type": "subslide"
    }
   },
   "outputs": [],
   "source": [
    "primary_length = 0.15\n",
    "n = 1100\n",
    "delta = 20\n",
    "beta = 0.25 # 25 %\n",
    "order_max = 5\n",
    "segment_length = 1e-4\n",
    "nude_length = 200\n",
    "seed = 2\n",
    "\n",
    "ref_radius = 1e-4 # in m\n",
    "order_decrease_factor = 0.7"
   ]
  },
  {
   "cell_type": "markdown",
   "metadata": {
    "slideshow": {
     "slide_type": "slide"
    }
   },
   "source": [
    "Conductance and model Parameters\n",
    "=================================\n",
    "\n",
    "  - $k_0$: radial conductivity\n",
    "  - $K$ :axial conductivity (computed from xylem vessels)\n",
    "  - $J_v$: Observed or calculated flow t the root base (hypocotyl)\n",
    "  - $\\psi_e$: external solution water potential \n",
    "  - $\\psi_{base}$ : water potential at the hypocotyl\n",
    "  \n",
    "  "
   ]
  },
  {
   "cell_type": "code",
   "execution_count": 9,
   "metadata": {
    "collapsed": false,
    "slideshow": {
     "slide_type": "subslide"
    }
   },
   "outputs": [],
   "source": [
    "# parameters\n",
    "k0 = 300\n",
    "Jv = 0.1\n",
    "psi_e = 0.4\n",
    "psi_base = 0.1"
   ]
  },
  {
   "cell_type": "markdown",
   "metadata": {
    "slideshow": {
     "slide_type": "slide"
    }
   },
   "source": [
    "### Define a length law that describe the length of ramification along the axis lentgh"
   ]
  },
  {
   "cell_type": "code",
   "execution_count": 10,
   "metadata": {
    "collapsed": false,
    "slideshow": {
     "slide_type": "fragment"
    }
   },
   "outputs": [],
   "source": [
    "from openalea.core.path import path\n",
    "import hydroroot_wralea\n",
    "import hydroroot\n",
    "from hydroroot.length import fit_length\n",
    "from hydroroot import radius, markov, flux, conductance, display as hdisplay\n",
    "from openalea.plantgl.all import Viewer"
   ]
  },
  {
   "cell_type": "code",
   "execution_count": 11,
   "metadata": {
    "collapsed": false,
    "slideshow": {
     "slide_type": "fragment"
    }
   },
   "outputs": [
    {
     "name": "stdout",
     "output_type": "stream",
     "text": [
      "/home/fabrice/Documents/hydroroot/src/hydroroot_wralea/data/LR_length_data.csv\n"
     ]
    }
   ],
   "source": [
    "data_dir = path(hydroroot_wralea.__path__[0])/'data'\n",
    "length_datafile, = data_dir.glob('LR_*.csv')\n",
    "print length_datafile\n",
    "#%load $length_datafile"
   ]
  },
  {
   "cell_type": "raw",
   "metadata": {
    "slideshow": {
     "slide_type": "fragment"
    }
   },
   "source": [
    "Distance from tip (m);Lateral Root Length\n",
    "0.00;0.00\n",
    "0.03;0.00\n",
    "0.05;0.01\n",
    "0.16;0.13\n"
   ]
  },
  {
   "cell_type": "code",
   "execution_count": 12,
   "metadata": {
    "collapsed": false,
    "slideshow": {
     "slide_type": "fragment"
    }
   },
   "outputs": [],
   "source": [
    "length_law = fit_length(str(length_datafile), segment_length)"
   ]
  },
  {
   "cell_type": "markdown",
   "metadata": {
    "slideshow": {
     "slide_type": "slide"
    }
   },
   "source": [
    "Compute the architecture from these parameters\n",
    "----------------------------------------------"
   ]
  },
  {
   "cell_type": "code",
   "execution_count": 13,
   "metadata": {
    "collapsed": false,
    "slideshow": {
     "slide_type": "fragment"
    }
   },
   "outputs": [],
   "source": [
    "g = markov.markov_binary_tree(nb_vertices=n,\n",
    "                              branching_variability=beta,\n",
    "                              branching_delay=delta,\n",
    "                              length_law=length_law,\n",
    "                              nude_tip_length=nude_length,\n",
    "                              order_max=order_max,\n",
    "                              seed=seed)\n",
    "#print len(g)"
   ]
  },
  {
   "cell_type": "code",
   "execution_count": 14,
   "metadata": {
    "collapsed": false,
    "slideshow": {
     "slide_type": "fragment"
    }
   },
   "outputs": [],
   "source": [
    "# compute radius property on MTG\n",
    "g = radius.ordered_radius(g, ref_radius=ref_radius, order_decrease_factor=order_decrease_factor)\n",
    "\n",
    "# compute length property\n",
    "g = radius.compute_length(g, segment_length)\n",
    "g = radius.compute_relative_position(g)"
   ]
  },
  {
   "cell_type": "code",
   "execution_count": 15,
   "metadata": {
    "collapsed": false,
    "slideshow": {
     "slide_type": "skip"
    }
   },
   "outputs": [
    {
     "data": {
      "text/plain": [
       "<openalea.mtg.mtg.MTG at 0x7f054cb67b50>"
      ]
     },
     "execution_count": 15,
     "metadata": {},
     "output_type": "execute_result"
    }
   ],
   "source": [
    "# Shuffle axis\n",
    "SHUFFLE = False\n",
    "markov.shuffle_axis(g, SHUFFLE)"
   ]
  },
  {
   "cell_type": "code",
   "execution_count": 16,
   "metadata": {
    "collapsed": false,
    "slideshow": {
     "slide_type": "skip"
    }
   },
   "outputs": [
    {
     "name": "stdout",
     "output_type": "stream",
     "text": [
      "Surface :  0.000957013819622\n",
      "Volume :  3.05986160555e-08\n"
     ]
    }
   ],
   "source": [
    "g, surface = radius.compute_surface(g)\n",
    "g, volume = radius.compute_volume(g)\n",
    "\n",
    "print 'Surface : ', surface\n",
    "print 'Volume : ', volume"
   ]
  },
  {
   "cell_type": "markdown",
   "metadata": {
    "slideshow": {
     "slide_type": "slide"
    }
   },
   "source": [
    "## Compute Flux"
   ]
  },
  {
   "cell_type": "code",
   "execution_count": 17,
   "metadata": {
    "collapsed": false,
    "slideshow": {
     "slide_type": "fragment"
    }
   },
   "outputs": [
    {
     "name": "stdout",
     "output_type": "stream",
     "text": [
      "/home/fabrice/Documents/hydroroot/src/hydroroot_wralea/data/conductivity_data.csv\n"
     ]
    },
    {
     "data": {
      "image/png": "[encoded data removed]",
      "text/plain": [
       "<matplotlib.figure.Figure at 0x7f05784bc950>"
      ]
     },
     "metadata": {},
     "output_type": "display_data"
    }
   ],
   "source": [
    "# axial conductance distribution\n",
    "axial_data, = data_dir.glob('conductivity_data*.csv')\n",
    "print axial_data\n",
    "\n",
    "g = conductance.fit_property_from_csv(g, str(axial_data), 'position', 'K', k=1., s=0., plot=True) "
   ]
  },
  {
   "cell_type": "code",
   "execution_count": 18,
   "metadata": {
    "collapsed": false
   },
   "outputs": [
    {
     "data": {
      "image/png": "[encoded data removed]",
      "text/plain": [
       "<matplotlib.figure.Figure at 0x7f054b497050>"
      ]
     },
     "metadata": {},
     "output_type": "display_data"
    }
   ],
   "source": [
    "# %load http://matplotlib.org/mpl_examples/shapes_and_collections/scatter_demo.py\n",
    "\"\"\"\n",
    "Simple demo of a scatter plot.\n",
    "\"\"\"\n",
    "import numpy as np\n",
    "import matplotlib.pyplot as plt\n",
    "\n",
    "\n",
    "N = 50\n",
    "x = np.random.rand(N)\n",
    "y = np.random.rand(N)\n",
    "colors = np.random.rand(N)\n",
    "area = np.pi * (15 * np.random.rand(N))**2  # 0 to 15 point radii\n",
    "\n",
    "plt.scatter(x, y, s=area, c=colors, alpha=0.5)\n",
    "plt.show()\n"
   ]
  },
  {
   "cell_type": "code",
   "execution_count": 19,
   "metadata": {
    "collapsed": false
   },
   "outputs": [
    {
     "data": {
      "image/png": "[encoded data removed]",
      "text/plain": [
       "<matplotlib.figure.Figure at 0x7f054b47fcd0>"
      ]
     },
     "metadata": {},
     "output_type": "display_data"
    }
   ],
   "source": [
    "\"\"\"\n",
    "Simple demo of a scatter plot.\n",
    "\"\"\"\n",
    "import numpy as np\n",
    "import matplotlib.pyplot as plt\n",
    "\n",
    "\n",
    "N = 50\n",
    "x = np.random.rand(N)\n",
    "y = np.random.rand(N)\n",
    "colors = np.random.rand(N)\n",
    "area = np.pi * (15 * np.random.rand(N))**2  # 0 to 15 point radiuses\n",
    "\n",
    "plt.scatter(x, y, s=area, c=colors, alpha=0.5)\n",
    "plt.show()\n"
   ]
  },
  {
   "cell_type": "code",
   "execution_count": 20,
   "metadata": {
    "collapsed": false,
    "slideshow": {
     "slide_type": "fragment"
    }
   },
   "outputs": [],
   "source": [
    "g = conductance.compute_k(g, k0)"
   ]
  },
  {
   "cell_type": "code",
   "execution_count": 21,
   "metadata": {
    "collapsed": false,
    "slideshow": {
     "slide_type": "fragment"
    }
   },
   "outputs": [],
   "source": [
    "g = flux.flux(g, Jv, psi_e, psi_base, invert_model=True)"
   ]
  },
  {
   "cell_type": "code",
   "execution_count": 22,
   "metadata": {
    "collapsed": false,
    "slideshow": {
     "slide_type": "skip"
    }
   },
   "outputs": [],
   "source": [
    "# root visitor\n",
    "def root_visitor(g, v, turtle):\n",
    "    angles = [130,45]+[30]*5\n",
    "    n = g.node(v)\n",
    "    radius = n.radius*1.e4\n",
    "    order = n.order\n",
    "    length = n.length*1.e4\n",
    "\n",
    "    if g.edge_type(v) == '+':\n",
    "        angle = angles[order]\n",
    "        turtle.down(angle)\n",
    "\n",
    "\n",
    "    turtle.setId(v)\n",
    "    turtle.setWidth(radius)\n",
    "    for c in n.children():\n",
    "        if c.edge_type() == '+':\n",
    "            turtle.rollL(130)\n",
    "\n",
    "    turtle.F(length)\n"
   ]
  },
  {
   "cell_type": "code",
   "execution_count": null,
   "metadata": {
    "collapsed": false,
    "slideshow": {
     "slide_type": "fragment"
    }
   },
   "outputs": [],
   "source": [
    "import openalea.plantgl.all as pgl\n",
    "scene = hdisplay.plot(g, has_radius=True, visitor=root_visitor, prop_cmap='psi_out', lognorm=False)\n",
    "Viewer.display(scene)\n",
    "pgl.Viewer.widgetGeometry.setSize(450, 600) # set the picture size in px\n",
    "fn = tempfile.mktemp(suffix='.png')\n",
    "pgl.Viewer.saveSnapshot(fn)\n",
    "pgl.Viewer.stop()\n",
    "img = Image(fn)\n",
    "os.unlink(fn)\n",
    "display(img)"
   ]
  },
  {
   "cell_type": "markdown",
   "metadata": {
    "slideshow": {
     "slide_type": "slide"
    }
   },
   "source": [
    "> Plot in the Notebook\n"
   ]
  },
  {
   "cell_type": "markdown",
   "metadata": {
    "slideshow": {
     "slide_type": "skip"
    }
   },
   "source": [
    "> Refactoring the model into a function"
   ]
  },
  {
   "cell_type": "code",
   "execution_count": null,
   "metadata": {
    "collapsed": false,
    "slideshow": {
     "slide_type": "skip"
    }
   },
   "outputs": [],
   "source": [
    "from hydroroot.main import hydroroot as hydro\n",
    "\n",
    "g, surface, volume, Keq, Jv_global = hydro(\n",
    "    length_data=length_law, \n",
    "    axial_conductance_data=axial_conductance_law, \n",
    "    radial_conductance_data=radial_conductance_law)\n",
    "\n",
    "print surface, volume,\n",
    "print Keq, Jv_global"
   ]
  }
 ],
 "metadata": {
  "kernelspec": {
   "display_name": "Python 2",
   "language": "python",
   "name": "python2"
  },
  "language_info": {
   "codemirror_mode": {
    "name": "ipython",
    "version": 2
   },
   "file_extension": ".py",
   "mimetype": "text/x-python",
   "name": "python",
   "nbconvert_exporter": "python",
   "pygments_lexer": "ipython2",
   "version": "2.7.12"
  }
 },
 "nbformat": 4,
 "nbformat_minor": 2
}
