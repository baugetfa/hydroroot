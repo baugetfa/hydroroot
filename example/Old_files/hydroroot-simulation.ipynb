{
 "cells": [
  {
   "cell_type": "markdown",
   "metadata": {},
   "source": [
    "# Hydroroot model"
   ]
  },
  {
   "cell_type": "markdown",
   "metadata": {},
   "source": [
    "TODO\n",
    "=====\n",
    "  - plot with groupby\n",
    "  - R conversion for analysis\n",
    "  - aquaporin expression modify the radial conductivity (k0 has a csv file)\n",
    "  - running the notebook on a set of parameters\n",
    "    - define functions\n",
    "    - create a new notebook to run it and save the results\n",
    "  - design the virtual experiment"
   ]
  },
  {
   "cell_type": "markdown",
   "metadata": {},
   "source": [
    "Definition of the prameters"
   ]
  },
  {
   "cell_type": "code",
   "execution_count": 1,
   "metadata": {
    "collapsed": false
   },
   "outputs": [],
   "source": [
    "%matplotlib inline\n",
    "%gui qt"
   ]
  },
  {
   "cell_type": "markdown",
   "metadata": {},
   "source": [
    "Architectural parameters\n",
    "------------------------\n",
    "  - $n$ : number of nodes in primary root \n",
    "  - $\\delta$: reference distance between successive branching axis\n",
    "  - $\\beta$ : branching variability or Number of nodes between successive ramification\n",
    "  - $order_{max}$ : maximum order of ramification\n",
    "  - $\\lambda$ : nude tip length in $meters$\n",
    "  - $radius$ : external radius of the main axis of the root\n",
    "  - $\\alpha$ : order decrease factor : $r_{order} = radius*{\\alpha}^{order}$"
   ]
  },
  {
   "cell_type": "code",
   "execution_count": 2,
   "metadata": {
    "collapsed": false
   },
   "outputs": [],
   "source": [
    "#n = 1500\n",
    "primary_length = 0.15 # 15 cm\n",
    "delta = 0.002\n",
    "beta = 0.25 # 25 %\n",
    "order_max = 4\n",
    "segment_length = 1e-4\n",
    "nude_length = 0.02\n",
    "seed = 2\n",
    "\n",
    "ref_radius = 1e-4 # in m\n",
    "order_decrease_factor = 0.7"
   ]
  },
  {
   "cell_type": "markdown",
   "metadata": {},
   "source": [
    "Conductance and model Parameters\n",
    "=================================\n",
    "\n",
    "  - $k_0$: radial conductivity\n",
    "  - $K$ :axial conductivity (computed from xylem vessels)\n",
    "  - $J_v$: Observed or calculated flow t the root base (hypocotyl)\n",
    "  - $\\psi_e$: external solution water potential \n",
    "  - $\\psi_{base}$ : water potential at the hypocotyl\n",
    "  \n",
    "  "
   ]
  },
  {
   "cell_type": "code",
   "execution_count": 3,
   "metadata": {
    "collapsed": false
   },
   "outputs": [],
   "source": [
    "# parameters\n",
    "k0 = 300\n",
    "Jv = 0.1\n",
    "psi_e = 0.4\n",
    "psi_base = 0."
   ]
  },
  {
   "cell_type": "code",
   "execution_count": 4,
   "metadata": {
    "collapsed": false
   },
   "outputs": [],
   "source": [
    "# measured laws\n",
    "\n",
    "length_data = [0., 0.03, 0.05, 0.16], [0., 0., 0.01, 0.13]\n",
    "axial_conductivity_data = (\n",
    "    [0., 0.015, 0.03, 0.045, 0.06, 0.075, 0.09, 0.105, 0.135, 0.15, 0.16], \n",
    "    [1e-4, 1e-4, 1e-4, 4e-4, 4e-4, 2e-3, 2e-3, 2.5e-3, 2.5e-3, 1e-2, 1e-1])\n",
    "radial_conductivity_data = (\n",
    "    [0., 0.015, 0.03, 0.045, 0.06, 0.075, 0.09, 0.105, 0.135, 0.15, 0.16], \n",
    "    [300, 300, 300, 300, 300, 300, 300, 300, 300, 300, 300])\n",
    "\n"
   ]
  },
  {
   "cell_type": "code",
   "execution_count": 5,
   "metadata": {
    "collapsed": false
   },
   "outputs": [
    {
     "name": "stdout",
     "output_type": "stream",
     "text": [
      "Surface:  0.0123837303808 Volume : 2.78099854068e-07\n",
      "Keq :  0.342945098734 Jv_global :  0.137178039493\n"
     ]
    }
   ],
   "source": [
    "from hydroroot.main import hydroroot \n",
    "\n",
    "g, surface, volume, Keq, Jv_global = hydroroot(\n",
    "    primary_length = primary_length, \n",
    "    delta = delta, \n",
    "    beta = beta, \n",
    "    order_max = order_max, \n",
    "    segment_length = segment_length, \n",
    "    nude_length = nude_length, \n",
    "    seed = seed,\n",
    "    ref_radius = ref_radius,\n",
    "    order_decrease_factor = order_decrease_factor,\n",
    "    k0 = k0,\n",
    "    Jv = Jv,\n",
    "    psi_e = psi_e,\n",
    "    psi_base=psi_base,\n",
    "    length_data=length_data, \n",
    "    axial_conductivity_data=axial_conductivity_data, \n",
    "    radial_conductivity_data=radial_conductivity_data)\n",
    "\n",
    "print 'Surface: ', surface, 'Volume :', volume\n",
    "print 'Keq : ', Keq, 'Jv_global : ', Jv_global"
   ]
  },
  {
   "cell_type": "code",
   "execution_count": 6,
   "metadata": {
    "collapsed": false
   },
   "outputs": [
    {
     "name": "stdout",
     "output_type": "stream",
     "text": [
      "0.1 0.0419806045254\n",
      "0.125 0.0984434074927\n",
      "0.133333333333 0.113283779106\n",
      "0.1375 0.144540505528\n",
      "0.14 0.120013590455\n",
      "0.141666666667 0.139792307856\n",
      "0.142857142857 0.159744674064\n",
      "0.14375 0.13739749907\n",
      "0.144444444444 0.146656400186\n",
      "0.145 0.150630857107\n"
     ]
    }
   ],
   "source": [
    "from hydroroot.main import hydroroot\n",
    "res = []\n",
    "n = 10\n",
    "for i in range(n):\n",
    "    length_var = 0.05/(i+1)\n",
    "    g, surf, vol, keq, jv = hydroroot(primary_length=0.15-length_var, \n",
    "                                      segment_length=2e-4, \n",
    "                                      seed = None,\n",
    "                                      delta = delta, \n",
    "                                      beta = beta, \n",
    "                                      order_max = order_max, \n",
    "                                      nude_length = nude_length, \n",
    "                                      ref_radius = ref_radius,\n",
    "                                      order_decrease_factor = order_decrease_factor,\n",
    "                                      k0 = k0,\n",
    "                                      Jv = Jv,\n",
    "                                      psi_e = psi_e,\n",
    "                                      psi_base=psi_base,\n",
    "                                      length_data=length_data, \n",
    "                                      axial_conductivity_data=axial_conductivity_data, \n",
    "                                      radial_conductivity_data=radial_conductivity_data)\n",
    "    res.append((keq, surf, jv))\n",
    "    print 0.15-length_var, jv"
   ]
  },
  {
   "cell_type": "code",
   "execution_count": 7,
   "metadata": {
    "collapsed": false
   },
   "outputs": [
    {
     "data": {
      "text/plain": [
       "[(0.10495151131354627, 0.0006644262373863186, 0.041980604525418512),\n",
       " (0.24610851873181164, 0.0028679228752364013, 0.098443407492724663),\n",
       " (0.28320944776401458, 0.006241196652143323, 0.11328377910560583),\n",
       " (0.36135126381883559, 0.010548788704759844, 0.14454050552753425),\n",
       " (0.30003397613813371, 0.0063622601116000875, 0.12001359045525349),\n",
       " (0.34948076963970498, 0.007683885050870083, 0.13979230785588201),\n",
       " (0.39936168515979642, 0.01005952720595314, 0.15974467406391857),\n",
       " (0.3434937476758832, 0.00861848491380817, 0.13739749907035329),\n",
       " (0.36664100046455084, 0.00974596382532125, 0.14665640018582035),\n",
       " (0.37657714276821552, 0.008068763414117332, 0.15063085710728621)]"
      ]
     },
     "execution_count": 7,
     "metadata": {},
     "output_type": "execute_result"
    }
   ],
   "source": [
    "res"
   ]
  },
  {
   "cell_type": "code",
   "execution_count": 8,
   "metadata": {
    "collapsed": false
   },
   "outputs": [],
   "source": [
    "from hydroroot.main import hydroroot\n",
    "res = []\n",
    "for i in range(25):\n",
    "    g, surf, vol, keq, jv = hydroroot(primary_length=0.15, segment_length=5e-4, seed=None,\n",
    "          length_data=length_data, axial_conductivity_data=axial_conductivity_data, radial_conductivity_data=radial_conductivity_data)\n",
    "    res.append((keq, jv))"
   ]
  },
  {
   "cell_type": "code",
   "execution_count": 9,
   "metadata": {
    "collapsed": false
   },
   "outputs": [
    {
     "data": {
      "text/plain": [
       "[(0.51330831245477704, 0.15399249373643314),\n",
       " (0.55693690525323614, 0.16708107157597085),\n",
       " (0.53014729301868635, 0.15904418790560593),\n",
       " (0.5308184861248284, 0.15924554583744854),\n",
       " (0.56720437731782214, 0.17016131319534666),\n",
       " (0.54782674876832627, 0.16434802463049791),\n",
       " (0.55034391102208047, 0.16510317330662416),\n",
       " (0.52863304326642413, 0.15858991297992725),\n",
       " (0.50695920307164266, 0.15208776092149282),\n",
       " (0.49813203140735834, 0.14943960942220752),\n",
       " (0.53823594555881071, 0.16147078366764323),\n",
       " (0.48016912132344941, 0.14405073639703483),\n",
       " (0.47000299945107066, 0.14100089983532121),\n",
       " (0.56068855368774828, 0.16820656610632451),\n",
       " (0.49004318107312622, 0.14701295432193789),\n",
       " (0.52601358746316407, 0.15780407623894924),\n",
       " (0.49452160921325278, 0.14835648276397587),\n",
       " (0.4987831523322438, 0.14963494569967317),\n",
       " (0.5188017538756583, 0.15564052616269752),\n",
       " (0.47484738699489903, 0.14245421609846973),\n",
       " (0.49578426916123008, 0.14873528074836906),\n",
       " (0.54178305216524525, 0.16253491564957359),\n",
       " (0.51915718965217494, 0.15574715689565249),\n",
       " (0.49313251077429032, 0.14793975323228711),\n",
       " (0.51234262608633974, 0.15370278782590194)]"
      ]
     },
     "execution_count": 9,
     "metadata": {},
     "output_type": "execute_result"
    }
   ],
   "source": [
    "res"
   ]
  },
  {
   "cell_type": "code",
   "execution_count": null,
   "metadata": {
    "collapsed": false
   },
   "outputs": [],
   "source": []
  }
 ],
 "metadata": {
  "kernelspec": {
   "display_name": "Python 2",
   "language": "python",
   "name": "python2"
  },
  "language_info": {
   "codemirror_mode": {
    "name": "ipython",
    "version": 2
   },
   "file_extension": ".py",
   "mimetype": "text/x-python",
   "name": "python",
   "nbconvert_exporter": "python",
   "pygments_lexer": "ipython2",
   "version": "2.7.9"
  }
 },
 "nbformat": 4,
 "nbformat_minor": 0
}
