{
 "metadata": {
  "kernelspec": {
   "display_name": "Python 2",
   "language": "python",
   "name": "python2"
  },
  "language_info": {
   "codemirror_mode": {
    "name": "ipython",
    "version": 2
   },
   "file_extension": ".py",
   "mimetype": "text/x-python",
   "name": "python",
   "nbconvert_exporter": "python",
   "pygments_lexer": "ipython2",
   "version": "2.7.9"
  },
  "name": "",
  "signature": "sha256:cb83979dd9aaccdbc64b4f993462b62011e5e404e1ceace376aeff1961c0bc99"
 },
 "nbformat": 3,
 "nbformat_minor": 0,
 "worksheets": [
  {
   "cells": [
    {
     "cell_type": "heading",
     "level": 1,
     "metadata": {},
     "source": [
      "Architectural Analysis"
     ]
    },
    {
     "cell_type": "heading",
     "level": 2,
     "metadata": {},
     "source": [
      "Imports"
     ]
    },
    {
     "cell_type": "code",
     "collapsed": false,
     "input": [
      "#from vpltkdisplay import *\n",
      "\n",
      "%matplotlib inline\n",
      "from pylab import plot, hist\n",
      "%gui qt"
     ],
     "language": "python",
     "metadata": {},
     "outputs": [],
     "prompt_number": 1
    },
    {
     "cell_type": "heading",
     "level": 2,
     "metadata": {},
     "source": [
      "Data for the different genotypes"
     ]
    },
    {
     "cell_type": "code",
     "collapsed": false,
     "input": [
      "import numpy as np\n",
      "\n",
      "length_data = [0., 0.03, 0.05, 0.16], [0., 0., 0.01, 0.13]\n",
      "\n",
      "        def radial(v=300):\n",
      "            xr = [0., 0.015, 0.03, 0.045, 0.06, 0.075, 0.09, 0.105, 0.135, 0.15, 0.16]\n",
      "            yr = [v]*len(xr)\n",
      "            return xr, yr\n",
      "\n",
      "        # radial\n",
      "        r = {}\n",
      "        r['col'] = radial(300)\n",
      "        r['pip2122'] = radial(239)\n",
      "        r['esk11'] = radial(373)\n",
      "        r['esk15'] = radial(518)\n",
      "        r['irx34'] = radial(300)"
     ],
     "language": "python",
     "metadata": {},
     "outputs": [],
     "prompt_number": 2
    },
    {
     "cell_type": "heading",
     "level": 1,
     "metadata": {},
     "source": [
      "Axial Conductivity for different genotypes"
     ]
    },
    {
     "cell_type": "code",
     "collapsed": false,
     "input": [
      "# axial\n",
      "a={}\n",
      "a['col'] = (\n",
      "    [0., 0.03,  0.06, 0.09, 0.12, 0.15, 0.18], \n",
      "    [2.9e-4, 34.8e-4, 147.4e-4, 200.3e-4,292.6e-4,262.5e-4,511.1e-4]\n",
      ")\n",
      "\n",
      "a['esk11'] = (\n",
      "    [0., 0.03,  0.06, 0.09, 0.12], \n",
      "    [2.3e-4, 15.9e-4, 158.9e-4, 216.4e-4,192.e-4]\n",
      ")\n",
      "\n",
      "a['esk15'] = (\n",
      "    [0., 0.03,  0.06, 0.09, 0.12, 0.15], \n",
      "    [0.7e-4, 3.9e-4, 168.8e-4, 220.5e-4,239.3e-4, 219.5e-4]\n",
      ")\n",
      "\n",
      "a['irx34'] = (\n",
      "    [0., 0.03,  0.06, 0.09, 0.12], \n",
      "    [5.2e-4, 11.4e-4, 19.8e-4, 119.6e-4,359.9e-4]\n",
      ")\n",
      "\n",
      "a['pip2122'] = a['col']"
     ],
     "language": "python",
     "metadata": {},
     "outputs": [],
     "prompt_number": 3
    },
    {
     "cell_type": "heading",
     "level": 1,
     "metadata": {},
     "source": [
      "Root length"
     ]
    },
    {
     "cell_type": "code",
     "collapsed": false,
     "input": [
      "# length\n",
      "l={}\n",
      "nn={}\n",
      "l['col'] = [0., 0.03, 0.05, 0.16], [0., 0., 0.01, 0.13]\n",
      "#nn['col'] = 0.1150 #a ne place ici que si on ne le d\u00e9finit pas dans la cellule dessous\n",
      "\n",
      "l['esk11'] = [0., 0.02, 0.05, 0.09, 0.13], [0., 0., 0.001, 0.045, 0.089]\n",
      "nn['esk11'] = 0.1050\n",
      "\n",
      "l['esk15'] = [0., 0.02, 0.08, 0.10, 0.16], [0., 0., 0.005, 0.02, 0.065]\n",
      "nn['esk15'] = 0.1467 \n",
      "\n",
      "l['irx34'] = [0., 0.02, 0.05, 0.09, 0.13], [0., 0., 0.005, 0.03, 0.055]\n",
      "nn['irx34'] = 0.1200\n",
      "\n",
      "l['pip2122'] = l['col']\n",
      "nn['pip2122'] = 0.1500\n",
      "\n",
      "#length_data = l['col']\n",
      "#n = nn['col']\n",
      "\n",
      "xx, yy = l['col']\n",
      "plot(xx, yy)\n"
     ],
     "language": "python",
     "metadata": {},
     "outputs": [
      {
       "metadata": {},
       "output_type": "pyout",
       "prompt_number": 4,
       "text": [
        "[<matplotlib.lines.Line2D at 0x10d9cbfd0>]"
       ]
      },
      {
       "metadata": {},
       "output_type": "display_data",
       "png": "[encoded data removed]",
       "text": [
        "<matplotlib.figure.Figure at 0x10d933610>"
       ]
      }
     ],
     "prompt_number": 4
    },
    {
     "cell_type": "code",
     "collapsed": false,
     "input": [
      "#d\u00e9finition des lois de longueurs m\u00e9dianes, hautes et basses\n",
      "n = nn['col'] = 0.120\n",
      "\n",
      "l['median'] = ([nn['col']*x/100. for x in range(0,101,5)],\n",
      "            [0.0, 0., 0., 0.00032, 0.000835, 0.00076, 0.002665, 0.003825, 0.006775, \n",
      "             0.00907, 0.01282, 0.01193, 0.01129, 0.010465, 0.015035, 0.01016, 0.016275, \n",
      "             0.01536, 0.05308, 0.07251,0.07971])\n",
      "l['low']= ([nn['col']*x/100. for x in range(0,101,5)],\n",
      "            [0.0, 0., 0., 0.00032, 0.00032, 0.000515, 0.002252, 0.001312, 0.003844, \n",
      "             0.006908, 0.005966, 0.00089, 0.001751, 0.001921, 0.002584, 0.003325, 0.005306, \n",
      "             0.009524, 0.046133, 0.056527,0.074152])\n",
      "l['high']= ([nn['col']*x/100. for x in range(0,101,5)],\n",
      "            [0.0, 0., 0., 0.00032, 0.001465, 0.0012, 0.003725, 0.007105, 0.01336, \n",
      "             0.009486, 0.02051, 0.022757, 0.023004, 0.027506, 0.0215, 0.02938, 0.039895, \n",
      "             0.050636, 0.062388, 0.07646,0.09448])\n",
      "\n",
      "xx, yy = l['median']\n",
      "plot(xx,yy)"
     ],
     "language": "python",
     "metadata": {},
     "outputs": [
      {
       "metadata": {},
       "output_type": "pyout",
       "prompt_number": 5,
       "text": [
        "[<matplotlib.lines.Line2D at 0x10db49490>]"
       ]
      },
      {
       "metadata": {},
       "output_type": "display_data",
       "png": "[encoded data removed]",
       "text": [
        "<matplotlib.figure.Figure at 0x10da653d0>"
       ]
      }
     ],
     "prompt_number": 5
    },
    {
     "cell_type": "heading",
     "level": 1,
     "metadata": {},
     "source": [
      "Hydroroot model"
     ]
    },
    {
     "cell_type": "markdown",
     "metadata": {},
     "source": [
      "TODO\n",
      "====\n",
      "  - Explicit all the parameters to avoid any side effect\n"
     ]
    },
    {
     "cell_type": "code",
     "collapsed": false,
     "input": [
      "from hydroroot.main import hydroroot \n",
      "\n",
      "mtgs = []\n",
      "for genotype in ['col',]:# 'esk11', 'esk15']:#, 'irx34', 'pip2122']:\n",
      "    length_data = l['median']\n",
      "    axial_conductivity_data = a[genotype]\n",
      "    radial_conductivity_data = r[genotype]\n",
      "    n = nn[genotype]\n",
      "    for n in (n,):\n",
      "        seed = 4\n",
      "        g, surface, volume, Keq, Jv_global = hydroroot(\n",
      "        seed=seed,\n",
      "        primary_length = n,\n",
      "        length_data=length_data, \n",
      "        axial_conductivity_data=axial_conductivity_data, \n",
      "        radial_conductivity_data=radial_conductivity_data,\n",
      "        nude_length = 0.02,\n",
      "        )\n",
      "        mtgs.append(g)\n",
      "        print genotype, 'volume:', volume,'Keq:', Keq, 'Jv:', Jv_global, Jv_global/volume\n"
     ],
     "language": "python",
     "metadata": {},
     "outputs": [
      {
       "output_type": "stream",
       "stream": "stdout",
       "text": [
        "col volume: 1.87286401044e-08 Keq: 0.142175085543 Jv: 0.0426525256629 2277395.76527\n"
       ]
      }
     ],
     "prompt_number": 6
    },
    {
     "cell_type": "code",
     "collapsed": false,
     "input": [
      "from hydroroot import display as dis"
     ],
     "language": "python",
     "metadata": {},
     "outputs": [
      {
       "output_type": "stream",
       "stream": "stderr",
       "text": [
        "/opt/local/Library/Frameworks/Python.framework/Versions/2.7/lib/python2.7/site-packages/matplotlib/cbook.py:137: MatplotlibDeprecationWarning: The matplotlib.mpl module was deprecated in version 1.3. Use `import matplotlib as mpl` instead.\n",
        "  warnings.warn(message, mplDeprecation, stacklevel=1)\n"
       ]
      }
     ],
     "prompt_number": 7
    },
    {
     "cell_type": "heading",
     "level": 3,
     "metadata": {},
     "source": [
      "Display the RSA that has been computed"
     ]
    },
    {
     "cell_type": "code",
     "collapsed": false,
     "input": [
      "#%gui qt\n",
      "from openalea.plantgl.all import *\n",
      "#for g in mtgs:\n",
      "scene = dis.plot(mtgs[0], r_base=1e-4, r_tip=5e-5, prop_cmap='j', lognorm=False)\n",
      "    #display(PlantGL(scene))\n",
      "Viewer.display(scene)"
     ],
     "language": "python",
     "metadata": {},
     "outputs": [],
     "prompt_number": 8
    },
    {
     "cell_type": "heading",
     "level": 2,
     "metadata": {},
     "source": [
      "Compute the length on the simulated MTG"
     ]
    },
    {
     "cell_type": "code",
     "collapsed": false,
     "input": [
      "from openalea.mtg import algo\n",
      "\n",
      "# g is the col RSA\n",
      "g = mtgs[0]\n",
      "orders = algo.orders(g)\n",
      "\n",
      "# l is the set of vertices at the segment scale\n",
      "# l = g.vertices(scale=g.max_scale())\n"
     ],
     "language": "python",
     "metadata": {},
     "outputs": [],
     "prompt_number": 9
    },
    {
     "cell_type": "heading",
     "level": 2,
     "metadata": {},
     "source": [
      "Compute the cumulated length for each segment of the RSA "
     ]
    },
    {
     "cell_type": "code",
     "collapsed": false,
     "input": [
      "#g0, g1, g2, g3, g4 = mtgs\n",
      "g, = mtgs\n",
      "from openalea.mtg.traversal import pre_order2\n",
      "length= {}\n",
      "root = 1\n",
      "dl = 1.e-4\n",
      "for v in pre_order2(g,1):\n",
      "    pid = g.parent(v)\n",
      "    length[v] = length[pid]+dl if pid else dl\n",
      "\n",
      "def nb_root(l):\n",
      "    count = 0\n",
      "    for v in g:\n",
      "        pid = g.parent(v)\n",
      "        if pid and (length[pid] <= l <= length[v]):\n",
      "            count+=1\n",
      "    return count"
     ],
     "language": "python",
     "metadata": {},
     "outputs": [],
     "prompt_number": 10
    },
    {
     "cell_type": "code",
     "collapsed": false,
     "input": [
      "# print the length of the RSA\n",
      "max(length.values())\n"
     ],
     "language": "python",
     "metadata": {},
     "outputs": [
      {
       "metadata": {},
       "output_type": "pyout",
       "prompt_number": 11,
       "text": [
        "0.12000000000000241"
       ]
      }
     ],
     "prompt_number": 11
    },
    {
     "cell_type": "heading",
     "level": 2,
     "metadata": {},
     "source": [
      "Select all the segment at a given length"
     ]
    },
    {
     "cell_type": "code",
     "collapsed": false,
     "input": [
      "dist = (0.045, 0.055, 0.095, 0.105)\n",
      "intercepts = map(nb_root, dist)\n",
      "print intercepts"
     ],
     "language": "python",
     "metadata": {},
     "outputs": [
      {
       "output_type": "stream",
       "stream": "stdout",
       "text": [
        "[17, 11, 1, 1]\n"
       ]
      }
     ],
     "prompt_number": 12
    },
    {
     "cell_type": "code",
     "collapsed": false,
     "input": [
      "hist(x=length.values())\n",
      "#plot(hist(l))"
     ],
     "language": "python",
     "metadata": {},
     "outputs": [
      {
       "metadata": {},
       "output_type": "pyout",
       "prompt_number": 13,
       "text": [
        "(array([  797.,  3694.,  3046.,  2015.,  1510.,  1131.,   538.,   228.,\n",
        "          140.,   120.]),\n",
        " array([  1.00000000e-04,   1.20900000e-02,   2.40800000e-02,\n",
        "          3.60700000e-02,   4.80600000e-02,   6.00500000e-02,\n",
        "          7.20400000e-02,   8.40300000e-02,   9.60200000e-02,\n",
        "          1.08010000e-01,   1.20000000e-01]),\n",
        " <a list of 10 Patch objects>)"
       ]
      },
      {
       "metadata": {},
       "output_type": "display_data",
       "png": "[encoded data removed]",
       "text": [
        "<matplotlib.figure.Figure at 0x11a8ddd10>"
       ]
      }
     ],
     "prompt_number": 13
    },
    {
     "cell_type": "code",
     "collapsed": false,
     "input": [
      "# print the histogram of radius\n",
      "hist(x=g.property('radius').values(),bins=15)"
     ],
     "language": "python",
     "metadata": {},
     "outputs": [
      {
       "metadata": {},
       "output_type": "pyout",
       "prompt_number": 14,
       "text": [
        "(array([ 6936.,  2489.,   756.,   682.,   595.,   449.,   400.,   334.,\n",
        "           98.,    80.,    80.,    80.,    80.,    80.,    80.]),\n",
        " array([  5.00000000e-05,   5.33333333e-05,   5.66666667e-05,\n",
        "          6.00000000e-05,   6.33333333e-05,   6.66666667e-05,\n",
        "          7.00000000e-05,   7.33333333e-05,   7.66666667e-05,\n",
        "          8.00000000e-05,   8.33333333e-05,   8.66666667e-05,\n",
        "          9.00000000e-05,   9.33333333e-05,   9.66666667e-05,\n",
        "          1.00000000e-04]),\n",
        " <a list of 15 Patch objects>)"
       ]
      },
      {
       "metadata": {},
       "output_type": "display_data",
       "png": "[encoded data removed]",
       "text": [
        "<matplotlib.figure.Figure at 0x11a972390>"
       ]
      }
     ],
     "prompt_number": 14
    },
    {
     "cell_type": "code",
     "collapsed": false,
     "input": [
      "from hydroroot.main import hydroroot \n",
      "\n",
      "print 'Kaxfold', 'Kradfold','Jv'\n",
      "mtgs = []\n",
      "zz = {}\n",
      "for intensity in ('low', 'median', 'high'):\n",
      "    zz[intensity] = np.ones(shape=(6,6),dtype=float)\n",
      "    index_i = -1\n",
      "    index_j = -1\n",
      "    for axfold in (1,2,4,8,16,32):\n",
      "#    for axfold in (1/10.,1/4.,1/2.,1,2,8,16,25):\n",
      "        length_data = l[intensity]\n",
      "        a['col1']=(a['col'][0], [i*axfold*1. for i in a['col'][1]]) \n",
      "        axial_conductivity_data = a['col1']\n",
      "        index_i += 1\n",
      "        index_j = -1\n",
      "        for radfold in (1,2,4,8,16,32):\n",
      "#        for radfold in (1/10.,1/4.,1/2.,1,2,8,16,25):\n",
      "            index_j+=1\n",
      "            r['col']=radial(300*radfold)\n",
      "            radial_conductivity_data = r['col']\n",
      "            n = nn['col']\n",
      "            for n in (n,):\n",
      "                seed = 4\n",
      "                g, surface, volume, Keq, Jv_global = hydroroot(\n",
      "                seed=seed,\n",
      "                primary_length = n,\n",
      "                length_data=length_data, \n",
      "                axial_conductivity_data=axial_conductivity_data, \n",
      "                radial_conductivity_data=radial_conductivity_data,\n",
      "                nude_length = 0.02,\n",
      "                )\n",
      "                #mtgs.append(g)\n",
      "                print intensity, axfold, radfold, Keq, Jv_global\n",
      "                zz[intensity][index_i][index_j] = Jv_global\n"
     ],
     "language": "python",
     "metadata": {},
     "outputs": [
      {
       "output_type": "stream",
       "stream": "stdout",
       "text": [
        "Kaxfold Kradfold Jv\n",
        "low 1 1 0.173710742644 0.0521132227931\n",
        "low 1 2 0.305353177062 0.0916059531186\n",
        "low 1 3 0.409139797506 0.122741939252\n",
        "low 1 4 0.493453257631 0.148035977289\n",
        "low 1 6 0.622999996958 0.186899999088\n",
        "low 1 8 0.718750645027 0.215625193508\n",
        "low 1 10 0.793058445251 0.237917533575\n",
        "low 1 12 0.85281972309 0.255845916927\n",
        "low 1 14 0.902207899179 0.270662369754\n",
        "low 1 16 0.943907275801 0.28317218274\n",
        "low 1 18 0.979728779175 0.293918633753\n",
        "low 1 20 1.01094200607 0.303282601822\n",
        "low 1 25 1.07428031134 0.322284093401\n",
        "low 2 1 0.186718287519 0.0560154862557\n",
        "low 2 2 0.347421485287 0.104226445586\n",
        "low 2 3 0.487435929058 0.146230778717\n",
        "low 2 4 0.610706354124 0.183211906237\n",
        "low 2 6 0.818279595012 0.245483878504\n",
        "low 2 8 0.986906515262 0.296071954579\n",
        "low 2 10 1.12714668553 0.338144005658\n",
        "low 2 12 1.24599999392 0.373799998175\n",
        "low 2 14 1.34830067671 0.404490203014\n",
        "low 2 16 1.43750129005 0.431250387016\n",
        "low 2 18 1.51613763476 0.454841290428\n",
        "low 2 20 1.5861168905 0.475835067151\n",
        "low 2 25 1.73203016695 0.519609050084\n",
        "low 3 1 0.191525013991 0.0574575041974\n",
        "low 3 2 0.364318690932 0.10929560728\n",
        "low 3 3 0.521132227931 0.156339668379\n",
        "low 3 4 0.664195041283 0.199258512385\n",
        "low 3 6 0.916059531186 0.274817859356\n",
        "low 3 8 1.13112080943 0.339336242829\n",
        "low 3 10 1.31729958099 0.395189874298\n",
        "low 3 12 1.48035977289 0.444107931868\n",
        "low 3 14 1.62460117587 0.48738035276\n",
        "low 3 16 1.75330024042 0.525990072125\n",
        "low 3 18 1.86899999088 0.560699997263\n",
        "low 3 20 1.97370620852 0.592111862555\n",
        "low 3 25 2.19717331605 0.659151994816\n",
        "low 4 1 0.19402782041 0.0582083461231\n",
        "low 4 2 0.373436575038 0.112030972511\n",
        "low 4 3 0.539900340935 0.161970102281\n",
        "low 4 4 0.694842970574 0.208452891172\n",
        "low 4 6 0.974871858116 0.292461557435\n",
        "low 4 8 1.22141270825 0.366423812474\n",
        "low 4 10 1.44043870288 0.432131610865\n",
        "low 4 12 1.63655919002 0.490967757007\n",
        "low 4 14 1.81339077396 0.544017232187\n",
        "low 4 16 1.97381303052 0.592143909157\n",
        "low 4 18 2.12014872376 0.636044617129\n",
        "low 4 20 2.25429337105 0.676288011315\n",
        "low 4 25 2.54594577809 0.763783733426\n",
        "low 6 1 0.196600701654 0.0589802104963\n",
        "low 6 2 0.383050027983 0.114915008395\n",
        "low 6 3 0.560154862557 0.168046458767\n",
        "low 6 4 0.728637381864 0.218591214559\n",
        "low 6 6 1.04226445586 0.312679336759\n",
        "low 6 8 1.32839008257 0.39851702477\n",
        "low 6 10 1.59066735961 0.477200207883\n",
        "low 6 12 1.83211906237 0.549635718712\n",
        "low 6 14 2.05526898289 0.616580694867\n",
        "low 6 16 2.26224161886 0.678672485657\n",
        "low 6 18 2.45483878504 0.736451635511\n",
        "low 6 20 2.63459916199 0.790379748596\n",
        "low 6 25 3.03608310804 0.910824932411\n",
        "low 8 1 0.197914363819 0.0593743091456\n",
        "low 8 2 0.38805564082 0.116416692246\n",
        "low 8 3 0.570896953872 0.171269086161\n",
        "low 8 4 0.746873150076 0.224061945023\n",
        "low 8 6 1.07980068187 0.323940204561\n",
        "low 8 8 1.38968594115 0.416905782345\n",
        "low 8 10 1.67896695543 0.50369008663\n",
        "low 8 12 1.94974371623 0.58492311487\n",
        "low 8 14 2.20383524202 0.661150572605\n",
        "low 8 16 2.4428254165 0.732847624949\n",
        "low 8 18 2.66810010136 0.800430030409\n",
        "low 8 20 2.88087740576 0.864263221729\n",
        "low 8 25 3.36490388845 1.00947116654\n",
        "low 10 1 0.198711498239 0.0596134494718\n",
        "low 10 2 0.391125898875 0.117337769662\n",
        "low 10 3 0.577553745314 0.173266123594\n",
        "low 10 4 0.758285145433 0.22748554363\n",
        "low 10 6 1.10372669574 0.331118008722\n",
        "low 10 8 1.42942212839 0.428826638516\n",
        "low 10 10 1.73710742644 0.521132227931\n",
        "low 10 12 2.02831740264 0.608495220792\n",
        "low 10 14 2.30441423858 0.691324271573\n",
        "low 10 16 2.56661128143 0.769983384428\n",
        "low 10 18 2.81599299471 0.844797898412\n",
        "low 10 20 3.05353177062 0.916059531186\n",
        "low 10 25 3.6010967572 1.08032902716\n",
        "low 12 1 0.199246698883 0.0597740096648\n",
        "low 12 2 0.393201403309 0.117960420993\n",
        "low 12 3 0.582083461231 0.174625038369\n",
        "low 12 4 0.766100055966 0.22983001679\n",
        "low 12 6 1.12030972511 0.336092917534\n",
        "low 12 8 1.45727476373 0.437182429119\n",
        "low 12 10 1.77829193068 0.533487579204\n",
        "low 12 12 2.08452891172 0.625358673517\n",
        "low 12 14 2.37704010997 0.713112032992\n",
        "low 12 16 2.65678016513 0.79703404954\n",
        "low 12 18 2.92461557435 0.877384672305\n",
        "low 12 20 3.18133471922 0.954400415767\n",
        "low 12 25 3.77906636319 1.13371990896\n",
        "low 14 1 0.19963085261 0.059889255783\n",
        "low 14 2 0.39469820533 0.118409461599\n",
        "low 14 3 0.585365189565 0.17560955687\n",
        "low 14 4 0.771787119037 0.231536135711\n",
        "low 14 6 1.13248074442 0.339744223325\n",
        "low 14 8 1.47788214832 0.443364644496\n",
        "low 14 10 1.8089959405 0.542698782149\n",
        "low 14 12 2.1267390997 0.638021729911\n",
        "low 14 14 2.43195039701 0.729585119103\n",
        "low 14 16 2.72539862431 0.817619587292\n",
        "low 14 18 3.00778980133 0.902336940399\n",
        "low 14 20 3.27977350651 0.983932051954\n",
        "low 14 25 3.91801717018 1.17540515105\n",
        "low 16 1 0.199919995901 0.0599759987704\n",
        "low 16 2 0.395828727637 0.118748618291\n",
        "low 16 3 0.587852245477 0.176355673643\n",
        "low 16 4 0.776111281641 0.232833384492\n",
        "low 16 6 1.14179390774 0.342538172323\n",
        "low 16 8 1.49374630015 0.448123890046\n",
        "low 16 10 1.83276924517 0.54983077355\n",
        "low 16 12 2.15960136374 0.647880409122\n",
        "low 16 14 2.47492507476 0.742477522429\n",
        "low 16 16 2.7793718823 0.833811564689\n",
        "low 16 18 3.07352707473 0.922058122419\n",
        "low 16 20 3.35793391087 1.00738017326\n",
        "low 16 25 4.02953052455 1.20885915736\n",
        "low 18 1 0.200145497265 0.0600436491794\n",
        "low 18 2 0.396712761635 0.11901382849\n",
        "low 18 3 0.589802104963 0.176940631489\n",
        "low 18 4 0.77951005913 0.233853017739\n",
        "low 18 6 1.14915008395 0.344745025185\n",
        "low 18 8 1.5063360007 0.45190080021\n",
        "low 18 10 1.85172088646 0.555516265937\n",
        "low 18 12 2.18591214559 0.655773643678\n",
        "low 18 14 2.5094754641 0.752842639229\n",
        "low 18 16 2.82293835857 0.84688150757\n",
        "low 18 18 3.12679336759 0.938038010276\n",
        "low 18 20 3.42150092695 1.02645027809\n",
        "low 18 25 4.12101138334 1.236303415\n",
        "low 20 1 0.200326285446 0.0600978856337\n",
        "low 20 2 0.397422996478 0.119226898944\n",
        "low 20 3 0.591371854254 0.177411556276\n",
        "low 20 4 0.78225179775 0.234675539325\n",
        "low 20 6 1.15510749063 0.346532247188\n",
        "low 20 8 1.51657029087 0.45497108726\n",
        "low 20 10 1.86718287519 0.560154862557\n",
        "low 20 12 2.20745339148 0.662236017444\n",
        "low 20 14 2.53785818282 0.761357454847\n",
        "low 20 16 2.85884425677 0.857653277032\n",
        "low 20 18 3.1708315272 0.95124945816\n",
        "low 20 20 3.47421485287 1.04226445586\n",
        "low 20 25 4.19741738859 1.25922521658\n",
        "low 25 1 0.200652574668 0.0601957724005\n",
        "low 25 2 0.398708209013 0.119612462704\n",
        "low 25 3 0.594219750471 0.178265925141\n",
        "low 25 4 0.787238597077 0.236171579123\n",
        "low 25 6 1.16599684717 0.34979905415\n",
        "low 25 8 1.5353669948 0.460610098441\n",
        "low 25 10 1.89571286358 0.568713859075\n",
        "low 25 12 2.24737938756 0.674213816267\n",
        "low 25 14 2.59069383078 0.777208149234\n",
        "low 25 16 2.92596691322 0.877790073967\n",
        "low 25 18 3.25349385137 0.976048155412\n",
        "low 25 20 3.57355532097 1.07206659629\n",
        "low 25 25 4.34276856609 1.30283056983\n",
        "median 1 1 0.280556723004 0.0841670169013\n",
        "median 1 2 0.460742666507 0.138222799952\n",
        "median 1 3 0.587634230408 0.176290269122\n",
        "median 1 4 0.682628071883 0.204788421565\n",
        "median 1 6 0.816897572013 0.245069271604\n",
        "median 1 8 0.908587713848 0.272576314154\n",
        "median 1 10 0.976079267734 0.29282378032\n",
        "median 1 12 1.02836273203 0.308508819609\n",
        "median 1 14 1.07039156994 0.321117470981\n",
        "median 1 16 1.105136293 0.331540887899\n",
        "median 1 18 1.13449517581 0.340348552744\n",
        "median 1 20 1.15974289324 0.347922867971\n",
        "median 1 25 1.21013173667 0.363039521001\n",
        "median 2 1 0.315392564031 0.0946177692092\n",
        "median 2 2 0.561113446009 0.168334033803\n",
        "median 2 3 0.758676146256 0.227602843877\n",
        "median 2 4 0.921485333015 0.276445599904\n",
        "median 2 6 1.17526846082 0.352580538245\n",
        "median 2 8 1.36525614377 0.40957684313\n",
        "median 2 10 1.5138072822 0.454142184659\n",
        "median 2 12 1.63379514403 0.490138543208\n",
        "median 2 14 1.73318273724 0.519954821173\n",
        "median 2 16 1.8171754277 0.545152628309\n",
        "median 2 18 1.88932851465 0.566798554396\n",
        "median 2 20 1.95215853547 0.58564756064\n",
        "median 2 25 2.07938156583 0.623814469748\n",
        "median 3 1 0.329110103995 0.0987330311985\n",
        "median 3 2 0.605632834726 0.181689850418\n",
        "median 3 3 0.841670169013 0.252501050704\n",
        "median 3 4 1.0458400824 0.31375202472\n",
        "median 3 6 1.38222799952 0.414668399857\n",
        "median 3 8 1.64893706267 0.4946811188\n",
        "median 3 10 1.86646329351 0.559938988053\n",
        "median 3 12 2.04788421565 0.614365264695\n",
        "median 3 14 2.2019540198 0.660586205941\n",
        "median 3 16 2.33476452551 0.700429357652\n",
        "median 3 18 2.45069271604 0.735207814812\n",
        "median 3 20 2.55296906298 0.765890718895\n",
        "median 3 25 2.76360078831 0.829080236493\n",
        "median 4 1 0.336447261796 0.100934178539\n",
        "median 4 2 0.630785128062 0.189235538418\n",
        "median 4 3 0.890736774094 0.267221032228\n",
        "median 4 4 1.12222689202 0.336668067605\n",
        "median 4 6 1.51735229251 0.455205687754\n",
        "median 4 8 1.84297066603 0.552891199809\n",
        "median 4 10 2.11668243594 0.635004730783\n",
        "median 4 12 2.35053692163 0.70516107649\n",
        "median 4 14 2.55307168676 0.765921506029\n",
        "median 4 16 2.73051228753 0.81915368626\n",
        "median 4 18 2.88751027244 0.866253081732\n",
        "median 4 20 3.02761456439 0.908284369317\n",
        "median 4 25 3.32066761202 0.996200283607\n",
        "median 6 1 0.344134110091 0.103240233027\n",
        "median 6 2 0.65822020799 0.197466062397\n",
        "median 6 3 0.946177692092 0.283853307628\n",
        "median 6 4 1.21126566945 0.363379700835\n",
        "median 6 6 1.68334033803 0.505002101408\n",
        "median 6 8 2.0916801648 0.627504049439\n",
        "median 6 10 2.44890106081 0.734670318243\n",
        "median 6 12 2.76445599904 0.829336799713\n",
        "median 6 14 3.04557240281 0.913671720844\n",
        "median 6 16 3.29787412534 0.989362237601\n",
        "median 6 18 3.52580538245 1.05774161473\n",
        "median 6 20 3.73292658702 1.11987797611\n",
        "median 6 25 4.17738288777 1.25321486633\n",
        "median 8 1 0.348116674565 0.10443500237\n",
        "median 8 2 0.672894523593 0.201868357078\n",
        "median 8 3 0.976695604094 0.293008681228\n",
        "median 8 4 1.26157025612 0.378471076837\n",
        "median 8 6 1.78147354819 0.534442064456\n",
        "median 8 8 2.24445378404 0.673336135211\n",
        "median 8 10 2.65975657085 0.797926971256\n",
        "median 8 12 3.03470458503 0.910411375508\n",
        "median 8 14 3.37517503801 1.0125525114\n",
        "median 8 16 3.68594133206 1.10578239962\n",
        "median 8 18 3.97092197336 1.19127659201\n",
        "median 8 20 4.23336487188 1.27000946157\n",
        "median 8 25 4.80766205854 1.44229861756\n",
        "median 10 1 0.350552710463 0.105165813139\n",
        "median 10 2 0.682031607241 0.204609482172\n",
        "median 10 3 0.996013690937 0.298804107281\n",
        "median 10 4 1.29390490839 0.388171472516\n",
        "median 10 6 1.84631575133 0.5538947254\n",
        "median 10 8 2.34786892713 0.70436067814\n",
        "median 10 10 2.80556723004 0.841670169013\n",
        "median 10 12 3.22516919312 0.967550757935\n",
        "median 10 14 3.61145490313 1.08343647094\n",
        "median 10 16 3.96842633838 1.19052790151\n",
        "median 10 18 4.29946031933 1.2898380958\n",
        "median 10 20 4.60742666507 1.38222799952\n",
        "median 10 25 5.29170608986 1.58751182696\n",
        "median 12 1 0.352196587465 0.105658976239\n",
        "median 12 2 0.688268220182 0.206480466055\n",
        "median 12 3 1.00934178539 0.302802535617\n",
        "median 12 4 1.31644041598 0.394932124794\n",
        "median 12 6 1.89235538418 0.567706615255\n",
        "median 12 8 2.4225313389 0.726759401671\n",
        "median 12 10 2.91243379239 0.873730137717\n",
        "median 12 12 3.36668067605 1.01000420282\n",
        "median 12 14 3.78920122135 1.1367603664\n",
        "median 12 16 4.1833603296 1.25500809888\n",
        "median 12 18 4.55205687754 1.36561706326\n",
        "median 12 20 4.89780212162 1.46934063649\n",
        "median 12 25 5.6754408863 1.70263226589\n",
        "median 14 1 0.35338066447 0.106014199341\n",
        "median 14 2 0.6927962959 0.20783888877\n",
        "median 14 3 1.01909205137 0.305727615412\n",
        "median 14 4 1.33304549113 0.399913647338\n",
        "median 14 6 1.92673681726 0.578021045179\n",
        "median 14 8 2.47897309313 0.743691927939\n",
        "median 14 10 2.99412947093 0.89823884128\n",
        "median 14 12 3.47597919724 1.04279375917\n",
        "median 14 14 3.92779412206 1.17833823662\n",
        "median 14 16 4.35242568379 1.30572770514\n",
        "median 14 18 4.75237065921 1.42571119776\n",
        "median 14 20 5.12982492336 1.53894747701\n",
        "median 14 25 5.98725604668 1.796176814\n",
        "median 16 1 0.354274185407 0.106282255622\n",
        "median 16 2 0.69623334913 0.208870004739\n",
        "median 16 3 1.02653471617 0.307960414852\n",
        "median 16 4 1.34578904719 0.403736714156\n",
        "median 16 6 1.95339120819 0.586017362456\n",
        "median 16 8 2.52314051225 0.756942153674\n",
        "median 16 10 3.05861414763 0.917584244288\n",
        "median 16 12 3.56294709638 1.06888412891\n",
        "median 16 14 4.03889870639 1.21166961192\n",
        "median 16 16 4.48890756807 1.34667227042\n",
        "median 16 18 4.91513702627 1.47454110788\n",
        "median 16 20 5.31951314171 1.59585394251\n",
        "median 16 25 6.24570266171 1.87371079851\n",
        "median 18 1 0.354972410499 0.10649172315\n",
        "median 18 2 0.69893130426 0.209679391278\n",
        "median 18 3 1.03240233027 0.309720699082\n",
        "median 18 4 1.35587784021 0.406763352063\n",
        "median 18 6 1.97466062397 0.592398187191\n",
        "median 18 8 2.55864570452 0.767593711356\n",
        "median 18 10 3.11081017675 0.933243053026\n",
        "median 18 12 3.63379700835 1.09013910251\n",
        "median 18 14 4.1299608325 1.23898824975\n",
        "median 18 16 4.60140639775 1.38042191933\n",
        "median 18 18 5.05002101408 1.51500630422\n",
        "median 18 20 5.47750206166 1.6432506185\n",
        "median 18 25 6.46343554056 1.93903066217\n",
        "median 20 1 0.355533060337 0.106659918101\n",
        "median 20 2 0.701105420925 0.210331626278\n",
        "median 20 3 1.03714704222 0.311144112666\n",
        "median 20 4 1.36406321448 0.409218964345\n",
        "median 20 6 1.99202738187 0.597608214562\n",
        "median 20 8 2.58780981677 0.776342945031\n",
        "median 20 10 3.15392564031 0.946177692092\n",
        "median 20 12 3.69263150267 1.1077894508\n",
        "median 20 14 4.20595809289 1.26178742787\n",
        "median 20 16 4.69573785427 1.40872135628\n",
        "median 20 18 5.1636287109 1.54908861327\n",
        "median 20 20 5.61113446009 1.68334033803\n",
        "median 20 25 6.64939142714 1.99481742814\n",
        "median 25 1 0.356546897696 0.106964069309\n",
        "median 25 2 0.705054588492 0.211516376548\n",
        "median 25 3 1.04580316105 0.313740948316\n",
        "median 25 4 1.37905969657 0.413717908971\n",
        "median 25 6 2.02410438863 0.607231316588\n",
        "median 25 8 2.64209238959 0.792627716877\n",
        "median 25 10 3.23476227096 0.970428681289\n",
        "median 25 12 3.80370505108 1.14111151532\n",
        "median 25 14 4.35037958813 1.30511387644\n",
        "median 25 16 4.87612608245 1.46283782473\n",
        "median 25 18 5.38217795387 1.61465338616\n",
        "median 25 20 5.86967231783 1.76090169535\n",
        "median 25 25 7.01391807511 2.10417542253\n"
       ]
      },
      {
       "ename": "KeyboardInterrupt",
       "evalue": "",
       "output_type": "pyerr",
       "traceback": [
        "\u001b[0;31m---------------------------------------------------------------------------\u001b[0m\n\u001b[0;31mKeyboardInterrupt\u001b[0m                         Traceback (most recent call last)",
        "\u001b[0;32m<ipython-input-22-8680de676705>\u001b[0m in \u001b[0;36m<module>\u001b[0;34m()\u001b[0m\n\u001b[1;32m     29\u001b[0m                 \u001b[0maxial_conductivity_data\u001b[0m\u001b[0;34m=\u001b[0m\u001b[0maxial_conductivity_data\u001b[0m\u001b[0;34m,\u001b[0m\u001b[0;34m\u001b[0m\u001b[0m\n\u001b[1;32m     30\u001b[0m                 \u001b[0mradial_conductivity_data\u001b[0m\u001b[0;34m=\u001b[0m\u001b[0mradial_conductivity_data\u001b[0m\u001b[0;34m,\u001b[0m\u001b[0;34m\u001b[0m\u001b[0m\n\u001b[0;32m---> 31\u001b[0;31m                 \u001b[0mnude_length\u001b[0m \u001b[0;34m=\u001b[0m \u001b[0;36m0.02\u001b[0m\u001b[0;34m,\u001b[0m\u001b[0;34m\u001b[0m\u001b[0m\n\u001b[0m\u001b[1;32m     32\u001b[0m                 )\n\u001b[1;32m     33\u001b[0m                 \u001b[0;31m#mtgs.append(g)\u001b[0m\u001b[0;34m\u001b[0m\u001b[0;34m\u001b[0m\u001b[0m\n",
        "\u001b[0;32m/Users/pradal/devlp/branches/vplants/hydroroot/src/hydroroot/main.pyc\u001b[0m in \u001b[0;36mhydroroot\u001b[0;34m(primary_length, delta, beta, order_max, segment_length, nude_length, seed, ref_radius, order_decrease_factor, k0, Jv, psi_e, psi_base, length_data, axial_conductivity_data, radial_conductivity_data, n)\u001b[0m\n\u001b[1;32m     68\u001b[0m         \u001b[0mnude_tip_length\u001b[0m\u001b[0;34m=\u001b[0m\u001b[0mnb_nude_vertices\u001b[0m\u001b[0;34m,\u001b[0m\u001b[0;34m\u001b[0m\u001b[0m\n\u001b[1;32m     69\u001b[0m         \u001b[0morder_max\u001b[0m\u001b[0;34m=\u001b[0m\u001b[0morder_max\u001b[0m\u001b[0;34m,\u001b[0m\u001b[0;34m\u001b[0m\u001b[0m\n\u001b[0;32m---> 70\u001b[0;31m         seed=seed)\n\u001b[0m\u001b[1;32m     71\u001b[0m \u001b[0;34m\u001b[0m\u001b[0m\n\u001b[1;32m     72\u001b[0m     \u001b[0;31m# compute radius property on MTG\u001b[0m\u001b[0;34m\u001b[0m\u001b[0;34m\u001b[0m\u001b[0m\n",
        "\u001b[0;32m/Users/pradal/devlp/branches/vplants/hydroroot/src/hydroroot/generator/markov.pyc\u001b[0m in \u001b[0;36mmarkov_binary_tree\u001b[0;34m(g, vid, nb_vertices, branching_variability, branching_delay, length_law, nude_tip_length, order_max, seed, **kwargs)\u001b[0m\n\u001b[1;32m    174\u001b[0m                 \u001b[0mcid\u001b[0m \u001b[0;34m=\u001b[0m \u001b[0mnid\u001b[0m\u001b[0;34m.\u001b[0m\u001b[0madd_child\u001b[0m\u001b[0;34m(\u001b[0m\u001b[0morder\u001b[0m\u001b[0;34m=\u001b[0m\u001b[0mnid\u001b[0m\u001b[0;34m.\u001b[0m\u001b[0morder\u001b[0m\u001b[0;34m+\u001b[0m\u001b[0;36m1\u001b[0m\u001b[0;34m,\u001b[0m \u001b[0medge_type\u001b[0m\u001b[0;34m=\u001b[0m\u001b[0;34m'+'\u001b[0m\u001b[0;34m)\u001b[0m\u001b[0;34m\u001b[0m\u001b[0m\n\u001b[1;32m    175\u001b[0m                 \u001b[0;31m#print \"pid length\", nid, lateral_length\u001b[0m\u001b[0;34m\u001b[0m\u001b[0;34m\u001b[0m\u001b[0m\n\u001b[0;32m--> 176\u001b[0;31m                 \u001b[0mcreate_randomized_delayed_axis\u001b[0m\u001b[0;34m(\u001b[0m\u001b[0mcid\u001b[0m\u001b[0;34m,\u001b[0m \u001b[0mlateral_length\u001b[0m\u001b[0;34m)\u001b[0m\u001b[0;34m\u001b[0m\u001b[0m\n\u001b[0m\u001b[1;32m    177\u001b[0m \u001b[0;34m\u001b[0m\u001b[0m\n\u001b[1;32m    178\u001b[0m     \u001b[0mfat_mtg\u001b[0m\u001b[0;34m(\u001b[0m\u001b[0mg\u001b[0m\u001b[0;34m)\u001b[0m\u001b[0;34m\u001b[0m\u001b[0m\n",
        "\u001b[0;32m/Users/pradal/devlp/branches/vplants/hydroroot/src/hydroroot/generator/markov.pyc\u001b[0m in \u001b[0;36mcreate_randomized_delayed_axis\u001b[0;34m(nid, n, anchors)\u001b[0m\n\u001b[1;32m    141\u001b[0m         \u001b[0;32mfor\u001b[0m \u001b[0mramif\u001b[0m\u001b[0;34m,\u001b[0m \u001b[0mposition\u001b[0m \u001b[0;32min\u001b[0m \u001b[0mshuffled_axis\u001b[0m\u001b[0;34m:\u001b[0m\u001b[0;34m\u001b[0m\u001b[0m\n\u001b[1;32m    142\u001b[0m             \u001b[0morder\u001b[0m \u001b[0;34m=\u001b[0m \u001b[0mnid\u001b[0m\u001b[0;34m.\u001b[0m\u001b[0morder\u001b[0m\u001b[0;34m\u001b[0m\u001b[0m\n\u001b[0;32m--> 143\u001b[0;31m             \u001b[0mnid\u001b[0m \u001b[0;34m=\u001b[0m \u001b[0mnid\u001b[0m\u001b[0;34m.\u001b[0m\u001b[0madd_child\u001b[0m\u001b[0;34m(\u001b[0m\u001b[0morder\u001b[0m\u001b[0;34m=\u001b[0m\u001b[0morder\u001b[0m\u001b[0;34m,\u001b[0m \u001b[0medge_type\u001b[0m\u001b[0;34m=\u001b[0m\u001b[0;34m'<'\u001b[0m\u001b[0;34m)\u001b[0m\u001b[0;34m\u001b[0m\u001b[0m\n\u001b[0m\u001b[1;32m    144\u001b[0m             \u001b[0mnid\u001b[0m\u001b[0;34m.\u001b[0m\u001b[0mposition_index\u001b[0m \u001b[0;34m=\u001b[0m \u001b[0mposition\u001b[0m\u001b[0;34m\u001b[0m\u001b[0m\n\u001b[1;32m    145\u001b[0m             \u001b[0;32mif\u001b[0m \u001b[0mramif\u001b[0m \u001b[0;34m:\u001b[0m\u001b[0;34m\u001b[0m\u001b[0m\n",
        "\u001b[0;32m/Users/pradal/devlp/vplants/newmtg/src/mtg/mtg.pyc\u001b[0m in \u001b[0;36mnew_f\u001b[0;34m(self, *args, **kwds)\u001b[0m\n\u001b[1;32m   2724\u001b[0m \u001b[0;34m\u001b[0m\u001b[0m\n\u001b[1;32m   2725\u001b[0m     \u001b[0;32mdef\u001b[0m \u001b[0mnew_f\u001b[0m\u001b[0;34m(\u001b[0m\u001b[0mself\u001b[0m\u001b[0;34m,\u001b[0m \u001b[0;34m*\u001b[0m\u001b[0margs\u001b[0m\u001b[0;34m,\u001b[0m \u001b[0;34m**\u001b[0m\u001b[0mkwds\u001b[0m\u001b[0;34m)\u001b[0m\u001b[0;34m:\u001b[0m\u001b[0;34m\u001b[0m\u001b[0m\n\u001b[0;32m-> 2726\u001b[0;31m         \u001b[0mid\u001b[0m \u001b[0;34m=\u001b[0m \u001b[0mmtg_f\u001b[0m\u001b[0;34m(\u001b[0m\u001b[0mself\u001b[0m\u001b[0;34m.\u001b[0m\u001b[0m_g\u001b[0m\u001b[0;34m,\u001b[0m\u001b[0mself\u001b[0m\u001b[0;34m.\u001b[0m\u001b[0m_vid\u001b[0m\u001b[0;34m,\u001b[0m\u001b[0;34m*\u001b[0m\u001b[0margs\u001b[0m\u001b[0;34m,\u001b[0m\u001b[0;34m**\u001b[0m\u001b[0mkwds\u001b[0m\u001b[0;34m)\u001b[0m\u001b[0;34m\u001b[0m\u001b[0m\n\u001b[0m\u001b[1;32m   2727\u001b[0m         \u001b[0;32mif\u001b[0m \u001b[0mid\u001b[0m \u001b[0;32mis\u001b[0m \u001b[0;32mnot\u001b[0m \u001b[0mNone\u001b[0m\u001b[0;34m:\u001b[0m\u001b[0;34m\u001b[0m\u001b[0m\n\u001b[1;32m   2728\u001b[0m             \u001b[0;32mreturn\u001b[0m \u001b[0mself\u001b[0m\u001b[0;34m.\u001b[0m\u001b[0m__class__\u001b[0m\u001b[0;34m(\u001b[0m\u001b[0mself\u001b[0m\u001b[0;34m.\u001b[0m\u001b[0m_g\u001b[0m\u001b[0;34m,\u001b[0m \u001b[0mid\u001b[0m\u001b[0;34m)\u001b[0m\u001b[0;34m\u001b[0m\u001b[0m\n",
        "\u001b[0;32m/Users/pradal/devlp/vplants/newmtg/src/mtg/mtg.pyc\u001b[0m in \u001b[0;36madd_child\u001b[0;34m(self, parent, child, **properties)\u001b[0m\n\u001b[1;32m    545\u001b[0m         '''\n\u001b[1;32m    546\u001b[0m \u001b[0;34m\u001b[0m\u001b[0m\n\u001b[0;32m--> 547\u001b[0;31m         \u001b[0mchild\u001b[0m \u001b[0;34m=\u001b[0m \u001b[0msuper\u001b[0m\u001b[0;34m(\u001b[0m\u001b[0mMTG\u001b[0m\u001b[0;34m,\u001b[0m \u001b[0mself\u001b[0m\u001b[0;34m)\u001b[0m\u001b[0;34m.\u001b[0m\u001b[0madd_child\u001b[0m\u001b[0;34m(\u001b[0m\u001b[0mparent\u001b[0m\u001b[0;34m,\u001b[0m \u001b[0mchild\u001b[0m\u001b[0;34m,\u001b[0m \u001b[0;34m**\u001b[0m\u001b[0mproperties\u001b[0m\u001b[0;34m)\u001b[0m\u001b[0;34m\u001b[0m\u001b[0m\n\u001b[0m\u001b[1;32m    548\u001b[0m         \u001b[0mself\u001b[0m\u001b[0;34m.\u001b[0m\u001b[0m_scale\u001b[0m\u001b[0;34m[\u001b[0m\u001b[0mchild\u001b[0m\u001b[0;34m]\u001b[0m \u001b[0;34m=\u001b[0m \u001b[0mself\u001b[0m\u001b[0;34m.\u001b[0m\u001b[0m_scale\u001b[0m\u001b[0;34m[\u001b[0m\u001b[0mparent\u001b[0m\u001b[0;34m]\u001b[0m\u001b[0;34m\u001b[0m\u001b[0m\n\u001b[1;32m    549\u001b[0m         \u001b[0;32mreturn\u001b[0m \u001b[0mchild\u001b[0m\u001b[0;34m\u001b[0m\u001b[0m\n",
        "\u001b[0;32m/Users/pradal/devlp/vplants/newmtg/src/mtg/tree.pyc\u001b[0m in \u001b[0;36madd_child\u001b[0;34m(self, parent, child, **properties)\u001b[0m\n\u001b[1;32m    546\u001b[0m         '''\n\u001b[1;32m    547\u001b[0m \u001b[0;34m\u001b[0m\u001b[0m\n\u001b[0;32m--> 548\u001b[0;31m         \u001b[0mchild\u001b[0m \u001b[0;34m=\u001b[0m \u001b[0msuper\u001b[0m\u001b[0;34m(\u001b[0m\u001b[0mPropertyTree\u001b[0m\u001b[0;34m,\u001b[0m \u001b[0mself\u001b[0m\u001b[0;34m)\u001b[0m\u001b[0;34m.\u001b[0m\u001b[0madd_child\u001b[0m\u001b[0;34m(\u001b[0m\u001b[0mparent\u001b[0m\u001b[0;34m,\u001b[0m \u001b[0mchild\u001b[0m\u001b[0;34m)\u001b[0m\u001b[0;34m\u001b[0m\u001b[0m\n\u001b[0m\u001b[1;32m    549\u001b[0m \u001b[0;34m\u001b[0m\u001b[0m\n\u001b[1;32m    550\u001b[0m         \u001b[0;31m# Update the properties\u001b[0m\u001b[0;34m\u001b[0m\u001b[0;34m\u001b[0m\u001b[0m\n",
        "\u001b[0;31mKeyboardInterrupt\u001b[0m: "
       ]
      }
     ],
     "prompt_number": 22
    },
    {
     "cell_type": "code",
     "collapsed": false,
     "input": [
      "%pylab inline\n",
      "import matplotlib.pyplot as plt\n",
      "from mpl_toolkits.mplot3d import Axes3D\n",
      "fig = plt.figure()\n",
      "ax = fig.add_subplot(111, projection='3d')\n",
      "\n",
      "X = np.array((1,2,3,4,6,8,10,12,14,16,18,20,25))\n",
      "Y = np.array((1,2,3,4,6,8,10,12,14,16,18,20,25))\n",
      "#X = np.array((1/10.,1/4.,1/2.,1,2,8,16,25))\n",
      "#Y = np.array((1/10.,1/4.,1/2.,1,2,8,16,25))\n",
      "\n",
      "X, Y = np.meshgrid(X, Y)\n",
      "\n",
      "Z = zz['high']\n",
      "ax.plot_surface(X, Y, Z,rstride=1, cstride=1, cmap='jet')\n",
      "ax.set_ylabel('Axial cond fold change')\n",
      "ax.set_xlabel('Radial cond fold change')\n",
      "ax.set_zlabel('Jv @ 400kPa')"
     ],
     "language": "python",
     "metadata": {},
     "outputs": [
      {
       "output_type": "stream",
       "stream": "stdout",
       "text": [
        "Populating the interactive namespace from numpy and matplotlib\n"
       ]
      },
      {
       "metadata": {},
       "output_type": "pyout",
       "prompt_number": 21,
       "text": [
        "<matplotlib.text.Text at 0x10c297cd0>"
       ]
      },
      {
       "metadata": {},
       "output_type": "display_data",
       "png": "[encoded data removed]",
       "text": [
        "<matplotlib.figure.Figure at 0x11be38a50>"
       ]
      }
     ],
     "prompt_number": 21
    },
    {
     "cell_type": "code",
     "collapsed": false,
     "input": [
      "# Length law\n",
      "len(g)"
     ],
     "language": "python",
     "metadata": {},
     "outputs": [
      {
       "metadata": {},
       "output_type": "pyout",
       "prompt_number": 24,
       "text": [
        "40045"
       ]
      }
     ],
     "prompt_number": 24
    },
    {
     "cell_type": "code",
     "collapsed": false,
     "input": [
      "%pylab inline\n",
      "max_scale = g.max_scale()\n",
      "\n",
      "ramifs = [v for v in g.vertices(scale=1) if g.edge_type(v) != '<' ]\n",
      "lengthes_ramif = {}\n",
      "for r in ramifs: \n",
      "    if g.parent(r):\n",
      "        my_length = sum(length[v] for v in g.Axis(r))\n",
      "        lengthes_ramif.setdefault(g.parent(r), []).append(my_length)\n",
      "    \n",
      "pi = g.property('position_index') \n",
      "\n",
      "crv = [(1200-i, max(lengthes_ramif[v]))for i, v in enumerate(g.Axis(2)) if v in lengthes_ramif]\n",
      "x, y = zip(*crv)\n",
      "plot(x, y)"
     ],
     "language": "python",
     "metadata": {},
     "outputs": [
      {
       "output_type": "stream",
       "stream": "stdout",
       "text": [
        "Populating the interactive namespace from numpy and matplotlib\n"
       ]
      },
      {
       "output_type": "stream",
       "stream": "stderr",
       "text": [
        "WARNING: pylab import has clobbered these variables: ['pi']\n",
        "`%matplotlib` prevents importing * from pylab and numpy\n"
       ]
      },
      {
       "metadata": {},
       "output_type": "pyout",
       "prompt_number": 85,
       "text": [
        "[<matplotlib.lines.Line2D at 0x1170157d0>]"
       ]
      },
      {
       "metadata": {},
       "output_type": "display_data",
       "png": "[encoded data removed]",
       "text": [
        "<matplotlib.figure.Figure at 0x1176b15d0>"
       ]
      }
     ],
     "prompt_number": 85
    },
    {
     "cell_type": "code",
     "collapsed": false,
     "input": [
      "ax"
     ],
     "language": "python",
     "metadata": {},
     "outputs": [
      {
       "metadata": {},
       "output_type": "pyout",
       "prompt_number": 62,
       "text": [
        "<matplotlib.axes._subplots.Axes3DSubplot at 0x104c61550>"
       ]
      }
     ],
     "prompt_number": 62
    },
    {
     "cell_type": "code",
     "collapsed": false,
     "input": [
      "clf()\n",
      "for r in ramifs:\n",
      "    if r <=2:\n",
      "        continue\n",
      "    crv = [(i, max(lengthes_ramif[v]))for i, v in enumerate(g.Axis(r)) if v in lengthes_ramif]\n",
      "    if crv:\n",
      "        x, y = zip(*crv)\n",
      "        plot(x, y)"
     ],
     "language": "python",
     "metadata": {},
     "outputs": [
      {
       "metadata": {},
       "output_type": "display_data",
       "png": "[encoded data removed]",
       "text": [
        "<matplotlib.figure.Figure at 0x1183b8b90>"
       ]
      }
     ],
     "prompt_number": 95
    },
    {
     "cell_type": "heading",
     "level": 1,
     "metadata": {},
     "source": [
      "MTG generation from pure data"
     ]
    },
    {
     "cell_type": "code",
     "collapsed": false,
     "input": [
      "%pylab inline\n",
      "data=\"\"\"\n",
      "129,62 \t112,02\n",
      "127,13 \t94,48\n",
      "125,21 \t3,97\n",
      "125,04 \t24,98\n",
      "123,56 \t79,71\n",
      "122,09 \t52,66\n",
      "117,91 \t105,59\n",
      "116,56 \t84,17\n",
      "116,04 \t84,71\n",
      "115,89 \t54,06\n",
      "113,96 \t41,95\n",
      "112,32 \t89,28\n",
      "108,31 \t51,74\n",
      "106,82 \t14,01\n",
      "105,86 \t57,72\n",
      "103,61 \t21,35\n",
      "100,09 \t5,53\n",
      "97,34 \t2,08\n",
      "96,22 \t54,11\n",
      "93,16 \t13,8\n",
      "90,86 \t2,65\n",
      "88,08 \t61,73\n",
      "86,26 \t1,02\n",
      "82,77 \t23,77\n",
      "81,62 \t8,2\n",
      "79,8 \t30,64\n",
      "78,51 \t0,97\n",
      "76,39 \t1,52\n",
      "74,32 \t62,39\n",
      "72,49 \t57,38\n",
      "69,91 \t54,69\n",
      "66,12 \t47,38\n",
      "63,75 \t24,86\n",
      "60,86 \t18,68\n",
      "60,58 \t12,82\n",
      "59,52 \t5,49\n",
      "57,17 \t1,11\n",
      "56,41 \t3,51\n",
      "55,4 \t9,58\n",
      "51,82 \t21,11\n",
      "51,44 \t15,1\n",
      "50,16 \t15,28\n",
      "47,96 \t3,47\n",
      "47,15 \t10,63\n",
      "46,91 \t14,53\n",
      "45,69 \t7,28\n",
      "44,22 \t11,34\n",
      "42,33 \t5,55\n",
      "40,64 \t4,68\n",
      "39,41 \t9,78\n",
      "38,08 \t4,58\n",
      "35,08 \t1,1\n",
      "33,91 \t0,43\n",
      "32,83 \t0,83\n",
      "31,73 \t0,54\n",
      "30,2 \t0,52\n",
      "28,35 \t0,47\n",
      "26,42 \t0,1\n",
      "25,45 \t0,29\n",
      "\"\"\"\n",
      "data = data.replace(',','.')\n",
      "data = zip(*[d.split('\\t') for d in data.strip().split('\\n') ])\n",
      "length_tip, length_lateral = data\n",
      "length_tip = map(float, length_tip)\n",
      "length_lateral = map(float, length_lateral)\n",
      "plot(length_tip, length_lateral)"
     ],
     "language": "python",
     "metadata": {},
     "outputs": [
      {
       "output_type": "stream",
       "stream": "stdout",
       "text": [
        "Populating the interactive namespace from numpy and matplotlib\n"
       ]
      },
      {
       "output_type": "stream",
       "stream": "stderr",
       "text": [
        "WARNING: pylab import has clobbered these variables: ['norm', 'Text', 'dot', 'cross', 'angle', 'test', 'histogram']\n",
        "`%matplotlib` prevents importing * from pylab and numpy\n"
       ]
      },
      {
       "metadata": {},
       "output_type": "pyout",
       "prompt_number": 49,
       "text": [
        "[<matplotlib.lines.Line2D at 0x11d50aed0>]"
       ]
      },
      {
       "metadata": {},
       "output_type": "display_data",
       "png": "[encoded data removed]",
       "text": [
        "<matplotlib.figure.Figure at 0x11ea1b8d0>"
       ]
      }
     ],
     "prompt_number": 49
    },
    {
     "cell_type": "code",
     "collapsed": false,
     "input": [
      "    from openalea.mtg import MTG\n",
      "    def mtg_builder(total_length, length_tip, length_lateral):\n",
      "        \"\"\" Create a MTG from length laws.\n",
      "\n",
      "        The first law is the length of the primary root.\n",
      "        The second law is the length of the ramification.\n",
      "        \"\"\"\n",
      "        g = MTG()\n",
      "        rid = vid = g.add_component(g.root)\n",
      "        # Primary root\n",
      "        g.node(vid).tip_length = total_length    \n",
      "        for len_tip in length_tip:\n",
      "            vid = g.add_child(vid, edge_type='<', label='S', tip_length=len_tip, order=0)\n",
      "        g.add_child(vid, edge_type='<', label='S', tip_length=0, order=0)\n",
      "\n",
      "        vids = g.Trunk(rid)\n",
      "        tl = g.property('tip_length')\n",
      "\n",
      "        for i in range(len(vids)-1):\n",
      "            len_s = tl[vids[i]]- tl[vids[i+1]]\n",
      "            g.node(vids[i]).length = len_s\n",
      "        g.node(vids[-1]).length = length_tip[-1]\n",
      "\n",
      "        for i, len_lat in enumerate(length_lateral):\n",
      "            cid = g.add_child(vids[i+1], edge_type='+', label='S', tip_length=len_lat, length=len_lat, order=1)\n",
      "\n",
      "        return g\n",
      "\n",
      "    gg = mtg_builder(130,length_tip, length_lateral)\n",
      "\n"
     ],
     "language": "python",
     "metadata": {},
     "outputs": [],
     "prompt_number": 46
    },
    {
     "cell_type": "code",
     "collapsed": false,
     "input": [
      "%gui qt\n",
      "from hydroroot import display as dis\n",
      "\n",
      "#%gui qt\n",
      "from openalea.plantgl.all import *\n",
      "#for g in mtgs:\n",
      "scene = dis.plot(g, r_base=1, r_tip=5e-1, prop_cmap='tip_length', lognorm=False)\n",
      "    #display(PlantGL(scene))\n",
      "Viewer.display(scene)"
     ],
     "language": "python",
     "metadata": {},
     "outputs": [],
     "prompt_number": 47
    }
   ],
   "metadata": {}
  }
 ]
}